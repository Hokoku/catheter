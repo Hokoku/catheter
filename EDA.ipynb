{
 "metadata": {
  "language_info": {
   "codemirror_mode": {
    "name": "ipython",
    "version": 3
   },
   "file_extension": ".py",
   "mimetype": "text/x-python",
   "name": "python",
   "nbconvert_exporter": "python",
   "pygments_lexer": "ipython3",
   "version": "3.8.8-final"
  },
  "orig_nbformat": 2,
  "kernelspec": {
   "name": "python3",
   "display_name": "Python 3",
   "language": "python"
  }
 },
 "nbformat": 4,
 "nbformat_minor": 2,
 "cells": [
  {
   "cell_type": "code",
   "execution_count": 1,
   "metadata": {},
   "outputs": [],
   "source": [
    "import pandas as pd\n",
    "from IPython.display import display\n",
    "from sklearn.model_selection import GroupKFold\n",
    "import matplotlib.pyplot as plt\n",
    "import numpy as np\n",
    "import cv2\n",
    "from tqdm import tqdm\n",
    "\n",
    "import tensorflow as tf\n",
    "from tensorflow.keras import models\n",
    "from tensorflow.io import FixedLenFeature"
   ]
  },
  {
   "cell_type": "code",
   "execution_count": 2,
   "metadata": {},
   "outputs": [
    {
     "output_type": "stream",
     "name": "stdout",
     "text": [
      "CFG.debug: True\n"
     ]
    }
   ],
   "source": [
    "class CFG:\n",
    "    debug=True if \"get_ipython\" in globals() else False\n",
    "    dataset_dir=\"../input/ranzcr-clip-catheter-line-classification/\"\n",
    "    models_dir=\"./models/\"\n",
    "    n_folds=4\n",
    "    input_shape=(260,260)\n",
    "    batch_size=8 if debug else 256\n",
    "    target_cols=['ETT - Abnormal', 'ETT - Borderline', 'ETT - Normal', 'NGT - Abnormal', 'NGT - Borderline', 'NGT - Incompletely Imaged',           'NGT - Normal', 'CVC - Abnormal', 'CVC - Borderline', 'CVC - Normal', 'Swan Ganz Catheter Present']\n",
    "\n",
    "print(f\"CFG.debug: {CFG.debug}\")\n",
    "train=pd.read_csv(CFG.dataset_dir+\"train.csv\")"
   ]
  },
  {
   "cell_type": "code",
   "execution_count": 3,
   "metadata": {
    "tags": []
   },
   "outputs": [],
   "source": [
    "def visualize_annotations(file_id):\n",
    "    plt.figure(figsize=(15, 8))\n",
    "    \n",
    "    image = cv2.imread(f\"{dataset_dir}train/{file_id}.jpg\")\n",
    "    image = cv2.cvtColor(image, cv2.COLOR_BGR2RGB)\n",
    "    plt.imshow(image)\n",
    "    \n",
    "    df_patient = annot_df.loc[annot_df[\"StudyInstanceUID\"] == file_id]\n",
    "    \n",
    "    if df_patient.shape[0]:        \n",
    "        labels = df_patient[\"label\"].values.tolist()\n",
    "        lines = df_patient[\"data\"].apply(eval).values.tolist()\n",
    "\n",
    "        for line, label in zip(lines, labels):         \n",
    "            line = np.asarray(line)\n",
    "            plt.scatter(line[:, 0], line[:, 1], s=40, label=label)\n",
    "        \n",
    "        plt.legend(bbox_to_anchor=(1.05, 1), loc=2, borderaxespad=0, prop={'size': 20})\n",
    "        \n",
    "    plt.tick_params(axis=\"x\", labelsize=15)\n",
    "    plt.tick_params(axis=\"y\", labelsize=15)\n",
    "    \n",
    "    plt.savefig(f\"../input/annotated/{file_id}.png\")"
   ]
  },
  {
   "cell_type": "code",
   "execution_count": 4,
   "metadata": {},
   "outputs": [
    {
     "output_type": "stream",
     "name": "stdout",
     "text": [
      "Model: \"sequential\"\n_________________________________________________________________\nLayer (type)                 Output Shape              Param #   \n=================================================================\nefficientnetb7 (Functional)  (None, 9, 9, 2560)        64097687  \n_________________________________________________________________\nglobal_average_pooling2d (Gl (None, 2560)              0         \n_________________________________________________________________\ndense (Dense)                (None, 11)                28171     \n=================================================================\nTotal params: 64,125,858\nTrainable params: 63,815,131\nNon-trainable params: 310,727\n_________________________________________________________________\n"
     ]
    }
   ],
   "source": [
    "with open(f\"{CFG.models_dir}effnet_tuned/model.json\",\"rt\") as f:\n",
    "    effnet_json=f.read()\n",
    "effnet=models.model_from_json(effnet_json)\n",
    "effnet.load_weights(f\"{CFG.models_dir}effnet_tuned/weight.hdf5\")\n",
    "effnet.summary()"
   ]
  },
  {
   "cell_type": "code",
   "execution_count": 5,
   "metadata": {},
   "outputs": [],
   "source": [
    "def get_fold(train):\n",
    "    fold=train.copy()\n",
    "    splitter=GroupKFold(n_splits=CFG.n_folds)\n",
    "    for n,(train_idx,val_idx) in enumerate(splitter.split(train,groups=train[\"PatientID\"])):\n",
    "        fold.loc[val_idx,\"folds\"]=n\n",
    "    fold[\"folds\"]=fold[\"folds\"].astype(int)\n",
    "    return fold\n",
    "\n",
    "fold=get_fold(train)"
   ]
  },
  {
   "cell_type": "code",
   "execution_count": 6,
   "metadata": {},
   "outputs": [],
   "source": [
    "feature_description={\n",
    "    \"CVC - Abnormal\":FixedLenFeature([],tf.int64),\n",
    "    \"CVC - Borderline\":FixedLenFeature([],tf.int64),\n",
    "    \"CVC - Normal\":FixedLenFeature([],tf.int64),\n",
    "    \"ETT - Abnormal\":FixedLenFeature([],tf.int64),\n",
    "    \"ETT - Borderline\":FixedLenFeature([],tf.int64),\n",
    "    \"ETT - Normal\":FixedLenFeature([],tf.int64),\n",
    "    \"NGT - Abnormal\":FixedLenFeature([],tf.int64),\n",
    "    \"NGT - Borderline\":FixedLenFeature([],tf.int64),\n",
    "    \"NGT - Incompletely Imaged\":FixedLenFeature([],tf.int64),\n",
    "    \"NGT - Normal\":FixedLenFeature([],tf.int64),\n",
    "    \"Swan Ganz Catheter Present\":FixedLenFeature([],tf.int64),\n",
    "    \"StudyInstanceUID\":FixedLenFeature([],tf.string),\n",
    "    \"image\":FixedLenFeature([],tf.string),\n",
    "}\n",
    "\n",
    "def parse_examples(example):\n",
    "    return tf.io.parse_example(example,feature_description)"
   ]
  },
  {
   "cell_type": "code",
   "execution_count": 7,
   "metadata": {},
   "outputs": [
    {
     "output_type": "stream",
     "name": "stdout",
     "text": [
      "WARNING:tensorflow:AutoGraph could not transform <function preprocess at 0x0000024269463B80> and will run it as-is.\n",
      "Please report this to the TensorFlow team. When filing the bug, set the verbosity to 10 (on Linux, `export AUTOGRAPH_VERBOSITY=10`) and attach the full output.\n",
      "Cause: module 'gast' has no attribute 'Index'\n",
      "To silence this warning, decorate the function with @tf.autograph.experimental.do_not_convert\n",
      "WARNING: AutoGraph could not transform <function preprocess at 0x0000024269463B80> and will run it as-is.\n",
      "Please report this to the TensorFlow team. When filing the bug, set the verbosity to 10 (on Linux, `export AUTOGRAPH_VERBOSITY=10`) and attach the full output.\n",
      "Cause: module 'gast' has no attribute 'Index'\n",
      "To silence this warning, decorate the function with @tf.autograph.experimental.do_not_convert\n"
     ]
    }
   ],
   "source": [
    "def preprocess(record):\n",
    "    image_bytes=record[\"image\"]\n",
    "    image=tf.io.decode_png(image_bytes,channels=3)\n",
    "    image=tf.cast(image,tf.float32)\n",
    "    image=tf.image.resize(image,CFG.input_shape)\n",
    "    image/=255\n",
    "    uid=record[\"StudyInstanceUID\"]\n",
    "    return image,uid\n",
    "\n",
    "def decode_string(tensor):\n",
    "    return [str_bytes.decode() for str_bytes in tensor.numpy()]\n",
    "\n",
    "AUTO=tf.data.experimental.AUTOTUNE\n",
    "recordname=\"../input/train_300x300.tfrec\"\n",
    "raw_dataset=tf.data.TFRecordDataset(recordname)\n",
    "dset=raw_dataset.map(parse_examples,num_parallel_calls=AUTO)\n",
    "dset=dset.map(preprocess,num_parallel_calls=AUTO)\n",
    "dset=dset.batch(CFG.batch_size).prefetch(AUTO)"
   ]
  },
  {
   "cell_type": "code",
   "execution_count": 21,
   "metadata": {},
   "outputs": [
    {
     "output_type": "stream",
     "name": "stderr",
     "text": [
      "0it [00:00, ?it/s]"
     ]
    },
    {
     "output_type": "display_data",
     "data": {
      "text/plain": "['1.2.826.0.1.3680043.8.498.10000428974990117276582711948006105617',\n '1.2.826.0.1.3680043.8.498.10001065121843652267743449160233082683',\n '1.2.826.0.1.3680043.8.498.10001175380298620851477409998730672515',\n '1.2.826.0.1.3680043.8.498.10001274045312501651093242392099983211',\n '1.2.826.0.1.3680043.8.498.10001645884963994872672157437761279872',\n '1.2.826.0.1.3680043.8.498.10002090428422465477470152567720822894',\n '1.2.826.0.1.3680043.8.498.10002446304107330308555550280339793610',\n '1.2.826.0.1.3680043.8.498.10002644592366004745415171692737199745']"
     },
     "metadata": {}
    },
    {
     "output_type": "stream",
     "name": "stderr",
     "text": [
      "1it [00:04,  4.60s/it]"
     ]
    },
    {
     "output_type": "display_data",
     "data": {
      "text/plain": "['1.2.826.0.1.3680043.8.498.10003638361010097105432298560780077394',\n '1.2.826.0.1.3680043.8.498.10004680757941111877058507971361382698',\n '1.2.826.0.1.3680043.8.498.10005525179325187531381719227940587547',\n '1.2.826.0.1.3680043.8.498.10005674150895565088475033916741013432',\n '1.2.826.0.1.3680043.8.498.10006237848798781176388878065969229683',\n '1.2.826.0.1.3680043.8.498.10006345652257803920839267162509630051',\n '1.2.826.0.1.3680043.8.498.10006912914592266370941646234626874697',\n '1.2.826.0.1.3680043.8.498.10007325230839039576266816449875945674']"
     },
     "metadata": {}
    },
    {
     "output_type": "stream",
     "name": "stderr",
     "text": [
      "2it [00:09,  4.56s/it]"
     ]
    },
    {
     "output_type": "display_data",
     "data": {
      "text/plain": "['1.2.826.0.1.3680043.8.498.10008193698745944671737283077530844393',\n '1.2.826.0.1.3680043.8.498.10008918603569082587093755882910898138',\n '1.2.826.0.1.3680043.8.498.10009200682227193533239127301911164377',\n '1.2.826.0.1.3680043.8.498.10009230449649555463787687058581068839',\n '1.2.826.0.1.3680043.8.498.10009460636373382407643984386773372138',\n '1.2.826.0.1.3680043.8.498.10009804582155067294620004418359998775',\n '1.2.826.0.1.3680043.8.498.10010621324226224265011850078370952894',\n '1.2.826.0.1.3680043.8.498.10010886604924023073322417250625757580']"
     },
     "metadata": {}
    },
    {
     "output_type": "stream",
     "name": "stderr",
     "text": [
      "3it [00:13,  4.54s/it]"
     ]
    },
    {
     "output_type": "display_data",
     "data": {
      "text/plain": "['1.2.826.0.1.3680043.8.498.10011225322111935956709340361664308988',\n '1.2.826.0.1.3680043.8.498.10011303716164813363951330003247248699',\n '1.2.826.0.1.3680043.8.498.10011326142914171276323218618410985958',\n '1.2.826.0.1.3680043.8.498.10011467445158645691510394489893787804',\n '1.2.826.0.1.3680043.8.498.10011645222415989937696288265656661857',\n '1.2.826.0.1.3680043.8.498.10012076044416201719708790381665812951',\n '1.2.826.0.1.3680043.8.498.10012289245645788930532993508716817528',\n '1.2.826.0.1.3680043.8.498.10012868114746340015145674058758665450']"
     },
     "metadata": {}
    },
    {
     "output_type": "stream",
     "name": "stderr",
     "text": [
      "3it [00:18,  6.04s/it]\n"
     ]
    },
    {
     "output_type": "display_data",
     "data": {
      "text/plain": "                                        StudyInstanceUID  ETT - Abnormal  \\\n0      1.2.826.0.1.3680043.8.498.26697628953273228189...             0.0   \n1      1.2.826.0.1.3680043.8.498.46302891597398758759...             0.0   \n2      1.2.826.0.1.3680043.8.498.23819260719748494858...             0.0   \n3      1.2.826.0.1.3680043.8.498.68286643202323212801...             0.0   \n4      1.2.826.0.1.3680043.8.498.10050203009225938259...             0.0   \n...                                                  ...             ...   \n30078  1.2.826.0.1.3680043.8.498.74257566841157531124...             0.0   \n30079  1.2.826.0.1.3680043.8.498.46510939987173529969...             0.0   \n30080  1.2.826.0.1.3680043.8.498.43173270582850645437...             0.0   \n30081  1.2.826.0.1.3680043.8.498.95092491950130838685...             0.0   \n30082  1.2.826.0.1.3680043.8.498.99518162226171269731...             0.0   \n\n       ETT - Borderline  ETT - Normal  NGT - Abnormal  NGT - Borderline  \\\n0                   0.0           0.0             0.0               0.0   \n1                   0.0           1.0             0.0               0.0   \n2                   0.0           0.0             0.0               0.0   \n3                   0.0           0.0             0.0               0.0   \n4                   0.0           0.0             0.0               0.0   \n...                 ...           ...             ...               ...   \n30078               0.0           1.0             0.0               0.0   \n30079               0.0           0.0             0.0               0.0   \n30080               0.0           1.0             0.0               0.0   \n30081               0.0           0.0             0.0               0.0   \n30082               0.0           1.0             0.0               0.0   \n\n       NGT - Incompletely Imaged  NGT - Normal  CVC - Abnormal  \\\n0                            0.0           1.0             0.0   \n1                            1.0           0.0             0.0   \n2                            0.0           0.0             0.0   \n3                            0.0           0.0             1.0   \n4                            0.0           0.0             0.0   \n...                          ...           ...             ...   \n30078                        0.0           0.0             0.0   \n30079                        0.0           0.0             0.0   \n30080                        1.0           0.0             1.0   \n30081                        0.0           0.0             0.0   \n30082                        0.0           0.0             0.0   \n\n       CVC - Borderline  CVC - Normal  Swan Ganz Catheter Present  PatientID  \n0                   0.0           0.0                         0.0  ec89415d1  \n1                   0.0           1.0                         0.0  bf4c6da3c  \n2                   1.0           0.0                         0.0  3fc1c97e5  \n3                   0.0           0.0                         0.0  c31019814  \n4                   0.0           1.0                         0.0  207685cd1  \n...                 ...           ...                         ...        ...  \n30078               1.0           1.0                         0.0  5b5b9ac30  \n30079               0.0           1.0                         0.0  7192404d8  \n30080               0.0           1.0                         0.0  d4d1b066d  \n30081               1.0           0.0                         0.0  01a6602b8  \n30082               0.0           1.0                         0.0  e692d316c  \n\n[30083 rows x 13 columns]",
      "text/html": "<div>\n<style scoped>\n    .dataframe tbody tr th:only-of-type {\n        vertical-align: middle;\n    }\n\n    .dataframe tbody tr th {\n        vertical-align: top;\n    }\n\n    .dataframe thead th {\n        text-align: right;\n    }\n</style>\n<table border=\"1\" class=\"dataframe\">\n  <thead>\n    <tr style=\"text-align: right;\">\n      <th></th>\n      <th>StudyInstanceUID</th>\n      <th>ETT - Abnormal</th>\n      <th>ETT - Borderline</th>\n      <th>ETT - Normal</th>\n      <th>NGT - Abnormal</th>\n      <th>NGT - Borderline</th>\n      <th>NGT - Incompletely Imaged</th>\n      <th>NGT - Normal</th>\n      <th>CVC - Abnormal</th>\n      <th>CVC - Borderline</th>\n      <th>CVC - Normal</th>\n      <th>Swan Ganz Catheter Present</th>\n      <th>PatientID</th>\n    </tr>\n  </thead>\n  <tbody>\n    <tr>\n      <th>0</th>\n      <td>1.2.826.0.1.3680043.8.498.26697628953273228189...</td>\n      <td>0.0</td>\n      <td>0.0</td>\n      <td>0.0</td>\n      <td>0.0</td>\n      <td>0.0</td>\n      <td>0.0</td>\n      <td>1.0</td>\n      <td>0.0</td>\n      <td>0.0</td>\n      <td>0.0</td>\n      <td>0.0</td>\n      <td>ec89415d1</td>\n    </tr>\n    <tr>\n      <th>1</th>\n      <td>1.2.826.0.1.3680043.8.498.46302891597398758759...</td>\n      <td>0.0</td>\n      <td>0.0</td>\n      <td>1.0</td>\n      <td>0.0</td>\n      <td>0.0</td>\n      <td>1.0</td>\n      <td>0.0</td>\n      <td>0.0</td>\n      <td>0.0</td>\n      <td>1.0</td>\n      <td>0.0</td>\n      <td>bf4c6da3c</td>\n    </tr>\n    <tr>\n      <th>2</th>\n      <td>1.2.826.0.1.3680043.8.498.23819260719748494858...</td>\n      <td>0.0</td>\n      <td>0.0</td>\n      <td>0.0</td>\n      <td>0.0</td>\n      <td>0.0</td>\n      <td>0.0</td>\n      <td>0.0</td>\n      <td>0.0</td>\n      <td>1.0</td>\n      <td>0.0</td>\n      <td>0.0</td>\n      <td>3fc1c97e5</td>\n    </tr>\n    <tr>\n      <th>3</th>\n      <td>1.2.826.0.1.3680043.8.498.68286643202323212801...</td>\n      <td>0.0</td>\n      <td>0.0</td>\n      <td>0.0</td>\n      <td>0.0</td>\n      <td>0.0</td>\n      <td>0.0</td>\n      <td>0.0</td>\n      <td>1.0</td>\n      <td>0.0</td>\n      <td>0.0</td>\n      <td>0.0</td>\n      <td>c31019814</td>\n    </tr>\n    <tr>\n      <th>4</th>\n      <td>1.2.826.0.1.3680043.8.498.10050203009225938259...</td>\n      <td>0.0</td>\n      <td>0.0</td>\n      <td>0.0</td>\n      <td>0.0</td>\n      <td>0.0</td>\n      <td>0.0</td>\n      <td>0.0</td>\n      <td>0.0</td>\n      <td>0.0</td>\n      <td>1.0</td>\n      <td>0.0</td>\n      <td>207685cd1</td>\n    </tr>\n    <tr>\n      <th>...</th>\n      <td>...</td>\n      <td>...</td>\n      <td>...</td>\n      <td>...</td>\n      <td>...</td>\n      <td>...</td>\n      <td>...</td>\n      <td>...</td>\n      <td>...</td>\n      <td>...</td>\n      <td>...</td>\n      <td>...</td>\n      <td>...</td>\n    </tr>\n    <tr>\n      <th>30078</th>\n      <td>1.2.826.0.1.3680043.8.498.74257566841157531124...</td>\n      <td>0.0</td>\n      <td>0.0</td>\n      <td>1.0</td>\n      <td>0.0</td>\n      <td>0.0</td>\n      <td>0.0</td>\n      <td>0.0</td>\n      <td>0.0</td>\n      <td>1.0</td>\n      <td>1.0</td>\n      <td>0.0</td>\n      <td>5b5b9ac30</td>\n    </tr>\n    <tr>\n      <th>30079</th>\n      <td>1.2.826.0.1.3680043.8.498.46510939987173529969...</td>\n      <td>0.0</td>\n      <td>0.0</td>\n      <td>0.0</td>\n      <td>0.0</td>\n      <td>0.0</td>\n      <td>0.0</td>\n      <td>0.0</td>\n      <td>0.0</td>\n      <td>0.0</td>\n      <td>1.0</td>\n      <td>0.0</td>\n      <td>7192404d8</td>\n    </tr>\n    <tr>\n      <th>30080</th>\n      <td>1.2.826.0.1.3680043.8.498.43173270582850645437...</td>\n      <td>0.0</td>\n      <td>0.0</td>\n      <td>1.0</td>\n      <td>0.0</td>\n      <td>0.0</td>\n      <td>1.0</td>\n      <td>0.0</td>\n      <td>1.0</td>\n      <td>0.0</td>\n      <td>1.0</td>\n      <td>0.0</td>\n      <td>d4d1b066d</td>\n    </tr>\n    <tr>\n      <th>30081</th>\n      <td>1.2.826.0.1.3680043.8.498.95092491950130838685...</td>\n      <td>0.0</td>\n      <td>0.0</td>\n      <td>0.0</td>\n      <td>0.0</td>\n      <td>0.0</td>\n      <td>0.0</td>\n      <td>0.0</td>\n      <td>0.0</td>\n      <td>1.0</td>\n      <td>0.0</td>\n      <td>0.0</td>\n      <td>01a6602b8</td>\n    </tr>\n    <tr>\n      <th>30082</th>\n      <td>1.2.826.0.1.3680043.8.498.99518162226171269731...</td>\n      <td>0.0</td>\n      <td>0.0</td>\n      <td>1.0</td>\n      <td>0.0</td>\n      <td>0.0</td>\n      <td>0.0</td>\n      <td>0.0</td>\n      <td>0.0</td>\n      <td>0.0</td>\n      <td>1.0</td>\n      <td>0.0</td>\n      <td>e692d316c</td>\n    </tr>\n  </tbody>\n</table>\n<p>30083 rows × 13 columns</p>\n</div>"
     },
     "metadata": {}
    }
   ],
   "source": [
    "submission=train.copy()\n",
    "\n",
    "for imgs,uids in tqdm(dset):\n",
    "    preds=effnet.predict(imgs)\n",
    "    uids_decoded=decode_string(uids)\n",
    "    \n",
    "    for pred,uid in zip(preds,uids_decoded):\n",
    "        submission.loc[submission[\"StudyInstanceUID\"]==uid,CFG.target_cols]=pred\n",
    "    \n",
    "display(submission)\n",
    "if not CFG.debug:\n",
    "    submission.to_csv(\"effnet_tuned_pred.csv\",index=False)"
   ]
  },
  {
   "cell_type": "code",
   "execution_count": 24,
   "metadata": {},
   "outputs": [
    {
     "output_type": "display_data",
     "data": {
      "text/plain": "(32, 13)"
     },
     "metadata": {}
    }
   ],
   "source": [
    "display(submission[(submission[\"ETT - Abnormal\"]!=0)&(submission[\"ETT - Abnormal\"]!=1)].shape)"
   ]
  },
  {
   "cell_type": "code",
   "execution_count": 9,
   "metadata": {},
   "outputs": [
    {
     "output_type": "stream",
     "name": "stderr",
     "text": [
      "3759it [01:04, 43.72it/s]"
     ]
    },
    {
     "output_type": "display_data",
     "data": {
      "text/plain": "<tf.Tensor: shape=(3, 260, 260, 3), dtype=float32, numpy=\narray([[[[0.02420234, 0.02420234, 0.02420234],\n         [0.0367328 , 0.0367328 , 0.0367328 ],\n         [0.03951735, 0.03951735, 0.03951735],\n         ...,\n         [0.03438915, 0.03438915, 0.03438915],\n         [0.07696924, 0.07696924, 0.07696924],\n         [0.29812938, 0.29812938, 0.29812938]],\n\n        [[0.0214178 , 0.0214178 , 0.0214178 ],\n         [0.04313726, 0.04313726, 0.04313726],\n         [0.04313726, 0.04313726, 0.04313726],\n         ...,\n         [0.04107206, 0.04107206, 0.04107206],\n         [0.0686853 , 0.0686853 , 0.0686853 ],\n         [0.27042335, 0.27042335, 0.27042335]],\n\n        [[0.0214178 , 0.0214178 , 0.0214178 ],\n         [0.04313726, 0.04313726, 0.04313726],\n         [0.04313726, 0.04313726, 0.04313726],\n         ...,\n         [0.03921569, 0.03921569, 0.03921569],\n         [0.06450849, 0.06450849, 0.06450849],\n         [0.25336814, 0.25336814, 0.25336814]],\n\n        ...,\n\n        [[0.02810072, 0.02810072, 0.02810072],\n         [0.08386122, 0.08386122, 0.08386122],\n         [0.14987817, 0.14987817, 0.14987817],\n         ...,\n         [0.41227525, 0.41227525, 0.41227525],\n         [0.43721998, 0.43721998, 0.43721998],\n         [0.4538576 , 0.4538576 , 0.4538576 ]],\n\n        [[0.03123332, 0.03123332, 0.03123332],\n         [0.08560156, 0.08560156, 0.08560156],\n         [0.14001629, 0.14001629, 0.14001629],\n         ...,\n         [0.4025294 , 0.4025294 , 0.4025294 ],\n         [0.4251537 , 0.4251537 , 0.4251537 ],\n         [0.44736028, 0.44736028, 0.44736028]],\n\n        [[0.05754694, 0.05754694, 0.05754694],\n         [0.12528086, 0.12528086, 0.12528086],\n         [0.17238614, 0.17238614, 0.17238614],\n         ...,\n         [0.32706907, 0.32706907, 0.32706907],\n         [0.3413399 , 0.3413399 , 0.3413399 ],\n         [0.3455866 , 0.3455866 , 0.3455866 ]]],\n\n\n       [[[0.00396798, 0.00396798, 0.00396798],\n         [0.00452489, 0.00452489, 0.00452489],\n         [0.00452489, 0.00452489, 0.00452489],\n         ...,\n         [0.01255366, 0.01255366, 0.01255366],\n         [0.01568625, 0.01568625, 0.01568625],\n         [0.04220875, 0.04220875, 0.04220875]],\n\n        [[0.00626523, 0.00626523, 0.00626523],\n         [0.012252  , 0.012252  , 0.012252  ],\n         [0.01085973, 0.01085973, 0.01085973],\n         ...,\n         [0.02202113, 0.02202113, 0.02202113],\n         [0.02584985, 0.02584985, 0.02584985],\n         [0.05466956, 0.05466956, 0.05466956]],\n\n        [[0.01345864, 0.01345864, 0.01345864],\n         [0.01457246, 0.01457246, 0.01457246],\n         [0.01143984, 0.01143984, 0.01143984],\n         ...,\n         [0.02202113, 0.02202113, 0.02202113],\n         [0.02352941, 0.02352941, 0.02352941],\n         [0.04886845, 0.04886845, 0.04886845]],\n\n        ...,\n\n        [[0.6103724 , 0.6103724 , 0.6103724 ],\n         [0.6128089 , 0.6128089 , 0.6128089 ],\n         [0.6175658 , 0.6175658 , 0.6175658 ],\n         ...,\n         [0.41438684, 0.41438684, 0.41438684],\n         [0.41276258, 0.41276258, 0.41276258],\n         [0.4116487 , 0.4116487 , 0.4116487 ]],\n\n        [[0.60874814, 0.60874814, 0.60874814],\n         [0.6094443 , 0.6094443 , 0.6094443 ],\n         [0.61362106, 0.61362106, 0.61362106],\n         ...,\n         [0.4112543 , 0.4112543 , 0.4112543 ],\n         [0.42123213, 0.42123213, 0.42123213],\n         [0.40967646, 0.40967646, 0.40967646]],\n\n        [[0.61508286, 0.61508286, 0.61508286],\n         [0.6184939 , 0.6184939 , 0.6184939 ],\n         [0.62998   , 0.62998   , 0.62998   ],\n         ...,\n         [0.40255263, 0.40255263, 0.40255263],\n         [0.41461894, 0.41461894, 0.41461894],\n         [0.40181023, 0.40181023, 0.40181023]]],\n\n\n       [[[0.00844646, 0.00844646, 0.00844646],\n         [0.01568628, 0.01568628, 0.01568628],\n         [0.01568628, 0.01568628, 0.01568628],\n         ...,\n         [0.43202218, 0.43202218, 0.43202218],\n         [0.3976797 , 0.3976797 , 0.3976797 ],\n         [0.3586963 , 0.3586963 , 0.3586963 ]],\n\n        [[0.00844646, 0.00844646, 0.00844646],\n         [0.01568628, 0.01568628, 0.01568628],\n         [0.01568628, 0.01568628, 0.01568628],\n         ...,\n         [0.41761214, 0.41761214, 0.41761214],\n         [0.38535804, 0.38535804, 0.38535804],\n         [0.34700122, 0.34700122, 0.34700122]],\n\n        [[0.00844646, 0.00844646, 0.00844646],\n         [0.01568628, 0.01568628, 0.01568628],\n         [0.01568628, 0.01568628, 0.01568628],\n         ...,\n         [0.41389945, 0.41389945, 0.41389945],\n         [0.37874478, 0.37874478, 0.37874478],\n         [0.34212822, 0.34212822, 0.34212822]],\n\n        ...,\n\n        [[0.38749275, 0.38749275, 0.38749275],\n         [0.5120315 , 0.5120315 , 0.5120315 ],\n         [0.5315234 , 0.5315234 , 0.5315234 ],\n         ...,\n         [0.1856366 , 0.1856366 , 0.1856366 ],\n         [0.3401779 , 0.3401779 , 0.3401779 ],\n         [0.5501311 , 0.5501311 , 0.5501311 ]],\n\n        [[0.38540438, 0.38540438, 0.38540438],\n         [0.51968896, 0.51968896, 0.51968896],\n         [0.5333798 , 0.5333798 , 0.5333798 ],\n         ...,\n         [0.16289625, 0.16289625, 0.16289625],\n         [0.30293489, 0.30293489, 0.30293489],\n         [0.4871314 , 0.4871314 , 0.4871314 ]],\n\n        [[0.32498047, 0.32498047, 0.32498047],\n         [0.44840562, 0.44840562, 0.44840562],\n         [0.45061016, 0.45061016, 0.45061016],\n         ...,\n         [0.13212712, 0.13212712, 0.13212712],\n         [0.1955921 , 0.1955921 , 0.1955921 ],\n         [0.28455883, 0.28455883, 0.28455883]]]], dtype=float32)>"
     },
     "metadata": {}
    },
    {
     "output_type": "stream",
     "name": "stderr",
     "text": [
      "3761it [01:04, 58.46it/s]\n"
     ]
    }
   ],
   "source": [
    "for imgs,uids in tqdm(dset):\n",
    "    if imgs.shape !=(CFG.batch_size,260,260,3):\n",
    "        display(imgs)"
   ]
  }
 ]
}