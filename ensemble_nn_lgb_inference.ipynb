{
 "metadata": {
  "language_info": {
   "codemirror_mode": {
    "name": "ipython",
    "version": 3
   },
   "file_extension": ".py",
   "mimetype": "text/x-python",
   "name": "python",
   "nbconvert_exporter": "python",
   "pygments_lexer": "ipython3",
   "version": "3.8.5-final"
  },
  "orig_nbformat": 2,
  "kernelspec": {
   "name": "python3",
   "display_name": "Python 3.8.5 64-bit ('py38': conda)",
   "metadata": {
    "interpreter": {
     "hash": "3da45907e5cd41bdac7b692b424c19725633d98a853f93b11b400b1d8951ac30"
    }
   }
  }
 },
 "nbformat": 4,
 "nbformat_minor": 2,
 "cells": [
  {
   "cell_type": "code",
   "execution_count": 1,
   "metadata": {},
   "outputs": [],
   "source": [
    "import pandas as pd\n",
    "import numpy as np\n",
    "import pickle\n",
    "from IPython.display import display\n",
    "from tqdm.notebook import tqdm\n",
    "\n",
    "from tensorflow import keras\n",
    "from tensorflow.keras.preprocessing import image\n",
    "from tensorflow.keras import models\n",
    "from tensorflow.keras.applications.efficientnet import preprocess_input\n",
    "\n",
    "from sklearn.metrics import roc_auc_score\n",
    "from sklearn.model_selection import train_test_split\n",
    "from sklearn.preprocessing import StandardScaler"
   ]
  },
  {
   "source": [
    "## CFG"
   ],
   "cell_type": "markdown",
   "metadata": {}
  },
  {
   "cell_type": "code",
   "execution_count": 2,
   "metadata": {},
   "outputs": [],
   "source": [
    "class CFG:\n",
    "    debug=True\n",
    "\n",
    "    input_dir=\"../input/efficientnet_output_straight/\"\n",
    "    dataset_dir=\"../input/ranzcr-clip-catheter-line-classification/\"\n",
    "    models_dir=\"./models/\" if debug else \"../input/efficientnet-lightgbm-models/\"\n",
    "\n",
    "    n_folds=4\n",
    "    num_features=100\n",
    "    target_cols=['ETT - Abnormal', 'ETT - Borderline', 'ETT - Normal', 'NGT - Abnormal', 'NGT - Borderline', 'NGT - Incompletely Imaged',           'NGT - Normal', 'CVC - Abnormal', 'CVC - Borderline', 'CVC - Normal', 'Swan Ganz Catheter Present']"
   ]
  },
  {
   "cell_type": "code",
   "execution_count": 3,
   "metadata": {},
   "outputs": [
    {
     "output_type": "display_data",
     "data": {
      "text/plain": "                                       StudyInstanceUID  ETT - Abnormal  \\\n3219  1.2.826.0.1.3680043.8.498.12126834418646094795...               0   \n3369  1.2.826.0.1.3680043.8.498.25679526645412462862...               0   \n1206  1.2.826.0.1.3680043.8.498.96154222694757788294...               0   \n3032  1.2.826.0.1.3680043.8.498.42051546658503359881...               0   \n627   1.2.826.0.1.3680043.8.498.11665192673224035444...               0   \n212   1.2.826.0.1.3680043.8.498.12361605029931768086...               0   \n2319  1.2.826.0.1.3680043.8.498.13233430745466640843...               0   \n741   1.2.826.0.1.3680043.8.498.11086677407703525147...               0   \n1821  1.2.826.0.1.3680043.8.498.11397896435572402386...               0   \n1178  1.2.826.0.1.3680043.8.498.67238847089694621353...               0   \n\n      ETT - Borderline  ETT - Normal  NGT - Abnormal  NGT - Borderline  \\\n3219                 0             0               0                 0   \n3369                 0             0               0                 0   \n1206                 0             0               0                 0   \n3032                 0             0               0                 0   \n627                  0             0               0                 0   \n212                  0             0               0                 0   \n2319                 0             0               0                 0   \n741                  0             0               0                 0   \n1821                 0             0               0                 0   \n1178                 0             0               0                 0   \n\n      NGT - Incompletely Imaged  NGT - Normal  CVC - Abnormal  \\\n3219                          0             0               0   \n3369                          0             0               0   \n1206                          0             0               0   \n3032                          0             0               0   \n627                           0             0               0   \n212                           0             0               0   \n2319                          0             0               0   \n741                           0             0               0   \n1821                          0             0               0   \n1178                          0             0               0   \n\n      CVC - Borderline  CVC - Normal  Swan Ganz Catheter Present  \n3219                 0             0                           0  \n3369                 0             0                           0  \n1206                 0             0                           0  \n3032                 0             0                           0  \n627                  0             0                           0  \n212                  0             0                           0  \n2319                 0             0                           0  \n741                  0             0                           0  \n1821                 0             0                           0  \n1178                 0             0                           0  ",
      "text/html": "<div>\n<style scoped>\n    .dataframe tbody tr th:only-of-type {\n        vertical-align: middle;\n    }\n\n    .dataframe tbody tr th {\n        vertical-align: top;\n    }\n\n    .dataframe thead th {\n        text-align: right;\n    }\n</style>\n<table border=\"1\" class=\"dataframe\">\n  <thead>\n    <tr style=\"text-align: right;\">\n      <th></th>\n      <th>StudyInstanceUID</th>\n      <th>ETT - Abnormal</th>\n      <th>ETT - Borderline</th>\n      <th>ETT - Normal</th>\n      <th>NGT - Abnormal</th>\n      <th>NGT - Borderline</th>\n      <th>NGT - Incompletely Imaged</th>\n      <th>NGT - Normal</th>\n      <th>CVC - Abnormal</th>\n      <th>CVC - Borderline</th>\n      <th>CVC - Normal</th>\n      <th>Swan Ganz Catheter Present</th>\n    </tr>\n  </thead>\n  <tbody>\n    <tr>\n      <th>3219</th>\n      <td>1.2.826.0.1.3680043.8.498.12126834418646094795...</td>\n      <td>0</td>\n      <td>0</td>\n      <td>0</td>\n      <td>0</td>\n      <td>0</td>\n      <td>0</td>\n      <td>0</td>\n      <td>0</td>\n      <td>0</td>\n      <td>0</td>\n      <td>0</td>\n    </tr>\n    <tr>\n      <th>3369</th>\n      <td>1.2.826.0.1.3680043.8.498.25679526645412462862...</td>\n      <td>0</td>\n      <td>0</td>\n      <td>0</td>\n      <td>0</td>\n      <td>0</td>\n      <td>0</td>\n      <td>0</td>\n      <td>0</td>\n      <td>0</td>\n      <td>0</td>\n      <td>0</td>\n    </tr>\n    <tr>\n      <th>1206</th>\n      <td>1.2.826.0.1.3680043.8.498.96154222694757788294...</td>\n      <td>0</td>\n      <td>0</td>\n      <td>0</td>\n      <td>0</td>\n      <td>0</td>\n      <td>0</td>\n      <td>0</td>\n      <td>0</td>\n      <td>0</td>\n      <td>0</td>\n      <td>0</td>\n    </tr>\n    <tr>\n      <th>3032</th>\n      <td>1.2.826.0.1.3680043.8.498.42051546658503359881...</td>\n      <td>0</td>\n      <td>0</td>\n      <td>0</td>\n      <td>0</td>\n      <td>0</td>\n      <td>0</td>\n      <td>0</td>\n      <td>0</td>\n      <td>0</td>\n      <td>0</td>\n      <td>0</td>\n    </tr>\n    <tr>\n      <th>627</th>\n      <td>1.2.826.0.1.3680043.8.498.11665192673224035444...</td>\n      <td>0</td>\n      <td>0</td>\n      <td>0</td>\n      <td>0</td>\n      <td>0</td>\n      <td>0</td>\n      <td>0</td>\n      <td>0</td>\n      <td>0</td>\n      <td>0</td>\n      <td>0</td>\n    </tr>\n    <tr>\n      <th>212</th>\n      <td>1.2.826.0.1.3680043.8.498.12361605029931768086...</td>\n      <td>0</td>\n      <td>0</td>\n      <td>0</td>\n      <td>0</td>\n      <td>0</td>\n      <td>0</td>\n      <td>0</td>\n      <td>0</td>\n      <td>0</td>\n      <td>0</td>\n      <td>0</td>\n    </tr>\n    <tr>\n      <th>2319</th>\n      <td>1.2.826.0.1.3680043.8.498.13233430745466640843...</td>\n      <td>0</td>\n      <td>0</td>\n      <td>0</td>\n      <td>0</td>\n      <td>0</td>\n      <td>0</td>\n      <td>0</td>\n      <td>0</td>\n      <td>0</td>\n      <td>0</td>\n      <td>0</td>\n    </tr>\n    <tr>\n      <th>741</th>\n      <td>1.2.826.0.1.3680043.8.498.11086677407703525147...</td>\n      <td>0</td>\n      <td>0</td>\n      <td>0</td>\n      <td>0</td>\n      <td>0</td>\n      <td>0</td>\n      <td>0</td>\n      <td>0</td>\n      <td>0</td>\n      <td>0</td>\n      <td>0</td>\n    </tr>\n    <tr>\n      <th>1821</th>\n      <td>1.2.826.0.1.3680043.8.498.11397896435572402386...</td>\n      <td>0</td>\n      <td>0</td>\n      <td>0</td>\n      <td>0</td>\n      <td>0</td>\n      <td>0</td>\n      <td>0</td>\n      <td>0</td>\n      <td>0</td>\n      <td>0</td>\n      <td>0</td>\n    </tr>\n    <tr>\n      <th>1178</th>\n      <td>1.2.826.0.1.3680043.8.498.67238847089694621353...</td>\n      <td>0</td>\n      <td>0</td>\n      <td>0</td>\n      <td>0</td>\n      <td>0</td>\n      <td>0</td>\n      <td>0</td>\n      <td>0</td>\n      <td>0</td>\n      <td>0</td>\n      <td>0</td>\n    </tr>\n  </tbody>\n</table>\n</div>"
     },
     "metadata": {}
    }
   ],
   "source": [
    "test=pd.read_csv(f\"{CFG.dataset_dir}sample_submission.csv\")\n",
    "\n",
    "if CFG.debug:\n",
    "    n_samples=10\n",
    "    train,test=train_test_split(test,test_size=n_samples)\n",
    "\n",
    "display(test)"
   ]
  },
  {
   "source": [
    "## EfficientNetB7による出力の取得"
   ],
   "cell_type": "markdown",
   "metadata": {}
  },
  {
   "cell_type": "code",
   "execution_count": 4,
   "metadata": {},
   "outputs": [
    {
     "output_type": "stream",
     "name": "stdout",
     "text": [
      "WARNING:tensorflow:No training configuration found in the save file, so the model was *not* compiled. Compile it manually.\n"
     ]
    }
   ],
   "source": [
    "nn_model=models.load_model(f\"{CFG.models_dir}efficientnetB7.h5\")"
   ]
  },
  {
   "cell_type": "code",
   "execution_count": 5,
   "metadata": {},
   "outputs": [
    {
     "output_type": "display_data",
     "data": {
      "text/plain": "  0%|          | 0/10 [00:00<?, ?it/s]",
      "application/vnd.jupyter.widget-view+json": {
       "version_major": 2,
       "version_minor": 0,
       "model_id": "8347af6c51614a21904f7e3fc9ead542"
      }
     },
     "metadata": {}
    }
   ],
   "source": [
    "pred_list=[]\n",
    "for uid in tqdm(test[\"StudyInstanceUID\"]):\n",
    "    img_pil=image.load_img(f\"{CFG.dataset_dir}test/{uid}.jpg\", target_size=(256,256)) # PIL形式で画像を読み込み、リサイズ\n",
    "    img=image.img_to_array(img_pil)\n",
    "    img=np.expand_dims(img,axis=0)\n",
    "    nn_pred=nn_model.predict(preprocess_input(img))\n",
    "    pred_list.append(nn_pred[0])\n",
    "\n",
    "nn_pred=np.array(pred_list)"
   ]
  },
  {
   "source": [
    "## LightGBMによる推論"
   ],
   "cell_type": "markdown",
   "metadata": {}
  },
  {
   "source": [
    "### 正規化する"
   ],
   "cell_type": "markdown",
   "metadata": {}
  },
  {
   "cell_type": "code",
   "execution_count": 6,
   "metadata": {},
   "outputs": [],
   "source": [
    "scaler=pickle.load(open(f\"{CFG.models_dir}minmaxscaler.pickle\",\"rb\"))\n",
    "\n",
    "nn_pred_norm=pd.concat([test.reset_index(drop=True)[\"StudyInstanceUID\"],pd.DataFrame(scaler.transform(nn_pred))],axis=1)"
   ]
  },
  {
   "source": [
    "### AutoEncoderによる次元削減"
   ],
   "cell_type": "markdown",
   "metadata": {}
  },
  {
   "cell_type": "code",
   "execution_count": 7,
   "metadata": {},
   "outputs": [
    {
     "output_type": "display_data",
     "data": {
      "text/plain": "    0         1         2         3         4         5         6    7   \\\n0  0.0  4.610896  2.287433  1.079081  3.113541  2.699734  2.507464  0.0   \n1  0.0  6.321053  2.028604  9.139301  6.072942  4.005536  6.073335  0.0   \n2  0.0  4.349279  2.156650  6.099969  4.143853  4.484516  1.819214  0.0   \n3  0.0  3.295934  2.945225  4.809831  5.967846  4.727466  5.091046  0.0   \n4  0.0  3.627803  1.614951  2.115899  4.266964  3.094385  2.092641  0.0   \n5  0.0  2.830598  1.627711  3.576441  4.651927  3.141523  1.459785  0.0   \n6  0.0  2.860663  1.220108  2.974442  3.687876  3.085447  4.876204  0.0   \n7  0.0  3.385466  1.949323  5.726854  3.638127  3.732755  2.819599  0.0   \n8  0.0  5.638882  2.871177  4.898509  3.419362  2.481212  3.275216  0.0   \n9  0.0  2.041071  1.784242  1.867171  1.907627  2.833152  2.128181  0.0   \n\n         8         9   ...   90        91        92        93        94  \\\n0  4.774673  2.344668  ...  0.0  1.375791  1.445181  2.725537  3.927274   \n1  3.072227  4.146487  ...  0.0  0.677671  8.266397  4.416893  3.822499   \n2  3.188516  4.143863  ...  0.0  1.061399  3.660784  3.562563  4.687096   \n3  3.888574  4.716721  ...  0.0  0.955105  4.463363  5.155314  1.467798   \n4  5.469833  4.769270  ...  0.0  1.082381  1.982177  2.827104  2.772093   \n5  5.029336  1.142954  ...  0.0  0.952030  2.820015  1.253415  4.059070   \n6  3.701144  3.918498  ...  0.0  1.488490  4.101911  2.209322  3.093290   \n7  3.805809  3.246527  ...  0.0  1.489670  4.457733  3.673737  1.961911   \n8  3.894957  5.025724  ...  0.0  1.426780  1.042239  3.691808  2.156105   \n9  2.359791  7.038349  ...  0.0  1.528909  3.074055  3.443143  3.060911   \n\n         95        96        97        98        99  \n0  3.677275  2.129272  2.285991  2.836764  3.729412  \n1  3.787554  5.842286  5.339317  6.235743  5.241741  \n2  3.942639  6.152863  4.082253  6.297458  2.862765  \n3  3.610177  3.089406  5.189339  2.285418  5.035690  \n4  2.432705  3.793418  2.890932  3.698867  2.216501  \n5  4.229985  1.601971  3.282743  2.178496  1.816425  \n6  3.137137  0.712516  3.581560  0.846042  3.300781  \n7  1.651317  4.346960  3.335839  3.545384  5.883523  \n8  3.863074  3.740673  3.573404  1.723875  4.663830  \n9  2.215248  2.943035  5.199098  4.301796  4.346797  \n\n[10 rows x 100 columns]",
      "text/html": "<div>\n<style scoped>\n    .dataframe tbody tr th:only-of-type {\n        vertical-align: middle;\n    }\n\n    .dataframe tbody tr th {\n        vertical-align: top;\n    }\n\n    .dataframe thead th {\n        text-align: right;\n    }\n</style>\n<table border=\"1\" class=\"dataframe\">\n  <thead>\n    <tr style=\"text-align: right;\">\n      <th></th>\n      <th>0</th>\n      <th>1</th>\n      <th>2</th>\n      <th>3</th>\n      <th>4</th>\n      <th>5</th>\n      <th>6</th>\n      <th>7</th>\n      <th>8</th>\n      <th>9</th>\n      <th>...</th>\n      <th>90</th>\n      <th>91</th>\n      <th>92</th>\n      <th>93</th>\n      <th>94</th>\n      <th>95</th>\n      <th>96</th>\n      <th>97</th>\n      <th>98</th>\n      <th>99</th>\n    </tr>\n  </thead>\n  <tbody>\n    <tr>\n      <th>0</th>\n      <td>0.0</td>\n      <td>4.610896</td>\n      <td>2.287433</td>\n      <td>1.079081</td>\n      <td>3.113541</td>\n      <td>2.699734</td>\n      <td>2.507464</td>\n      <td>0.0</td>\n      <td>4.774673</td>\n      <td>2.344668</td>\n      <td>...</td>\n      <td>0.0</td>\n      <td>1.375791</td>\n      <td>1.445181</td>\n      <td>2.725537</td>\n      <td>3.927274</td>\n      <td>3.677275</td>\n      <td>2.129272</td>\n      <td>2.285991</td>\n      <td>2.836764</td>\n      <td>3.729412</td>\n    </tr>\n    <tr>\n      <th>1</th>\n      <td>0.0</td>\n      <td>6.321053</td>\n      <td>2.028604</td>\n      <td>9.139301</td>\n      <td>6.072942</td>\n      <td>4.005536</td>\n      <td>6.073335</td>\n      <td>0.0</td>\n      <td>3.072227</td>\n      <td>4.146487</td>\n      <td>...</td>\n      <td>0.0</td>\n      <td>0.677671</td>\n      <td>8.266397</td>\n      <td>4.416893</td>\n      <td>3.822499</td>\n      <td>3.787554</td>\n      <td>5.842286</td>\n      <td>5.339317</td>\n      <td>6.235743</td>\n      <td>5.241741</td>\n    </tr>\n    <tr>\n      <th>2</th>\n      <td>0.0</td>\n      <td>4.349279</td>\n      <td>2.156650</td>\n      <td>6.099969</td>\n      <td>4.143853</td>\n      <td>4.484516</td>\n      <td>1.819214</td>\n      <td>0.0</td>\n      <td>3.188516</td>\n      <td>4.143863</td>\n      <td>...</td>\n      <td>0.0</td>\n      <td>1.061399</td>\n      <td>3.660784</td>\n      <td>3.562563</td>\n      <td>4.687096</td>\n      <td>3.942639</td>\n      <td>6.152863</td>\n      <td>4.082253</td>\n      <td>6.297458</td>\n      <td>2.862765</td>\n    </tr>\n    <tr>\n      <th>3</th>\n      <td>0.0</td>\n      <td>3.295934</td>\n      <td>2.945225</td>\n      <td>4.809831</td>\n      <td>5.967846</td>\n      <td>4.727466</td>\n      <td>5.091046</td>\n      <td>0.0</td>\n      <td>3.888574</td>\n      <td>4.716721</td>\n      <td>...</td>\n      <td>0.0</td>\n      <td>0.955105</td>\n      <td>4.463363</td>\n      <td>5.155314</td>\n      <td>1.467798</td>\n      <td>3.610177</td>\n      <td>3.089406</td>\n      <td>5.189339</td>\n      <td>2.285418</td>\n      <td>5.035690</td>\n    </tr>\n    <tr>\n      <th>4</th>\n      <td>0.0</td>\n      <td>3.627803</td>\n      <td>1.614951</td>\n      <td>2.115899</td>\n      <td>4.266964</td>\n      <td>3.094385</td>\n      <td>2.092641</td>\n      <td>0.0</td>\n      <td>5.469833</td>\n      <td>4.769270</td>\n      <td>...</td>\n      <td>0.0</td>\n      <td>1.082381</td>\n      <td>1.982177</td>\n      <td>2.827104</td>\n      <td>2.772093</td>\n      <td>2.432705</td>\n      <td>3.793418</td>\n      <td>2.890932</td>\n      <td>3.698867</td>\n      <td>2.216501</td>\n    </tr>\n    <tr>\n      <th>5</th>\n      <td>0.0</td>\n      <td>2.830598</td>\n      <td>1.627711</td>\n      <td>3.576441</td>\n      <td>4.651927</td>\n      <td>3.141523</td>\n      <td>1.459785</td>\n      <td>0.0</td>\n      <td>5.029336</td>\n      <td>1.142954</td>\n      <td>...</td>\n      <td>0.0</td>\n      <td>0.952030</td>\n      <td>2.820015</td>\n      <td>1.253415</td>\n      <td>4.059070</td>\n      <td>4.229985</td>\n      <td>1.601971</td>\n      <td>3.282743</td>\n      <td>2.178496</td>\n      <td>1.816425</td>\n    </tr>\n    <tr>\n      <th>6</th>\n      <td>0.0</td>\n      <td>2.860663</td>\n      <td>1.220108</td>\n      <td>2.974442</td>\n      <td>3.687876</td>\n      <td>3.085447</td>\n      <td>4.876204</td>\n      <td>0.0</td>\n      <td>3.701144</td>\n      <td>3.918498</td>\n      <td>...</td>\n      <td>0.0</td>\n      <td>1.488490</td>\n      <td>4.101911</td>\n      <td>2.209322</td>\n      <td>3.093290</td>\n      <td>3.137137</td>\n      <td>0.712516</td>\n      <td>3.581560</td>\n      <td>0.846042</td>\n      <td>3.300781</td>\n    </tr>\n    <tr>\n      <th>7</th>\n      <td>0.0</td>\n      <td>3.385466</td>\n      <td>1.949323</td>\n      <td>5.726854</td>\n      <td>3.638127</td>\n      <td>3.732755</td>\n      <td>2.819599</td>\n      <td>0.0</td>\n      <td>3.805809</td>\n      <td>3.246527</td>\n      <td>...</td>\n      <td>0.0</td>\n      <td>1.489670</td>\n      <td>4.457733</td>\n      <td>3.673737</td>\n      <td>1.961911</td>\n      <td>1.651317</td>\n      <td>4.346960</td>\n      <td>3.335839</td>\n      <td>3.545384</td>\n      <td>5.883523</td>\n    </tr>\n    <tr>\n      <th>8</th>\n      <td>0.0</td>\n      <td>5.638882</td>\n      <td>2.871177</td>\n      <td>4.898509</td>\n      <td>3.419362</td>\n      <td>2.481212</td>\n      <td>3.275216</td>\n      <td>0.0</td>\n      <td>3.894957</td>\n      <td>5.025724</td>\n      <td>...</td>\n      <td>0.0</td>\n      <td>1.426780</td>\n      <td>1.042239</td>\n      <td>3.691808</td>\n      <td>2.156105</td>\n      <td>3.863074</td>\n      <td>3.740673</td>\n      <td>3.573404</td>\n      <td>1.723875</td>\n      <td>4.663830</td>\n    </tr>\n    <tr>\n      <th>9</th>\n      <td>0.0</td>\n      <td>2.041071</td>\n      <td>1.784242</td>\n      <td>1.867171</td>\n      <td>1.907627</td>\n      <td>2.833152</td>\n      <td>2.128181</td>\n      <td>0.0</td>\n      <td>2.359791</td>\n      <td>7.038349</td>\n      <td>...</td>\n      <td>0.0</td>\n      <td>1.528909</td>\n      <td>3.074055</td>\n      <td>3.443143</td>\n      <td>3.060911</td>\n      <td>2.215248</td>\n      <td>2.943035</td>\n      <td>5.199098</td>\n      <td>4.301796</td>\n      <td>4.346797</td>\n    </tr>\n  </tbody>\n</table>\n<p>10 rows × 100 columns</p>\n</div>"
     },
     "metadata": {}
    }
   ],
   "source": [
    "autoencoder=models.load_model(f\"{CFG.models_dir}autoencoder_splits10\")\n",
    "layer_name=\"dense_1\"\n",
    "hidden_layer_model=models.Model(inputs=autoencoder.input,outputs=autoencoder.get_layer(layer_name).output)\n",
    "\n",
    "pred=hidden_layer_model.predict(nn_pred_norm.iloc[:,1:])\n",
    "lgb_features=pd.DataFrame(pred)\n",
    "display(lgb_features)"
   ]
  },
  {
   "source": [
    "### LightGBMモデルによる推論"
   ],
   "cell_type": "markdown",
   "metadata": {}
  },
  {
   "cell_type": "code",
   "execution_count": 8,
   "metadata": {},
   "outputs": [
    {
     "output_type": "display_data",
     "data": {
      "text/plain": "                                       StudyInstanceUID  ETT - Abnormal  \\\n3219  1.2.826.0.1.3680043.8.498.12126834418646094795...    2.803708e-06   \n3369  1.2.826.0.1.3680043.8.498.25679526645412462862...    3.293098e-06   \n1206  1.2.826.0.1.3680043.8.498.96154222694757788294...    4.049137e-07   \n3032  1.2.826.0.1.3680043.8.498.42051546658503359881...    1.758675e-06   \n627   1.2.826.0.1.3680043.8.498.11665192673224035444...    1.278040e-06   \n212   1.2.826.0.1.3680043.8.498.12361605029931768086...    6.230805e-07   \n2319  1.2.826.0.1.3680043.8.498.13233430745466640843...    6.391392e-07   \n741   1.2.826.0.1.3680043.8.498.11086677407703525147...    1.402018e-06   \n1821  1.2.826.0.1.3680043.8.498.11397896435572402386...    9.333147e-07   \n1178  1.2.826.0.1.3680043.8.498.67238847089694621353...    2.792796e-06   \n\n      ETT - Borderline  ETT - Normal  NGT - Abnormal  NGT - Borderline  \\\n3219          0.002593      0.051365        0.004701          0.009444   \n3369          0.002041      0.012535        0.006690          0.010043   \n1206          0.001347      0.019568        0.002014          0.003090   \n3032          0.002053      0.004068        0.001427          0.002841   \n627           0.002819      0.017908        0.005862          0.003266   \n212           0.000409      0.004627        0.001781          0.006965   \n2319          0.001689      0.018813        0.004151          0.002596   \n741           0.001540      0.013388        0.017400          0.006546   \n1821          0.001518      0.018155        0.003774          0.003276   \n1178          0.143112      0.692782        0.005688          0.031810   \n\n      NGT - Incompletely Imaged  NGT - Normal  CVC - Abnormal  \\\n3219                   0.004217      0.016914        0.075955   \n3369                   0.000617      0.015517        0.037513   \n1206                   0.000219      0.014508        0.121895   \n3032                   0.000184      0.004057        0.075709   \n627                    0.003253      0.003661        0.120294   \n212                    0.000225      0.004573        0.119670   \n2319                   0.002203      0.002499        0.132910   \n741                    0.000745      0.009481        0.053175   \n1821                   0.000446      0.007727        0.045477   \n1178                   0.123156      0.445049        0.172956   \n\n      CVC - Borderline  CVC - Normal  Swan Ganz Catheter Present  \n3219          0.225435      0.723785                    0.000053  \n3369          0.369701      0.864656                    0.000010  \n1206          0.406926      0.470737                    0.000012  \n3032          0.349084      0.733381                    0.000013  \n627           0.236891      0.662604                    0.000007  \n212           0.152003      0.788167                    0.000004  \n2319          0.192934      0.691537                    0.000013  \n741           0.198195      0.833107                    0.000011  \n1821          0.294294      0.719398                    0.000005  \n1178          0.247399      0.664242                    0.001746  ",
      "text/html": "<div>\n<style scoped>\n    .dataframe tbody tr th:only-of-type {\n        vertical-align: middle;\n    }\n\n    .dataframe tbody tr th {\n        vertical-align: top;\n    }\n\n    .dataframe thead th {\n        text-align: right;\n    }\n</style>\n<table border=\"1\" class=\"dataframe\">\n  <thead>\n    <tr style=\"text-align: right;\">\n      <th></th>\n      <th>StudyInstanceUID</th>\n      <th>ETT - Abnormal</th>\n      <th>ETT - Borderline</th>\n      <th>ETT - Normal</th>\n      <th>NGT - Abnormal</th>\n      <th>NGT - Borderline</th>\n      <th>NGT - Incompletely Imaged</th>\n      <th>NGT - Normal</th>\n      <th>CVC - Abnormal</th>\n      <th>CVC - Borderline</th>\n      <th>CVC - Normal</th>\n      <th>Swan Ganz Catheter Present</th>\n    </tr>\n  </thead>\n  <tbody>\n    <tr>\n      <th>3219</th>\n      <td>1.2.826.0.1.3680043.8.498.12126834418646094795...</td>\n      <td>2.803708e-06</td>\n      <td>0.002593</td>\n      <td>0.051365</td>\n      <td>0.004701</td>\n      <td>0.009444</td>\n      <td>0.004217</td>\n      <td>0.016914</td>\n      <td>0.075955</td>\n      <td>0.225435</td>\n      <td>0.723785</td>\n      <td>0.000053</td>\n    </tr>\n    <tr>\n      <th>3369</th>\n      <td>1.2.826.0.1.3680043.8.498.25679526645412462862...</td>\n      <td>3.293098e-06</td>\n      <td>0.002041</td>\n      <td>0.012535</td>\n      <td>0.006690</td>\n      <td>0.010043</td>\n      <td>0.000617</td>\n      <td>0.015517</td>\n      <td>0.037513</td>\n      <td>0.369701</td>\n      <td>0.864656</td>\n      <td>0.000010</td>\n    </tr>\n    <tr>\n      <th>1206</th>\n      <td>1.2.826.0.1.3680043.8.498.96154222694757788294...</td>\n      <td>4.049137e-07</td>\n      <td>0.001347</td>\n      <td>0.019568</td>\n      <td>0.002014</td>\n      <td>0.003090</td>\n      <td>0.000219</td>\n      <td>0.014508</td>\n      <td>0.121895</td>\n      <td>0.406926</td>\n      <td>0.470737</td>\n      <td>0.000012</td>\n    </tr>\n    <tr>\n      <th>3032</th>\n      <td>1.2.826.0.1.3680043.8.498.42051546658503359881...</td>\n      <td>1.758675e-06</td>\n      <td>0.002053</td>\n      <td>0.004068</td>\n      <td>0.001427</td>\n      <td>0.002841</td>\n      <td>0.000184</td>\n      <td>0.004057</td>\n      <td>0.075709</td>\n      <td>0.349084</td>\n      <td>0.733381</td>\n      <td>0.000013</td>\n    </tr>\n    <tr>\n      <th>627</th>\n      <td>1.2.826.0.1.3680043.8.498.11665192673224035444...</td>\n      <td>1.278040e-06</td>\n      <td>0.002819</td>\n      <td>0.017908</td>\n      <td>0.005862</td>\n      <td>0.003266</td>\n      <td>0.003253</td>\n      <td>0.003661</td>\n      <td>0.120294</td>\n      <td>0.236891</td>\n      <td>0.662604</td>\n      <td>0.000007</td>\n    </tr>\n    <tr>\n      <th>212</th>\n      <td>1.2.826.0.1.3680043.8.498.12361605029931768086...</td>\n      <td>6.230805e-07</td>\n      <td>0.000409</td>\n      <td>0.004627</td>\n      <td>0.001781</td>\n      <td>0.006965</td>\n      <td>0.000225</td>\n      <td>0.004573</td>\n      <td>0.119670</td>\n      <td>0.152003</td>\n      <td>0.788167</td>\n      <td>0.000004</td>\n    </tr>\n    <tr>\n      <th>2319</th>\n      <td>1.2.826.0.1.3680043.8.498.13233430745466640843...</td>\n      <td>6.391392e-07</td>\n      <td>0.001689</td>\n      <td>0.018813</td>\n      <td>0.004151</td>\n      <td>0.002596</td>\n      <td>0.002203</td>\n      <td>0.002499</td>\n      <td>0.132910</td>\n      <td>0.192934</td>\n      <td>0.691537</td>\n      <td>0.000013</td>\n    </tr>\n    <tr>\n      <th>741</th>\n      <td>1.2.826.0.1.3680043.8.498.11086677407703525147...</td>\n      <td>1.402018e-06</td>\n      <td>0.001540</td>\n      <td>0.013388</td>\n      <td>0.017400</td>\n      <td>0.006546</td>\n      <td>0.000745</td>\n      <td>0.009481</td>\n      <td>0.053175</td>\n      <td>0.198195</td>\n      <td>0.833107</td>\n      <td>0.000011</td>\n    </tr>\n    <tr>\n      <th>1821</th>\n      <td>1.2.826.0.1.3680043.8.498.11397896435572402386...</td>\n      <td>9.333147e-07</td>\n      <td>0.001518</td>\n      <td>0.018155</td>\n      <td>0.003774</td>\n      <td>0.003276</td>\n      <td>0.000446</td>\n      <td>0.007727</td>\n      <td>0.045477</td>\n      <td>0.294294</td>\n      <td>0.719398</td>\n      <td>0.000005</td>\n    </tr>\n    <tr>\n      <th>1178</th>\n      <td>1.2.826.0.1.3680043.8.498.67238847089694621353...</td>\n      <td>2.792796e-06</td>\n      <td>0.143112</td>\n      <td>0.692782</td>\n      <td>0.005688</td>\n      <td>0.031810</td>\n      <td>0.123156</td>\n      <td>0.445049</td>\n      <td>0.172956</td>\n      <td>0.247399</td>\n      <td>0.664242</td>\n      <td>0.001746</td>\n    </tr>\n  </tbody>\n</table>\n</div>"
     },
     "metadata": {}
    }
   ],
   "source": [
    "lgb_pred=test.copy()\n",
    "\n",
    "for i,col_name in enumerate(CFG.target_cols):\n",
    "    model=pickle.load(open(f\"{CFG.models_dir}autoencoder_smallLR/lgb_model_{i+1}.pickle\",\"rb\"))\n",
    "    pred=model.predict(lgb_features)\n",
    "    lgb_pred.loc[:,col_name]=pred\n",
    "    \n",
    "display(lgb_pred)"
   ]
  },
  {
   "source": [
    "## NNによる予測値の準備"
   ],
   "cell_type": "markdown",
   "metadata": {}
  },
  {
   "cell_type": "code",
   "execution_count": 9,
   "metadata": {},
   "outputs": [
    {
     "output_type": "stream",
     "name": "stdout",
     "text": [
      "Model: \"sequential\"\n_________________________________________________________________\nLayer (type)                 Output Shape              Param #   \n=================================================================\ndropout (Dropout)            (None, 2560)              0         \n_________________________________________________________________\ndense (Dense)                (None, 11)                28171     \n=================================================================\nTotal params: 28,171\nTrainable params: 28,171\nNon-trainable params: 0\n_________________________________________________________________\n"
     ]
    }
   ],
   "source": [
    "with open(f\"{CFG.models_dir}eff_dense/model_structure\",\"rt\") as f:\n",
    "    model_json_str=f.read()\n",
    "\n",
    "dense_model=models.model_from_json(model_json_str)\n",
    "dense_model.load_weights(f\"{CFG.models_dir}eff_dense/checkpoint\")\n",
    "dense_model.compile(optimizer=\"adam\",loss=\"binary_crossentropy\",metrics=[keras.metrics.AUC(multi_label=True)])\n",
    "dense_model.summary()"
   ]
  },
  {
   "cell_type": "code",
   "execution_count": 10,
   "metadata": {},
   "outputs": [
    {
     "output_type": "display_data",
     "data": {
      "text/plain": "   ETT - Abnormal  ETT - Borderline  ETT - Normal  NGT - Abnormal  \\\n0        0.003303          0.005226      0.092800        0.003363   \n1        0.000304          0.004209      0.007972        0.002308   \n2        0.000298          0.002647      0.012649        0.000326   \n3        0.000439          0.002533      0.002026        0.000211   \n4        0.001155          0.003494      0.032080        0.002272   \n5        0.000224          0.000385      0.009272        0.000388   \n6        0.000208          0.001573      0.014661        0.001238   \n7        0.000154          0.000472      0.006778        0.002043   \n8        0.000827          0.004066      0.073085        0.001671   \n9        0.003123          0.188135      0.817800        0.008107   \n\n   NGT - Borderline  NGT - Incompletely Imaged  NGT - Normal  CVC - Abnormal  \\\n0          0.008134                   0.062013      0.041829        0.144047   \n1          0.005092                   0.007019      0.013800        0.028063   \n2          0.001204                   0.001282      0.016383        0.104690   \n3          0.001014                   0.006315      0.004297        0.076696   \n4          0.004759                   0.015004      0.011981        0.133886   \n5          0.005886                   0.002291      0.004574        0.108913   \n6          0.001000                   0.048118      0.001748        0.094073   \n7          0.002552                   0.005677      0.006775        0.043456   \n8          0.002812                   0.057779      0.019507        0.051358   \n9          0.047738                   0.483714      0.547041        0.130608   \n\n   CVC - Borderline  CVC - Normal  Swan Ganz Catheter Present  \n0          0.219890      0.689127                    0.014735  \n1          0.440158      0.697681                    0.000441  \n2          0.382761      0.529028                    0.000304  \n3          0.236585      0.670058                    0.003372  \n4          0.201644      0.623409                    0.007068  \n5          0.152641      0.690991                    0.000355  \n6          0.197476      0.730662                    0.002744  \n7          0.199305      0.754521                    0.000639  \n8          0.314613      0.612936                    0.001001  \n9          0.220911      0.720041                    0.366497  ",
      "text/html": "<div>\n<style scoped>\n    .dataframe tbody tr th:only-of-type {\n        vertical-align: middle;\n    }\n\n    .dataframe tbody tr th {\n        vertical-align: top;\n    }\n\n    .dataframe thead th {\n        text-align: right;\n    }\n</style>\n<table border=\"1\" class=\"dataframe\">\n  <thead>\n    <tr style=\"text-align: right;\">\n      <th></th>\n      <th>ETT - Abnormal</th>\n      <th>ETT - Borderline</th>\n      <th>ETT - Normal</th>\n      <th>NGT - Abnormal</th>\n      <th>NGT - Borderline</th>\n      <th>NGT - Incompletely Imaged</th>\n      <th>NGT - Normal</th>\n      <th>CVC - Abnormal</th>\n      <th>CVC - Borderline</th>\n      <th>CVC - Normal</th>\n      <th>Swan Ganz Catheter Present</th>\n    </tr>\n  </thead>\n  <tbody>\n    <tr>\n      <th>0</th>\n      <td>0.003303</td>\n      <td>0.005226</td>\n      <td>0.092800</td>\n      <td>0.003363</td>\n      <td>0.008134</td>\n      <td>0.062013</td>\n      <td>0.041829</td>\n      <td>0.144047</td>\n      <td>0.219890</td>\n      <td>0.689127</td>\n      <td>0.014735</td>\n    </tr>\n    <tr>\n      <th>1</th>\n      <td>0.000304</td>\n      <td>0.004209</td>\n      <td>0.007972</td>\n      <td>0.002308</td>\n      <td>0.005092</td>\n      <td>0.007019</td>\n      <td>0.013800</td>\n      <td>0.028063</td>\n      <td>0.440158</td>\n      <td>0.697681</td>\n      <td>0.000441</td>\n    </tr>\n    <tr>\n      <th>2</th>\n      <td>0.000298</td>\n      <td>0.002647</td>\n      <td>0.012649</td>\n      <td>0.000326</td>\n      <td>0.001204</td>\n      <td>0.001282</td>\n      <td>0.016383</td>\n      <td>0.104690</td>\n      <td>0.382761</td>\n      <td>0.529028</td>\n      <td>0.000304</td>\n    </tr>\n    <tr>\n      <th>3</th>\n      <td>0.000439</td>\n      <td>0.002533</td>\n      <td>0.002026</td>\n      <td>0.000211</td>\n      <td>0.001014</td>\n      <td>0.006315</td>\n      <td>0.004297</td>\n      <td>0.076696</td>\n      <td>0.236585</td>\n      <td>0.670058</td>\n      <td>0.003372</td>\n    </tr>\n    <tr>\n      <th>4</th>\n      <td>0.001155</td>\n      <td>0.003494</td>\n      <td>0.032080</td>\n      <td>0.002272</td>\n      <td>0.004759</td>\n      <td>0.015004</td>\n      <td>0.011981</td>\n      <td>0.133886</td>\n      <td>0.201644</td>\n      <td>0.623409</td>\n      <td>0.007068</td>\n    </tr>\n    <tr>\n      <th>5</th>\n      <td>0.000224</td>\n      <td>0.000385</td>\n      <td>0.009272</td>\n      <td>0.000388</td>\n      <td>0.005886</td>\n      <td>0.002291</td>\n      <td>0.004574</td>\n      <td>0.108913</td>\n      <td>0.152641</td>\n      <td>0.690991</td>\n      <td>0.000355</td>\n    </tr>\n    <tr>\n      <th>6</th>\n      <td>0.000208</td>\n      <td>0.001573</td>\n      <td>0.014661</td>\n      <td>0.001238</td>\n      <td>0.001000</td>\n      <td>0.048118</td>\n      <td>0.001748</td>\n      <td>0.094073</td>\n      <td>0.197476</td>\n      <td>0.730662</td>\n      <td>0.002744</td>\n    </tr>\n    <tr>\n      <th>7</th>\n      <td>0.000154</td>\n      <td>0.000472</td>\n      <td>0.006778</td>\n      <td>0.002043</td>\n      <td>0.002552</td>\n      <td>0.005677</td>\n      <td>0.006775</td>\n      <td>0.043456</td>\n      <td>0.199305</td>\n      <td>0.754521</td>\n      <td>0.000639</td>\n    </tr>\n    <tr>\n      <th>8</th>\n      <td>0.000827</td>\n      <td>0.004066</td>\n      <td>0.073085</td>\n      <td>0.001671</td>\n      <td>0.002812</td>\n      <td>0.057779</td>\n      <td>0.019507</td>\n      <td>0.051358</td>\n      <td>0.314613</td>\n      <td>0.612936</td>\n      <td>0.001001</td>\n    </tr>\n    <tr>\n      <th>9</th>\n      <td>0.003123</td>\n      <td>0.188135</td>\n      <td>0.817800</td>\n      <td>0.008107</td>\n      <td>0.047738</td>\n      <td>0.483714</td>\n      <td>0.547041</td>\n      <td>0.130608</td>\n      <td>0.220911</td>\n      <td>0.720041</td>\n      <td>0.366497</td>\n    </tr>\n  </tbody>\n</table>\n</div>"
     },
     "metadata": {}
    }
   ],
   "source": [
    "dense_pred=pd.DataFrame(dense_model.predict(nn_pred),columns=CFG.target_cols)\n",
    "display(dense_pred)"
   ]
  },
  {
   "source": [
    "## アンサンブル"
   ],
   "cell_type": "markdown",
   "metadata": {}
  },
  {
   "cell_type": "code",
   "execution_count": 17,
   "metadata": {},
   "outputs": [],
   "source": [
    "scaler_lgb=pickle.load(open(f\"{CFG.models_dir}standardscaler_lgb.pickle\",\"rb\"))\n",
    "scaler_dense=pickle.load(open(f\"{CFG.models_dir}standardscaler_dense.pickle\",\"rb\"))\n",
    "\n",
    "lgb_pred_norm=pd.DataFrame(scaler_lgb.transform(lgb_pred[CFG.target_cols]),columns=CFG.target_cols)\n",
    "dense_pred_norm=pd.DataFrame(scaler_dense.transform(dense_pred[CFG.target_cols]),columns=CFG.target_cols)"
   ]
  },
  {
   "cell_type": "code",
   "execution_count": 12,
   "metadata": {},
   "outputs": [
    {
     "output_type": "display_data",
     "data": {
      "text/plain": "                                    StudyInstanceUID  ETT - Abnormal  \\\n0  1.2.826.0.1.3680043.8.498.12126834418646094795...        1.488457   \n1  1.2.826.0.1.3680043.8.498.25679526645412462862...        0.957575   \n2  1.2.826.0.1.3680043.8.498.96154222694757788294...       -1.013486   \n3  1.2.826.0.1.3680043.8.498.42051546658503359881...       -0.049834   \n4  1.2.826.0.1.3680043.8.498.11665192673224035444...       -0.170904   \n5  1.2.826.0.1.3680043.8.498.12361605029931768086...       -0.885904   \n6  1.2.826.0.1.3680043.8.498.13233430745466640843...       -0.879586   \n7  1.2.826.0.1.3680043.8.498.11086677407703525147...       -0.374918   \n8  1.2.826.0.1.3680043.8.498.11397896435572402386...       -0.500671   \n9  1.2.826.0.1.3680043.8.498.67238847089694621353...        1.429269   \n\n   ETT - Borderline  ETT - Normal  NGT - Abnormal  NGT - Borderline  \\\n0         -0.314101     -0.167382       -0.148198          0.173944   \n1         -0.327119     -0.358785        0.306841          0.245480   \n2         -0.343483     -0.324120       -0.763035         -0.584960   \n3         -0.326834     -0.400523       -0.897438         -0.614752   \n4         -0.308753     -0.332301        0.117522         -0.563934   \n5         -0.365587     -0.397768       -0.816415         -0.122102   \n6         -0.335403     -0.327840       -0.274184         -0.643979   \n7         -0.338930     -0.354581        2.757680         -0.172155   \n8         -0.339450     -0.331083       -0.360437         -0.562781   \n9          2.999659      2.994381        0.077664          2.845239   \n\n   NGT - Incompletely Imaged  NGT - Normal  CVC - Abnormal  CVC - Borderline  \\\n0                  -0.182737     -0.270916       -0.465560         -0.522848   \n1                  -0.384097     -0.281583       -1.378666          1.279470   \n2                  -0.405495     -0.289285        0.625645          1.744531   \n3                  -0.393547     -0.369078       -0.471403          1.021899   \n4                  -0.317289     -0.372100        0.587612         -0.379728   \n5                  -0.402875     -0.365137        0.572780         -1.440233   \n6                  -0.253244     -0.380972        0.887264         -0.928891   \n7                  -0.385165     -0.327672       -1.006647         -0.863157   \n8                  -0.260333     -0.341057       -1.189507          0.337411   \n9                   2.984782      2.997799        1.838482         -0.248456   \n\n   CVC - Normal  Swan Ganz Catheter Present  \n0      0.083110                   -0.246775  \n1      1.440715                   -0.348699  \n2     -2.355572                   -0.347793  \n3      0.175587                   -0.334708  \n4     -0.506507                   -0.327182  \n5      0.703574                   -0.356578  \n6     -0.227674                   -0.336932  \n7      1.136665                   -0.347554  \n8      0.040826                   -0.352253  \n9     -0.490722                    2.998474  ",
      "text/html": "<div>\n<style scoped>\n    .dataframe tbody tr th:only-of-type {\n        vertical-align: middle;\n    }\n\n    .dataframe tbody tr th {\n        vertical-align: top;\n    }\n\n    .dataframe thead th {\n        text-align: right;\n    }\n</style>\n<table border=\"1\" class=\"dataframe\">\n  <thead>\n    <tr style=\"text-align: right;\">\n      <th></th>\n      <th>StudyInstanceUID</th>\n      <th>ETT - Abnormal</th>\n      <th>ETT - Borderline</th>\n      <th>ETT - Normal</th>\n      <th>NGT - Abnormal</th>\n      <th>NGT - Borderline</th>\n      <th>NGT - Incompletely Imaged</th>\n      <th>NGT - Normal</th>\n      <th>CVC - Abnormal</th>\n      <th>CVC - Borderline</th>\n      <th>CVC - Normal</th>\n      <th>Swan Ganz Catheter Present</th>\n    </tr>\n  </thead>\n  <tbody>\n    <tr>\n      <th>0</th>\n      <td>1.2.826.0.1.3680043.8.498.12126834418646094795...</td>\n      <td>1.488457</td>\n      <td>-0.314101</td>\n      <td>-0.167382</td>\n      <td>-0.148198</td>\n      <td>0.173944</td>\n      <td>-0.182737</td>\n      <td>-0.270916</td>\n      <td>-0.465560</td>\n      <td>-0.522848</td>\n      <td>0.083110</td>\n      <td>-0.246775</td>\n    </tr>\n    <tr>\n      <th>1</th>\n      <td>1.2.826.0.1.3680043.8.498.25679526645412462862...</td>\n      <td>0.957575</td>\n      <td>-0.327119</td>\n      <td>-0.358785</td>\n      <td>0.306841</td>\n      <td>0.245480</td>\n      <td>-0.384097</td>\n      <td>-0.281583</td>\n      <td>-1.378666</td>\n      <td>1.279470</td>\n      <td>1.440715</td>\n      <td>-0.348699</td>\n    </tr>\n    <tr>\n      <th>2</th>\n      <td>1.2.826.0.1.3680043.8.498.96154222694757788294...</td>\n      <td>-1.013486</td>\n      <td>-0.343483</td>\n      <td>-0.324120</td>\n      <td>-0.763035</td>\n      <td>-0.584960</td>\n      <td>-0.405495</td>\n      <td>-0.289285</td>\n      <td>0.625645</td>\n      <td>1.744531</td>\n      <td>-2.355572</td>\n      <td>-0.347793</td>\n    </tr>\n    <tr>\n      <th>3</th>\n      <td>1.2.826.0.1.3680043.8.498.42051546658503359881...</td>\n      <td>-0.049834</td>\n      <td>-0.326834</td>\n      <td>-0.400523</td>\n      <td>-0.897438</td>\n      <td>-0.614752</td>\n      <td>-0.393547</td>\n      <td>-0.369078</td>\n      <td>-0.471403</td>\n      <td>1.021899</td>\n      <td>0.175587</td>\n      <td>-0.334708</td>\n    </tr>\n    <tr>\n      <th>4</th>\n      <td>1.2.826.0.1.3680043.8.498.11665192673224035444...</td>\n      <td>-0.170904</td>\n      <td>-0.308753</td>\n      <td>-0.332301</td>\n      <td>0.117522</td>\n      <td>-0.563934</td>\n      <td>-0.317289</td>\n      <td>-0.372100</td>\n      <td>0.587612</td>\n      <td>-0.379728</td>\n      <td>-0.506507</td>\n      <td>-0.327182</td>\n    </tr>\n    <tr>\n      <th>5</th>\n      <td>1.2.826.0.1.3680043.8.498.12361605029931768086...</td>\n      <td>-0.885904</td>\n      <td>-0.365587</td>\n      <td>-0.397768</td>\n      <td>-0.816415</td>\n      <td>-0.122102</td>\n      <td>-0.402875</td>\n      <td>-0.365137</td>\n      <td>0.572780</td>\n      <td>-1.440233</td>\n      <td>0.703574</td>\n      <td>-0.356578</td>\n    </tr>\n    <tr>\n      <th>6</th>\n      <td>1.2.826.0.1.3680043.8.498.13233430745466640843...</td>\n      <td>-0.879586</td>\n      <td>-0.335403</td>\n      <td>-0.327840</td>\n      <td>-0.274184</td>\n      <td>-0.643979</td>\n      <td>-0.253244</td>\n      <td>-0.380972</td>\n      <td>0.887264</td>\n      <td>-0.928891</td>\n      <td>-0.227674</td>\n      <td>-0.336932</td>\n    </tr>\n    <tr>\n      <th>7</th>\n      <td>1.2.826.0.1.3680043.8.498.11086677407703525147...</td>\n      <td>-0.374918</td>\n      <td>-0.338930</td>\n      <td>-0.354581</td>\n      <td>2.757680</td>\n      <td>-0.172155</td>\n      <td>-0.385165</td>\n      <td>-0.327672</td>\n      <td>-1.006647</td>\n      <td>-0.863157</td>\n      <td>1.136665</td>\n      <td>-0.347554</td>\n    </tr>\n    <tr>\n      <th>8</th>\n      <td>1.2.826.0.1.3680043.8.498.11397896435572402386...</td>\n      <td>-0.500671</td>\n      <td>-0.339450</td>\n      <td>-0.331083</td>\n      <td>-0.360437</td>\n      <td>-0.562781</td>\n      <td>-0.260333</td>\n      <td>-0.341057</td>\n      <td>-1.189507</td>\n      <td>0.337411</td>\n      <td>0.040826</td>\n      <td>-0.352253</td>\n    </tr>\n    <tr>\n      <th>9</th>\n      <td>1.2.826.0.1.3680043.8.498.67238847089694621353...</td>\n      <td>1.429269</td>\n      <td>2.999659</td>\n      <td>2.994381</td>\n      <td>0.077664</td>\n      <td>2.845239</td>\n      <td>2.984782</td>\n      <td>2.997799</td>\n      <td>1.838482</td>\n      <td>-0.248456</td>\n      <td>-0.490722</td>\n      <td>2.998474</td>\n    </tr>\n  </tbody>\n</table>\n</div>"
     },
     "metadata": {}
    }
   ],
   "source": [
    "best_params=pickle.load(open(f\"{CFG.models_dir}weightedsum_params.pickle\",\"rb\"))\n",
    "\n",
    "submission=test.copy().reset_index(drop=True)\n",
    "\n",
    "\n",
    "for col_name in CFG.target_cols:\n",
    "    p=best_params[col_name]\n",
    "    ensemble_pred=lgb_pred_norm[col_name]*p+dense_pred_norm[col_name]*(1-p)\n",
    "\n",
    "    submission[col_name]=ensemble_pred\n",
    "\n",
    "submission.to_csv(\"submission.csv\",index=False)\n",
    "display(submission)"
   ]
  }
 ]
}