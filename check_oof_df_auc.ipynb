{
 "metadata": {
  "language_info": {
   "codemirror_mode": {
    "name": "ipython",
    "version": 3
   },
   "file_extension": ".py",
   "mimetype": "text/x-python",
   "name": "python",
   "nbconvert_exporter": "python",
   "pygments_lexer": "ipython3",
   "version": "3.8.5-final"
  },
  "orig_nbformat": 2,
  "kernelspec": {
   "name": "python3",
   "display_name": "Python 3",
   "language": "python"
  }
 },
 "nbformat": 4,
 "nbformat_minor": 2,
 "cells": [
  {
   "cell_type": "code",
   "execution_count": 6,
   "metadata": {},
   "outputs": [],
   "source": [
    "import pandas as pd\n",
    "from IPython.display import display\n",
    "from sklearn.metrics import roc_auc_score\n",
    "from pprint import pprint"
   ]
  },
  {
   "cell_type": "code",
   "execution_count": 20,
   "metadata": {},
   "outputs": [
    {
     "output_type": "display_data",
     "data": {
      "text/plain": "       pred_ETT - Abnormal  pred_ETT - Borderline  pred_ETT - Normal  \\\n15248             0.000106               0.000227           0.000114   \n15255             0.000402               0.000459           0.001493   \n5647              0.000134               0.000455           0.000763   \n4913              0.000065               0.000182           0.001127   \n29816             0.000032               0.000491           0.999148   \n...                    ...                    ...                ...   \n23234             0.000301               0.000071           0.000199   \n8401              0.000140               0.001686           0.006414   \n23877             0.000130               0.000344           0.000408   \n25553             0.000428               0.000150           0.001308   \n28814             0.000181               0.000281           0.000056   \n\n       pred_NGT - Abnormal  pred_NGT - Borderline  \\\n15248             0.000291               0.000032   \n15255             0.001624               0.001824   \n5647              0.000052               0.000286   \n4913              0.000144               0.000164   \n29816             0.002064               0.003982   \n...                    ...                    ...   \n23234             0.000554               0.000529   \n8401              0.001417               0.001700   \n23877             0.000088               0.000035   \n25553             0.001087               0.001629   \n28814             0.000058               0.000046   \n\n       pred_NGT - Incompletely Imaged  pred_NGT - Normal  pred_CVC - Abnormal  \\\n15248                        0.000030           0.000008             0.010714   \n15255                        0.000272           0.000672             0.030822   \n5647                         0.000012           0.012631             0.069527   \n4913                         0.000072           0.000222             0.020756   \n29816                        0.932169           0.031456             0.001993   \n...                               ...                ...                  ...   \n23234                        0.000284           0.000126             0.011331   \n8401                         0.000100           0.046394             0.999567   \n23877                        0.000497           0.000006             0.001729   \n25553                        0.000075           0.000912             0.021128   \n28814                        0.000007           0.000058             0.023914   \n\n       pred_CVC - Borderline  pred_CVC - Normal  \\\n15248               0.112789           0.899030   \n15255               0.043551           0.913985   \n5647                0.347159           0.754484   \n4913                0.623359           0.302134   \n29816               0.152436           0.998728   \n...                      ...                ...   \n23234               0.105220           0.947671   \n8401                0.002600           0.005291   \n23877               0.010156           0.997067   \n25553               0.082669           0.908670   \n28814               0.095910           0.981477   \n\n       pred_Swan Ganz Catheter Present  \n15248                         0.000012  \n15255                         0.000307  \n5647                          0.000376  \n4913                          0.000135  \n29816                         0.000087  \n...                                ...  \n23234                         0.000059  \n8401                          0.000060  \n23877                         0.000016  \n25553                         0.000098  \n28814                         0.000037  \n\n[30083 rows x 11 columns]",
      "text/html": "<div>\n<style scoped>\n    .dataframe tbody tr th:only-of-type {\n        vertical-align: middle;\n    }\n\n    .dataframe tbody tr th {\n        vertical-align: top;\n    }\n\n    .dataframe thead th {\n        text-align: right;\n    }\n</style>\n<table border=\"1\" class=\"dataframe\">\n  <thead>\n    <tr style=\"text-align: right;\">\n      <th></th>\n      <th>pred_ETT - Abnormal</th>\n      <th>pred_ETT - Borderline</th>\n      <th>pred_ETT - Normal</th>\n      <th>pred_NGT - Abnormal</th>\n      <th>pred_NGT - Borderline</th>\n      <th>pred_NGT - Incompletely Imaged</th>\n      <th>pred_NGT - Normal</th>\n      <th>pred_CVC - Abnormal</th>\n      <th>pred_CVC - Borderline</th>\n      <th>pred_CVC - Normal</th>\n      <th>pred_Swan Ganz Catheter Present</th>\n    </tr>\n  </thead>\n  <tbody>\n    <tr>\n      <th>15248</th>\n      <td>0.000106</td>\n      <td>0.000227</td>\n      <td>0.000114</td>\n      <td>0.000291</td>\n      <td>0.000032</td>\n      <td>0.000030</td>\n      <td>0.000008</td>\n      <td>0.010714</td>\n      <td>0.112789</td>\n      <td>0.899030</td>\n      <td>0.000012</td>\n    </tr>\n    <tr>\n      <th>15255</th>\n      <td>0.000402</td>\n      <td>0.000459</td>\n      <td>0.001493</td>\n      <td>0.001624</td>\n      <td>0.001824</td>\n      <td>0.000272</td>\n      <td>0.000672</td>\n      <td>0.030822</td>\n      <td>0.043551</td>\n      <td>0.913985</td>\n      <td>0.000307</td>\n    </tr>\n    <tr>\n      <th>5647</th>\n      <td>0.000134</td>\n      <td>0.000455</td>\n      <td>0.000763</td>\n      <td>0.000052</td>\n      <td>0.000286</td>\n      <td>0.000012</td>\n      <td>0.012631</td>\n      <td>0.069527</td>\n      <td>0.347159</td>\n      <td>0.754484</td>\n      <td>0.000376</td>\n    </tr>\n    <tr>\n      <th>4913</th>\n      <td>0.000065</td>\n      <td>0.000182</td>\n      <td>0.001127</td>\n      <td>0.000144</td>\n      <td>0.000164</td>\n      <td>0.000072</td>\n      <td>0.000222</td>\n      <td>0.020756</td>\n      <td>0.623359</td>\n      <td>0.302134</td>\n      <td>0.000135</td>\n    </tr>\n    <tr>\n      <th>29816</th>\n      <td>0.000032</td>\n      <td>0.000491</td>\n      <td>0.999148</td>\n      <td>0.002064</td>\n      <td>0.003982</td>\n      <td>0.932169</td>\n      <td>0.031456</td>\n      <td>0.001993</td>\n      <td>0.152436</td>\n      <td>0.998728</td>\n      <td>0.000087</td>\n    </tr>\n    <tr>\n      <th>...</th>\n      <td>...</td>\n      <td>...</td>\n      <td>...</td>\n      <td>...</td>\n      <td>...</td>\n      <td>...</td>\n      <td>...</td>\n      <td>...</td>\n      <td>...</td>\n      <td>...</td>\n      <td>...</td>\n    </tr>\n    <tr>\n      <th>23234</th>\n      <td>0.000301</td>\n      <td>0.000071</td>\n      <td>0.000199</td>\n      <td>0.000554</td>\n      <td>0.000529</td>\n      <td>0.000284</td>\n      <td>0.000126</td>\n      <td>0.011331</td>\n      <td>0.105220</td>\n      <td>0.947671</td>\n      <td>0.000059</td>\n    </tr>\n    <tr>\n      <th>8401</th>\n      <td>0.000140</td>\n      <td>0.001686</td>\n      <td>0.006414</td>\n      <td>0.001417</td>\n      <td>0.001700</td>\n      <td>0.000100</td>\n      <td>0.046394</td>\n      <td>0.999567</td>\n      <td>0.002600</td>\n      <td>0.005291</td>\n      <td>0.000060</td>\n    </tr>\n    <tr>\n      <th>23877</th>\n      <td>0.000130</td>\n      <td>0.000344</td>\n      <td>0.000408</td>\n      <td>0.000088</td>\n      <td>0.000035</td>\n      <td>0.000497</td>\n      <td>0.000006</td>\n      <td>0.001729</td>\n      <td>0.010156</td>\n      <td>0.997067</td>\n      <td>0.000016</td>\n    </tr>\n    <tr>\n      <th>25553</th>\n      <td>0.000428</td>\n      <td>0.000150</td>\n      <td>0.001308</td>\n      <td>0.001087</td>\n      <td>0.001629</td>\n      <td>0.000075</td>\n      <td>0.000912</td>\n      <td>0.021128</td>\n      <td>0.082669</td>\n      <td>0.908670</td>\n      <td>0.000098</td>\n    </tr>\n    <tr>\n      <th>28814</th>\n      <td>0.000181</td>\n      <td>0.000281</td>\n      <td>0.000056</td>\n      <td>0.000058</td>\n      <td>0.000046</td>\n      <td>0.000007</td>\n      <td>0.000058</td>\n      <td>0.023914</td>\n      <td>0.095910</td>\n      <td>0.981477</td>\n      <td>0.000037</td>\n    </tr>\n  </tbody>\n</table>\n<p>30083 rows × 11 columns</p>\n</div>"
     },
     "metadata": {}
    },
    {
     "output_type": "display_data",
     "data": {
      "text/plain": "       ETT - Abnormal  ETT - Borderline  ETT - Normal  NGT - Abnormal  \\\n747                 0                 0             0               0   \n773                 0                 0             0               0   \n22581               0                 0             0               0   \n19594               0                 0             0               0   \n29072               0                 0             1               0   \n...               ...               ...           ...             ...   \n2826                0                 0             0               0   \n3580                0                 0             0               0   \n5273                0                 0             0               0   \n11737               0                 0             0               0   \n24915               0                 0             0               0   \n\n       NGT - Borderline  NGT - Incompletely Imaged  NGT - Normal  \\\n747                   0                          0             0   \n773                   0                          0             0   \n22581                 0                          0             0   \n19594                 0                          0             0   \n29072                 0                          1             0   \n...                 ...                        ...           ...   \n2826                  0                          0             0   \n3580                  0                          0             0   \n5273                  0                          0             0   \n11737                 0                          0             0   \n24915                 0                          0             0   \n\n       CVC - Abnormal  CVC - Borderline  CVC - Normal  \\\n747                 0                 0             1   \n773                 0                 0             1   \n22581               0                 0             1   \n19594               0                 0             1   \n29072               0                 1             1   \n...               ...               ...           ...   \n2826                0                 0             1   \n3580                1                 0             0   \n5273                0                 0             1   \n11737               0                 0             1   \n24915               0                 0             1   \n\n       Swan Ganz Catheter Present  PatientID  \n747                             0  04cfbc3d2  \n773                             0  176a5edfd  \n22581                           0  d57f48a31  \n19594                           0  e252d355a  \n29072                           0  8849382d0  \n...                           ...        ...  \n2826                            0  61946329f  \n3580                            0  30ccfd1fb  \n5273                            0  54147ad50  \n11737                           0  052d4b6b8  \n24915                           0  f72447b63  \n\n[30083 rows x 12 columns]",
      "text/html": "<div>\n<style scoped>\n    .dataframe tbody tr th:only-of-type {\n        vertical-align: middle;\n    }\n\n    .dataframe tbody tr th {\n        vertical-align: top;\n    }\n\n    .dataframe thead th {\n        text-align: right;\n    }\n</style>\n<table border=\"1\" class=\"dataframe\">\n  <thead>\n    <tr style=\"text-align: right;\">\n      <th></th>\n      <th>ETT - Abnormal</th>\n      <th>ETT - Borderline</th>\n      <th>ETT - Normal</th>\n      <th>NGT - Abnormal</th>\n      <th>NGT - Borderline</th>\n      <th>NGT - Incompletely Imaged</th>\n      <th>NGT - Normal</th>\n      <th>CVC - Abnormal</th>\n      <th>CVC - Borderline</th>\n      <th>CVC - Normal</th>\n      <th>Swan Ganz Catheter Present</th>\n      <th>PatientID</th>\n    </tr>\n  </thead>\n  <tbody>\n    <tr>\n      <th>747</th>\n      <td>0</td>\n      <td>0</td>\n      <td>0</td>\n      <td>0</td>\n      <td>0</td>\n      <td>0</td>\n      <td>0</td>\n      <td>0</td>\n      <td>0</td>\n      <td>1</td>\n      <td>0</td>\n      <td>04cfbc3d2</td>\n    </tr>\n    <tr>\n      <th>773</th>\n      <td>0</td>\n      <td>0</td>\n      <td>0</td>\n      <td>0</td>\n      <td>0</td>\n      <td>0</td>\n      <td>0</td>\n      <td>0</td>\n      <td>0</td>\n      <td>1</td>\n      <td>0</td>\n      <td>176a5edfd</td>\n    </tr>\n    <tr>\n      <th>22581</th>\n      <td>0</td>\n      <td>0</td>\n      <td>0</td>\n      <td>0</td>\n      <td>0</td>\n      <td>0</td>\n      <td>0</td>\n      <td>0</td>\n      <td>0</td>\n      <td>1</td>\n      <td>0</td>\n      <td>d57f48a31</td>\n    </tr>\n    <tr>\n      <th>19594</th>\n      <td>0</td>\n      <td>0</td>\n      <td>0</td>\n      <td>0</td>\n      <td>0</td>\n      <td>0</td>\n      <td>0</td>\n      <td>0</td>\n      <td>0</td>\n      <td>1</td>\n      <td>0</td>\n      <td>e252d355a</td>\n    </tr>\n    <tr>\n      <th>29072</th>\n      <td>0</td>\n      <td>0</td>\n      <td>1</td>\n      <td>0</td>\n      <td>0</td>\n      <td>1</td>\n      <td>0</td>\n      <td>0</td>\n      <td>1</td>\n      <td>1</td>\n      <td>0</td>\n      <td>8849382d0</td>\n    </tr>\n    <tr>\n      <th>...</th>\n      <td>...</td>\n      <td>...</td>\n      <td>...</td>\n      <td>...</td>\n      <td>...</td>\n      <td>...</td>\n      <td>...</td>\n      <td>...</td>\n      <td>...</td>\n      <td>...</td>\n      <td>...</td>\n      <td>...</td>\n    </tr>\n    <tr>\n      <th>2826</th>\n      <td>0</td>\n      <td>0</td>\n      <td>0</td>\n      <td>0</td>\n      <td>0</td>\n      <td>0</td>\n      <td>0</td>\n      <td>0</td>\n      <td>0</td>\n      <td>1</td>\n      <td>0</td>\n      <td>61946329f</td>\n    </tr>\n    <tr>\n      <th>3580</th>\n      <td>0</td>\n      <td>0</td>\n      <td>0</td>\n      <td>0</td>\n      <td>0</td>\n      <td>0</td>\n      <td>0</td>\n      <td>1</td>\n      <td>0</td>\n      <td>0</td>\n      <td>0</td>\n      <td>30ccfd1fb</td>\n    </tr>\n    <tr>\n      <th>5273</th>\n      <td>0</td>\n      <td>0</td>\n      <td>0</td>\n      <td>0</td>\n      <td>0</td>\n      <td>0</td>\n      <td>0</td>\n      <td>0</td>\n      <td>0</td>\n      <td>1</td>\n      <td>0</td>\n      <td>54147ad50</td>\n    </tr>\n    <tr>\n      <th>11737</th>\n      <td>0</td>\n      <td>0</td>\n      <td>0</td>\n      <td>0</td>\n      <td>0</td>\n      <td>0</td>\n      <td>0</td>\n      <td>0</td>\n      <td>0</td>\n      <td>1</td>\n      <td>0</td>\n      <td>052d4b6b8</td>\n    </tr>\n    <tr>\n      <th>24915</th>\n      <td>0</td>\n      <td>0</td>\n      <td>0</td>\n      <td>0</td>\n      <td>0</td>\n      <td>0</td>\n      <td>0</td>\n      <td>0</td>\n      <td>0</td>\n      <td>1</td>\n      <td>0</td>\n      <td>f72447b63</td>\n    </tr>\n  </tbody>\n</table>\n<p>30083 rows × 12 columns</p>\n</div>"
     },
     "metadata": {}
    }
   ],
   "source": [
    "df=pd.read_csv(\"oof_df.csv\").sort_values(\"StudyInstanceUID\")\n",
    "train=pd.read_csv(\"../input/ranzcr-clip-catheter-line-classification/train.csv\").sort_values(\"StudyInstanceUID\")\n",
    "\n",
    "df=df.iloc[:,14:]\n",
    "train=train.iloc[:,1:]\n",
    "\n",
    "display(df)\n",
    "display(train)"
   ]
  },
  {
   "cell_type": "code",
   "execution_count": 50,
   "metadata": {},
   "outputs": [
    {
     "output_type": "display_data",
     "data": {
      "text/plain": "     ETT - Abnormal  ETT - Borderline  ETT - Normal  NGT - Abnormal  \\\nAUC        0.948148          0.949559      0.989415        0.925867   \n\n     NGT - Borderline  NGT - Incompletely Imaged  NGT - Normal  \\\nAUC          0.931456                   0.976794      0.980471   \n\n     CVC - Abnormal  CVC - Borderline  CVC - Normal  \\\nAUC        0.883504          0.808819      0.878649   \n\n     Swan Ganz Catheter Present  \nAUC                    0.997692  ",
      "text/html": "<div>\n<style scoped>\n    .dataframe tbody tr th:only-of-type {\n        vertical-align: middle;\n    }\n\n    .dataframe tbody tr th {\n        vertical-align: top;\n    }\n\n    .dataframe thead th {\n        text-align: right;\n    }\n</style>\n<table border=\"1\" class=\"dataframe\">\n  <thead>\n    <tr style=\"text-align: right;\">\n      <th></th>\n      <th>ETT - Abnormal</th>\n      <th>ETT - Borderline</th>\n      <th>ETT - Normal</th>\n      <th>NGT - Abnormal</th>\n      <th>NGT - Borderline</th>\n      <th>NGT - Incompletely Imaged</th>\n      <th>NGT - Normal</th>\n      <th>CVC - Abnormal</th>\n      <th>CVC - Borderline</th>\n      <th>CVC - Normal</th>\n      <th>Swan Ganz Catheter Present</th>\n    </tr>\n  </thead>\n  <tbody>\n    <tr>\n      <th>AUC</th>\n      <td>0.948148</td>\n      <td>0.949559</td>\n      <td>0.989415</td>\n      <td>0.925867</td>\n      <td>0.931456</td>\n      <td>0.976794</td>\n      <td>0.980471</td>\n      <td>0.883504</td>\n      <td>0.808819</td>\n      <td>0.878649</td>\n      <td>0.997692</td>\n    </tr>\n  </tbody>\n</table>\n</div>"
     },
     "metadata": {}
    },
    {
     "output_type": "display_data",
     "data": {
      "text/plain": "AUC    0.93367\ndtype: float64"
     },
     "metadata": {}
    }
   ],
   "source": [
    "results=pd.DataFrame(columns=[\"AUC\"])\n",
    "for i in range(11):\n",
    "    y_pred=df.iloc[:,i]\n",
    "    y_true=train.iloc[:,i]\n",
    "    auc=roc_auc_score(y_true,y_pred)\n",
    "    row=pd.Series([auc],index=[\"AUC\"],name=y_true.name)\n",
    "    results=results.append(row)\n",
    "\n",
    "display(results.T)\n",
    "display(results.mean())"
   ]
  }
 ]
}