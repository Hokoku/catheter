{
 "metadata": {
  "language_info": {
   "codemirror_mode": {
    "name": "ipython",
    "version": 3
   },
   "file_extension": ".py",
   "mimetype": "text/x-python",
   "name": "python",
   "nbconvert_exporter": "python",
   "pygments_lexer": "ipython3",
   "version": "3.8.8-final"
  },
  "orig_nbformat": 2,
  "kernelspec": {
   "name": "python3",
   "display_name": "Python 3",
   "language": "python"
  }
 },
 "nbformat": 4,
 "nbformat_minor": 2,
 "cells": [
  {
   "cell_type": "code",
   "execution_count": 8,
   "metadata": {},
   "outputs": [],
   "source": [
    "import pandas as pd\n",
    "import numpy as np\n",
    "from tqdm.notebook import tqdm\n",
    "from IPython.display import display\n",
    "from sklearn.metrics import roc_auc_score\n",
    "from pprint import pprint\n",
    "from tensorflow import keras"
   ]
  },
  {
   "cell_type": "code",
   "execution_count": 7,
   "metadata": {},
   "outputs": [],
   "source": [
    "class CFG:\n",
    "   debug=True\n",
    "   dataset_dir=\"../input/ranzcr-clip-catheter-line-classification/\"\n",
    "   models_dir=\"./models/\" if debug else \"\"\n",
    "   target_cols=['ETT - Abnormal', 'ETT - Borderline', 'ETT - Normal', 'NGT - Abnormal', 'NGT - Borderline',\n",
    "   'NGT - Incompletely Imaged', 'NGT - Normal', 'CVC - Abnormal', 'CVC - Borderline', 'CVC - Normal', 'Swan Ganz Catheter Present']\n",
    "   n_folds=5"
   ]
  },
  {
   "cell_type": "code",
   "execution_count": 17,
   "metadata": {},
   "outputs": [],
   "source": [
    "train=pd.read_csv(\"../input/ranzcr-clip-catheter-line-classification/train.csv\")\n",
    "test=pd.read_csv(f\"{CFG.dataset_dir}train.csv\") if CFG.debug else pd.read_csv(f\"{CFG.dataset_dir}sample_submission.csv\")"
   ]
  },
  {
   "cell_type": "code",
   "execution_count": 6,
   "metadata": {},
   "outputs": [
    {
     "output_type": "display_data",
     "data": {
      "text/plain": "  0%|          | 0/30083 [00:00<?, ?it/s]",
      "application/vnd.jupyter.widget-view+json": {
       "version_major": 2,
       "version_minor": 0,
       "model_id": "f19daa73bb314a79913514ccc45e094f"
      }
     },
     "metadata": {}
    }
   ],
   "source": [
    "npz=np.load(\"../input/effnet_best_output.npz\")\n",
    "features_list=[npz[uid] for uid in tqdm(train[\"StudyInstanceUID\"])]\n",
    "features=np.array(features_list)"
   ]
  },
  {
   "cell_type": "code",
   "execution_count": 14,
   "metadata": {},
   "outputs": [],
   "source": [
    "def create_model(fold:int):\n",
    "    dense_dir=f\"{CFG.models_dir}effnet_best_dense/\"\n",
    "    with open(f\"{dense_dir}model.json\",\"rt\") as f:\n",
    "        dense_model=keras.models.model_from_json(f.read())\n",
    "    dense_model.load_weights(f\"{dense_dir}ckpt_{fold}\")\n",
    "    return dense_model\n",
    "\n",
    "dense_model_list=[create_model(n) for n in range(CFG.n_folds)]"
   ]
  },
  {
   "cell_type": "code",
   "execution_count": 18,
   "metadata": {},
   "outputs": [
    {
     "output_type": "display_data",
     "data": {
      "text/plain": "                                        StudyInstanceUID  ETT - Abnormal  \\\n0      1.2.826.0.1.3680043.8.498.26697628953273228189...        0.001258   \n1      1.2.826.0.1.3680043.8.498.46302891597398758759...        0.005584   \n2      1.2.826.0.1.3680043.8.498.23819260719748494858...        0.000309   \n3      1.2.826.0.1.3680043.8.498.68286643202323212801...        0.000848   \n4      1.2.826.0.1.3680043.8.498.10050203009225938259...        0.000354   \n...                                                  ...             ...   \n30078  1.2.826.0.1.3680043.8.498.74257566841157531124...        0.000499   \n30079  1.2.826.0.1.3680043.8.498.46510939987173529969...        0.000339   \n30080  1.2.826.0.1.3680043.8.498.43173270582850645437...        0.000860   \n30081  1.2.826.0.1.3680043.8.498.95092491950130838685...        0.000969   \n30082  1.2.826.0.1.3680043.8.498.99518162226171269731...        0.000032   \n\n       ETT - Borderline  ETT - Normal  NGT - Abnormal  NGT - Borderline  \\\n0              0.000487      0.000332        0.011385          0.137658   \n1              0.063126      0.963192        0.226725          0.044443   \n2              0.000526      0.000213        0.000352          0.000222   \n3              0.002815      0.002329        0.002313          0.001520   \n4              0.000194      0.000473        0.000390          0.000603   \n...                 ...           ...             ...               ...   \n30078          0.003804      0.994341        0.003840          0.005110   \n30079          0.000176      0.000286        0.000221          0.000242   \n30080          0.022287      0.977209        0.006434          0.004605   \n30081          0.001429      0.000189        0.002883          0.001543   \n30082          0.000073      0.999698        0.000442          0.000050   \n\n       NGT - Incompletely Imaged  NGT - Normal  CVC - Abnormal  \\\n0                       0.008421      0.674002        0.222880   \n1                       0.899897      0.020829        0.068652   \n2                       0.000046      0.000722        0.004723   \n3                       0.001542      0.005733        0.449446   \n4                       0.000354      0.000318        0.001224   \n...                          ...           ...             ...   \n30078                   0.010109      0.008739        0.228518   \n30079                   0.000648      0.000073        0.015051   \n30080                   0.925710      0.077896        0.395232   \n30081                   0.001044      0.000182        0.029830   \n30082                   0.000855      0.000061        0.020161   \n\n       CVC - Borderline  CVC - Normal  Swan Ganz Catheter Present  PatientID  \n0              0.128204      0.036016                    0.000304  ec89415d1  \n1              0.041214      0.980235                    0.011262  bf4c6da3c  \n2              0.822312      0.263705                    0.000123  3fc1c97e5  \n3              0.548129      0.042099                    0.000744  c31019814  \n4              0.009989      0.996869                    0.000197  207685cd1  \n...                 ...           ...                         ...        ...  \n30078          0.540705      0.987893                    0.002941  5b5b9ac30  \n30079          0.016122      0.977212                    0.000648  7192404d8  \n30080          0.864094      0.362042                    0.005338  d4d1b066d  \n30081          0.780609      0.054084                    0.000201  01a6602b8  \n30082          0.099227      0.757350                    0.000155  e692d316c  \n\n[30083 rows x 13 columns]",
      "text/html": "<div>\n<style scoped>\n    .dataframe tbody tr th:only-of-type {\n        vertical-align: middle;\n    }\n\n    .dataframe tbody tr th {\n        vertical-align: top;\n    }\n\n    .dataframe thead th {\n        text-align: right;\n    }\n</style>\n<table border=\"1\" class=\"dataframe\">\n  <thead>\n    <tr style=\"text-align: right;\">\n      <th></th>\n      <th>StudyInstanceUID</th>\n      <th>ETT - Abnormal</th>\n      <th>ETT - Borderline</th>\n      <th>ETT - Normal</th>\n      <th>NGT - Abnormal</th>\n      <th>NGT - Borderline</th>\n      <th>NGT - Incompletely Imaged</th>\n      <th>NGT - Normal</th>\n      <th>CVC - Abnormal</th>\n      <th>CVC - Borderline</th>\n      <th>CVC - Normal</th>\n      <th>Swan Ganz Catheter Present</th>\n      <th>PatientID</th>\n    </tr>\n  </thead>\n  <tbody>\n    <tr>\n      <th>0</th>\n      <td>1.2.826.0.1.3680043.8.498.26697628953273228189...</td>\n      <td>0.001258</td>\n      <td>0.000487</td>\n      <td>0.000332</td>\n      <td>0.011385</td>\n      <td>0.137658</td>\n      <td>0.008421</td>\n      <td>0.674002</td>\n      <td>0.222880</td>\n      <td>0.128204</td>\n      <td>0.036016</td>\n      <td>0.000304</td>\n      <td>ec89415d1</td>\n    </tr>\n    <tr>\n      <th>1</th>\n      <td>1.2.826.0.1.3680043.8.498.46302891597398758759...</td>\n      <td>0.005584</td>\n      <td>0.063126</td>\n      <td>0.963192</td>\n      <td>0.226725</td>\n      <td>0.044443</td>\n      <td>0.899897</td>\n      <td>0.020829</td>\n      <td>0.068652</td>\n      <td>0.041214</td>\n      <td>0.980235</td>\n      <td>0.011262</td>\n      <td>bf4c6da3c</td>\n    </tr>\n    <tr>\n      <th>2</th>\n      <td>1.2.826.0.1.3680043.8.498.23819260719748494858...</td>\n      <td>0.000309</td>\n      <td>0.000526</td>\n      <td>0.000213</td>\n      <td>0.000352</td>\n      <td>0.000222</td>\n      <td>0.000046</td>\n      <td>0.000722</td>\n      <td>0.004723</td>\n      <td>0.822312</td>\n      <td>0.263705</td>\n      <td>0.000123</td>\n      <td>3fc1c97e5</td>\n    </tr>\n    <tr>\n      <th>3</th>\n      <td>1.2.826.0.1.3680043.8.498.68286643202323212801...</td>\n      <td>0.000848</td>\n      <td>0.002815</td>\n      <td>0.002329</td>\n      <td>0.002313</td>\n      <td>0.001520</td>\n      <td>0.001542</td>\n      <td>0.005733</td>\n      <td>0.449446</td>\n      <td>0.548129</td>\n      <td>0.042099</td>\n      <td>0.000744</td>\n      <td>c31019814</td>\n    </tr>\n    <tr>\n      <th>4</th>\n      <td>1.2.826.0.1.3680043.8.498.10050203009225938259...</td>\n      <td>0.000354</td>\n      <td>0.000194</td>\n      <td>0.000473</td>\n      <td>0.000390</td>\n      <td>0.000603</td>\n      <td>0.000354</td>\n      <td>0.000318</td>\n      <td>0.001224</td>\n      <td>0.009989</td>\n      <td>0.996869</td>\n      <td>0.000197</td>\n      <td>207685cd1</td>\n    </tr>\n    <tr>\n      <th>...</th>\n      <td>...</td>\n      <td>...</td>\n      <td>...</td>\n      <td>...</td>\n      <td>...</td>\n      <td>...</td>\n      <td>...</td>\n      <td>...</td>\n      <td>...</td>\n      <td>...</td>\n      <td>...</td>\n      <td>...</td>\n      <td>...</td>\n    </tr>\n    <tr>\n      <th>30078</th>\n      <td>1.2.826.0.1.3680043.8.498.74257566841157531124...</td>\n      <td>0.000499</td>\n      <td>0.003804</td>\n      <td>0.994341</td>\n      <td>0.003840</td>\n      <td>0.005110</td>\n      <td>0.010109</td>\n      <td>0.008739</td>\n      <td>0.228518</td>\n      <td>0.540705</td>\n      <td>0.987893</td>\n      <td>0.002941</td>\n      <td>5b5b9ac30</td>\n    </tr>\n    <tr>\n      <th>30079</th>\n      <td>1.2.826.0.1.3680043.8.498.46510939987173529969...</td>\n      <td>0.000339</td>\n      <td>0.000176</td>\n      <td>0.000286</td>\n      <td>0.000221</td>\n      <td>0.000242</td>\n      <td>0.000648</td>\n      <td>0.000073</td>\n      <td>0.015051</td>\n      <td>0.016122</td>\n      <td>0.977212</td>\n      <td>0.000648</td>\n      <td>7192404d8</td>\n    </tr>\n    <tr>\n      <th>30080</th>\n      <td>1.2.826.0.1.3680043.8.498.43173270582850645437...</td>\n      <td>0.000860</td>\n      <td>0.022287</td>\n      <td>0.977209</td>\n      <td>0.006434</td>\n      <td>0.004605</td>\n      <td>0.925710</td>\n      <td>0.077896</td>\n      <td>0.395232</td>\n      <td>0.864094</td>\n      <td>0.362042</td>\n      <td>0.005338</td>\n      <td>d4d1b066d</td>\n    </tr>\n    <tr>\n      <th>30081</th>\n      <td>1.2.826.0.1.3680043.8.498.95092491950130838685...</td>\n      <td>0.000969</td>\n      <td>0.001429</td>\n      <td>0.000189</td>\n      <td>0.002883</td>\n      <td>0.001543</td>\n      <td>0.001044</td>\n      <td>0.000182</td>\n      <td>0.029830</td>\n      <td>0.780609</td>\n      <td>0.054084</td>\n      <td>0.000201</td>\n      <td>01a6602b8</td>\n    </tr>\n    <tr>\n      <th>30082</th>\n      <td>1.2.826.0.1.3680043.8.498.99518162226171269731...</td>\n      <td>0.000032</td>\n      <td>0.000073</td>\n      <td>0.999698</td>\n      <td>0.000442</td>\n      <td>0.000050</td>\n      <td>0.000855</td>\n      <td>0.000061</td>\n      <td>0.020161</td>\n      <td>0.099227</td>\n      <td>0.757350</td>\n      <td>0.000155</td>\n      <td>e692d316c</td>\n    </tr>\n  </tbody>\n</table>\n<p>30083 rows × 13 columns</p>\n</div>"
     },
     "metadata": {}
    }
   ],
   "source": [
    "dense_pred_list=[pd.DataFrame(dense_model_list[n].predict(features),columns=CFG.target_cols) for n in range(CFG.n_folds)]\n",
    "\n",
    "submission=test.copy()\n",
    "\n",
    "for col_name in CFG.target_cols:\n",
    "    pred_col=pd.DataFrame()\n",
    "    for n,pred in enumerate(dense_pred_list):\n",
    "        pred_col[f\"fold_{n}\"]=pred[col_name]\n",
    "    submission[col_name]=pred_col.mean(axis=1)\n",
    "display(submission)\n",
    "\n",
    "if not CFG.debug:\n",
    "    submission.to_csv(\"submission.csv\",index=False)"
   ]
  },
  {
   "cell_type": "code",
   "execution_count": 19,
   "metadata": {},
   "outputs": [
    {
     "output_type": "display_data",
     "data": {
      "text/plain": "    ETT - Abnormal ETT - Borderline ETT - Normal NGT - Abnormal  \\\nAUC       0.986835         0.984116     0.996592       0.978768   \n\n    NGT - Borderline NGT - Incompletely Imaged NGT - Normal CVC - Abnormal  \\\nAUC         0.970776                  0.991322     0.991293       0.943553   \n\n    CVC - Borderline CVC - Normal Swan Ganz Catheter Present  \nAUC         0.904939     0.952546                   0.999313  ",
      "text/html": "<div>\n<style scoped>\n    .dataframe tbody tr th:only-of-type {\n        vertical-align: middle;\n    }\n\n    .dataframe tbody tr th {\n        vertical-align: top;\n    }\n\n    .dataframe thead th {\n        text-align: right;\n    }\n</style>\n<table border=\"1\" class=\"dataframe\">\n  <thead>\n    <tr style=\"text-align: right;\">\n      <th></th>\n      <th>ETT - Abnormal</th>\n      <th>ETT - Borderline</th>\n      <th>ETT - Normal</th>\n      <th>NGT - Abnormal</th>\n      <th>NGT - Borderline</th>\n      <th>NGT - Incompletely Imaged</th>\n      <th>NGT - Normal</th>\n      <th>CVC - Abnormal</th>\n      <th>CVC - Borderline</th>\n      <th>CVC - Normal</th>\n      <th>Swan Ganz Catheter Present</th>\n    </tr>\n  </thead>\n  <tbody>\n    <tr>\n      <th>AUC</th>\n      <td>0.986835</td>\n      <td>0.984116</td>\n      <td>0.996592</td>\n      <td>0.978768</td>\n      <td>0.970776</td>\n      <td>0.991322</td>\n      <td>0.991293</td>\n      <td>0.943553</td>\n      <td>0.904939</td>\n      <td>0.952546</td>\n      <td>0.999313</td>\n    </tr>\n  </tbody>\n</table>\n</div>"
     },
     "metadata": {}
    },
    {
     "output_type": "display_data",
     "data": {
      "text/plain": "AUC    0.972732\ndtype: float64"
     },
     "metadata": {}
    }
   ],
   "source": [
    "results=pd.DataFrame(columns=CFG.target_cols)\n",
    "\n",
    "for col_name in CFG.target_cols:\n",
    "    results.loc[\"AUC\",col_name]=roc_auc_score(test[col_name],submission[col_name])\n",
    "\n",
    "display(results,results.mean(axis=1))"
   ]
  },
  {
   "cell_type": "code",
   "execution_count": 20,
   "metadata": {},
   "outputs": [
    {
     "output_type": "display_data",
     "data": {
      "text/plain": "       pred_ETT - Abnormal  pred_ETT - Borderline  pred_ETT - Normal  \\\n15248             0.000106               0.000227           0.000114   \n15255             0.000402               0.000459           0.001493   \n5647              0.000134               0.000455           0.000763   \n4913              0.000065               0.000182           0.001127   \n29816             0.000032               0.000491           0.999148   \n...                    ...                    ...                ...   \n23234             0.000301               0.000071           0.000199   \n8401              0.000140               0.001686           0.006414   \n23877             0.000130               0.000344           0.000408   \n25553             0.000428               0.000150           0.001308   \n28814             0.000181               0.000281           0.000056   \n\n       pred_NGT - Abnormal  pred_NGT - Borderline  \\\n15248             0.000291               0.000032   \n15255             0.001624               0.001824   \n5647              0.000052               0.000286   \n4913              0.000144               0.000164   \n29816             0.002064               0.003982   \n...                    ...                    ...   \n23234             0.000554               0.000529   \n8401              0.001417               0.001700   \n23877             0.000088               0.000035   \n25553             0.001087               0.001629   \n28814             0.000058               0.000046   \n\n       pred_NGT - Incompletely Imaged  pred_NGT - Normal  pred_CVC - Abnormal  \\\n15248                        0.000030           0.000008             0.010714   \n15255                        0.000272           0.000672             0.030822   \n5647                         0.000012           0.012631             0.069527   \n4913                         0.000072           0.000222             0.020756   \n29816                        0.932169           0.031456             0.001993   \n...                               ...                ...                  ...   \n23234                        0.000284           0.000126             0.011331   \n8401                         0.000100           0.046394             0.999567   \n23877                        0.000497           0.000006             0.001729   \n25553                        0.000075           0.000912             0.021128   \n28814                        0.000007           0.000058             0.023914   \n\n       pred_CVC - Borderline  pred_CVC - Normal  \\\n15248               0.112789           0.899030   \n15255               0.043551           0.913985   \n5647                0.347159           0.754484   \n4913                0.623359           0.302134   \n29816               0.152436           0.998728   \n...                      ...                ...   \n23234               0.105220           0.947671   \n8401                0.002600           0.005291   \n23877               0.010156           0.997067   \n25553               0.082669           0.908670   \n28814               0.095910           0.981477   \n\n       pred_Swan Ganz Catheter Present  \n15248                         0.000012  \n15255                         0.000307  \n5647                          0.000376  \n4913                          0.000135  \n29816                         0.000087  \n...                                ...  \n23234                         0.000059  \n8401                          0.000060  \n23877                         0.000016  \n25553                         0.000098  \n28814                         0.000037  \n\n[30083 rows x 11 columns]",
      "text/html": "<div>\n<style scoped>\n    .dataframe tbody tr th:only-of-type {\n        vertical-align: middle;\n    }\n\n    .dataframe tbody tr th {\n        vertical-align: top;\n    }\n\n    .dataframe thead th {\n        text-align: right;\n    }\n</style>\n<table border=\"1\" class=\"dataframe\">\n  <thead>\n    <tr style=\"text-align: right;\">\n      <th></th>\n      <th>pred_ETT - Abnormal</th>\n      <th>pred_ETT - Borderline</th>\n      <th>pred_ETT - Normal</th>\n      <th>pred_NGT - Abnormal</th>\n      <th>pred_NGT - Borderline</th>\n      <th>pred_NGT - Incompletely Imaged</th>\n      <th>pred_NGT - Normal</th>\n      <th>pred_CVC - Abnormal</th>\n      <th>pred_CVC - Borderline</th>\n      <th>pred_CVC - Normal</th>\n      <th>pred_Swan Ganz Catheter Present</th>\n    </tr>\n  </thead>\n  <tbody>\n    <tr>\n      <th>15248</th>\n      <td>0.000106</td>\n      <td>0.000227</td>\n      <td>0.000114</td>\n      <td>0.000291</td>\n      <td>0.000032</td>\n      <td>0.000030</td>\n      <td>0.000008</td>\n      <td>0.010714</td>\n      <td>0.112789</td>\n      <td>0.899030</td>\n      <td>0.000012</td>\n    </tr>\n    <tr>\n      <th>15255</th>\n      <td>0.000402</td>\n      <td>0.000459</td>\n      <td>0.001493</td>\n      <td>0.001624</td>\n      <td>0.001824</td>\n      <td>0.000272</td>\n      <td>0.000672</td>\n      <td>0.030822</td>\n      <td>0.043551</td>\n      <td>0.913985</td>\n      <td>0.000307</td>\n    </tr>\n    <tr>\n      <th>5647</th>\n      <td>0.000134</td>\n      <td>0.000455</td>\n      <td>0.000763</td>\n      <td>0.000052</td>\n      <td>0.000286</td>\n      <td>0.000012</td>\n      <td>0.012631</td>\n      <td>0.069527</td>\n      <td>0.347159</td>\n      <td>0.754484</td>\n      <td>0.000376</td>\n    </tr>\n    <tr>\n      <th>4913</th>\n      <td>0.000065</td>\n      <td>0.000182</td>\n      <td>0.001127</td>\n      <td>0.000144</td>\n      <td>0.000164</td>\n      <td>0.000072</td>\n      <td>0.000222</td>\n      <td>0.020756</td>\n      <td>0.623359</td>\n      <td>0.302134</td>\n      <td>0.000135</td>\n    </tr>\n    <tr>\n      <th>29816</th>\n      <td>0.000032</td>\n      <td>0.000491</td>\n      <td>0.999148</td>\n      <td>0.002064</td>\n      <td>0.003982</td>\n      <td>0.932169</td>\n      <td>0.031456</td>\n      <td>0.001993</td>\n      <td>0.152436</td>\n      <td>0.998728</td>\n      <td>0.000087</td>\n    </tr>\n    <tr>\n      <th>...</th>\n      <td>...</td>\n      <td>...</td>\n      <td>...</td>\n      <td>...</td>\n      <td>...</td>\n      <td>...</td>\n      <td>...</td>\n      <td>...</td>\n      <td>...</td>\n      <td>...</td>\n      <td>...</td>\n    </tr>\n    <tr>\n      <th>23234</th>\n      <td>0.000301</td>\n      <td>0.000071</td>\n      <td>0.000199</td>\n      <td>0.000554</td>\n      <td>0.000529</td>\n      <td>0.000284</td>\n      <td>0.000126</td>\n      <td>0.011331</td>\n      <td>0.105220</td>\n      <td>0.947671</td>\n      <td>0.000059</td>\n    </tr>\n    <tr>\n      <th>8401</th>\n      <td>0.000140</td>\n      <td>0.001686</td>\n      <td>0.006414</td>\n      <td>0.001417</td>\n      <td>0.001700</td>\n      <td>0.000100</td>\n      <td>0.046394</td>\n      <td>0.999567</td>\n      <td>0.002600</td>\n      <td>0.005291</td>\n      <td>0.000060</td>\n    </tr>\n    <tr>\n      <th>23877</th>\n      <td>0.000130</td>\n      <td>0.000344</td>\n      <td>0.000408</td>\n      <td>0.000088</td>\n      <td>0.000035</td>\n      <td>0.000497</td>\n      <td>0.000006</td>\n      <td>0.001729</td>\n      <td>0.010156</td>\n      <td>0.997067</td>\n      <td>0.000016</td>\n    </tr>\n    <tr>\n      <th>25553</th>\n      <td>0.000428</td>\n      <td>0.000150</td>\n      <td>0.001308</td>\n      <td>0.001087</td>\n      <td>0.001629</td>\n      <td>0.000075</td>\n      <td>0.000912</td>\n      <td>0.021128</td>\n      <td>0.082669</td>\n      <td>0.908670</td>\n      <td>0.000098</td>\n    </tr>\n    <tr>\n      <th>28814</th>\n      <td>0.000181</td>\n      <td>0.000281</td>\n      <td>0.000056</td>\n      <td>0.000058</td>\n      <td>0.000046</td>\n      <td>0.000007</td>\n      <td>0.000058</td>\n      <td>0.023914</td>\n      <td>0.095910</td>\n      <td>0.981477</td>\n      <td>0.000037</td>\n    </tr>\n  </tbody>\n</table>\n<p>30083 rows × 11 columns</p>\n</div>"
     },
     "metadata": {}
    },
    {
     "output_type": "display_data",
     "data": {
      "text/plain": "       ETT - Abnormal  ETT - Borderline  ETT - Normal  NGT - Abnormal  \\\n747                 0                 0             0               0   \n773                 0                 0             0               0   \n22581               0                 0             0               0   \n19594               0                 0             0               0   \n29072               0                 0             1               0   \n...               ...               ...           ...             ...   \n2826                0                 0             0               0   \n3580                0                 0             0               0   \n5273                0                 0             0               0   \n11737               0                 0             0               0   \n24915               0                 0             0               0   \n\n       NGT - Borderline  NGT - Incompletely Imaged  NGT - Normal  \\\n747                   0                          0             0   \n773                   0                          0             0   \n22581                 0                          0             0   \n19594                 0                          0             0   \n29072                 0                          1             0   \n...                 ...                        ...           ...   \n2826                  0                          0             0   \n3580                  0                          0             0   \n5273                  0                          0             0   \n11737                 0                          0             0   \n24915                 0                          0             0   \n\n       CVC - Abnormal  CVC - Borderline  CVC - Normal  \\\n747                 0                 0             1   \n773                 0                 0             1   \n22581               0                 0             1   \n19594               0                 0             1   \n29072               0                 1             1   \n...               ...               ...           ...   \n2826                0                 0             1   \n3580                1                 0             0   \n5273                0                 0             1   \n11737               0                 0             1   \n24915               0                 0             1   \n\n       Swan Ganz Catheter Present  PatientID  \n747                             0  04cfbc3d2  \n773                             0  176a5edfd  \n22581                           0  d57f48a31  \n19594                           0  e252d355a  \n29072                           0  8849382d0  \n...                           ...        ...  \n2826                            0  61946329f  \n3580                            0  30ccfd1fb  \n5273                            0  54147ad50  \n11737                           0  052d4b6b8  \n24915                           0  f72447b63  \n\n[30083 rows x 12 columns]",
      "text/html": "<div>\n<style scoped>\n    .dataframe tbody tr th:only-of-type {\n        vertical-align: middle;\n    }\n\n    .dataframe tbody tr th {\n        vertical-align: top;\n    }\n\n    .dataframe thead th {\n        text-align: right;\n    }\n</style>\n<table border=\"1\" class=\"dataframe\">\n  <thead>\n    <tr style=\"text-align: right;\">\n      <th></th>\n      <th>ETT - Abnormal</th>\n      <th>ETT - Borderline</th>\n      <th>ETT - Normal</th>\n      <th>NGT - Abnormal</th>\n      <th>NGT - Borderline</th>\n      <th>NGT - Incompletely Imaged</th>\n      <th>NGT - Normal</th>\n      <th>CVC - Abnormal</th>\n      <th>CVC - Borderline</th>\n      <th>CVC - Normal</th>\n      <th>Swan Ganz Catheter Present</th>\n      <th>PatientID</th>\n    </tr>\n  </thead>\n  <tbody>\n    <tr>\n      <th>747</th>\n      <td>0</td>\n      <td>0</td>\n      <td>0</td>\n      <td>0</td>\n      <td>0</td>\n      <td>0</td>\n      <td>0</td>\n      <td>0</td>\n      <td>0</td>\n      <td>1</td>\n      <td>0</td>\n      <td>04cfbc3d2</td>\n    </tr>\n    <tr>\n      <th>773</th>\n      <td>0</td>\n      <td>0</td>\n      <td>0</td>\n      <td>0</td>\n      <td>0</td>\n      <td>0</td>\n      <td>0</td>\n      <td>0</td>\n      <td>0</td>\n      <td>1</td>\n      <td>0</td>\n      <td>176a5edfd</td>\n    </tr>\n    <tr>\n      <th>22581</th>\n      <td>0</td>\n      <td>0</td>\n      <td>0</td>\n      <td>0</td>\n      <td>0</td>\n      <td>0</td>\n      <td>0</td>\n      <td>0</td>\n      <td>0</td>\n      <td>1</td>\n      <td>0</td>\n      <td>d57f48a31</td>\n    </tr>\n    <tr>\n      <th>19594</th>\n      <td>0</td>\n      <td>0</td>\n      <td>0</td>\n      <td>0</td>\n      <td>0</td>\n      <td>0</td>\n      <td>0</td>\n      <td>0</td>\n      <td>0</td>\n      <td>1</td>\n      <td>0</td>\n      <td>e252d355a</td>\n    </tr>\n    <tr>\n      <th>29072</th>\n      <td>0</td>\n      <td>0</td>\n      <td>1</td>\n      <td>0</td>\n      <td>0</td>\n      <td>1</td>\n      <td>0</td>\n      <td>0</td>\n      <td>1</td>\n      <td>1</td>\n      <td>0</td>\n      <td>8849382d0</td>\n    </tr>\n    <tr>\n      <th>...</th>\n      <td>...</td>\n      <td>...</td>\n      <td>...</td>\n      <td>...</td>\n      <td>...</td>\n      <td>...</td>\n      <td>...</td>\n      <td>...</td>\n      <td>...</td>\n      <td>...</td>\n      <td>...</td>\n      <td>...</td>\n    </tr>\n    <tr>\n      <th>2826</th>\n      <td>0</td>\n      <td>0</td>\n      <td>0</td>\n      <td>0</td>\n      <td>0</td>\n      <td>0</td>\n      <td>0</td>\n      <td>0</td>\n      <td>0</td>\n      <td>1</td>\n      <td>0</td>\n      <td>61946329f</td>\n    </tr>\n    <tr>\n      <th>3580</th>\n      <td>0</td>\n      <td>0</td>\n      <td>0</td>\n      <td>0</td>\n      <td>0</td>\n      <td>0</td>\n      <td>0</td>\n      <td>1</td>\n      <td>0</td>\n      <td>0</td>\n      <td>0</td>\n      <td>30ccfd1fb</td>\n    </tr>\n    <tr>\n      <th>5273</th>\n      <td>0</td>\n      <td>0</td>\n      <td>0</td>\n      <td>0</td>\n      <td>0</td>\n      <td>0</td>\n      <td>0</td>\n      <td>0</td>\n      <td>0</td>\n      <td>1</td>\n      <td>0</td>\n      <td>54147ad50</td>\n    </tr>\n    <tr>\n      <th>11737</th>\n      <td>0</td>\n      <td>0</td>\n      <td>0</td>\n      <td>0</td>\n      <td>0</td>\n      <td>0</td>\n      <td>0</td>\n      <td>0</td>\n      <td>0</td>\n      <td>1</td>\n      <td>0</td>\n      <td>052d4b6b8</td>\n    </tr>\n    <tr>\n      <th>24915</th>\n      <td>0</td>\n      <td>0</td>\n      <td>0</td>\n      <td>0</td>\n      <td>0</td>\n      <td>0</td>\n      <td>0</td>\n      <td>0</td>\n      <td>0</td>\n      <td>1</td>\n      <td>0</td>\n      <td>f72447b63</td>\n    </tr>\n  </tbody>\n</table>\n<p>30083 rows × 12 columns</p>\n</div>"
     },
     "metadata": {}
    }
   ],
   "source": [
    "df=pd.read_csv(\"oof_df.csv\").sort_values(\"StudyInstanceUID\")\n",
    "train=pd.read_csv(\"../input/ranzcr-clip-catheter-line-classification/train.csv\").sort_values(\"StudyInstanceUID\")\n",
    "\n",
    "df=df.iloc[:,14:]\n",
    "train=train.iloc[:,1:]\n",
    "\n",
    "display(df)\n",
    "display(train)"
   ]
  },
  {
   "cell_type": "code",
   "execution_count": 50,
   "metadata": {},
   "outputs": [
    {
     "output_type": "display_data",
     "data": {
      "text/plain": "     ETT - Abnormal  ETT - Borderline  ETT - Normal  NGT - Abnormal  \\\nAUC        0.948148          0.949559      0.989415        0.925867   \n\n     NGT - Borderline  NGT - Incompletely Imaged  NGT - Normal  \\\nAUC          0.931456                   0.976794      0.980471   \n\n     CVC - Abnormal  CVC - Borderline  CVC - Normal  \\\nAUC        0.883504          0.808819      0.878649   \n\n     Swan Ganz Catheter Present  \nAUC                    0.997692  ",
      "text/html": "<div>\n<style scoped>\n    .dataframe tbody tr th:only-of-type {\n        vertical-align: middle;\n    }\n\n    .dataframe tbody tr th {\n        vertical-align: top;\n    }\n\n    .dataframe thead th {\n        text-align: right;\n    }\n</style>\n<table border=\"1\" class=\"dataframe\">\n  <thead>\n    <tr style=\"text-align: right;\">\n      <th></th>\n      <th>ETT - Abnormal</th>\n      <th>ETT - Borderline</th>\n      <th>ETT - Normal</th>\n      <th>NGT - Abnormal</th>\n      <th>NGT - Borderline</th>\n      <th>NGT - Incompletely Imaged</th>\n      <th>NGT - Normal</th>\n      <th>CVC - Abnormal</th>\n      <th>CVC - Borderline</th>\n      <th>CVC - Normal</th>\n      <th>Swan Ganz Catheter Present</th>\n    </tr>\n  </thead>\n  <tbody>\n    <tr>\n      <th>AUC</th>\n      <td>0.948148</td>\n      <td>0.949559</td>\n      <td>0.989415</td>\n      <td>0.925867</td>\n      <td>0.931456</td>\n      <td>0.976794</td>\n      <td>0.980471</td>\n      <td>0.883504</td>\n      <td>0.808819</td>\n      <td>0.878649</td>\n      <td>0.997692</td>\n    </tr>\n  </tbody>\n</table>\n</div>"
     },
     "metadata": {}
    },
    {
     "output_type": "display_data",
     "data": {
      "text/plain": "AUC    0.93367\ndtype: float64"
     },
     "metadata": {}
    }
   ],
   "source": [
    "results=pd.DataFrame(columns=[\"AUC\"])\n",
    "for i in range(11):\n",
    "    y_pred=df.iloc[:,i]\n",
    "    y_true=train.iloc[:,i]\n",
    "    auc=roc_auc_score(y_true,y_pred)\n",
    "    row=pd.Series([auc],index=[\"AUC\"],name=y_true.name)\n",
    "    results=results.append(row)\n",
    "\n",
    "display(results.T)\n",
    "display(results.mean())"
   ]
  }
 ]
}