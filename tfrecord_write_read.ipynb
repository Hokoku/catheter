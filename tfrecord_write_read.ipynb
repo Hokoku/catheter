{
 "metadata": {
  "language_info": {
   "codemirror_mode": {
    "name": "ipython",
    "version": 3
   },
   "file_extension": ".py",
   "mimetype": "text/x-python",
   "name": "python",
   "nbconvert_exporter": "python",
   "pygments_lexer": "ipython3",
   "version": "3.8.8-final"
  },
  "orig_nbformat": 2,
  "kernelspec": {
   "name": "python3",
   "display_name": "Python 3.8.8 64-bit",
   "metadata": {
    "interpreter": {
     "hash": "3da45907e5cd41bdac7b692b424c19725633d98a853f93b11b400b1d8951ac30"
    }
   }
  }
 },
 "nbformat": 4,
 "nbformat_minor": 2,
 "cells": [
  {
   "cell_type": "code",
   "execution_count": 9,
   "metadata": {},
   "outputs": [],
   "source": [
    "import pandas as pd\n",
    "import numpy as np\n",
    "from tqdm.notebook import tqdm\n",
    "from glob import glob\n",
    "\n",
    "import tensorflow as tf"
   ]
  },
  {
   "cell_type": "code",
   "execution_count": 7,
   "metadata": {},
   "outputs": [],
   "source": [
    "class CFG:\n",
    "    dataset_dir=\"../input/ranzcr-clip-catheter-line-classification/\""
   ]
  },
  {
   "cell_type": "code",
   "execution_count": 5,
   "metadata": {},
   "outputs": [],
   "source": [
    "def _bytes_feature(value):\n",
    "    # valueがscalar tensorであった場合, 内部のnumpyを明示的に呼ぶ\n",
    "    if isinstance(value,type(tf.constant(0))):\n",
    "        value=value.numpy()\n",
    "    return tf.train.Feature(bytes_list=tf.train.BytesList(value=[value]))\n",
    "\n",
    "def _int64_feature(value):\n",
    "    return tf.train.Feature(int64_list=tf.train.Int64List(value=[value]))"
   ]
  },
  {
   "cell_type": "code",
   "execution_count": null,
   "metadata": {},
   "outputs": [],
   "source": [
    "feature_description={\n",
    "    \"CVC - Abnormal\":FixedLenFeature([],tf.int64),\n",
    "    \"CVC - Borderline\":FixedLenFeature([],tf.int64),\n",
    "    \"CVC - Normal\":FixedLenFeature([],tf.int64),\n",
    "    \"ETT - Abnormal\":FixedLenFeature([],tf.int64),\n",
    "    \"ETT - Borderline\":FixedLenFeature([],tf.int64),\n",
    "    \"ETT - Normal\":FixedLenFeature([],tf.int64),\n",
    "    \"NGT - Abnormal\":FixedLenFeature([],tf.int64),\n",
    "    \"NGT - Borderline\":FixedLenFeature([],tf.int64),\n",
    "    \"NGT - Incompletely Imaged\":FixedLenFeature([],tf.int64),\n",
    "    \"NGT - Normal\":FixedLenFeature([],tf.int64),\n",
    "    \"Swan Ganz Catheter Present\":FixedLenFeature([],tf.int64),\n",
    "    \"StudyInstanceUID\":FixedLenFeature([],tf.string),\n",
    "    \"image\":FixedLenFeature([],tf.string),\n",
    "}\n",
    "\n",
    "def parse_examples(example):\n",
    "    return tf.io.parse_example(example,feature_description)"
   ]
  },
  {
   "cell_type": "code",
   "execution_count": 11,
   "metadata": {},
   "outputs": [
    {
     "output_type": "display_data",
     "data": {
      "text/plain": "  0%|          | 0/8853 [00:00<?, ?it/s]",
      "application/vnd.jupyter.widget-view+json": {
       "version_major": 2,
       "version_minor": 0,
       "model_id": "7e72a1995dec42afa31ce6ac698fa517"
      }
     },
     "metadata": {}
    },
    {
     "output_type": "stream",
     "name": "stdout",
     "text": [
      "Wall time: 42.2 s\n"
     ]
    }
   ],
   "source": [
    "%%time\n",
    "\n",
    "train=pd.read_csv(f\"{CFG.dataset_dir}train.csv\")\n",
    "\n",
    "def serialize_example(uid,image):\n",
    "    uid_bytes=uid.encode()\n",
    "\n",
    "    feature={\n",
    "        \"StudyInstanceUID\":_bytes_feature(uid_bytes),\n",
    "        \"image\":_bytes_feature(image)\n",
    "    }\n",
    "\n",
    "    target_series=train[train[\"StudyInstanceUID\"]==uid]\n",
    "    \"\"\"\n",
    "    for col_name in CFG.target_cols:\n",
    "        col_value=target_series[col_name].values[0]\n",
    "        feature[col_name]=_int64_feature(col_value)\n",
    "    \"\"\"\n",
    "    example=tf.train.Example(features=tf.train.Features(feature=feature))\n",
    "\n",
    "    return example.SerializeToString()\n",
    "\n",
    "def write2tfrecord():\n",
    "    recordname=\"../input/cvc_annotated_mask.tfrec\"\n",
    "    with tf.io.TFRecordWriter(recordname) as writer:\n",
    "\n",
    "        for path in tqdm(glob(\"../input/cvc_annotated_line_mask/*\")):\n",
    "            filename=os.path.basename(path)\n",
    "            uid=os.path.splitext(filename)[0]\n",
    "            image=tf.io.read_file(path)\n",
    "\n",
    "            writer.write(serialize_example(uid,image))\n",
    "\n",
    "write2tfrecord()"
   ]
  }
 ]
}