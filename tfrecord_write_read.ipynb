{
 "metadata": {
  "language_info": {
   "codemirror_mode": {
    "name": "ipython",
    "version": 3
   },
   "file_extension": ".py",
   "mimetype": "text/x-python",
   "name": "python",
   "nbconvert_exporter": "python",
   "pygments_lexer": "ipython3",
   "version": "3.8.8-final"
  },
  "orig_nbformat": 2,
  "kernelspec": {
   "name": "python3",
   "display_name": "Python 3.8.8 64-bit ('py38': conda)",
   "metadata": {
    "interpreter": {
     "hash": "3da45907e5cd41bdac7b692b424c19725633d98a853f93b11b400b1d8951ac30"
    }
   }
  }
 },
 "nbformat": 4,
 "nbformat_minor": 2,
 "cells": [
  {
   "cell_type": "code",
   "execution_count": 1,
   "metadata": {},
   "outputs": [],
   "source": [
    "import pandas as pd\n",
    "import numpy as np\n",
    "from tqdm.notebook import tqdm\n",
    "from glob import glob\n",
    "from IPython.display import display\n",
    "import math\n",
    "\n",
    "import tensorflow as tf\n",
    "from tensorflow.io import FixedLenFeature"
   ]
  },
  {
   "cell_type": "code",
   "execution_count": 2,
   "metadata": {},
   "outputs": [],
   "source": [
    "class CFG:\n",
    "    dataset_dir=\"../input/ranzcr-clip-catheter-line-classification/\"\n",
    "    target_cols=['ETT - Abnormal', 'ETT - Borderline', 'ETT - Normal', 'NGT - Abnormal', 'NGT - Borderline',\n",
    "      'NGT - Incompletely Imaged', 'NGT - Normal', 'CVC - Abnormal', 'CVC - Borderline', 'CVC - Normal', 'Swan Ganz Catheter Present']"
   ]
  },
  {
   "cell_type": "code",
   "execution_count": 3,
   "metadata": {},
   "outputs": [],
   "source": [
    "def _bytes_feature(value):\n",
    "    # valueがscalar tensorであった場合, 内部のnumpyを明示的に呼ぶ\n",
    "    if isinstance(value,type(tf.constant(0))):\n",
    "        value=value.numpy()\n",
    "    return tf.train.Feature(bytes_list=tf.train.BytesList(value=[value]))\n",
    "\n",
    "def _int64_feature(value):\n",
    "    return tf.train.Feature(int64_list=tf.train.Int64List(value=[value]))"
   ]
  },
  {
   "cell_type": "code",
   "execution_count": 4,
   "metadata": {},
   "outputs": [],
   "source": [
    "feature_description={\n",
    "    \"CVC - Abnormal\":FixedLenFeature([],tf.int64),\n",
    "    \"CVC - Borderline\":FixedLenFeature([],tf.int64),\n",
    "    \"CVC - Normal\":FixedLenFeature([],tf.int64),\n",
    "    \"ETT - Abnormal\":FixedLenFeature([],tf.int64),\n",
    "    \"ETT - Borderline\":FixedLenFeature([],tf.int64),\n",
    "    \"ETT - Normal\":FixedLenFeature([],tf.int64),\n",
    "    \"NGT - Abnormal\":FixedLenFeature([],tf.int64),\n",
    "    \"NGT - Borderline\":FixedLenFeature([],tf.int64),\n",
    "    \"NGT - Incompletely Imaged\":FixedLenFeature([],tf.int64),\n",
    "    \"NGT - Normal\":FixedLenFeature([],tf.int64),\n",
    "    \"Swan Ganz Catheter Present\":FixedLenFeature([],tf.int64),\n",
    "    \"StudyInstanceUID\":FixedLenFeature([],tf.string),\n",
    "    \"image\":FixedLenFeature([],tf.string),\n",
    "}\n",
    "\n",
    "def parse_examples(example):\n",
    "    return tf.io.parse_example(example,feature_description)"
   ]
  },
  {
   "cell_type": "code",
   "execution_count": 6,
   "metadata": {
    "tags": []
   },
   "outputs": [
    {
     "output_type": "stream",
     "name": "stdout",
     "text": [
      "6017\n6017\n6017\n6017\n6015\n"
     ]
    }
   ],
   "source": [
    "# split large files into some tfrecords\n",
    "def split_list(_list,division_num):\n",
    "    split_len=math.ceil(len(_list)/division_num)\n",
    "    splitted_lists=[]\n",
    "    for i in range(division_num):\n",
    "        start_idx=i*split_len\n",
    "        end_idx=(i+1)*split_len\n",
    "        splitted_lists.append(_list[start_idx:end_idx])\n",
    "    return splitted_lists\n",
    "\n",
    "paths_collection=split_list(path_list,5)\n",
    "for paths in paths_collection:\n",
    "    print(len(paths))"
   ]
  },
  {
   "cell_type": "code",
   "execution_count": 7,
   "metadata": {},
   "outputs": [
    {
     "output_type": "display_data",
     "data": {
      "text/plain": "  0%|          | 0/6017 [00:00<?, ?it/s]",
      "application/vnd.jupyter.widget-view+json": {
       "version_major": 2,
       "version_minor": 0,
       "model_id": "e9e7e179aca34950831582d71e49ef6d"
      }
     },
     "metadata": {}
    },
    {
     "output_type": "display_data",
     "data": {
      "text/plain": "  0%|          | 0/6017 [00:00<?, ?it/s]",
      "application/vnd.jupyter.widget-view+json": {
       "version_major": 2,
       "version_minor": 0,
       "model_id": "9e8f73f6b6574068b3f4345a7dc62ba4"
      }
     },
     "metadata": {}
    },
    {
     "output_type": "display_data",
     "data": {
      "text/plain": "  0%|          | 0/6017 [00:00<?, ?it/s]",
      "application/vnd.jupyter.widget-view+json": {
       "version_major": 2,
       "version_minor": 0,
       "model_id": "a324b584b7a44d85a4054302f3fe01cb"
      }
     },
     "metadata": {}
    },
    {
     "output_type": "display_data",
     "data": {
      "text/plain": "  0%|          | 0/6017 [00:00<?, ?it/s]",
      "application/vnd.jupyter.widget-view+json": {
       "version_major": 2,
       "version_minor": 0,
       "model_id": "7a873337034a48c1acd13976c8bba1ca"
      }
     },
     "metadata": {}
    },
    {
     "output_type": "display_data",
     "data": {
      "text/plain": "  0%|          | 0/6015 [00:00<?, ?it/s]",
      "application/vnd.jupyter.widget-view+json": {
       "version_major": 2,
       "version_minor": 0,
       "model_id": "d47ba3ee3029468ab73675182b6187af"
      }
     },
     "metadata": {}
    },
    {
     "output_type": "stream",
     "name": "stdout",
     "text": [
      "Wall time: 3min 52s\n"
     ]
    }
   ],
   "source": [
    "%%time\n",
    "\n",
    "train=pd.read_csv(f\"{CFG.dataset_dir}train.csv\")\n",
    "\n",
    "def serialize_example(uid,image_bytes):\n",
    "    uid_bytes=uid.encode()\n",
    "\n",
    "    feature={\n",
    "        \"StudyInstanceUID\":_bytes_feature(uid_bytes),\n",
    "        \"image\":_bytes_feature(image_bytes)\n",
    "    }\n",
    "\n",
    "    target_series=train[train[\"StudyInstanceUID\"]==uid]\n",
    "    \n",
    "    for col_name in CFG.target_cols:\n",
    "        col_value=target_series[col_name].values[0]\n",
    "        feature[col_name]=_int64_feature(col_value)\n",
    "    \n",
    "    example=tf.train.Example(features=tf.train.Features(feature=feature))\n",
    "\n",
    "    return example.SerializeToString()\n",
    "\n",
    "def write2tfrecord():\n",
    "    for i,paths in enumerate(paths_collection):\n",
    "        recordname=f\"../input/cvc_rendered_{i}.tfrec\"\n",
    "        with tf.io.TFRecordWriter(recordname) as writer:\n",
    "            for path in tqdm(paths):\n",
    "                filename=os.path.basename(path)\n",
    "                uid=os.path.splitext(filename)[0]\n",
    "                image_bytes=tf.io.read_file(path)\n",
    "\n",
    "                writer.write(serialize_example(uid,image_bytes))\n",
    "\n",
    "write2tfrecord()"
   ]
  }
 ]
}