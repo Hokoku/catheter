{
  "nbformat": 4,
  "nbformat_minor": 0,
  "metadata": {
    "kernelspec": {
      "language": "python",
      "display_name": "Python 3",
      "name": "python3"
    },
    "language_info": {
      "pygments_lexer": "ipython3",
      "nbconvert_exporter": "python",
      "version": "3.8.8-final",
      "file_extension": ".py",
      "codemirror_mode": {
        "name": "ipython",
        "version": 3
      },
      "name": "python",
      "mimetype": "text/x-python"
    },
    "colab": {
      "name": "tfrecords-tpu-colab",
      "provenance": [],
      "collapsed_sections": []
    },
    "accelerator": "TPU"
  },
  "cells": [
    {
      "cell_type": "code",
      "metadata": {
        "id": "JvuS0ZmQVRgC",
        "trusted": true
      },
      "source": [
        "import numpy as np\n",
        "import pandas as pd\n",
        "import os\n",
        "from IPython.display import display\n",
        "from tqdm.notebook import tqdm\n",
        "import sys\n",
        "from glob import glob\n",
        "\n",
        "import tensorflow as tf\n",
        "from tensorflow import keras\n",
        "from tensorflow.io import FixedLenFeature\n",
        "from tensorflow.keras.applications.efficientnet import  EfficientNetB7\n",
        "\n",
        "import matplotlib.pyplot as plt\n",
        "from sklearn.model_selection import GroupKFold"
      ],
      "execution_count": 1,
      "outputs": []
    },
    {
      "cell_type": "code",
      "metadata": {
        "id": "3w_-HbRicmKo",
        "trusted": true,
        "colab": {
          "base_uri": "https://localhost:8080/"
        },
        "outputId": "ffd46af8-03c6-4570-c64e-8de57d9fda69"
      },
      "source": [
        "tpu = tf.distribute.cluster_resolver.TPUClusterResolver().connect()\n",
        "strategy = tf.distribute.TPUStrategy(tpu)\n",
        "print(\"Running on TPU:\", tpu.master())"
      ],
      "execution_count": 2,
      "outputs": [
        {
          "output_type": "stream",
          "text": [
            "INFO:tensorflow:Initializing the TPU system: grpc://10.69.254.162:8470\n"
          ],
          "name": "stdout"
        },
        {
          "output_type": "stream",
          "text": [
            "INFO:tensorflow:Initializing the TPU system: grpc://10.69.254.162:8470\n"
          ],
          "name": "stderr"
        },
        {
          "output_type": "stream",
          "text": [
            "INFO:tensorflow:Clearing out eager caches\n"
          ],
          "name": "stdout"
        },
        {
          "output_type": "stream",
          "text": [
            "INFO:tensorflow:Clearing out eager caches\n"
          ],
          "name": "stderr"
        },
        {
          "output_type": "stream",
          "text": [
            "INFO:tensorflow:Finished initializing TPU system.\n"
          ],
          "name": "stdout"
        },
        {
          "output_type": "stream",
          "text": [
            "INFO:tensorflow:Finished initializing TPU system.\n"
          ],
          "name": "stderr"
        },
        {
          "output_type": "stream",
          "text": [
            "INFO:tensorflow:Found TPU system:\n"
          ],
          "name": "stdout"
        },
        {
          "output_type": "stream",
          "text": [
            "INFO:tensorflow:Found TPU system:\n"
          ],
          "name": "stderr"
        },
        {
          "output_type": "stream",
          "text": [
            "INFO:tensorflow:*** Num TPU Cores: 8\n"
          ],
          "name": "stdout"
        },
        {
          "output_type": "stream",
          "text": [
            "INFO:tensorflow:*** Num TPU Cores: 8\n"
          ],
          "name": "stderr"
        },
        {
          "output_type": "stream",
          "text": [
            "INFO:tensorflow:*** Num TPU Workers: 1\n"
          ],
          "name": "stdout"
        },
        {
          "output_type": "stream",
          "text": [
            "INFO:tensorflow:*** Num TPU Workers: 1\n"
          ],
          "name": "stderr"
        },
        {
          "output_type": "stream",
          "text": [
            "INFO:tensorflow:*** Num TPU Cores Per Worker: 8\n"
          ],
          "name": "stdout"
        },
        {
          "output_type": "stream",
          "text": [
            "INFO:tensorflow:*** Num TPU Cores Per Worker: 8\n"
          ],
          "name": "stderr"
        },
        {
          "output_type": "stream",
          "text": [
            "INFO:tensorflow:*** Available Device: _DeviceAttributes(/job:localhost/replica:0/task:0/device:CPU:0, CPU, 0, 0)\n"
          ],
          "name": "stdout"
        },
        {
          "output_type": "stream",
          "text": [
            "INFO:tensorflow:*** Available Device: _DeviceAttributes(/job:localhost/replica:0/task:0/device:CPU:0, CPU, 0, 0)\n"
          ],
          "name": "stderr"
        },
        {
          "output_type": "stream",
          "text": [
            "INFO:tensorflow:*** Available Device: _DeviceAttributes(/job:worker/replica:0/task:0/device:CPU:0, CPU, 0, 0)\n"
          ],
          "name": "stdout"
        },
        {
          "output_type": "stream",
          "text": [
            "INFO:tensorflow:*** Available Device: _DeviceAttributes(/job:worker/replica:0/task:0/device:CPU:0, CPU, 0, 0)\n"
          ],
          "name": "stderr"
        },
        {
          "output_type": "stream",
          "text": [
            "INFO:tensorflow:*** Available Device: _DeviceAttributes(/job:worker/replica:0/task:0/device:TPU:0, TPU, 0, 0)\n"
          ],
          "name": "stdout"
        },
        {
          "output_type": "stream",
          "text": [
            "INFO:tensorflow:*** Available Device: _DeviceAttributes(/job:worker/replica:0/task:0/device:TPU:0, TPU, 0, 0)\n"
          ],
          "name": "stderr"
        },
        {
          "output_type": "stream",
          "text": [
            "INFO:tensorflow:*** Available Device: _DeviceAttributes(/job:worker/replica:0/task:0/device:TPU:1, TPU, 0, 0)\n"
          ],
          "name": "stdout"
        },
        {
          "output_type": "stream",
          "text": [
            "INFO:tensorflow:*** Available Device: _DeviceAttributes(/job:worker/replica:0/task:0/device:TPU:1, TPU, 0, 0)\n"
          ],
          "name": "stderr"
        },
        {
          "output_type": "stream",
          "text": [
            "INFO:tensorflow:*** Available Device: _DeviceAttributes(/job:worker/replica:0/task:0/device:TPU:2, TPU, 0, 0)\n"
          ],
          "name": "stdout"
        },
        {
          "output_type": "stream",
          "text": [
            "INFO:tensorflow:*** Available Device: _DeviceAttributes(/job:worker/replica:0/task:0/device:TPU:2, TPU, 0, 0)\n"
          ],
          "name": "stderr"
        },
        {
          "output_type": "stream",
          "text": [
            "INFO:tensorflow:*** Available Device: _DeviceAttributes(/job:worker/replica:0/task:0/device:TPU:3, TPU, 0, 0)\n"
          ],
          "name": "stdout"
        },
        {
          "output_type": "stream",
          "text": [
            "INFO:tensorflow:*** Available Device: _DeviceAttributes(/job:worker/replica:0/task:0/device:TPU:3, TPU, 0, 0)\n"
          ],
          "name": "stderr"
        },
        {
          "output_type": "stream",
          "text": [
            "INFO:tensorflow:*** Available Device: _DeviceAttributes(/job:worker/replica:0/task:0/device:TPU:4, TPU, 0, 0)\n"
          ],
          "name": "stdout"
        },
        {
          "output_type": "stream",
          "text": [
            "INFO:tensorflow:*** Available Device: _DeviceAttributes(/job:worker/replica:0/task:0/device:TPU:4, TPU, 0, 0)\n"
          ],
          "name": "stderr"
        },
        {
          "output_type": "stream",
          "text": [
            "INFO:tensorflow:*** Available Device: _DeviceAttributes(/job:worker/replica:0/task:0/device:TPU:5, TPU, 0, 0)\n"
          ],
          "name": "stdout"
        },
        {
          "output_type": "stream",
          "text": [
            "INFO:tensorflow:*** Available Device: _DeviceAttributes(/job:worker/replica:0/task:0/device:TPU:5, TPU, 0, 0)\n"
          ],
          "name": "stderr"
        },
        {
          "output_type": "stream",
          "text": [
            "INFO:tensorflow:*** Available Device: _DeviceAttributes(/job:worker/replica:0/task:0/device:TPU:6, TPU, 0, 0)\n"
          ],
          "name": "stdout"
        },
        {
          "output_type": "stream",
          "text": [
            "INFO:tensorflow:*** Available Device: _DeviceAttributes(/job:worker/replica:0/task:0/device:TPU:6, TPU, 0, 0)\n"
          ],
          "name": "stderr"
        },
        {
          "output_type": "stream",
          "text": [
            "INFO:tensorflow:*** Available Device: _DeviceAttributes(/job:worker/replica:0/task:0/device:TPU:7, TPU, 0, 0)\n"
          ],
          "name": "stdout"
        },
        {
          "output_type": "stream",
          "text": [
            "INFO:tensorflow:*** Available Device: _DeviceAttributes(/job:worker/replica:0/task:0/device:TPU:7, TPU, 0, 0)\n"
          ],
          "name": "stderr"
        },
        {
          "output_type": "stream",
          "text": [
            "INFO:tensorflow:*** Available Device: _DeviceAttributes(/job:worker/replica:0/task:0/device:TPU_SYSTEM:0, TPU_SYSTEM, 0, 0)\n"
          ],
          "name": "stdout"
        },
        {
          "output_type": "stream",
          "text": [
            "INFO:tensorflow:*** Available Device: _DeviceAttributes(/job:worker/replica:0/task:0/device:TPU_SYSTEM:0, TPU_SYSTEM, 0, 0)\n"
          ],
          "name": "stderr"
        },
        {
          "output_type": "stream",
          "text": [
            "INFO:tensorflow:*** Available Device: _DeviceAttributes(/job:worker/replica:0/task:0/device:XLA_CPU:0, XLA_CPU, 0, 0)\n"
          ],
          "name": "stdout"
        },
        {
          "output_type": "stream",
          "text": [
            "INFO:tensorflow:*** Available Device: _DeviceAttributes(/job:worker/replica:0/task:0/device:XLA_CPU:0, XLA_CPU, 0, 0)\n"
          ],
          "name": "stderr"
        },
        {
          "output_type": "stream",
          "text": [
            "Running on TPU: grpc://10.69.254.162:8470\n"
          ],
          "name": "stdout"
        }
      ]
    },
    {
      "cell_type": "code",
      "metadata": {
        "id": "E2LIpgt_oL8F",
        "trusted": true
      },
      "source": [
        "from google.colab import auth\n",
        "auth.authenticate_user()"
      ],
      "execution_count": 3,
      "outputs": []
    },
    {
      "cell_type": "code",
      "metadata": {
        "colab": {
          "base_uri": "https://localhost:8080/"
        },
        "id": "UpwtC09Hxc2N",
        "outputId": "4c2ee127-cd74-4140-886f-64728d09cc48"
      },
      "source": [
        "from google.colab import drive\n",
        "drive.mount('/content/drive')"
      ],
      "execution_count": 4,
      "outputs": [
        {
          "output_type": "stream",
          "text": [
            "Drive already mounted at /content/drive; to attempt to forcibly remount, call drive.mount(\"/content/drive\", force_remount=True).\n"
          ],
          "name": "stdout"
        }
      ]
    },
    {
      "cell_type": "code",
      "metadata": {
        "colab": {
          "base_uri": "https://localhost:8080/"
        },
        "id": "vDkDgVvmyX1Y",
        "outputId": "efb63bd8-b65b-41ec-dff9-de5ba83267d1"
      },
      "source": [
        "cd \"/content/drive/MyDrive/Colab Notebooks\""
      ],
      "execution_count": 5,
      "outputs": [
        {
          "output_type": "stream",
          "text": [
            "/content/drive/MyDrive/Colab Notebooks\n"
          ],
          "name": "stdout"
        }
      ]
    },
    {
      "cell_type": "code",
      "metadata": {
        "id": "_eXivRS_VRgK",
        "trusted": true,
        "colab": {
          "base_uri": "https://localhost:8080/"
        },
        "outputId": "eb75ce37-ecf3-4499-e74e-efd0492c53e4"
      },
      "source": [
        "class CFG:\n",
        "    debug=False\n",
        "\n",
        "    dataset_dir=\"../input/ranzcr-clip-catheter-line-classification/\"\n",
        "    target_size=(256,256)\n",
        "    batch_size=8 if debug else strategy.num_replicas_in_sync*32\n",
        "    epochs=10 if debug else 20\n",
        "\n",
        "    target_cols=['ETT - Abnormal', 'ETT - Borderline', 'ETT - Normal', 'NGT - Abnormal', 'NGT - Borderline',\n",
        "       'NGT - Incompletely Imaged', 'NGT - Normal', 'CVC - Abnormal', 'CVC - Borderline', 'CVC - Normal', 'Swan Ganz Catheter Present']\n",
        "\n",
        "print(CFG.debug,CFG.batch_size)"
      ],
      "execution_count": 6,
      "outputs": [
        {
          "output_type": "stream",
          "text": [
            "False 256\n"
          ],
          "name": "stdout"
        }
      ]
    },
    {
      "cell_type": "code",
      "metadata": {
        "id": "8Fgs-DFRVRgL",
        "trusted": true
      },
      "source": [
        "feature_description={\n",
        "    \"CVC - Abnormal\":FixedLenFeature([],tf.int64),\n",
        "    \"CVC - Borderline\":FixedLenFeature([],tf.int64),\n",
        "    \"CVC - Normal\":FixedLenFeature([],tf.int64),\n",
        "    \"ETT - Abnormal\":FixedLenFeature([],tf.int64),\n",
        "    \"ETT - Borderline\":FixedLenFeature([],tf.int64),\n",
        "    \"ETT - Normal\":FixedLenFeature([],tf.int64),\n",
        "    \"NGT - Abnormal\":FixedLenFeature([],tf.int64),\n",
        "    \"NGT - Borderline\":FixedLenFeature([],tf.int64),\n",
        "    \"NGT - Incompletely Imaged\":FixedLenFeature([],tf.int64),\n",
        "    \"NGT - Normal\":FixedLenFeature([],tf.int64),\n",
        "    \"Swan Ganz Catheter Present\":FixedLenFeature([],tf.int64),\n",
        "    \"StudyInstanceUID\":FixedLenFeature([],tf.string),\n",
        "    \"image\":FixedLenFeature([],tf.string),\n",
        "}\n",
        "\n",
        "def parse_examples(example):\n",
        "    return tf.io.parse_example(example,feature_description)"
      ],
      "execution_count": 7,
      "outputs": []
    },
    {
      "cell_type": "code",
      "metadata": {
        "id": "O0qZiZG4VRgL",
        "trusted": true
      },
      "source": [
        "class dset_split():\n",
        "    def __init__(self,n_folds:int):\n",
        "        self.n_folds=n_folds\n",
        "        self.train=pd.read_csv(\"../input/ranzcr-clip-catheter-line-classification/train.csv\")\n",
        "    \n",
        "    def set_fold(self,fold:int):\n",
        "        train_idx,val_idx=list(GroupKFold(n_splits=self.n_folds).split(self.train,groups=self.train[\"PatientID\"]))[fold]\n",
        "        train_uid_array=self.train.iloc[train_idx,0].values\n",
        "        val_uid_array=self.train.iloc[val_idx,0].values\n",
        "        self.train_uid_tensor=tf.convert_to_tensor(train_uid_array,dtype=tf.string)\n",
        "        self.val_uid_tensor=tf.convert_to_tensor(val_uid_array,dtype=tf.string)\n",
        "    \n",
        "    def train_filter(self,parsed_record):\n",
        "        filtered=tf.math.equal(parsed_record[\"StudyInstanceUID\"],self.train_uid_tensor)\n",
        "        return tf.math.reduce_any(filtered)\n",
        "\n",
        "    def val_filter(self,parsed_record):\n",
        "        filtered=tf.math.equal(parsed_record[\"StudyInstanceUID\"],self.val_uid_tensor)\n",
        "        return tf.math.reduce_any(filtered)\n",
        "        \n",
        "def augument_(image,label):\n",
        "    image=tf.image.random_crop(image,(256,256,3))\n",
        "    # image=tf.image.random_contrast(image,0.8,1.2)\n",
        "    return image,label\n",
        "\n",
        "def preprocessing(parsed_record):\n",
        "    image=tf.io.decode_png(parsed_record[\"image\"],channels=3) # decode_imageではresizeでエラーが出る\n",
        "    image=tf.cast(image,tf.float32)\n",
        "    image=tf.reshape(image,[300,300,3]) # without this, TPU will not run\n",
        "    image/=255.0 # normalization\n",
        "\n",
        "    label=[]\n",
        "    for col_name in CFG.target_cols:\n",
        "        label.append(parsed_record[col_name])\n",
        "    \n",
        "    return image,label\n",
        "\n",
        "\n",
        "def build_datasets(splitter):\n",
        "    AUTO=tf.data.experimental.AUTOTUNE\n",
        "    recordname=\"../input/train_300x300.tfrec\" if CFG.debug else \"gs://km_kaggle_catheter/train_300x300.tfrec\"\n",
        "    raw_dataset=tf.data.TFRecordDataset(recordname)\n",
        "    dset=raw_dataset.map(parse_examples,num_parallel_calls=AUTO).cache() # apply time-consuming process before cache()\n",
        "    train_dset=dset.filter(splitter.train_filter)\n",
        "    val_dset=dset.filter(splitter.val_filter)\n",
        "    \n",
        "    return train_dset,val_dset\n",
        "\n",
        "\n",
        "def dset_postprocessing(dset,repeat=False,augument=True):\n",
        "    AUTO=tf.data.experimental.AUTOTUNE\n",
        "\n",
        "    dset=dset.map(preprocessing,num_parallel_calls=AUTO) # memory-consuming process should be placed after cache()\n",
        "    dset=dset.map(augument_,num_parallel_calls=AUTO) if augument else dset\n",
        "    dset=dset.repeat() if repeat else dset\n",
        "    dset=dset.batch(CFG.batch_size,drop_remainder=True).prefetch(AUTO) # Warning: putting preprocessing after batch() causes an error\n",
        "        # 並列学習させている場合は,最後にサンプル数の少ないミニバッチに対して学習すると\n",
        "        # batch normにおいて0に近い値で除算され値が大きくなりすぎloss: nanとなる\n",
        "    return dset\n",
        "\n",
        "\n",
        "splitter=dset_split(n_folds=4)\n",
        "splitter.set_fold(0)\n",
        "train_dset,val_dset=build_datasets(splitter)\n",
        "train_dset=dset_postprocessing(train_dset)\n",
        "val_dset=dset_postprocessing(val_dset)"
      ],
      "execution_count": 8,
      "outputs": []
    },
    {
      "cell_type": "code",
      "metadata": {
        "id": "7zEkcj3BUERp",
        "trusted": true
      },
      "source": [
        "save_locally = tf.saved_model.SaveOptions(experimental_io_device='/job:localhost')\n",
        "\n",
        "checkpoint = tf.keras.callbacks.ModelCheckpoint(\"effnet_finetuning1/ckpt\", save_best_only=True, monitor=\"val_auc\", mode='max',options=save_locally)\n",
        "lr_reducer = tf.keras.callbacks.ReduceLROnPlateau(monitor=\"val_auc\", patience=3, min_lr=1e-6, mode='max',verbose=1)"
      ],
      "execution_count": 9,
      "outputs": []
    },
    {
      "cell_type": "code",
      "metadata": {
        "id": "mOuN1_mjVRgO",
        "trusted": true,
        "colab": {
          "base_uri": "https://localhost:8080/"
        },
        "outputId": "5d88c365-9a71-43bd-985b-a4d7990fe7c0"
      },
      "source": [
        "#with strategy.scope():\n",
        "model=keras.Sequential([\n",
        "    EfficientNetB7(include_top=False,weights=\"imagenet\",input_shape=(256,256,3),pooling=\"avg\",drop_connect_rate=0.7),\n",
        "    keras.layers.Dense(11,activation=\"sigmoid\")\n",
        "])\n",
        "model.compile(optimizer=\"adam\",loss=\"binary_crossentropy\",metrics=[keras.metrics.AUC(multi_label=True,name=\"auc\")])\n",
        "model.summary()"
      ],
      "execution_count": 10,
      "outputs": [
        {
          "output_type": "stream",
          "text": [
            "Model: \"sequential\"\n",
            "_________________________________________________________________\n",
            "Layer (type)                 Output Shape              Param #   \n",
            "=================================================================\n",
            "efficientnetb7 (Functional)  (None, 2560)              64097687  \n",
            "_________________________________________________________________\n",
            "dense (Dense)                (None, 11)                28171     \n",
            "=================================================================\n",
            "Total params: 64,125,858\n",
            "Trainable params: 63,815,131\n",
            "Non-trainable params: 310,727\n",
            "_________________________________________________________________\n"
          ],
          "name": "stdout"
        }
      ]
    },
    {
      "cell_type": "code",
      "metadata": {
        "id": "Z-tzC2MmVRgP",
        "trusted": true,
        "colab": {
          "base_uri": "https://localhost:8080/"
        },
        "outputId": "bed9c368-215c-4a95-e9e4-231d980b3202"
      },
      "source": [
        "model.fit(train_dset,max_queue_size=3,epochs=CFG.epochs,callbacks=[checkpoint,lr_reducer],\n",
        "         validation_data=val_dset)"
      ],
      "execution_count": null,
      "outputs": [
        {
          "output_type": "stream",
          "text": [
            "Epoch 1/20\n",
            "      5/Unknown - 317s 58s/step - loss: 0.6101 - auc: 0.4868"
          ],
          "name": "stdout"
        }
      ]
    }
  ]
}