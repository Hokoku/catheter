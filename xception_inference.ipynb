{
 "metadata": {
  "language_info": {
   "codemirror_mode": {
    "name": "ipython",
    "version": 3
   },
   "file_extension": ".py",
   "mimetype": "text/x-python",
   "name": "python",
   "nbconvert_exporter": "python",
   "pygments_lexer": "ipython3",
   "version": "3.8.8-final"
  },
  "orig_nbformat": 2,
  "kernelspec": {
   "name": "python3",
   "display_name": "Python 3.8.8 64-bit ('py38': conda)",
   "metadata": {
    "interpreter": {
     "hash": "3da45907e5cd41bdac7b692b424c19725633d98a853f93b11b400b1d8951ac30"
    }
   }
  }
 },
 "nbformat": 4,
 "nbformat_minor": 2,
 "cells": [
  {
   "cell_type": "code",
   "execution_count": 1,
   "metadata": {},
   "outputs": [],
   "source": [
    "import numpy as np\n",
    "import pandas as pd\n",
    "from IPython.display import display\n",
    "import matplotlib.pyplot as plt\n",
    "\n",
    "import tensorflow as tf\n",
    "from tensorflow import keras"
   ]
  },
  {
   "cell_type": "code",
   "execution_count": 2,
   "metadata": {},
   "outputs": [],
   "source": [
    "class CFG:\n",
    "    debug=True\n",
    "\n",
    "    dataset_dir=\"../input/ranzcr-clip-catheter-line-classification/\"\n",
    "    batch_size=4 if debug else 64"
   ]
  },
  {
   "cell_type": "code",
   "execution_count": 3,
   "metadata": {},
   "outputs": [],
   "source": [
    "test_path=f\"{CFG.dataset_dir}train.csv\" if CFG.debug else CFG.dataset_dir+\"sample_submission.csv\"\n",
    "test=pd.read_csv(test_path)\n",
    "\n",
    "if CFG.debug: test=test[0:4]"
   ]
  },
  {
   "cell_type": "code",
   "execution_count": 4,
   "metadata": {},
   "outputs": [],
   "source": [
    "AUTO=tf.data.experimental.AUTOTUNE\n",
    "\n",
    "def preprocessing(path):\n",
    "    file_bytes=tf.io.read_file(path)\n",
    "    image=tf.io.decode_jpeg(file_bytes,channels=3) # decode_imageではresizeでエラーが出る\n",
    "    image=tf.cast(image,tf.float32)\n",
    "    image=tf.image.resize(image,(299,299))\n",
    "    image=tf.reshape(image,[299,299,3]) # without this, TPU will not run\n",
    "    image/=255.0 # normalization\n",
    "    return image    \n",
    "\n",
    "def build_dataset(uid):\n",
    "    path=f\"{CFG.dataset_dir}train/\"+uid+\".jpg\" if CFG.debug else f\"{CFG.dataset_dir}test/\"+uid+\".jpg\"\n",
    "    dset=tf.data.Dataset.from_tensor_slices(path)\n",
    "    dset=dset.map(preprocessing,num_parallel_calls=AUTO) # memory-consuming process should be placed after cache()\n",
    "    dset=dset.batch(CFG.batch_size).prefetch(AUTO) # Warning: putting preprocessing after batch() causes an error\n",
    "    return dset"
   ]
  },
  {
   "cell_type": "code",
   "execution_count": 5,
   "metadata": {},
   "outputs": [],
   "source": [
    "test_dataset=build_dataset(test[\"StudyInstanceUID\"])"
   ]
  },
  {
   "cell_type": "code",
   "execution_count": 7,
   "metadata": {},
   "outputs": [
    {
     "output_type": "stream",
     "name": "stdout",
     "text": [
      "Model: \"sequential_3\"\n_________________________________________________________________\nLayer (type)                 Output Shape              Param #   \n=================================================================\nxception (Functional)        (None, 2048)              20861480  \n_________________________________________________________________\ndense_3 (Dense)              (None, 11)                22539     \n=================================================================\nTotal params: 20,884,019\nTrainable params: 20,829,491\nNon-trainable params: 54,528\n_________________________________________________________________\n"
     ]
    }
   ],
   "source": [
    "xception=keras.models.load_model(\"./models/xception_ckpt/\")\n",
    "xception.summary()"
   ]
  },
  {
   "cell_type": "code",
   "execution_count": 8,
   "metadata": {},
   "outputs": [
    {
     "output_type": "display_data",
     "data": {
      "text/plain": "                                    StudyInstanceUID  ETT - Abnormal  \\\n0  1.2.826.0.1.3680043.8.498.26697628953273228189...        0.002011   \n1  1.2.826.0.1.3680043.8.498.46302891597398758759...        0.000019   \n2  1.2.826.0.1.3680043.8.498.23819260719748494858...        0.000003   \n3  1.2.826.0.1.3680043.8.498.68286643202323212801...        0.000548   \n\n   ETT - Borderline  ETT - Normal  NGT - Abnormal  NGT - Borderline  \\\n0          0.000052      0.000121        0.050357          0.129483   \n1          0.006022      0.993922        0.030547          0.003023   \n2          0.000022      0.000009        0.000028          0.000045   \n3          0.000164      0.000016        0.000420          0.000021   \n\n   NGT - Incompletely Imaged  NGT - Normal  CVC - Abnormal  CVC - Borderline  \\\n0               1.394829e-02      0.724036        0.006088          0.079409   \n1               9.750408e-01      0.001863        0.034195          0.117789   \n2               6.568887e-07      0.000026        0.019722          0.971912   \n3               1.587168e-05      0.000003        0.575235          0.266533   \n\n   CVC - Normal  Swan Ganz Catheter Present  PatientID  \n0      0.410922                    0.000029  ec89415d1  \n1      0.957203                    0.041508  bf4c6da3c  \n2      0.019570                    0.000003  3fc1c97e5  \n3      0.166688                    0.000134  c31019814  ",
      "text/html": "<div>\n<style scoped>\n    .dataframe tbody tr th:only-of-type {\n        vertical-align: middle;\n    }\n\n    .dataframe tbody tr th {\n        vertical-align: top;\n    }\n\n    .dataframe thead th {\n        text-align: right;\n    }\n</style>\n<table border=\"1\" class=\"dataframe\">\n  <thead>\n    <tr style=\"text-align: right;\">\n      <th></th>\n      <th>StudyInstanceUID</th>\n      <th>ETT - Abnormal</th>\n      <th>ETT - Borderline</th>\n      <th>ETT - Normal</th>\n      <th>NGT - Abnormal</th>\n      <th>NGT - Borderline</th>\n      <th>NGT - Incompletely Imaged</th>\n      <th>NGT - Normal</th>\n      <th>CVC - Abnormal</th>\n      <th>CVC - Borderline</th>\n      <th>CVC - Normal</th>\n      <th>Swan Ganz Catheter Present</th>\n      <th>PatientID</th>\n    </tr>\n  </thead>\n  <tbody>\n    <tr>\n      <th>0</th>\n      <td>1.2.826.0.1.3680043.8.498.26697628953273228189...</td>\n      <td>0.002011</td>\n      <td>0.000052</td>\n      <td>0.000121</td>\n      <td>0.050357</td>\n      <td>0.129483</td>\n      <td>1.394829e-02</td>\n      <td>0.724036</td>\n      <td>0.006088</td>\n      <td>0.079409</td>\n      <td>0.410922</td>\n      <td>0.000029</td>\n      <td>ec89415d1</td>\n    </tr>\n    <tr>\n      <th>1</th>\n      <td>1.2.826.0.1.3680043.8.498.46302891597398758759...</td>\n      <td>0.000019</td>\n      <td>0.006022</td>\n      <td>0.993922</td>\n      <td>0.030547</td>\n      <td>0.003023</td>\n      <td>9.750408e-01</td>\n      <td>0.001863</td>\n      <td>0.034195</td>\n      <td>0.117789</td>\n      <td>0.957203</td>\n      <td>0.041508</td>\n      <td>bf4c6da3c</td>\n    </tr>\n    <tr>\n      <th>2</th>\n      <td>1.2.826.0.1.3680043.8.498.23819260719748494858...</td>\n      <td>0.000003</td>\n      <td>0.000022</td>\n      <td>0.000009</td>\n      <td>0.000028</td>\n      <td>0.000045</td>\n      <td>6.568887e-07</td>\n      <td>0.000026</td>\n      <td>0.019722</td>\n      <td>0.971912</td>\n      <td>0.019570</td>\n      <td>0.000003</td>\n      <td>3fc1c97e5</td>\n    </tr>\n    <tr>\n      <th>3</th>\n      <td>1.2.826.0.1.3680043.8.498.68286643202323212801...</td>\n      <td>0.000548</td>\n      <td>0.000164</td>\n      <td>0.000016</td>\n      <td>0.000420</td>\n      <td>0.000021</td>\n      <td>1.587168e-05</td>\n      <td>0.000003</td>\n      <td>0.575235</td>\n      <td>0.266533</td>\n      <td>0.166688</td>\n      <td>0.000134</td>\n      <td>c31019814</td>\n    </tr>\n  </tbody>\n</table>\n</div>"
     },
     "metadata": {}
    }
   ],
   "source": [
    "submission=test.copy()\n",
    "submission.iloc[:,1:12]=xception.predict(test_dataset)\n",
    "display(submission)\n",
    "if not CFG.debug: submission.to_csv(\"submission.csv\",index=False)"
   ]
  }
 ]
}