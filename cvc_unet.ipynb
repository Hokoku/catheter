{
 "metadata": {
  "language_info": {
   "codemirror_mode": {
    "name": "ipython",
    "version": 3
   },
   "file_extension": ".py",
   "mimetype": "text/x-python",
   "name": "python",
   "nbconvert_exporter": "python",
   "pygments_lexer": "ipython3",
   "version": "3.8.8-final"
  },
  "orig_nbformat": 2,
  "kernelspec": {
   "name": "python3",
   "display_name": "Python 3.8.8 64-bit ('py38': conda)",
   "metadata": {
    "interpreter": {
     "hash": "3da45907e5cd41bdac7b692b424c19725633d98a853f93b11b400b1d8951ac30"
    }
   }
  }
 },
 "nbformat": 4,
 "nbformat_minor": 2,
 "cells": [
  {
   "cell_type": "code",
   "execution_count": 1,
   "metadata": {},
   "outputs": [
    {
     "output_type": "stream",
     "name": "stdout",
     "text": [
      "Segmentation Models: using `tf.keras` framework.\n"
     ]
    }
   ],
   "source": [
    "import numpy as np\n",
    "import pandas as pd\n",
    "import os\n",
    "import segmentation_models as sm\n",
    "from IPython.display import display\n",
    "from glob import glob\n",
    "import matplotlib.pyplot as plt\n",
    "\n",
    "import tensorflow as tf\n",
    "from sklearn.model_selection import train_test_split"
   ]
  },
  {
   "cell_type": "code",
   "execution_count": 2,
   "metadata": {},
   "outputs": [],
   "source": [
    "class CFG:\n",
    "    debug=True\n",
    "\n",
    "    dataset_dir=\"../input/ranzcr-clip-catheter-line-classification/\"\n",
    "    batch_size=4 if debug else 128 \n",
    "    input_size=(512,512)\n",
    "    epochs=2 if debug else 30"
   ]
  },
  {
   "cell_type": "code",
   "execution_count": 8,
   "metadata": {},
   "outputs": [],
   "source": [
    "def preprocess(path):\n",
    "    file_bytes=tf.io.read_file(path)\n",
    "    image=tf.io.decode_jpeg(file_bytes,channels=1)\n",
    "    image=tf.image.resize(image,CFG.input_size)\n",
    "    image/=255.0\n",
    "    return image\n",
    "\n",
    "def decode_paths(filename):\n",
    "    original_paths=f\"{CFG.dataset_dir}train/\"+filename # f\"{}\"ではTensorの型変換が働かない\n",
    "    annotated_paths=f\"../input/cvc_annotated_cv2/\"+filename\n",
    "    original_imgs=preprocess(original_paths)\n",
    "    annotated_imgs=preprocess(annotated_paths)\n",
    "    return original_imgs,annotated_imgs\n",
    "\n",
    "def build_dataset(paths,shuffle=256):\n",
    "    AUTO=tf.data.experimental.AUTOTUNE\n",
    "    dset=tf.data.Dataset.from_tensor_slices(paths)\n",
    "    dset=dset.map(decode_paths,num_parallel_calls=AUTO)\n",
    "    dset=dset.cache()\n",
    "    dset=dset.shuffle(shuffle) if shuffle else dset\n",
    "    dset=dset.batch(CFG.batch_size).prefetch(AUTO)\n",
    "    return dset"
   ]
  },
  {
   "cell_type": "code",
   "execution_count": 10,
   "metadata": {},
   "outputs": [],
   "source": [
    "annotated_filenames=os.listdir(\"../input/cvc_annotated_cv2/\")\n",
    "train_paths,val_paths=train_test_split(annotated_filenames,test_size=0.25)\n",
    "train_dset=build_dataset(train_paths)\n",
    "val_dset=build_dataset(val_paths,shuffle=False)"
   ]
  },
  {
   "cell_type": "code",
   "execution_count": 5,
   "metadata": {},
   "outputs": [],
   "source": [
    "model=sm.Unet(classes=1,activation=\"sigmoid\",encoder_weights=None,input_shape=CFG.input_size+(1,))"
   ]
  },
  {
   "cell_type": "code",
   "execution_count": 11,
   "metadata": {},
   "outputs": [
    {
     "output_type": "stream",
     "name": "stdout",
     "text": [
      "Epoch 1/2\n",
      "WARNING:tensorflow:AutoGraph could not transform <function binary_crossentropy at 0x0000021D9AF58D30> and will run it as-is.\n",
      "Please report this to the TensorFlow team. When filing the bug, set the verbosity to 10 (on Linux, `export AUTOGRAPH_VERBOSITY=10`) and attach the full output.\n",
      "Cause: module 'gast' has no attribute 'Index'\n",
      "To silence this warning, decorate the function with @tf.autograph.experimental.do_not_convert\n",
      "WARNING: AutoGraph could not transform <function binary_crossentropy at 0x0000021D9AF58D30> and will run it as-is.\n",
      "Please report this to the TensorFlow team. When filing the bug, set the verbosity to 10 (on Linux, `export AUTOGRAPH_VERBOSITY=10`) and attach the full output.\n",
      "Cause: module 'gast' has no attribute 'Index'\n",
      "To silence this warning, decorate the function with @tf.autograph.experimental.do_not_convert\n",
      "WARNING:tensorflow:AutoGraph could not transform <function iou_score at 0x0000021D9AF58A60> and will run it as-is.\n",
      "Please report this to the TensorFlow team. When filing the bug, set the verbosity to 10 (on Linux, `export AUTOGRAPH_VERBOSITY=10`) and attach the full output.\n",
      "Cause: module 'gast' has no attribute 'Index'\n",
      "To silence this warning, decorate the function with @tf.autograph.experimental.do_not_convert\n",
      "WARNING: AutoGraph could not transform <function iou_score at 0x0000021D9AF58A60> and will run it as-is.\n",
      "Please report this to the TensorFlow team. When filing the bug, set the verbosity to 10 (on Linux, `export AUTOGRAPH_VERBOSITY=10`) and attach the full output.\n",
      "Cause: module 'gast' has no attribute 'Index'\n",
      "To silence this warning, decorate the function with @tf.autograph.experimental.do_not_convert\n",
      "   3/1660 [..............................] - ETA: 10:09:46 - loss: 1.9624 - iou_score: 6.4018e-04"
     ]
    }
   ],
   "source": [
    "ckpt=tf.keras.callbacks.ModelCheckpoint(\"./models/unet_cvc/ckpt\",save_best_only=True,monitor=\"val_iou_score\",mode=\"max\")\n",
    "\n",
    "model.compile(optimizer=\"adam\",loss=sm.losses.bce_jaccard_loss,metrics=[sm.metrics.iou_score])\n",
    "model.fit(train_dset,epochs=CFG.epochs,validation_data=val_dset)"
   ]
  }
 ]
}