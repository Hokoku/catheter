{
 "metadata": {
  "language_info": {
   "codemirror_mode": {
    "name": "ipython",
    "version": 3
   },
   "file_extension": ".py",
   "mimetype": "text/x-python",
   "name": "python",
   "nbconvert_exporter": "python",
   "pygments_lexer": "ipython3",
   "version": "3.8.5-final"
  },
  "orig_nbformat": 2,
  "kernelspec": {
   "name": "python3",
   "display_name": "Python 3.8.5 64-bit ('py38': conda)",
   "metadata": {
    "interpreter": {
     "hash": "3da45907e5cd41bdac7b692b424c19725633d98a853f93b11b400b1d8951ac30"
    }
   }
  }
 },
 "nbformat": 4,
 "nbformat_minor": 2,
 "cells": [
  {
   "cell_type": "code",
   "execution_count": 10,
   "metadata": {},
   "outputs": [],
   "source": [
    "import pandas as pd\n",
    "import numpy as np\n",
    "from IPython.display import display\n",
    "from tqdm.notebook import tqdm\n",
    "import pickle\n",
    "\n",
    "from tensorflow.keras.models import Model, load_model\n",
    "from tensorflow.keras.preprocessing import image\n",
    "from tensorflow.keras.applications.efficientnet import preprocess_input\n",
    "\n",
    "from sklearn.model_selection import train_test_split\n",
    "from sklearn.metrics import roc_auc_score"
   ]
  },
  {
   "source": [
    "## CFG"
   ],
   "cell_type": "markdown",
   "metadata": {}
  },
  {
   "cell_type": "code",
   "execution_count": 2,
   "metadata": {},
   "outputs": [],
   "source": [
    "class CFG:\n",
    "    debug=True\n",
    "\n",
    "    dataset_dir=\"../input/ranzcr-clip-catheter-line-classification/\"\n",
    "    models_dir=\"./models/\" if debug else \"../input/efficientnet-lightgbm-models/\"\n",
    "\n",
    "    target_cols=['ETT - Abnormal', 'ETT - Borderline', 'ETT - Normal', 'NGT - Abnormal', 'NGT - Borderline', 'NGT - Incompletely Imaged',           'NGT - Normal', 'CVC - Abnormal', 'CVC - Borderline', 'CVC - Normal', 'Swan Ganz Catheter Present']"
   ]
  },
  {
   "cell_type": "code",
   "execution_count": 3,
   "metadata": {},
   "outputs": [
    {
     "output_type": "display_data",
     "data": {
      "text/plain": "                                       StudyInstanceUID  ETT - Abnormal  \\\n2764  1.2.826.0.1.3680043.8.498.53187330532968389747...               0   \n2293  1.2.826.0.1.3680043.8.498.23628841926681382432...               0   \n916   1.2.826.0.1.3680043.8.498.95814725756838594874...               0   \n26    1.2.826.0.1.3680043.8.498.30188537311791900160...               0   \n2872  1.2.826.0.1.3680043.8.498.12633219127030026453...               0   \n2458  1.2.826.0.1.3680043.8.498.11169256056227577367...               0   \n1275  1.2.826.0.1.3680043.8.498.10205354356085088542...               0   \n1240  1.2.826.0.1.3680043.8.498.24239184506702911292...               0   \n3577  1.2.826.0.1.3680043.8.498.81464483108873296584...               0   \n510   1.2.826.0.1.3680043.8.498.32689913031429495918...               0   \n\n      ETT - Borderline  ETT - Normal  NGT - Abnormal  NGT - Borderline  \\\n2764                 0             0               0                 0   \n2293                 0             0               0                 0   \n916                  0             0               0                 0   \n26                   0             0               0                 0   \n2872                 0             0               0                 0   \n2458                 0             0               0                 0   \n1275                 0             0               0                 0   \n1240                 0             0               0                 0   \n3577                 0             0               0                 0   \n510                  0             0               0                 0   \n\n      NGT - Incompletely Imaged  NGT - Normal  CVC - Abnormal  \\\n2764                          0             0               0   \n2293                          0             0               0   \n916                           0             0               0   \n26                            0             0               0   \n2872                          0             0               0   \n2458                          0             0               0   \n1275                          0             0               0   \n1240                          0             0               0   \n3577                          0             0               0   \n510                           0             0               0   \n\n      CVC - Borderline  CVC - Normal  Swan Ganz Catheter Present  \n2764                 0             0                           0  \n2293                 0             0                           0  \n916                  0             0                           0  \n26                   0             0                           0  \n2872                 0             0                           0  \n2458                 0             0                           0  \n1275                 0             0                           0  \n1240                 0             0                           0  \n3577                 0             0                           0  \n510                  0             0                           0  ",
      "text/html": "<div>\n<style scoped>\n    .dataframe tbody tr th:only-of-type {\n        vertical-align: middle;\n    }\n\n    .dataframe tbody tr th {\n        vertical-align: top;\n    }\n\n    .dataframe thead th {\n        text-align: right;\n    }\n</style>\n<table border=\"1\" class=\"dataframe\">\n  <thead>\n    <tr style=\"text-align: right;\">\n      <th></th>\n      <th>StudyInstanceUID</th>\n      <th>ETT - Abnormal</th>\n      <th>ETT - Borderline</th>\n      <th>ETT - Normal</th>\n      <th>NGT - Abnormal</th>\n      <th>NGT - Borderline</th>\n      <th>NGT - Incompletely Imaged</th>\n      <th>NGT - Normal</th>\n      <th>CVC - Abnormal</th>\n      <th>CVC - Borderline</th>\n      <th>CVC - Normal</th>\n      <th>Swan Ganz Catheter Present</th>\n    </tr>\n  </thead>\n  <tbody>\n    <tr>\n      <th>2764</th>\n      <td>1.2.826.0.1.3680043.8.498.53187330532968389747...</td>\n      <td>0</td>\n      <td>0</td>\n      <td>0</td>\n      <td>0</td>\n      <td>0</td>\n      <td>0</td>\n      <td>0</td>\n      <td>0</td>\n      <td>0</td>\n      <td>0</td>\n      <td>0</td>\n    </tr>\n    <tr>\n      <th>2293</th>\n      <td>1.2.826.0.1.3680043.8.498.23628841926681382432...</td>\n      <td>0</td>\n      <td>0</td>\n      <td>0</td>\n      <td>0</td>\n      <td>0</td>\n      <td>0</td>\n      <td>0</td>\n      <td>0</td>\n      <td>0</td>\n      <td>0</td>\n      <td>0</td>\n    </tr>\n    <tr>\n      <th>916</th>\n      <td>1.2.826.0.1.3680043.8.498.95814725756838594874...</td>\n      <td>0</td>\n      <td>0</td>\n      <td>0</td>\n      <td>0</td>\n      <td>0</td>\n      <td>0</td>\n      <td>0</td>\n      <td>0</td>\n      <td>0</td>\n      <td>0</td>\n      <td>0</td>\n    </tr>\n    <tr>\n      <th>26</th>\n      <td>1.2.826.0.1.3680043.8.498.30188537311791900160...</td>\n      <td>0</td>\n      <td>0</td>\n      <td>0</td>\n      <td>0</td>\n      <td>0</td>\n      <td>0</td>\n      <td>0</td>\n      <td>0</td>\n      <td>0</td>\n      <td>0</td>\n      <td>0</td>\n    </tr>\n    <tr>\n      <th>2872</th>\n      <td>1.2.826.0.1.3680043.8.498.12633219127030026453...</td>\n      <td>0</td>\n      <td>0</td>\n      <td>0</td>\n      <td>0</td>\n      <td>0</td>\n      <td>0</td>\n      <td>0</td>\n      <td>0</td>\n      <td>0</td>\n      <td>0</td>\n      <td>0</td>\n    </tr>\n    <tr>\n      <th>2458</th>\n      <td>1.2.826.0.1.3680043.8.498.11169256056227577367...</td>\n      <td>0</td>\n      <td>0</td>\n      <td>0</td>\n      <td>0</td>\n      <td>0</td>\n      <td>0</td>\n      <td>0</td>\n      <td>0</td>\n      <td>0</td>\n      <td>0</td>\n      <td>0</td>\n    </tr>\n    <tr>\n      <th>1275</th>\n      <td>1.2.826.0.1.3680043.8.498.10205354356085088542...</td>\n      <td>0</td>\n      <td>0</td>\n      <td>0</td>\n      <td>0</td>\n      <td>0</td>\n      <td>0</td>\n      <td>0</td>\n      <td>0</td>\n      <td>0</td>\n      <td>0</td>\n      <td>0</td>\n    </tr>\n    <tr>\n      <th>1240</th>\n      <td>1.2.826.0.1.3680043.8.498.24239184506702911292...</td>\n      <td>0</td>\n      <td>0</td>\n      <td>0</td>\n      <td>0</td>\n      <td>0</td>\n      <td>0</td>\n      <td>0</td>\n      <td>0</td>\n      <td>0</td>\n      <td>0</td>\n      <td>0</td>\n    </tr>\n    <tr>\n      <th>3577</th>\n      <td>1.2.826.0.1.3680043.8.498.81464483108873296584...</td>\n      <td>0</td>\n      <td>0</td>\n      <td>0</td>\n      <td>0</td>\n      <td>0</td>\n      <td>0</td>\n      <td>0</td>\n      <td>0</td>\n      <td>0</td>\n      <td>0</td>\n      <td>0</td>\n    </tr>\n    <tr>\n      <th>510</th>\n      <td>1.2.826.0.1.3680043.8.498.32689913031429495918...</td>\n      <td>0</td>\n      <td>0</td>\n      <td>0</td>\n      <td>0</td>\n      <td>0</td>\n      <td>0</td>\n      <td>0</td>\n      <td>0</td>\n      <td>0</td>\n      <td>0</td>\n      <td>0</td>\n    </tr>\n  </tbody>\n</table>\n</div>"
     },
     "metadata": {}
    }
   ],
   "source": [
    "test=pd.read_csv(f\"{CFG.dataset_dir}sample_submission.csv\")\n",
    "\n",
    "if CFG.debug:\n",
    "    n_samples=10\n",
    "    train,test=train_test_split(test,test_size=n_samples)\n",
    "\n",
    "display(test)"
   ]
  },
  {
   "source": [
    "## EfficientNetB7による出力の取得"
   ],
   "cell_type": "markdown",
   "metadata": {}
  },
  {
   "cell_type": "code",
   "execution_count": 4,
   "metadata": {},
   "outputs": [
    {
     "output_type": "stream",
     "name": "stdout",
     "text": [
      "WARNING:tensorflow:No training configuration found in the save file, so the model was *not* compiled. Compile it manually.\n"
     ]
    }
   ],
   "source": [
    "nn_model=load_model(f\"{CFG.models_dir}efficientnetB7.h5\")"
   ]
  },
  {
   "cell_type": "code",
   "execution_count": 11,
   "metadata": {},
   "outputs": [
    {
     "output_type": "display_data",
     "data": {
      "text/plain": "  0%|          | 0/10 [00:00<?, ?it/s]",
      "application/vnd.jupyter.widget-view+json": {
       "version_major": 2,
       "version_minor": 0,
       "model_id": "9aa03d5d8b3b47e39b260e5968d90cd7"
      }
     },
     "metadata": {}
    }
   ],
   "source": [
    "pred_list=[]\n",
    "for uid in tqdm(test[\"StudyInstanceUID\"]):\n",
    "    img_pil=image.load_img(f\"{CFG.dataset_dir}test/{uid}.jpg\", target_size=(256,256)) # PIL形式で画像を読み込み、リサイズ\n",
    "    img=image.img_to_array(img_pil)\n",
    "    img=np.expand_dims(img,axis=0)\n",
    "    nn_pred=nn_model.predict(preprocess_input(img))\n",
    "    pred_list.append(nn_pred[0])\n",
    "\n",
    "nn_pred=np.array(pred_list)"
   ]
  },
  {
   "source": [
    "### 正規化する"
   ],
   "cell_type": "markdown",
   "metadata": {}
  },
  {
   "cell_type": "code",
   "execution_count": 6,
   "metadata": {},
   "outputs": [
    {
     "output_type": "display_data",
     "data": {
      "text/plain": "                                    StudyInstanceUID         0         1  \\\n0  1.2.826.0.1.3680043.8.498.53187330532968389747...  0.392083  0.204822   \n1  1.2.826.0.1.3680043.8.498.23628841926681382432...  0.178802  0.305499   \n2  1.2.826.0.1.3680043.8.498.95814725756838594874...  0.163736  0.299436   \n3  1.2.826.0.1.3680043.8.498.30188537311791900160...  0.476096  0.360794   \n4  1.2.826.0.1.3680043.8.498.12633219127030026453...  0.067392  0.311888   \n5  1.2.826.0.1.3680043.8.498.11169256056227577367...  0.110847  0.314346   \n6  1.2.826.0.1.3680043.8.498.10205354356085088542...  0.100611  0.251807   \n7  1.2.826.0.1.3680043.8.498.24239184506702911292...  0.045561  0.189722   \n8  1.2.826.0.1.3680043.8.498.81464483108873296584...  0.107708  0.281665   \n9  1.2.826.0.1.3680043.8.498.32689913031429495918...  0.498140  0.143177   \n\n          2         3         4         5         6         7         8  ...  \\\n0  0.302095  0.312136  0.029790  0.127774  0.087180  0.401984  0.301424  ...   \n1  0.180544  0.162037  0.175688  0.322159  0.279780  0.150125  0.286821  ...   \n2  0.252858  0.171036  0.062020  0.340633  0.091703  0.369620  0.452058  ...   \n3  0.383778  0.140472  0.352782  0.234401  0.185029  0.385253  0.187532  ...   \n4  0.185603  0.067984  0.064778  0.397559  0.178609  0.471995  0.279235  ...   \n5  0.101048  0.262023  0.198968  0.110342  0.173974  0.241759  0.532130  ...   \n6  0.176557  0.207098  0.163470  0.152860  0.244016  0.243979  0.216611  ...   \n7  0.125817  0.108249  0.124685  0.420566  0.131521  0.457789  0.124929  ...   \n8  0.123436  0.205817  0.040849  0.230082  0.153888  0.275494  0.411286  ...   \n9  0.205309  0.195642  0.790830  0.377499  0.145924  0.209813  0.342672  ...   \n\n       2550      2551      2552      2553      2554      2555      2556  \\\n0  0.288278  0.240811  0.592575  0.084094  0.039363  0.374288  0.184754   \n1  0.113365  0.109818  0.220005  0.192193  0.055772  0.202430  0.064870   \n2  0.246682  0.212359  0.362382  0.275446  0.069720  0.237833  0.150405   \n3  0.651302  0.142143  0.047620  0.255281  0.082383  0.322772  0.147672   \n4  0.151908  0.194794  0.533105  0.191994  0.070432  0.094274  0.024481   \n5  0.402385  0.220766  0.131296  0.172787  0.032482  0.075310  0.430619   \n6  0.180387  0.292911  0.285579  0.181616  0.082373  0.208384  0.241177   \n7  0.225335  0.167912  0.175035  0.352255  0.056880  0.062810  0.308791   \n8  0.431550  0.065627  0.279459  0.266971  0.055690  0.286073  0.370544   \n9  0.250451  0.502635  0.016645  0.149513  0.095956  0.245531  0.247173   \n\n       2557      2558      2559  \n0  0.232877  0.199650  0.300287  \n1  0.072565  0.416423  0.181910  \n2  0.073818  0.184411  0.390313  \n3  0.074314  0.152038  0.076180  \n4  0.132054  0.345809  0.413144  \n5  0.054897  0.213571  0.227080  \n6  0.639229  0.399528  0.220507  \n7  0.178002  0.390412  0.228199  \n8  0.306568  0.355896  0.427009  \n9  0.081134  0.140821  0.043710  \n\n[10 rows x 2561 columns]",
      "text/html": "<div>\n<style scoped>\n    .dataframe tbody tr th:only-of-type {\n        vertical-align: middle;\n    }\n\n    .dataframe tbody tr th {\n        vertical-align: top;\n    }\n\n    .dataframe thead th {\n        text-align: right;\n    }\n</style>\n<table border=\"1\" class=\"dataframe\">\n  <thead>\n    <tr style=\"text-align: right;\">\n      <th></th>\n      <th>StudyInstanceUID</th>\n      <th>0</th>\n      <th>1</th>\n      <th>2</th>\n      <th>3</th>\n      <th>4</th>\n      <th>5</th>\n      <th>6</th>\n      <th>7</th>\n      <th>8</th>\n      <th>...</th>\n      <th>2550</th>\n      <th>2551</th>\n      <th>2552</th>\n      <th>2553</th>\n      <th>2554</th>\n      <th>2555</th>\n      <th>2556</th>\n      <th>2557</th>\n      <th>2558</th>\n      <th>2559</th>\n    </tr>\n  </thead>\n  <tbody>\n    <tr>\n      <th>0</th>\n      <td>1.2.826.0.1.3680043.8.498.53187330532968389747...</td>\n      <td>0.392083</td>\n      <td>0.204822</td>\n      <td>0.302095</td>\n      <td>0.312136</td>\n      <td>0.029790</td>\n      <td>0.127774</td>\n      <td>0.087180</td>\n      <td>0.401984</td>\n      <td>0.301424</td>\n      <td>...</td>\n      <td>0.288278</td>\n      <td>0.240811</td>\n      <td>0.592575</td>\n      <td>0.084094</td>\n      <td>0.039363</td>\n      <td>0.374288</td>\n      <td>0.184754</td>\n      <td>0.232877</td>\n      <td>0.199650</td>\n      <td>0.300287</td>\n    </tr>\n    <tr>\n      <th>1</th>\n      <td>1.2.826.0.1.3680043.8.498.23628841926681382432...</td>\n      <td>0.178802</td>\n      <td>0.305499</td>\n      <td>0.180544</td>\n      <td>0.162037</td>\n      <td>0.175688</td>\n      <td>0.322159</td>\n      <td>0.279780</td>\n      <td>0.150125</td>\n      <td>0.286821</td>\n      <td>...</td>\n      <td>0.113365</td>\n      <td>0.109818</td>\n      <td>0.220005</td>\n      <td>0.192193</td>\n      <td>0.055772</td>\n      <td>0.202430</td>\n      <td>0.064870</td>\n      <td>0.072565</td>\n      <td>0.416423</td>\n      <td>0.181910</td>\n    </tr>\n    <tr>\n      <th>2</th>\n      <td>1.2.826.0.1.3680043.8.498.95814725756838594874...</td>\n      <td>0.163736</td>\n      <td>0.299436</td>\n      <td>0.252858</td>\n      <td>0.171036</td>\n      <td>0.062020</td>\n      <td>0.340633</td>\n      <td>0.091703</td>\n      <td>0.369620</td>\n      <td>0.452058</td>\n      <td>...</td>\n      <td>0.246682</td>\n      <td>0.212359</td>\n      <td>0.362382</td>\n      <td>0.275446</td>\n      <td>0.069720</td>\n      <td>0.237833</td>\n      <td>0.150405</td>\n      <td>0.073818</td>\n      <td>0.184411</td>\n      <td>0.390313</td>\n    </tr>\n    <tr>\n      <th>3</th>\n      <td>1.2.826.0.1.3680043.8.498.30188537311791900160...</td>\n      <td>0.476096</td>\n      <td>0.360794</td>\n      <td>0.383778</td>\n      <td>0.140472</td>\n      <td>0.352782</td>\n      <td>0.234401</td>\n      <td>0.185029</td>\n      <td>0.385253</td>\n      <td>0.187532</td>\n      <td>...</td>\n      <td>0.651302</td>\n      <td>0.142143</td>\n      <td>0.047620</td>\n      <td>0.255281</td>\n      <td>0.082383</td>\n      <td>0.322772</td>\n      <td>0.147672</td>\n      <td>0.074314</td>\n      <td>0.152038</td>\n      <td>0.076180</td>\n    </tr>\n    <tr>\n      <th>4</th>\n      <td>1.2.826.0.1.3680043.8.498.12633219127030026453...</td>\n      <td>0.067392</td>\n      <td>0.311888</td>\n      <td>0.185603</td>\n      <td>0.067984</td>\n      <td>0.064778</td>\n      <td>0.397559</td>\n      <td>0.178609</td>\n      <td>0.471995</td>\n      <td>0.279235</td>\n      <td>...</td>\n      <td>0.151908</td>\n      <td>0.194794</td>\n      <td>0.533105</td>\n      <td>0.191994</td>\n      <td>0.070432</td>\n      <td>0.094274</td>\n      <td>0.024481</td>\n      <td>0.132054</td>\n      <td>0.345809</td>\n      <td>0.413144</td>\n    </tr>\n    <tr>\n      <th>5</th>\n      <td>1.2.826.0.1.3680043.8.498.11169256056227577367...</td>\n      <td>0.110847</td>\n      <td>0.314346</td>\n      <td>0.101048</td>\n      <td>0.262023</td>\n      <td>0.198968</td>\n      <td>0.110342</td>\n      <td>0.173974</td>\n      <td>0.241759</td>\n      <td>0.532130</td>\n      <td>...</td>\n      <td>0.402385</td>\n      <td>0.220766</td>\n      <td>0.131296</td>\n      <td>0.172787</td>\n      <td>0.032482</td>\n      <td>0.075310</td>\n      <td>0.430619</td>\n      <td>0.054897</td>\n      <td>0.213571</td>\n      <td>0.227080</td>\n    </tr>\n    <tr>\n      <th>6</th>\n      <td>1.2.826.0.1.3680043.8.498.10205354356085088542...</td>\n      <td>0.100611</td>\n      <td>0.251807</td>\n      <td>0.176557</td>\n      <td>0.207098</td>\n      <td>0.163470</td>\n      <td>0.152860</td>\n      <td>0.244016</td>\n      <td>0.243979</td>\n      <td>0.216611</td>\n      <td>...</td>\n      <td>0.180387</td>\n      <td>0.292911</td>\n      <td>0.285579</td>\n      <td>0.181616</td>\n      <td>0.082373</td>\n      <td>0.208384</td>\n      <td>0.241177</td>\n      <td>0.639229</td>\n      <td>0.399528</td>\n      <td>0.220507</td>\n    </tr>\n    <tr>\n      <th>7</th>\n      <td>1.2.826.0.1.3680043.8.498.24239184506702911292...</td>\n      <td>0.045561</td>\n      <td>0.189722</td>\n      <td>0.125817</td>\n      <td>0.108249</td>\n      <td>0.124685</td>\n      <td>0.420566</td>\n      <td>0.131521</td>\n      <td>0.457789</td>\n      <td>0.124929</td>\n      <td>...</td>\n      <td>0.225335</td>\n      <td>0.167912</td>\n      <td>0.175035</td>\n      <td>0.352255</td>\n      <td>0.056880</td>\n      <td>0.062810</td>\n      <td>0.308791</td>\n      <td>0.178002</td>\n      <td>0.390412</td>\n      <td>0.228199</td>\n    </tr>\n    <tr>\n      <th>8</th>\n      <td>1.2.826.0.1.3680043.8.498.81464483108873296584...</td>\n      <td>0.107708</td>\n      <td>0.281665</td>\n      <td>0.123436</td>\n      <td>0.205817</td>\n      <td>0.040849</td>\n      <td>0.230082</td>\n      <td>0.153888</td>\n      <td>0.275494</td>\n      <td>0.411286</td>\n      <td>...</td>\n      <td>0.431550</td>\n      <td>0.065627</td>\n      <td>0.279459</td>\n      <td>0.266971</td>\n      <td>0.055690</td>\n      <td>0.286073</td>\n      <td>0.370544</td>\n      <td>0.306568</td>\n      <td>0.355896</td>\n      <td>0.427009</td>\n    </tr>\n    <tr>\n      <th>9</th>\n      <td>1.2.826.0.1.3680043.8.498.32689913031429495918...</td>\n      <td>0.498140</td>\n      <td>0.143177</td>\n      <td>0.205309</td>\n      <td>0.195642</td>\n      <td>0.790830</td>\n      <td>0.377499</td>\n      <td>0.145924</td>\n      <td>0.209813</td>\n      <td>0.342672</td>\n      <td>...</td>\n      <td>0.250451</td>\n      <td>0.502635</td>\n      <td>0.016645</td>\n      <td>0.149513</td>\n      <td>0.095956</td>\n      <td>0.245531</td>\n      <td>0.247173</td>\n      <td>0.081134</td>\n      <td>0.140821</td>\n      <td>0.043710</td>\n    </tr>\n  </tbody>\n</table>\n<p>10 rows × 2561 columns</p>\n</div>"
     },
     "metadata": {}
    }
   ],
   "source": [
    "scaler=pickle.load(open(f\"{CFG.models_dir}minmaxscaler.pickle\",\"rb\"))\n",
    "\n",
    "input_df=pd.concat([test.reset_index(drop=True)[\"StudyInstanceUID\"],pd.DataFrame(scaler.transform(nn_pred))],axis=1)\n",
    "display(input_df)"
   ]
  },
  {
   "source": [
    "## AutoEncoderによる次元削減"
   ],
   "cell_type": "markdown",
   "metadata": {}
  },
  {
   "cell_type": "code",
   "execution_count": 7,
   "metadata": {},
   "outputs": [
    {
     "output_type": "display_data",
     "data": {
      "text/plain": "    0         1         2         3         4         5         6    7   \\\n0  0.0  2.119918  2.163121  1.638946  1.774398  2.635539  2.673605  0.0   \n1  0.0  6.994092  1.520887  6.040980  5.490166  6.354824  3.617496  0.0   \n2  0.0  4.068262  2.226102  4.700896  4.807385  4.455910  4.222445  0.0   \n3  0.0  3.802217  2.394319  1.924707  2.650949  2.074474  4.063462  0.0   \n4  0.0  5.065516  1.367345  1.851728  6.016154  2.456596  3.236768  0.0   \n5  0.0  4.018206  2.824412  3.413541  2.145518  4.253480  5.424338  0.0   \n6  0.0  4.036886  1.722131  3.165283  1.403600  3.939363  2.435838  0.0   \n7  0.0  5.050860  1.400325  7.252046  2.580305  5.157672  3.146062  0.0   \n8  0.0  2.991557  0.888041  3.216361  4.019028  3.142505  2.059650  0.0   \n9  0.0  3.775364  4.191988  2.737906  1.988050  4.231436  5.739973  0.0   \n\n         8         9   ...   90        91        92        93        94  \\\n0  4.758869  2.559144  ...  0.0  0.625272  2.247873  2.022233  1.800856   \n1  4.291549  3.477937  ...  0.0  0.802288  4.719494  3.308662  3.003226   \n2  3.404594  5.438682  ...  0.0  0.534936  5.008849  3.124704  2.355565   \n3  5.061340  2.609853  ...  0.0  0.931609  1.494502  5.468631  2.814267   \n4  5.093782  4.536272  ...  0.0  1.484924  3.192480  2.372754  3.575408   \n5  3.980549  5.242438  ...  0.0  0.513382  7.126354  4.003417  2.327120   \n6  4.529491  6.601109  ...  0.0  1.045035  4.207119  2.738962  3.114160   \n7  1.395355  3.458122  ...  0.0  1.762309  3.767600  3.649881  2.757871   \n8  2.568055  5.940868  ...  0.0  0.969799  4.074456  2.861773  1.722694   \n9  4.257288  2.626848  ...  0.0  1.439401  2.200976  5.199461  2.246084   \n\n         95        96        97        98        99  \n0  2.635757  3.127333  3.520048  2.474971  0.441091  \n1  3.323771  2.264355  2.295338  3.773238  3.643555  \n2  2.582374  2.943917  3.659654  4.584080  4.367057  \n3  5.034492  2.992605  5.976534  3.288343  3.697389  \n4  2.197106  2.391522  4.348204  3.665531  3.044240  \n5  1.742249  2.223447  4.478882  4.510432  5.919340  \n6  4.521884  2.896721  3.442829  1.166439  4.666277  \n7  3.681825  4.330676  3.529988  2.506806  3.011085  \n8  4.261704  1.689005  2.930497  3.842574  4.586554  \n9  3.191299  2.648046  5.860524  5.349447  4.809613  \n\n[10 rows x 100 columns]",
      "text/html": "<div>\n<style scoped>\n    .dataframe tbody tr th:only-of-type {\n        vertical-align: middle;\n    }\n\n    .dataframe tbody tr th {\n        vertical-align: top;\n    }\n\n    .dataframe thead th {\n        text-align: right;\n    }\n</style>\n<table border=\"1\" class=\"dataframe\">\n  <thead>\n    <tr style=\"text-align: right;\">\n      <th></th>\n      <th>0</th>\n      <th>1</th>\n      <th>2</th>\n      <th>3</th>\n      <th>4</th>\n      <th>5</th>\n      <th>6</th>\n      <th>7</th>\n      <th>8</th>\n      <th>9</th>\n      <th>...</th>\n      <th>90</th>\n      <th>91</th>\n      <th>92</th>\n      <th>93</th>\n      <th>94</th>\n      <th>95</th>\n      <th>96</th>\n      <th>97</th>\n      <th>98</th>\n      <th>99</th>\n    </tr>\n  </thead>\n  <tbody>\n    <tr>\n      <th>0</th>\n      <td>0.0</td>\n      <td>2.119918</td>\n      <td>2.163121</td>\n      <td>1.638946</td>\n      <td>1.774398</td>\n      <td>2.635539</td>\n      <td>2.673605</td>\n      <td>0.0</td>\n      <td>4.758869</td>\n      <td>2.559144</td>\n      <td>...</td>\n      <td>0.0</td>\n      <td>0.625272</td>\n      <td>2.247873</td>\n      <td>2.022233</td>\n      <td>1.800856</td>\n      <td>2.635757</td>\n      <td>3.127333</td>\n      <td>3.520048</td>\n      <td>2.474971</td>\n      <td>0.441091</td>\n    </tr>\n    <tr>\n      <th>1</th>\n      <td>0.0</td>\n      <td>6.994092</td>\n      <td>1.520887</td>\n      <td>6.040980</td>\n      <td>5.490166</td>\n      <td>6.354824</td>\n      <td>3.617496</td>\n      <td>0.0</td>\n      <td>4.291549</td>\n      <td>3.477937</td>\n      <td>...</td>\n      <td>0.0</td>\n      <td>0.802288</td>\n      <td>4.719494</td>\n      <td>3.308662</td>\n      <td>3.003226</td>\n      <td>3.323771</td>\n      <td>2.264355</td>\n      <td>2.295338</td>\n      <td>3.773238</td>\n      <td>3.643555</td>\n    </tr>\n    <tr>\n      <th>2</th>\n      <td>0.0</td>\n      <td>4.068262</td>\n      <td>2.226102</td>\n      <td>4.700896</td>\n      <td>4.807385</td>\n      <td>4.455910</td>\n      <td>4.222445</td>\n      <td>0.0</td>\n      <td>3.404594</td>\n      <td>5.438682</td>\n      <td>...</td>\n      <td>0.0</td>\n      <td>0.534936</td>\n      <td>5.008849</td>\n      <td>3.124704</td>\n      <td>2.355565</td>\n      <td>2.582374</td>\n      <td>2.943917</td>\n      <td>3.659654</td>\n      <td>4.584080</td>\n      <td>4.367057</td>\n    </tr>\n    <tr>\n      <th>3</th>\n      <td>0.0</td>\n      <td>3.802217</td>\n      <td>2.394319</td>\n      <td>1.924707</td>\n      <td>2.650949</td>\n      <td>2.074474</td>\n      <td>4.063462</td>\n      <td>0.0</td>\n      <td>5.061340</td>\n      <td>2.609853</td>\n      <td>...</td>\n      <td>0.0</td>\n      <td>0.931609</td>\n      <td>1.494502</td>\n      <td>5.468631</td>\n      <td>2.814267</td>\n      <td>5.034492</td>\n      <td>2.992605</td>\n      <td>5.976534</td>\n      <td>3.288343</td>\n      <td>3.697389</td>\n    </tr>\n    <tr>\n      <th>4</th>\n      <td>0.0</td>\n      <td>5.065516</td>\n      <td>1.367345</td>\n      <td>1.851728</td>\n      <td>6.016154</td>\n      <td>2.456596</td>\n      <td>3.236768</td>\n      <td>0.0</td>\n      <td>5.093782</td>\n      <td>4.536272</td>\n      <td>...</td>\n      <td>0.0</td>\n      <td>1.484924</td>\n      <td>3.192480</td>\n      <td>2.372754</td>\n      <td>3.575408</td>\n      <td>2.197106</td>\n      <td>2.391522</td>\n      <td>4.348204</td>\n      <td>3.665531</td>\n      <td>3.044240</td>\n    </tr>\n    <tr>\n      <th>5</th>\n      <td>0.0</td>\n      <td>4.018206</td>\n      <td>2.824412</td>\n      <td>3.413541</td>\n      <td>2.145518</td>\n      <td>4.253480</td>\n      <td>5.424338</td>\n      <td>0.0</td>\n      <td>3.980549</td>\n      <td>5.242438</td>\n      <td>...</td>\n      <td>0.0</td>\n      <td>0.513382</td>\n      <td>7.126354</td>\n      <td>4.003417</td>\n      <td>2.327120</td>\n      <td>1.742249</td>\n      <td>2.223447</td>\n      <td>4.478882</td>\n      <td>4.510432</td>\n      <td>5.919340</td>\n    </tr>\n    <tr>\n      <th>6</th>\n      <td>0.0</td>\n      <td>4.036886</td>\n      <td>1.722131</td>\n      <td>3.165283</td>\n      <td>1.403600</td>\n      <td>3.939363</td>\n      <td>2.435838</td>\n      <td>0.0</td>\n      <td>4.529491</td>\n      <td>6.601109</td>\n      <td>...</td>\n      <td>0.0</td>\n      <td>1.045035</td>\n      <td>4.207119</td>\n      <td>2.738962</td>\n      <td>3.114160</td>\n      <td>4.521884</td>\n      <td>2.896721</td>\n      <td>3.442829</td>\n      <td>1.166439</td>\n      <td>4.666277</td>\n    </tr>\n    <tr>\n      <th>7</th>\n      <td>0.0</td>\n      <td>5.050860</td>\n      <td>1.400325</td>\n      <td>7.252046</td>\n      <td>2.580305</td>\n      <td>5.157672</td>\n      <td>3.146062</td>\n      <td>0.0</td>\n      <td>1.395355</td>\n      <td>3.458122</td>\n      <td>...</td>\n      <td>0.0</td>\n      <td>1.762309</td>\n      <td>3.767600</td>\n      <td>3.649881</td>\n      <td>2.757871</td>\n      <td>3.681825</td>\n      <td>4.330676</td>\n      <td>3.529988</td>\n      <td>2.506806</td>\n      <td>3.011085</td>\n    </tr>\n    <tr>\n      <th>8</th>\n      <td>0.0</td>\n      <td>2.991557</td>\n      <td>0.888041</td>\n      <td>3.216361</td>\n      <td>4.019028</td>\n      <td>3.142505</td>\n      <td>2.059650</td>\n      <td>0.0</td>\n      <td>2.568055</td>\n      <td>5.940868</td>\n      <td>...</td>\n      <td>0.0</td>\n      <td>0.969799</td>\n      <td>4.074456</td>\n      <td>2.861773</td>\n      <td>1.722694</td>\n      <td>4.261704</td>\n      <td>1.689005</td>\n      <td>2.930497</td>\n      <td>3.842574</td>\n      <td>4.586554</td>\n    </tr>\n    <tr>\n      <th>9</th>\n      <td>0.0</td>\n      <td>3.775364</td>\n      <td>4.191988</td>\n      <td>2.737906</td>\n      <td>1.988050</td>\n      <td>4.231436</td>\n      <td>5.739973</td>\n      <td>0.0</td>\n      <td>4.257288</td>\n      <td>2.626848</td>\n      <td>...</td>\n      <td>0.0</td>\n      <td>1.439401</td>\n      <td>2.200976</td>\n      <td>5.199461</td>\n      <td>2.246084</td>\n      <td>3.191299</td>\n      <td>2.648046</td>\n      <td>5.860524</td>\n      <td>5.349447</td>\n      <td>4.809613</td>\n    </tr>\n  </tbody>\n</table>\n<p>10 rows × 100 columns</p>\n</div>"
     },
     "metadata": {}
    }
   ],
   "source": [
    "autoencoder=load_model(f\"{CFG.models_dir}autoencoder_splits10\")\n",
    "layer_name=\"dense_1\"\n",
    "hidden_layer_model=Model(inputs=autoencoder.input,outputs=autoencoder.get_layer(layer_name).output)\n",
    "\n",
    "pred=hidden_layer_model.predict(input_df.iloc[:,1:])\n",
    "features=pd.DataFrame(pred)\n",
    "display(features)"
   ]
  },
  {
   "source": [
    "## 訓練済みLightGBMモデルによる推論"
   ],
   "cell_type": "markdown",
   "metadata": {}
  },
  {
   "cell_type": "code",
   "execution_count": 8,
   "metadata": {},
   "outputs": [
    {
     "output_type": "display_data",
     "data": {
      "text/plain": "                                       StudyInstanceUID  ETT - Abnormal  \\\n2764  1.2.826.0.1.3680043.8.498.53187330532968389747...    3.185251e-06   \n2293  1.2.826.0.1.3680043.8.498.23628841926681382432...    3.843950e-07   \n916   1.2.826.0.1.3680043.8.498.95814725756838594874...    7.748613e-07   \n26    1.2.826.0.1.3680043.8.498.30188537311791900160...    2.981536e-05   \n2872  1.2.826.0.1.3680043.8.498.12633219127030026453...    7.223724e-07   \n2458  1.2.826.0.1.3680043.8.498.11169256056227577367...    1.298099e-05   \n1275  1.2.826.0.1.3680043.8.498.10205354356085088542...    3.935094e-06   \n1240  1.2.826.0.1.3680043.8.498.24239184506702911292...    4.255825e-07   \n3577  1.2.826.0.1.3680043.8.498.81464483108873296584...    3.653417e-06   \n510   1.2.826.0.1.3680043.8.498.32689913031429495918...    1.897673e-05   \n\n      ETT - Borderline  ETT - Normal  NGT - Abnormal  NGT - Borderline  \\\n2764          0.010526      0.141956        0.011539          0.020773   \n2293          0.000371      0.001602        0.002281          0.002176   \n916           0.003852      0.010606        0.009762          0.007555   \n26            0.032310      0.441387        0.005850          0.021594   \n2872          0.004105      0.025737        0.002667          0.004933   \n2458          0.029196      0.195649        0.007573          0.014218   \n1275          0.011818      0.250393        0.006377          0.007944   \n1240          0.001663      0.006533        0.002939          0.003734   \n3577          0.029812      0.168171        0.006091          0.005628   \n510           0.022418      0.394889        0.007548          0.020646   \n\n      NGT - Incompletely Imaged  NGT - Normal  CVC - Abnormal  \\\n2764                   0.011377      0.031457        0.183930   \n2293                   0.000061      0.002445        0.030874   \n916                    0.000644      0.018923        0.342428   \n26                     0.008178      0.222218        0.067420   \n2872                   0.001183      0.016607        0.113602   \n2458                   0.012873      0.158682        0.089207   \n1275                   0.020498      0.062057        0.125350   \n1240                   0.000236      0.029199        0.078613   \n3577                   0.006944      0.068484        0.136121   \n510                    0.073976      0.175717        0.120453   \n\n      CVC - Borderline  CVC - Normal  Swan Ganz Catheter Present  \n2764          0.240046      0.622818                    0.000010  \n2293          0.254463      0.686190                    0.000004  \n916           0.235184      0.537059                    0.000026  \n26            0.286824      0.840132                    0.000784  \n2872          0.248911      0.776015                    0.000029  \n2458          0.336271      0.670927                    0.000161  \n1275          0.228570      0.776946                    0.000849  \n1240          0.346147      0.751859                    0.000006  \n3577          0.350397      0.573343                    0.000179  \n510           0.410998      0.754833                    0.001394  ",
      "text/html": "<div>\n<style scoped>\n    .dataframe tbody tr th:only-of-type {\n        vertical-align: middle;\n    }\n\n    .dataframe tbody tr th {\n        vertical-align: top;\n    }\n\n    .dataframe thead th {\n        text-align: right;\n    }\n</style>\n<table border=\"1\" class=\"dataframe\">\n  <thead>\n    <tr style=\"text-align: right;\">\n      <th></th>\n      <th>StudyInstanceUID</th>\n      <th>ETT - Abnormal</th>\n      <th>ETT - Borderline</th>\n      <th>ETT - Normal</th>\n      <th>NGT - Abnormal</th>\n      <th>NGT - Borderline</th>\n      <th>NGT - Incompletely Imaged</th>\n      <th>NGT - Normal</th>\n      <th>CVC - Abnormal</th>\n      <th>CVC - Borderline</th>\n      <th>CVC - Normal</th>\n      <th>Swan Ganz Catheter Present</th>\n    </tr>\n  </thead>\n  <tbody>\n    <tr>\n      <th>2764</th>\n      <td>1.2.826.0.1.3680043.8.498.53187330532968389747...</td>\n      <td>3.185251e-06</td>\n      <td>0.010526</td>\n      <td>0.141956</td>\n      <td>0.011539</td>\n      <td>0.020773</td>\n      <td>0.011377</td>\n      <td>0.031457</td>\n      <td>0.183930</td>\n      <td>0.240046</td>\n      <td>0.622818</td>\n      <td>0.000010</td>\n    </tr>\n    <tr>\n      <th>2293</th>\n      <td>1.2.826.0.1.3680043.8.498.23628841926681382432...</td>\n      <td>3.843950e-07</td>\n      <td>0.000371</td>\n      <td>0.001602</td>\n      <td>0.002281</td>\n      <td>0.002176</td>\n      <td>0.000061</td>\n      <td>0.002445</td>\n      <td>0.030874</td>\n      <td>0.254463</td>\n      <td>0.686190</td>\n      <td>0.000004</td>\n    </tr>\n    <tr>\n      <th>916</th>\n      <td>1.2.826.0.1.3680043.8.498.95814725756838594874...</td>\n      <td>7.748613e-07</td>\n      <td>0.003852</td>\n      <td>0.010606</td>\n      <td>0.009762</td>\n      <td>0.007555</td>\n      <td>0.000644</td>\n      <td>0.018923</td>\n      <td>0.342428</td>\n      <td>0.235184</td>\n      <td>0.537059</td>\n      <td>0.000026</td>\n    </tr>\n    <tr>\n      <th>26</th>\n      <td>1.2.826.0.1.3680043.8.498.30188537311791900160...</td>\n      <td>2.981536e-05</td>\n      <td>0.032310</td>\n      <td>0.441387</td>\n      <td>0.005850</td>\n      <td>0.021594</td>\n      <td>0.008178</td>\n      <td>0.222218</td>\n      <td>0.067420</td>\n      <td>0.286824</td>\n      <td>0.840132</td>\n      <td>0.000784</td>\n    </tr>\n    <tr>\n      <th>2872</th>\n      <td>1.2.826.0.1.3680043.8.498.12633219127030026453...</td>\n      <td>7.223724e-07</td>\n      <td>0.004105</td>\n      <td>0.025737</td>\n      <td>0.002667</td>\n      <td>0.004933</td>\n      <td>0.001183</td>\n      <td>0.016607</td>\n      <td>0.113602</td>\n      <td>0.248911</td>\n      <td>0.776015</td>\n      <td>0.000029</td>\n    </tr>\n    <tr>\n      <th>2458</th>\n      <td>1.2.826.0.1.3680043.8.498.11169256056227577367...</td>\n      <td>1.298099e-05</td>\n      <td>0.029196</td>\n      <td>0.195649</td>\n      <td>0.007573</td>\n      <td>0.014218</td>\n      <td>0.012873</td>\n      <td>0.158682</td>\n      <td>0.089207</td>\n      <td>0.336271</td>\n      <td>0.670927</td>\n      <td>0.000161</td>\n    </tr>\n    <tr>\n      <th>1275</th>\n      <td>1.2.826.0.1.3680043.8.498.10205354356085088542...</td>\n      <td>3.935094e-06</td>\n      <td>0.011818</td>\n      <td>0.250393</td>\n      <td>0.006377</td>\n      <td>0.007944</td>\n      <td>0.020498</td>\n      <td>0.062057</td>\n      <td>0.125350</td>\n      <td>0.228570</td>\n      <td>0.776946</td>\n      <td>0.000849</td>\n    </tr>\n    <tr>\n      <th>1240</th>\n      <td>1.2.826.0.1.3680043.8.498.24239184506702911292...</td>\n      <td>4.255825e-07</td>\n      <td>0.001663</td>\n      <td>0.006533</td>\n      <td>0.002939</td>\n      <td>0.003734</td>\n      <td>0.000236</td>\n      <td>0.029199</td>\n      <td>0.078613</td>\n      <td>0.346147</td>\n      <td>0.751859</td>\n      <td>0.000006</td>\n    </tr>\n    <tr>\n      <th>3577</th>\n      <td>1.2.826.0.1.3680043.8.498.81464483108873296584...</td>\n      <td>3.653417e-06</td>\n      <td>0.029812</td>\n      <td>0.168171</td>\n      <td>0.006091</td>\n      <td>0.005628</td>\n      <td>0.006944</td>\n      <td>0.068484</td>\n      <td>0.136121</td>\n      <td>0.350397</td>\n      <td>0.573343</td>\n      <td>0.000179</td>\n    </tr>\n    <tr>\n      <th>510</th>\n      <td>1.2.826.0.1.3680043.8.498.32689913031429495918...</td>\n      <td>1.897673e-05</td>\n      <td>0.022418</td>\n      <td>0.394889</td>\n      <td>0.007548</td>\n      <td>0.020646</td>\n      <td>0.073976</td>\n      <td>0.175717</td>\n      <td>0.120453</td>\n      <td>0.410998</td>\n      <td>0.754833</td>\n      <td>0.001394</td>\n    </tr>\n  </tbody>\n</table>\n</div>"
     },
     "metadata": {}
    }
   ],
   "source": [
    "submission=test.copy()\n",
    "\n",
    "for i,col_name in enumerate(CFG.target_cols):\n",
    "    model=pickle.load(open(f\"{CFG.models_dir}autoencoder_smallLR/lgb_model_{i+1}.pickle\",\"rb\"))\n",
    "    pred=model.predict(features)\n",
    "    submission.loc[:,col_name]=pred\n",
    "    \n",
    "submission.to_csv(\"submission.csv\",index=False)\n",
    "display(submission)"
   ]
  }
 ]
}