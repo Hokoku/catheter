{
 "metadata": {
  "language_info": {
   "codemirror_mode": {
    "name": "ipython",
    "version": 3
   },
   "file_extension": ".py",
   "mimetype": "text/x-python",
   "name": "python",
   "nbconvert_exporter": "python",
   "pygments_lexer": "ipython3",
   "version": "3.8.5-final"
  },
  "orig_nbformat": 2,
  "kernelspec": {
   "name": "python3",
   "display_name": "Python 3.8.5 64-bit ('py38': conda)",
   "metadata": {
    "interpreter": {
     "hash": "3da45907e5cd41bdac7b692b424c19725633d98a853f93b11b400b1d8951ac30"
    }
   }
  }
 },
 "nbformat": 4,
 "nbformat_minor": 2,
 "cells": [
  {
   "cell_type": "code",
   "execution_count": 46,
   "metadata": {},
   "outputs": [],
   "source": [
    "import pandas as pd\n",
    "import numpy as np\n",
    "from IPython.display import display\n",
    "from tqdm import tqdm\n",
    "import pickle\n",
    "\n",
    "from tensorflow.keras.models import load_model\n",
    "from tensorflow.keras.preprocessing import image\n",
    "from tensorflow.keras.applications.efficientnet import preprocess_input\n",
    "from tensorflow.keras.models import Model\n",
    "\n",
    "from sklearn.model_selection import train_test_split\n",
    "from sklearn.metrics import roc_auc_score"
   ]
  },
  {
   "source": [
    "## CFG"
   ],
   "cell_type": "markdown",
   "metadata": {}
  },
  {
   "cell_type": "code",
   "execution_count": 50,
   "metadata": {},
   "outputs": [],
   "source": [
    "debug=True\n",
    "\n",
    "dataset_dir=\"../input/ranzcr-clip-catheter-line-classification/\"\n",
    "models_dir=\"./models/\" if debug else \"../input/efficientnet-lightgbm-models/\"\n",
    "\n",
    "num_features=100\n",
    "target_cols=['ETT - Abnormal', 'ETT - Borderline', 'ETT - Normal', 'NGT - Abnormal', 'NGT - Borderline', 'NGT - Incompletely Imaged', 'NGT - Normal', 'CVC - Abnormal', 'CVC - Borderline', 'CVC - Normal', 'Swan Ganz Catheter Present']"
   ]
  },
  {
   "cell_type": "code",
   "execution_count": 14,
   "metadata": {},
   "outputs": [
    {
     "output_type": "display_data",
     "data": {
      "text/plain": "                                        StudyInstanceUID  ETT - Abnormal  \\\n3714   1.2.826.0.1.3680043.8.498.92511081648859045512...               0   \n1827   1.2.826.0.1.3680043.8.498.72202199038776592560...               0   \n1163   1.2.826.0.1.3680043.8.498.80876314882630833396...               0   \n26642  1.2.826.0.1.3680043.8.498.86958603893703989109...               0   \n11050  1.2.826.0.1.3680043.8.498.57208477845735660395...               0   \n...                                                  ...             ...   \n9799   1.2.826.0.1.3680043.8.498.64554487703874739869...               0   \n27012  1.2.826.0.1.3680043.8.498.81727313586288439162...               0   \n25168  1.2.826.0.1.3680043.8.498.21415798723606531651...               0   \n15685  1.2.826.0.1.3680043.8.498.69893073810882891467...               0   \n8485   1.2.826.0.1.3680043.8.498.41328067650909397893...               0   \n\n       ETT - Borderline  ETT - Normal  NGT - Abnormal  NGT - Borderline  \\\n3714                  0             0               0                 0   \n1827                  0             1               0                 0   \n1163                  0             0               0                 0   \n26642                 0             0               0                 0   \n11050                 0             0               0                 0   \n...                 ...           ...             ...               ...   \n9799                  0             0               0                 0   \n27012                 0             0               0                 0   \n25168                 0             0               0                 0   \n15685                 0             1               0                 0   \n8485                  0             1               0                 0   \n\n       NGT - Incompletely Imaged  NGT - Normal  CVC - Abnormal  \\\n3714                           0             0               0   \n1827                           0             1               0   \n1163                           0             0               0   \n26642                          0             0               0   \n11050                          0             0               1   \n...                          ...           ...             ...   \n9799                           0             0               0   \n27012                          0             0               0   \n25168                          0             0               0   \n15685                          0             1               0   \n8485                           0             0               0   \n\n       CVC - Borderline  CVC - Normal  Swan Ganz Catheter Present  PatientID  \n3714                  0             1                           0  5c2d087c4  \n1827                  0             1                           0  998742a32  \n1163                  0             1                           0  cdbe6c04e  \n26642                 0             1                           0  0c9913892  \n11050                 0             1                           0  663828d52  \n...                 ...           ...                         ...        ...  \n9799                  0             1                           0  05781e73d  \n27012                 0             1                           0  e8c275cb5  \n25168                 0             1                           0  475886299  \n15685                 1             1                           0  e65a98a3e  \n8485                  0             1                           0  8849382d0  \n\n[100 rows x 13 columns]",
      "text/html": "<div>\n<style scoped>\n    .dataframe tbody tr th:only-of-type {\n        vertical-align: middle;\n    }\n\n    .dataframe tbody tr th {\n        vertical-align: top;\n    }\n\n    .dataframe thead th {\n        text-align: right;\n    }\n</style>\n<table border=\"1\" class=\"dataframe\">\n  <thead>\n    <tr style=\"text-align: right;\">\n      <th></th>\n      <th>StudyInstanceUID</th>\n      <th>ETT - Abnormal</th>\n      <th>ETT - Borderline</th>\n      <th>ETT - Normal</th>\n      <th>NGT - Abnormal</th>\n      <th>NGT - Borderline</th>\n      <th>NGT - Incompletely Imaged</th>\n      <th>NGT - Normal</th>\n      <th>CVC - Abnormal</th>\n      <th>CVC - Borderline</th>\n      <th>CVC - Normal</th>\n      <th>Swan Ganz Catheter Present</th>\n      <th>PatientID</th>\n    </tr>\n  </thead>\n  <tbody>\n    <tr>\n      <th>3714</th>\n      <td>1.2.826.0.1.3680043.8.498.92511081648859045512...</td>\n      <td>0</td>\n      <td>0</td>\n      <td>0</td>\n      <td>0</td>\n      <td>0</td>\n      <td>0</td>\n      <td>0</td>\n      <td>0</td>\n      <td>0</td>\n      <td>1</td>\n      <td>0</td>\n      <td>5c2d087c4</td>\n    </tr>\n    <tr>\n      <th>1827</th>\n      <td>1.2.826.0.1.3680043.8.498.72202199038776592560...</td>\n      <td>0</td>\n      <td>0</td>\n      <td>1</td>\n      <td>0</td>\n      <td>0</td>\n      <td>0</td>\n      <td>1</td>\n      <td>0</td>\n      <td>0</td>\n      <td>1</td>\n      <td>0</td>\n      <td>998742a32</td>\n    </tr>\n    <tr>\n      <th>1163</th>\n      <td>1.2.826.0.1.3680043.8.498.80876314882630833396...</td>\n      <td>0</td>\n      <td>0</td>\n      <td>0</td>\n      <td>0</td>\n      <td>0</td>\n      <td>0</td>\n      <td>0</td>\n      <td>0</td>\n      <td>0</td>\n      <td>1</td>\n      <td>0</td>\n      <td>cdbe6c04e</td>\n    </tr>\n    <tr>\n      <th>26642</th>\n      <td>1.2.826.0.1.3680043.8.498.86958603893703989109...</td>\n      <td>0</td>\n      <td>0</td>\n      <td>0</td>\n      <td>0</td>\n      <td>0</td>\n      <td>0</td>\n      <td>0</td>\n      <td>0</td>\n      <td>0</td>\n      <td>1</td>\n      <td>0</td>\n      <td>0c9913892</td>\n    </tr>\n    <tr>\n      <th>11050</th>\n      <td>1.2.826.0.1.3680043.8.498.57208477845735660395...</td>\n      <td>0</td>\n      <td>0</td>\n      <td>0</td>\n      <td>0</td>\n      <td>0</td>\n      <td>0</td>\n      <td>0</td>\n      <td>1</td>\n      <td>0</td>\n      <td>1</td>\n      <td>0</td>\n      <td>663828d52</td>\n    </tr>\n    <tr>\n      <th>...</th>\n      <td>...</td>\n      <td>...</td>\n      <td>...</td>\n      <td>...</td>\n      <td>...</td>\n      <td>...</td>\n      <td>...</td>\n      <td>...</td>\n      <td>...</td>\n      <td>...</td>\n      <td>...</td>\n      <td>...</td>\n      <td>...</td>\n    </tr>\n    <tr>\n      <th>9799</th>\n      <td>1.2.826.0.1.3680043.8.498.64554487703874739869...</td>\n      <td>0</td>\n      <td>0</td>\n      <td>0</td>\n      <td>0</td>\n      <td>0</td>\n      <td>0</td>\n      <td>0</td>\n      <td>0</td>\n      <td>0</td>\n      <td>1</td>\n      <td>0</td>\n      <td>05781e73d</td>\n    </tr>\n    <tr>\n      <th>27012</th>\n      <td>1.2.826.0.1.3680043.8.498.81727313586288439162...</td>\n      <td>0</td>\n      <td>0</td>\n      <td>0</td>\n      <td>0</td>\n      <td>0</td>\n      <td>0</td>\n      <td>0</td>\n      <td>0</td>\n      <td>0</td>\n      <td>1</td>\n      <td>0</td>\n      <td>e8c275cb5</td>\n    </tr>\n    <tr>\n      <th>25168</th>\n      <td>1.2.826.0.1.3680043.8.498.21415798723606531651...</td>\n      <td>0</td>\n      <td>0</td>\n      <td>0</td>\n      <td>0</td>\n      <td>0</td>\n      <td>0</td>\n      <td>0</td>\n      <td>0</td>\n      <td>0</td>\n      <td>1</td>\n      <td>0</td>\n      <td>475886299</td>\n    </tr>\n    <tr>\n      <th>15685</th>\n      <td>1.2.826.0.1.3680043.8.498.69893073810882891467...</td>\n      <td>0</td>\n      <td>0</td>\n      <td>1</td>\n      <td>0</td>\n      <td>0</td>\n      <td>0</td>\n      <td>1</td>\n      <td>0</td>\n      <td>1</td>\n      <td>1</td>\n      <td>0</td>\n      <td>e65a98a3e</td>\n    </tr>\n    <tr>\n      <th>8485</th>\n      <td>1.2.826.0.1.3680043.8.498.41328067650909397893...</td>\n      <td>0</td>\n      <td>0</td>\n      <td>1</td>\n      <td>0</td>\n      <td>0</td>\n      <td>0</td>\n      <td>0</td>\n      <td>0</td>\n      <td>0</td>\n      <td>1</td>\n      <td>0</td>\n      <td>8849382d0</td>\n    </tr>\n  </tbody>\n</table>\n<p>100 rows × 13 columns</p>\n</div>"
     },
     "metadata": {}
    }
   ],
   "source": [
    "test=pd.read_csv(dataset_dir+\"sample_submission.csv\")\n",
    "\n",
    "if debug:\n",
    "    n_samples=100\n",
    "    train,test=train_test_split(test,test_size=n_samples)\n",
    "\n",
    "display(test)"
   ]
  },
  {
   "source": [
    "## EfficientNetB7による出力の取得"
   ],
   "cell_type": "markdown",
   "metadata": {}
  },
  {
   "cell_type": "code",
   "execution_count": 10,
   "metadata": {},
   "outputs": [
    {
     "output_type": "stream",
     "name": "stdout",
     "text": [
      "WARNING:tensorflow:No training configuration found in the save file, so the model was *not* compiled. Compile it manually.\n"
     ]
    }
   ],
   "source": [
    "nn_model=load_model(models_dir+\"efficientnetB7.h5\")"
   ]
  },
  {
   "cell_type": "code",
   "execution_count": 21,
   "metadata": {},
   "outputs": [
    {
     "output_type": "stream",
     "name": "stderr",
     "text": [
      "100%|██████████| 100/100 [04:41<00:00,  2.82s/it]\n"
     ]
    }
   ],
   "source": [
    "pred_list=[]\n",
    "for uid in tqdm(test[\"StudyInstanceUID\"]):\n",
    "    img_pil=image.load_img(f\"{dataset_dir}test/{uid}.jpg\", target_size=(256,256)) # PIL形式で画像を読み込み、リサイズ\n",
    "    img=image.img_to_array(img_pil)\n",
    "    img=np.expand_dims(img,axis=0)\n",
    "    nn_pred=nn_model.predict(preprocess_input(img))\n",
    "    pred_list.append(nn_pred[0])\n",
    "\n",
    "nn_pred=np.array(pred_list)"
   ]
  },
  {
   "source": [
    "### 正規化する"
   ],
   "cell_type": "markdown",
   "metadata": {}
  },
  {
   "cell_type": "code",
   "execution_count": 40,
   "metadata": {},
   "outputs": [
    {
     "output_type": "display_data",
     "data": {
      "text/plain": "                                     StudyInstanceUID         0         1  \\\n0   1.2.826.0.1.3680043.8.498.92511081648859045512...  0.119070  0.263644   \n1   1.2.826.0.1.3680043.8.498.72202199038776592560...  0.239098  0.297745   \n2   1.2.826.0.1.3680043.8.498.80876314882630833396...  0.177597  0.245297   \n3   1.2.826.0.1.3680043.8.498.86958603893703989109...  0.160498  0.238281   \n4   1.2.826.0.1.3680043.8.498.57208477845735660395...  0.010415  0.119126   \n..                                                ...       ...       ...   \n95  1.2.826.0.1.3680043.8.498.64554487703874739869...  0.075960  0.250470   \n96  1.2.826.0.1.3680043.8.498.81727313586288439162...  0.189078  0.166092   \n97  1.2.826.0.1.3680043.8.498.21415798723606531651...  0.363163  0.264887   \n98  1.2.826.0.1.3680043.8.498.69893073810882891467...  0.175664  0.153901   \n99  1.2.826.0.1.3680043.8.498.41328067650909397893...  0.224591  0.293485   \n\n           2         3         4         5         6         7         8  ...  \\\n0   0.278235  0.209357  0.161661  0.526716  0.367052  0.250044  0.184465  ...   \n1   0.397188  0.672767  0.343613  0.060023  0.306063  0.219429  0.441474  ...   \n2   0.187547  0.151344  0.090139  0.363749  0.096986  0.259431  0.258411  ...   \n3   0.236376  0.512910  0.075272  0.081705  0.307845  0.255978  0.536275  ...   \n4   0.171180  0.059051  0.068936  0.322570  0.197295  0.325978  0.198289  ...   \n..       ...       ...       ...       ...       ...       ...       ...  ...   \n95  0.368195  0.397741  0.192918  0.360085  0.293927  0.325759  0.415852  ...   \n96  0.241421  0.148257  0.088885  0.225218  0.169655  0.471320  0.251202  ...   \n97  0.188068  0.218152  0.192549  0.133488  0.061303  0.259696  0.504851  ...   \n98  0.221214  0.411451  0.055273  0.121665  0.252395  0.257925  0.447162  ...   \n99  0.260029  0.101910  0.045316  0.194280  0.167786  0.519326  0.176563  ...   \n\n        2550      2551      2552      2553      2554      2555      2556  \\\n0   0.289838  0.266785  0.384940  0.190104  0.020290  0.215851  0.320358   \n1   0.646253  0.261628  0.221452  0.164254  0.183663  0.201685  0.449417   \n2   0.228972  0.236976  0.240752  0.229009  0.102513  0.211103  0.122351   \n3   0.425582  0.249524  0.153275  0.113976  0.544672  0.545505  0.323274   \n4   0.252918  0.123291  0.291169  0.118990  0.058406  0.052565  0.152916   \n..       ...       ...       ...       ...       ...       ...       ...   \n95  0.307494  0.256166  0.267720  0.059916  0.079012  0.205138  0.246832   \n96  0.251284  0.258276  0.361873  0.263943  0.124246  0.362161  0.223106   \n97  0.278206  0.064305  0.362654  0.063864  0.074330  0.280635  0.219060   \n98  0.422317  0.274531  0.300598  0.125339  0.061230  0.245083  0.335377   \n99  0.247638  0.200087  0.607056  0.029494  0.053790  0.336849  0.101492   \n\n        2557      2558      2559  \n0   0.139523  0.295440  0.504105  \n1   0.171543  0.443069  0.160373  \n2   0.209610  0.193169  0.169419  \n3   0.172273  0.524870  0.231440  \n4   0.058091  0.293701  0.168928  \n..       ...       ...       ...  \n95  0.245874  0.200497  0.286569  \n96  0.277254  0.195396  0.113756  \n97  0.075135  0.229701  0.299472  \n98  0.230916  0.347108  0.366749  \n99  0.110485  0.121803  0.231612  \n\n[100 rows x 2561 columns]",
      "text/html": "<div>\n<style scoped>\n    .dataframe tbody tr th:only-of-type {\n        vertical-align: middle;\n    }\n\n    .dataframe tbody tr th {\n        vertical-align: top;\n    }\n\n    .dataframe thead th {\n        text-align: right;\n    }\n</style>\n<table border=\"1\" class=\"dataframe\">\n  <thead>\n    <tr style=\"text-align: right;\">\n      <th></th>\n      <th>StudyInstanceUID</th>\n      <th>0</th>\n      <th>1</th>\n      <th>2</th>\n      <th>3</th>\n      <th>4</th>\n      <th>5</th>\n      <th>6</th>\n      <th>7</th>\n      <th>8</th>\n      <th>...</th>\n      <th>2550</th>\n      <th>2551</th>\n      <th>2552</th>\n      <th>2553</th>\n      <th>2554</th>\n      <th>2555</th>\n      <th>2556</th>\n      <th>2557</th>\n      <th>2558</th>\n      <th>2559</th>\n    </tr>\n  </thead>\n  <tbody>\n    <tr>\n      <th>0</th>\n      <td>1.2.826.0.1.3680043.8.498.92511081648859045512...</td>\n      <td>0.119070</td>\n      <td>0.263644</td>\n      <td>0.278235</td>\n      <td>0.209357</td>\n      <td>0.161661</td>\n      <td>0.526716</td>\n      <td>0.367052</td>\n      <td>0.250044</td>\n      <td>0.184465</td>\n      <td>...</td>\n      <td>0.289838</td>\n      <td>0.266785</td>\n      <td>0.384940</td>\n      <td>0.190104</td>\n      <td>0.020290</td>\n      <td>0.215851</td>\n      <td>0.320358</td>\n      <td>0.139523</td>\n      <td>0.295440</td>\n      <td>0.504105</td>\n    </tr>\n    <tr>\n      <th>1</th>\n      <td>1.2.826.0.1.3680043.8.498.72202199038776592560...</td>\n      <td>0.239098</td>\n      <td>0.297745</td>\n      <td>0.397188</td>\n      <td>0.672767</td>\n      <td>0.343613</td>\n      <td>0.060023</td>\n      <td>0.306063</td>\n      <td>0.219429</td>\n      <td>0.441474</td>\n      <td>...</td>\n      <td>0.646253</td>\n      <td>0.261628</td>\n      <td>0.221452</td>\n      <td>0.164254</td>\n      <td>0.183663</td>\n      <td>0.201685</td>\n      <td>0.449417</td>\n      <td>0.171543</td>\n      <td>0.443069</td>\n      <td>0.160373</td>\n    </tr>\n    <tr>\n      <th>2</th>\n      <td>1.2.826.0.1.3680043.8.498.80876314882630833396...</td>\n      <td>0.177597</td>\n      <td>0.245297</td>\n      <td>0.187547</td>\n      <td>0.151344</td>\n      <td>0.090139</td>\n      <td>0.363749</td>\n      <td>0.096986</td>\n      <td>0.259431</td>\n      <td>0.258411</td>\n      <td>...</td>\n      <td>0.228972</td>\n      <td>0.236976</td>\n      <td>0.240752</td>\n      <td>0.229009</td>\n      <td>0.102513</td>\n      <td>0.211103</td>\n      <td>0.122351</td>\n      <td>0.209610</td>\n      <td>0.193169</td>\n      <td>0.169419</td>\n    </tr>\n    <tr>\n      <th>3</th>\n      <td>1.2.826.0.1.3680043.8.498.86958603893703989109...</td>\n      <td>0.160498</td>\n      <td>0.238281</td>\n      <td>0.236376</td>\n      <td>0.512910</td>\n      <td>0.075272</td>\n      <td>0.081705</td>\n      <td>0.307845</td>\n      <td>0.255978</td>\n      <td>0.536275</td>\n      <td>...</td>\n      <td>0.425582</td>\n      <td>0.249524</td>\n      <td>0.153275</td>\n      <td>0.113976</td>\n      <td>0.544672</td>\n      <td>0.545505</td>\n      <td>0.323274</td>\n      <td>0.172273</td>\n      <td>0.524870</td>\n      <td>0.231440</td>\n    </tr>\n    <tr>\n      <th>4</th>\n      <td>1.2.826.0.1.3680043.8.498.57208477845735660395...</td>\n      <td>0.010415</td>\n      <td>0.119126</td>\n      <td>0.171180</td>\n      <td>0.059051</td>\n      <td>0.068936</td>\n      <td>0.322570</td>\n      <td>0.197295</td>\n      <td>0.325978</td>\n      <td>0.198289</td>\n      <td>...</td>\n      <td>0.252918</td>\n      <td>0.123291</td>\n      <td>0.291169</td>\n      <td>0.118990</td>\n      <td>0.058406</td>\n      <td>0.052565</td>\n      <td>0.152916</td>\n      <td>0.058091</td>\n      <td>0.293701</td>\n      <td>0.168928</td>\n    </tr>\n    <tr>\n      <th>...</th>\n      <td>...</td>\n      <td>...</td>\n      <td>...</td>\n      <td>...</td>\n      <td>...</td>\n      <td>...</td>\n      <td>...</td>\n      <td>...</td>\n      <td>...</td>\n      <td>...</td>\n      <td>...</td>\n      <td>...</td>\n      <td>...</td>\n      <td>...</td>\n      <td>...</td>\n      <td>...</td>\n      <td>...</td>\n      <td>...</td>\n      <td>...</td>\n      <td>...</td>\n      <td>...</td>\n    </tr>\n    <tr>\n      <th>95</th>\n      <td>1.2.826.0.1.3680043.8.498.64554487703874739869...</td>\n      <td>0.075960</td>\n      <td>0.250470</td>\n      <td>0.368195</td>\n      <td>0.397741</td>\n      <td>0.192918</td>\n      <td>0.360085</td>\n      <td>0.293927</td>\n      <td>0.325759</td>\n      <td>0.415852</td>\n      <td>...</td>\n      <td>0.307494</td>\n      <td>0.256166</td>\n      <td>0.267720</td>\n      <td>0.059916</td>\n      <td>0.079012</td>\n      <td>0.205138</td>\n      <td>0.246832</td>\n      <td>0.245874</td>\n      <td>0.200497</td>\n      <td>0.286569</td>\n    </tr>\n    <tr>\n      <th>96</th>\n      <td>1.2.826.0.1.3680043.8.498.81727313586288439162...</td>\n      <td>0.189078</td>\n      <td>0.166092</td>\n      <td>0.241421</td>\n      <td>0.148257</td>\n      <td>0.088885</td>\n      <td>0.225218</td>\n      <td>0.169655</td>\n      <td>0.471320</td>\n      <td>0.251202</td>\n      <td>...</td>\n      <td>0.251284</td>\n      <td>0.258276</td>\n      <td>0.361873</td>\n      <td>0.263943</td>\n      <td>0.124246</td>\n      <td>0.362161</td>\n      <td>0.223106</td>\n      <td>0.277254</td>\n      <td>0.195396</td>\n      <td>0.113756</td>\n    </tr>\n    <tr>\n      <th>97</th>\n      <td>1.2.826.0.1.3680043.8.498.21415798723606531651...</td>\n      <td>0.363163</td>\n      <td>0.264887</td>\n      <td>0.188068</td>\n      <td>0.218152</td>\n      <td>0.192549</td>\n      <td>0.133488</td>\n      <td>0.061303</td>\n      <td>0.259696</td>\n      <td>0.504851</td>\n      <td>...</td>\n      <td>0.278206</td>\n      <td>0.064305</td>\n      <td>0.362654</td>\n      <td>0.063864</td>\n      <td>0.074330</td>\n      <td>0.280635</td>\n      <td>0.219060</td>\n      <td>0.075135</td>\n      <td>0.229701</td>\n      <td>0.299472</td>\n    </tr>\n    <tr>\n      <th>98</th>\n      <td>1.2.826.0.1.3680043.8.498.69893073810882891467...</td>\n      <td>0.175664</td>\n      <td>0.153901</td>\n      <td>0.221214</td>\n      <td>0.411451</td>\n      <td>0.055273</td>\n      <td>0.121665</td>\n      <td>0.252395</td>\n      <td>0.257925</td>\n      <td>0.447162</td>\n      <td>...</td>\n      <td>0.422317</td>\n      <td>0.274531</td>\n      <td>0.300598</td>\n      <td>0.125339</td>\n      <td>0.061230</td>\n      <td>0.245083</td>\n      <td>0.335377</td>\n      <td>0.230916</td>\n      <td>0.347108</td>\n      <td>0.366749</td>\n    </tr>\n    <tr>\n      <th>99</th>\n      <td>1.2.826.0.1.3680043.8.498.41328067650909397893...</td>\n      <td>0.224591</td>\n      <td>0.293485</td>\n      <td>0.260029</td>\n      <td>0.101910</td>\n      <td>0.045316</td>\n      <td>0.194280</td>\n      <td>0.167786</td>\n      <td>0.519326</td>\n      <td>0.176563</td>\n      <td>...</td>\n      <td>0.247638</td>\n      <td>0.200087</td>\n      <td>0.607056</td>\n      <td>0.029494</td>\n      <td>0.053790</td>\n      <td>0.336849</td>\n      <td>0.101492</td>\n      <td>0.110485</td>\n      <td>0.121803</td>\n      <td>0.231612</td>\n    </tr>\n  </tbody>\n</table>\n<p>100 rows × 2561 columns</p>\n</div>"
     },
     "metadata": {}
    }
   ],
   "source": [
    "scaler=pickle.load(open(f\"{models_dir}minmaxscaler.pickle\",\"rb\"))\n",
    "\n",
    "input_df=pd.concat([test.reset_index(drop=True)[\"StudyInstanceUID\"],pd.DataFrame(scaler.transform(nn_pred))],axis=1)\n",
    "display(input_df)"
   ]
  },
  {
   "source": [
    "## AutoEncoderによる次元削減"
   ],
   "cell_type": "markdown",
   "metadata": {}
  },
  {
   "cell_type": "code",
   "execution_count": 44,
   "metadata": {},
   "outputs": [
    {
     "output_type": "display_data",
     "data": {
      "text/plain": "     0         1         2         3         4         5         6    7   \\\n0   0.0  4.071238  2.036263  5.921571  5.921043  3.770345  3.212769  0.0   \n1   0.0  2.854680  2.750374  3.024800  2.014940  2.875407  4.439881  0.0   \n2   0.0  2.996636  2.032366  3.741539  3.420367  3.992173  1.367723  0.0   \n3   0.0  5.119683  1.653423  3.126246  2.197192  4.220846  5.762908  0.0   \n4   0.0  5.439157  1.649039  4.936476  3.128970  5.116446  3.104952  0.0   \n..  ...       ...       ...       ...       ...       ...       ...  ...   \n95  0.0  3.077638  2.296414  6.066879  3.391178  2.847261  4.514524  0.0   \n96  0.0  2.990176  1.980487  1.841533  2.292038  2.224017  2.024535  0.0   \n97  0.0  4.075650  2.292416  5.602129  4.397439  4.928271  3.629215  0.0   \n98  0.0  3.128833  0.456956  3.907800  0.585200  3.276345  3.019457  0.0   \n99  0.0  4.060385  1.894434  2.518350  2.094390  2.723416  0.735528  0.0   \n\n          8         9   ...   90        91        92        93        94  \\\n0   3.320835  4.148574  ...  0.0  1.002130  5.348242  4.684763  4.894108   \n1   3.118279  4.547942  ...  0.0  0.005073  4.097000  2.415063  2.701719   \n2   3.529947  4.728153  ...  0.0  1.247855  1.715913  2.419096  1.967377   \n3   5.082413  3.480234  ...  0.0  1.421378  4.115449  2.397384  4.499605   \n4   1.527074  4.432976  ...  0.0  1.074558  2.741527  2.533481  2.462220   \n..       ...       ...  ...  ...       ...       ...       ...       ...   \n95  2.693018  7.698250  ...  0.0  1.717739  6.152410  2.026255  5.147166   \n96  1.930074  2.060823  ...  0.0  1.358291  0.741607  2.351303  1.801081   \n97  4.481905  5.343220  ...  0.0  1.461045  2.854066  2.550186  0.000000   \n98  2.161268  4.375148  ...  0.0  0.938636  2.700490  2.477148  2.496736   \n99  5.131342  3.541964  ...  0.0  1.049861  2.549019  3.054222  1.064326   \n\n          95        96        97        98        99  \n0   6.209260  2.895662  3.209881  3.613510  3.648977  \n1   1.504981  1.903784  3.942729  2.788665  2.748391  \n2   3.802683  2.102259  3.431104  2.279551  4.326679  \n3   1.243202  2.823926  3.378100  1.103126  2.883510  \n4   3.836189  4.059120  4.323339  2.290179  1.666896  \n..       ...       ...       ...       ...       ...  \n95  3.931139  3.577106  5.506383  3.287870  1.856724  \n96  2.889492  2.037588  6.047063  2.764158  3.314187  \n97  4.443690  3.698866  5.718501  1.701826  1.560364  \n98  1.698159  0.973040  3.344852  0.634442  3.074343  \n99  4.532066  2.698383  4.527643  1.931832  2.256698  \n\n[100 rows x 100 columns]",
      "text/html": "<div>\n<style scoped>\n    .dataframe tbody tr th:only-of-type {\n        vertical-align: middle;\n    }\n\n    .dataframe tbody tr th {\n        vertical-align: top;\n    }\n\n    .dataframe thead th {\n        text-align: right;\n    }\n</style>\n<table border=\"1\" class=\"dataframe\">\n  <thead>\n    <tr style=\"text-align: right;\">\n      <th></th>\n      <th>0</th>\n      <th>1</th>\n      <th>2</th>\n      <th>3</th>\n      <th>4</th>\n      <th>5</th>\n      <th>6</th>\n      <th>7</th>\n      <th>8</th>\n      <th>9</th>\n      <th>...</th>\n      <th>90</th>\n      <th>91</th>\n      <th>92</th>\n      <th>93</th>\n      <th>94</th>\n      <th>95</th>\n      <th>96</th>\n      <th>97</th>\n      <th>98</th>\n      <th>99</th>\n    </tr>\n  </thead>\n  <tbody>\n    <tr>\n      <th>0</th>\n      <td>0.0</td>\n      <td>4.071238</td>\n      <td>2.036263</td>\n      <td>5.921571</td>\n      <td>5.921043</td>\n      <td>3.770345</td>\n      <td>3.212769</td>\n      <td>0.0</td>\n      <td>3.320835</td>\n      <td>4.148574</td>\n      <td>...</td>\n      <td>0.0</td>\n      <td>1.002130</td>\n      <td>5.348242</td>\n      <td>4.684763</td>\n      <td>4.894108</td>\n      <td>6.209260</td>\n      <td>2.895662</td>\n      <td>3.209881</td>\n      <td>3.613510</td>\n      <td>3.648977</td>\n    </tr>\n    <tr>\n      <th>1</th>\n      <td>0.0</td>\n      <td>2.854680</td>\n      <td>2.750374</td>\n      <td>3.024800</td>\n      <td>2.014940</td>\n      <td>2.875407</td>\n      <td>4.439881</td>\n      <td>0.0</td>\n      <td>3.118279</td>\n      <td>4.547942</td>\n      <td>...</td>\n      <td>0.0</td>\n      <td>0.005073</td>\n      <td>4.097000</td>\n      <td>2.415063</td>\n      <td>2.701719</td>\n      <td>1.504981</td>\n      <td>1.903784</td>\n      <td>3.942729</td>\n      <td>2.788665</td>\n      <td>2.748391</td>\n    </tr>\n    <tr>\n      <th>2</th>\n      <td>0.0</td>\n      <td>2.996636</td>\n      <td>2.032366</td>\n      <td>3.741539</td>\n      <td>3.420367</td>\n      <td>3.992173</td>\n      <td>1.367723</td>\n      <td>0.0</td>\n      <td>3.529947</td>\n      <td>4.728153</td>\n      <td>...</td>\n      <td>0.0</td>\n      <td>1.247855</td>\n      <td>1.715913</td>\n      <td>2.419096</td>\n      <td>1.967377</td>\n      <td>3.802683</td>\n      <td>2.102259</td>\n      <td>3.431104</td>\n      <td>2.279551</td>\n      <td>4.326679</td>\n    </tr>\n    <tr>\n      <th>3</th>\n      <td>0.0</td>\n      <td>5.119683</td>\n      <td>1.653423</td>\n      <td>3.126246</td>\n      <td>2.197192</td>\n      <td>4.220846</td>\n      <td>5.762908</td>\n      <td>0.0</td>\n      <td>5.082413</td>\n      <td>3.480234</td>\n      <td>...</td>\n      <td>0.0</td>\n      <td>1.421378</td>\n      <td>4.115449</td>\n      <td>2.397384</td>\n      <td>4.499605</td>\n      <td>1.243202</td>\n      <td>2.823926</td>\n      <td>3.378100</td>\n      <td>1.103126</td>\n      <td>2.883510</td>\n    </tr>\n    <tr>\n      <th>4</th>\n      <td>0.0</td>\n      <td>5.439157</td>\n      <td>1.649039</td>\n      <td>4.936476</td>\n      <td>3.128970</td>\n      <td>5.116446</td>\n      <td>3.104952</td>\n      <td>0.0</td>\n      <td>1.527074</td>\n      <td>4.432976</td>\n      <td>...</td>\n      <td>0.0</td>\n      <td>1.074558</td>\n      <td>2.741527</td>\n      <td>2.533481</td>\n      <td>2.462220</td>\n      <td>3.836189</td>\n      <td>4.059120</td>\n      <td>4.323339</td>\n      <td>2.290179</td>\n      <td>1.666896</td>\n    </tr>\n    <tr>\n      <th>...</th>\n      <td>...</td>\n      <td>...</td>\n      <td>...</td>\n      <td>...</td>\n      <td>...</td>\n      <td>...</td>\n      <td>...</td>\n      <td>...</td>\n      <td>...</td>\n      <td>...</td>\n      <td>...</td>\n      <td>...</td>\n      <td>...</td>\n      <td>...</td>\n      <td>...</td>\n      <td>...</td>\n      <td>...</td>\n      <td>...</td>\n      <td>...</td>\n      <td>...</td>\n      <td>...</td>\n    </tr>\n    <tr>\n      <th>95</th>\n      <td>0.0</td>\n      <td>3.077638</td>\n      <td>2.296414</td>\n      <td>6.066879</td>\n      <td>3.391178</td>\n      <td>2.847261</td>\n      <td>4.514524</td>\n      <td>0.0</td>\n      <td>2.693018</td>\n      <td>7.698250</td>\n      <td>...</td>\n      <td>0.0</td>\n      <td>1.717739</td>\n      <td>6.152410</td>\n      <td>2.026255</td>\n      <td>5.147166</td>\n      <td>3.931139</td>\n      <td>3.577106</td>\n      <td>5.506383</td>\n      <td>3.287870</td>\n      <td>1.856724</td>\n    </tr>\n    <tr>\n      <th>96</th>\n      <td>0.0</td>\n      <td>2.990176</td>\n      <td>1.980487</td>\n      <td>1.841533</td>\n      <td>2.292038</td>\n      <td>2.224017</td>\n      <td>2.024535</td>\n      <td>0.0</td>\n      <td>1.930074</td>\n      <td>2.060823</td>\n      <td>...</td>\n      <td>0.0</td>\n      <td>1.358291</td>\n      <td>0.741607</td>\n      <td>2.351303</td>\n      <td>1.801081</td>\n      <td>2.889492</td>\n      <td>2.037588</td>\n      <td>6.047063</td>\n      <td>2.764158</td>\n      <td>3.314187</td>\n    </tr>\n    <tr>\n      <th>97</th>\n      <td>0.0</td>\n      <td>4.075650</td>\n      <td>2.292416</td>\n      <td>5.602129</td>\n      <td>4.397439</td>\n      <td>4.928271</td>\n      <td>3.629215</td>\n      <td>0.0</td>\n      <td>4.481905</td>\n      <td>5.343220</td>\n      <td>...</td>\n      <td>0.0</td>\n      <td>1.461045</td>\n      <td>2.854066</td>\n      <td>2.550186</td>\n      <td>0.000000</td>\n      <td>4.443690</td>\n      <td>3.698866</td>\n      <td>5.718501</td>\n      <td>1.701826</td>\n      <td>1.560364</td>\n    </tr>\n    <tr>\n      <th>98</th>\n      <td>0.0</td>\n      <td>3.128833</td>\n      <td>0.456956</td>\n      <td>3.907800</td>\n      <td>0.585200</td>\n      <td>3.276345</td>\n      <td>3.019457</td>\n      <td>0.0</td>\n      <td>2.161268</td>\n      <td>4.375148</td>\n      <td>...</td>\n      <td>0.0</td>\n      <td>0.938636</td>\n      <td>2.700490</td>\n      <td>2.477148</td>\n      <td>2.496736</td>\n      <td>1.698159</td>\n      <td>0.973040</td>\n      <td>3.344852</td>\n      <td>0.634442</td>\n      <td>3.074343</td>\n    </tr>\n    <tr>\n      <th>99</th>\n      <td>0.0</td>\n      <td>4.060385</td>\n      <td>1.894434</td>\n      <td>2.518350</td>\n      <td>2.094390</td>\n      <td>2.723416</td>\n      <td>0.735528</td>\n      <td>0.0</td>\n      <td>5.131342</td>\n      <td>3.541964</td>\n      <td>...</td>\n      <td>0.0</td>\n      <td>1.049861</td>\n      <td>2.549019</td>\n      <td>3.054222</td>\n      <td>1.064326</td>\n      <td>4.532066</td>\n      <td>2.698383</td>\n      <td>4.527643</td>\n      <td>1.931832</td>\n      <td>2.256698</td>\n    </tr>\n  </tbody>\n</table>\n<p>100 rows × 100 columns</p>\n</div>"
     },
     "metadata": {}
    }
   ],
   "source": [
    "autoencoder=load_model(models_dir+\"autoencoder_splits10\")\n",
    "layer_name=\"dense_1\"\n",
    "hidden_layer_model=Model(inputs=autoencoder.input,outputs=autoencoder.get_layer(layer_name).output)\n",
    "\n",
    "pred=hidden_layer_model.predict(input_df.iloc[:,1:])\n",
    "features=pd.DataFrame(pred)\n",
    "display(features)"
   ]
  },
  {
   "source": [
    "## 訓練済みLightGBMモデルによる推論"
   ],
   "cell_type": "markdown",
   "metadata": {}
  },
  {
   "cell_type": "code",
   "execution_count": 45,
   "metadata": {},
   "outputs": [
    {
     "output_type": "display_data",
     "data": {
      "text/plain": "                                        StudyInstanceUID  ETT - Abnormal  \\\n3714   1.2.826.0.1.3680043.8.498.92511081648859045512...    3.331270e-07   \n1827   1.2.826.0.1.3680043.8.498.72202199038776592560...    5.563977e-07   \n1163   1.2.826.0.1.3680043.8.498.80876314882630833396...    4.516759e-07   \n26642  1.2.826.0.1.3680043.8.498.86958603893703989109...    8.251645e-07   \n11050  1.2.826.0.1.3680043.8.498.57208477845735660395...    3.608875e-07   \n...                                                  ...             ...   \n9799   1.2.826.0.1.3680043.8.498.64554487703874739869...    3.720634e-07   \n27012  1.2.826.0.1.3680043.8.498.81727313586288439162...    3.913753e-07   \n25168  1.2.826.0.1.3680043.8.498.21415798723606531651...    1.272518e-06   \n15685  1.2.826.0.1.3680043.8.498.69893073810882891467...    7.870610e-07   \n8485   1.2.826.0.1.3680043.8.498.41328067650909397893...    3.684941e-07   \n\n       ETT - Borderline  ETT - Normal  NGT - Abnormal  NGT - Borderline  \\\n3714           0.001175      0.009735        0.000240          0.000114   \n1827           0.082850      0.585364        0.003241          0.008104   \n1163           0.023068      0.087228        0.001259          0.001579   \n26642          0.007628      0.114408        0.000890          0.001386   \n11050          0.000853      0.031204        0.000490          0.000302   \n...                 ...           ...             ...               ...   \n9799           0.000950      0.039971        0.000503          0.001425   \n27012          0.031818      0.481371        0.011278          0.005315   \n25168          0.026294      0.410843        0.004312          0.003509   \n15685          0.027954      0.669998        0.001611          0.048213   \n8485           0.012575      0.653561        0.004490          0.002486   \n\n       NGT - Incompletely Imaged  NGT - Normal  CVC - Abnormal  \\\n3714                    0.000098      0.003578        0.085243   \n1827                    0.055872      0.362256        0.075507   \n1163                    0.006639      0.042180        0.129194   \n26642                   0.010438      0.097977        0.090246   \n11050                   0.000168      0.025144        0.311791   \n...                          ...           ...             ...   \n9799                    0.000350      0.016289        0.084588   \n27012                   0.009961      0.356581        0.112897   \n25168                   0.014203      0.048747        0.114908   \n15685                   0.002471      0.722928        0.135318   \n8485                    0.031579      0.037524        0.074159   \n\n       CVC - Borderline  CVC - Normal  Swan Ganz Catheter Present  PatientID  \n3714           0.175534      0.759680                    0.000117  5c2d087c4  \n1827           0.321947      0.806377                    0.004336  998742a32  \n1163           0.310962      0.699059                    0.003999  cdbe6c04e  \n26642          0.271806      0.787730                    0.001839  0c9913892  \n11050          0.246107      0.720156                    0.000094  663828d52  \n...                 ...           ...                         ...        ...  \n9799           0.299466      0.677561                    0.000230  05781e73d  \n27012          0.371261      0.734415                    0.005605  e8c275cb5  \n25168          0.291271      0.682628                    0.001322  475886299  \n15685          0.363715      0.748413                    0.004788  e65a98a3e  \n8485           0.239884      0.759003                    0.003320  8849382d0  \n\n[100 rows x 13 columns]",
      "text/html": "<div>\n<style scoped>\n    .dataframe tbody tr th:only-of-type {\n        vertical-align: middle;\n    }\n\n    .dataframe tbody tr th {\n        vertical-align: top;\n    }\n\n    .dataframe thead th {\n        text-align: right;\n    }\n</style>\n<table border=\"1\" class=\"dataframe\">\n  <thead>\n    <tr style=\"text-align: right;\">\n      <th></th>\n      <th>StudyInstanceUID</th>\n      <th>ETT - Abnormal</th>\n      <th>ETT - Borderline</th>\n      <th>ETT - Normal</th>\n      <th>NGT - Abnormal</th>\n      <th>NGT - Borderline</th>\n      <th>NGT - Incompletely Imaged</th>\n      <th>NGT - Normal</th>\n      <th>CVC - Abnormal</th>\n      <th>CVC - Borderline</th>\n      <th>CVC - Normal</th>\n      <th>Swan Ganz Catheter Present</th>\n      <th>PatientID</th>\n    </tr>\n  </thead>\n  <tbody>\n    <tr>\n      <th>3714</th>\n      <td>1.2.826.0.1.3680043.8.498.92511081648859045512...</td>\n      <td>3.331270e-07</td>\n      <td>0.001175</td>\n      <td>0.009735</td>\n      <td>0.000240</td>\n      <td>0.000114</td>\n      <td>0.000098</td>\n      <td>0.003578</td>\n      <td>0.085243</td>\n      <td>0.175534</td>\n      <td>0.759680</td>\n      <td>0.000117</td>\n      <td>5c2d087c4</td>\n    </tr>\n    <tr>\n      <th>1827</th>\n      <td>1.2.826.0.1.3680043.8.498.72202199038776592560...</td>\n      <td>5.563977e-07</td>\n      <td>0.082850</td>\n      <td>0.585364</td>\n      <td>0.003241</td>\n      <td>0.008104</td>\n      <td>0.055872</td>\n      <td>0.362256</td>\n      <td>0.075507</td>\n      <td>0.321947</td>\n      <td>0.806377</td>\n      <td>0.004336</td>\n      <td>998742a32</td>\n    </tr>\n    <tr>\n      <th>1163</th>\n      <td>1.2.826.0.1.3680043.8.498.80876314882630833396...</td>\n      <td>4.516759e-07</td>\n      <td>0.023068</td>\n      <td>0.087228</td>\n      <td>0.001259</td>\n      <td>0.001579</td>\n      <td>0.006639</td>\n      <td>0.042180</td>\n      <td>0.129194</td>\n      <td>0.310962</td>\n      <td>0.699059</td>\n      <td>0.003999</td>\n      <td>cdbe6c04e</td>\n    </tr>\n    <tr>\n      <th>26642</th>\n      <td>1.2.826.0.1.3680043.8.498.86958603893703989109...</td>\n      <td>8.251645e-07</td>\n      <td>0.007628</td>\n      <td>0.114408</td>\n      <td>0.000890</td>\n      <td>0.001386</td>\n      <td>0.010438</td>\n      <td>0.097977</td>\n      <td>0.090246</td>\n      <td>0.271806</td>\n      <td>0.787730</td>\n      <td>0.001839</td>\n      <td>0c9913892</td>\n    </tr>\n    <tr>\n      <th>11050</th>\n      <td>1.2.826.0.1.3680043.8.498.57208477845735660395...</td>\n      <td>3.608875e-07</td>\n      <td>0.000853</td>\n      <td>0.031204</td>\n      <td>0.000490</td>\n      <td>0.000302</td>\n      <td>0.000168</td>\n      <td>0.025144</td>\n      <td>0.311791</td>\n      <td>0.246107</td>\n      <td>0.720156</td>\n      <td>0.000094</td>\n      <td>663828d52</td>\n    </tr>\n    <tr>\n      <th>...</th>\n      <td>...</td>\n      <td>...</td>\n      <td>...</td>\n      <td>...</td>\n      <td>...</td>\n      <td>...</td>\n      <td>...</td>\n      <td>...</td>\n      <td>...</td>\n      <td>...</td>\n      <td>...</td>\n      <td>...</td>\n      <td>...</td>\n    </tr>\n    <tr>\n      <th>9799</th>\n      <td>1.2.826.0.1.3680043.8.498.64554487703874739869...</td>\n      <td>3.720634e-07</td>\n      <td>0.000950</td>\n      <td>0.039971</td>\n      <td>0.000503</td>\n      <td>0.001425</td>\n      <td>0.000350</td>\n      <td>0.016289</td>\n      <td>0.084588</td>\n      <td>0.299466</td>\n      <td>0.677561</td>\n      <td>0.000230</td>\n      <td>05781e73d</td>\n    </tr>\n    <tr>\n      <th>27012</th>\n      <td>1.2.826.0.1.3680043.8.498.81727313586288439162...</td>\n      <td>3.913753e-07</td>\n      <td>0.031818</td>\n      <td>0.481371</td>\n      <td>0.011278</td>\n      <td>0.005315</td>\n      <td>0.009961</td>\n      <td>0.356581</td>\n      <td>0.112897</td>\n      <td>0.371261</td>\n      <td>0.734415</td>\n      <td>0.005605</td>\n      <td>e8c275cb5</td>\n    </tr>\n    <tr>\n      <th>25168</th>\n      <td>1.2.826.0.1.3680043.8.498.21415798723606531651...</td>\n      <td>1.272518e-06</td>\n      <td>0.026294</td>\n      <td>0.410843</td>\n      <td>0.004312</td>\n      <td>0.003509</td>\n      <td>0.014203</td>\n      <td>0.048747</td>\n      <td>0.114908</td>\n      <td>0.291271</td>\n      <td>0.682628</td>\n      <td>0.001322</td>\n      <td>475886299</td>\n    </tr>\n    <tr>\n      <th>15685</th>\n      <td>1.2.826.0.1.3680043.8.498.69893073810882891467...</td>\n      <td>7.870610e-07</td>\n      <td>0.027954</td>\n      <td>0.669998</td>\n      <td>0.001611</td>\n      <td>0.048213</td>\n      <td>0.002471</td>\n      <td>0.722928</td>\n      <td>0.135318</td>\n      <td>0.363715</td>\n      <td>0.748413</td>\n      <td>0.004788</td>\n      <td>e65a98a3e</td>\n    </tr>\n    <tr>\n      <th>8485</th>\n      <td>1.2.826.0.1.3680043.8.498.41328067650909397893...</td>\n      <td>3.684941e-07</td>\n      <td>0.012575</td>\n      <td>0.653561</td>\n      <td>0.004490</td>\n      <td>0.002486</td>\n      <td>0.031579</td>\n      <td>0.037524</td>\n      <td>0.074159</td>\n      <td>0.239884</td>\n      <td>0.759003</td>\n      <td>0.003320</td>\n      <td>8849382d0</td>\n    </tr>\n  </tbody>\n</table>\n<p>100 rows × 13 columns</p>\n</div>"
     },
     "metadata": {}
    }
   ],
   "source": [
    "submission=test.copy()\n",
    "\n",
    "for i,col_name in enumerate(target_cols):\n",
    "    model=pickle.load(open(f\"{models_dir}autoencoder/lgb_model_{i+1}.pickle\",\"rb\"))\n",
    "    pred=model.predict(features)\n",
    "    submission.loc[:,col_name]=pred\n",
    "    \n",
    "submission.to_csv(\"submission.csv\",index=False)\n",
    "display(submission)"
   ]
  }
 ]
}