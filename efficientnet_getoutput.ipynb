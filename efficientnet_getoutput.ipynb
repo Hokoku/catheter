{
 "metadata": {
  "language_info": {
   "codemirror_mode": {
    "name": "ipython",
    "version": 3
   },
   "file_extension": ".py",
   "mimetype": "text/x-python",
   "name": "python",
   "nbconvert_exporter": "python",
   "pygments_lexer": "ipython3",
   "version": "3.8.8-final"
  },
  "orig_nbformat": 2,
  "kernelspec": {
   "name": "python3",
   "display_name": "Python 3",
   "language": "python"
  }
 },
 "nbformat": 4,
 "nbformat_minor": 2,
 "cells": [
  {
   "source": [
    "# 中間層の取得\n",
    "参考URL: https://note.nkmk.me/python-tensorflow-keras-applications-pretrained-models/"
   ],
   "cell_type": "markdown",
   "metadata": {}
  },
  {
   "cell_type": "code",
   "execution_count": 10,
   "metadata": {},
   "outputs": [],
   "source": [
    "import numpy as np\n",
    "import os\n",
    "from tqdm import tqdm\n",
    "\n",
    "from tensorflow import keras\n",
    "from tensorflow.keras.applications.efficientnet import EfficientNetB7, preprocess_input\n",
    "from tensorflow.keras.preprocessing import image\n",
    "from tensorflow.keras import models\n",
    "from IPython.display import display"
   ]
  },
  {
   "cell_type": "code",
   "execution_count": 1,
   "metadata": {},
   "outputs": [],
   "source": [
    "class CFG:\n",
    "    debug=True\n",
    "\n",
    "    models_dir=\"./models/\""
   ]
  },
  {
   "source": [
    "## input_shape:\n",
    "入力する画像のshapeを指定する, (入力画像数, height, width, チャンネル数)となる。  \n",
    "1枚だけの処理でも入力画像数を指定しなければいけないので, np.expand_dims()などを用いる。\n",
    "\n",
    "## include_top:\n",
    "出力時に画像をクラスに分けるかどうか, imagenetで訓練されたモデルなら1000クラスに分ける。  \n",
    "Falseにすれば通常だと全結合層以降が除かれる。\n",
    "\n",
    "## pooling:\n",
    "モデルの最後にプーリング層をつけるかどうか, avgならGlobalAveragePooling2D層が追加される。"
   ],
   "cell_type": "markdown",
   "metadata": {}
  },
  {
   "cell_type": "code",
   "execution_count": 15,
   "metadata": {
    "tags": []
   },
   "outputs": [
    {
     "output_type": "stream",
     "name": "stdout",
     "text": [
      "Model: \"sequential\"\n_________________________________________________________________\nLayer (type)                 Output Shape              Param #   \n=================================================================\nefficientnetb7 (Functional)  (None, 9, 9, 2560)        64097687  \n_________________________________________________________________\nglobal_average_pooling2d (Gl (None, 2560)              0         \n_________________________________________________________________\ndense (Dense)                (None, 11)                28171     \n=================================================================\nTotal params: 64,125,858\nTrainable params: 63,815,131\nNon-trainable params: 310,727\n_________________________________________________________________\n"
     ]
    }
   ],
   "source": [
    "# model=EfficientNetB7(weights=\"imagenet\",include_top=False,pooling=\"avg\")\n",
    "\n",
    "with open(f\"{CFG.models_dir}effnet_tuned/model.json\",\"rb\") as f:\n",
    "    model_json=f.read()\n",
    "\n",
    "effnet=models.model_from_json(model_json)\n",
    "effnet.load_weights(f\"{CFG.models_dir}effnet_tuned/weight.hdf5\")\n",
    "effnet.summary()"
   ]
  },
  {
   "source": [
    "## preprocess_input()\n",
    "用いるモデルに合わせた前処理を行う"
   ],
   "cell_type": "markdown",
   "metadata": {}
  },
  {
   "cell_type": "code",
   "execution_count": 36,
   "metadata": {
    "tags": []
   },
   "outputs": [
    {
     "output_type": "stream",
     "name": "stderr",
     "text": [
      "100%|██████████| 30083/30083 [13:41:57<00:00,  1.64s/it]\n"
     ]
    }
   ],
   "source": [
    "dataset_dir=\"../input/ranzcr-256x256-dataset/\"\n",
    "dest_dir=\"../input/efficientnet_output/\"\n",
    "\n",
    "for file_name in tqdm(os.listdir(dataset_dir)):\n",
    "    img_pil=image.load_img(dataset_dir+file_name) # PIL形式で画像が読み込まれる\n",
    "    img=image.img_to_array(img_pil)\n",
    "    img=np.expand_dims(img,axis=0)\n",
    "\n",
    "    pred=model.predict(preprocess_input(img))\n",
    "    np.save(dest_dir+os.path.splitext(file_name)[0]+\".npy\",pred)"
   ]
  }
 ]
}