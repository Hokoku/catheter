{
 "metadata": {
  "language_info": {
   "codemirror_mode": {
    "name": "ipython",
    "version": 3
   },
   "file_extension": ".py",
   "mimetype": "text/x-python",
   "name": "python",
   "nbconvert_exporter": "python",
   "pygments_lexer": "ipython3",
   "version": "3.8.8-final"
  },
  "orig_nbformat": 2,
  "kernelspec": {
   "name": "python3",
   "display_name": "Python 3.8.8 64-bit ('py38': conda)",
   "metadata": {
    "interpreter": {
     "hash": "3da45907e5cd41bdac7b692b424c19725633d98a853f93b11b400b1d8951ac30"
    }
   }
  }
 },
 "nbformat": 4,
 "nbformat_minor": 2,
 "cells": [
  {
   "cell_type": "code",
   "execution_count": 13,
   "metadata": {},
   "outputs": [],
   "source": [
    "import pandas as pd\n",
    "import numpy as np\n",
    "from IPython.display import display\n",
    "import pickle\n",
    "from tqdm import tqdm\n",
    "\n",
    "from tensorflow.keras import models\n",
    "from sklearn.preprocessing import StandardScaler\n",
    "from sklearn.metrics import roc_auc_score\n",
    "from sklearn.model_selection import GroupKFold"
   ]
  },
  {
   "cell_type": "code",
   "execution_count": 11,
   "metadata": {},
   "outputs": [],
   "source": [
    "class CFG:\n",
    "    dataset_dir=\"../input/ranzcr-clip-catheter-line-classification/\"\n",
    "    models_dir=\"./models/\"\n",
    "    n_folds=3\n",
    "    target_cols=['ETT - Abnormal', 'ETT - Borderline', 'ETT - Normal', 'NGT - Abnormal', 'NGT - Borderline',\n",
    "       'NGT - Incompletely Imaged', 'NGT - Normal', 'CVC - Abnormal', 'CVC - Borderline', 'CVC - Normal', 'Swan Ganz Catheter Present']\n",
    "    cvc_cols=['CVC - Abnormal', 'CVC - Borderline', 'CVC - Normal']\n",
    "    non_cvc_cols=['ETT - Abnormal', 'ETT - Borderline', 'ETT - Normal', 'NGT - Abnormal', 'NGT - Borderline',\n",
    "        'NGT - Incompletely Imaged', 'NGT - Normal', 'Swan Ganz Catheter Present']"
   ]
  },
  {
   "cell_type": "code",
   "execution_count": 3,
   "metadata": {},
   "outputs": [],
   "source": [
    "train=pd.read_csv(f\"{CFG.dataset_dir}train.csv\")"
   ]
  },
  {
   "cell_type": "code",
   "execution_count": 4,
   "metadata": {},
   "outputs": [],
   "source": [
    "material_dir=\"../input/ensemble_material/\"\n",
    "cvc=pd.read_csv(material_dir+\"cvc_effnet.csv\")\n",
    "lgbm=pd.read_csv(material_dir+\"effnet_lgbm.csv\")\n",
    "dense=pd.read_csv(material_dir+\"effnet_dense.csv\")\n",
    "\n",
    "cvc=cvc[CFG.cvc_cols]\n",
    "lgbm=lgbm[CFG.target_cols]\n",
    "dense=dense[CFG.target_cols]"
   ]
  },
  {
   "cell_type": "code",
   "execution_count": 8,
   "metadata": {},
   "outputs": [
    {
     "output_type": "stream",
     "name": "stderr",
     "text": [
      "100%|██████████| 30083/30083 [01:02<00:00, 483.57it/s]\n"
     ]
    }
   ],
   "source": [
    "npz=np.load(\"../input/effnet_best_output.npz\")\n",
    "features=[npz[uid] for uid in tqdm(train[\"StudyInstanceUID\"])]\n",
    "features=np.array(features)"
   ]
  },
  {
   "cell_type": "code",
   "execution_count": 14,
   "metadata": {},
   "outputs": [
    {
     "output_type": "stream",
     "name": "stdout",
     "text": [
      "WARNING:tensorflow:Unresolved object in checkpoint: (root).optimizer\n",
      "WARNING:tensorflow:Unresolved object in checkpoint: (root).optimizer.iter\n",
      "WARNING:tensorflow:Unresolved object in checkpoint: (root).optimizer.beta_1\n",
      "WARNING:tensorflow:Unresolved object in checkpoint: (root).optimizer.beta_2\n",
      "WARNING:tensorflow:Unresolved object in checkpoint: (root).optimizer.decay\n",
      "WARNING:tensorflow:Unresolved object in checkpoint: (root).optimizer.learning_rate\n",
      "WARNING:tensorflow:Unresolved object in checkpoint: (root).optimizer's state 'm' for (root).layer_with_weights-0.kernel\n",
      "WARNING:tensorflow:Unresolved object in checkpoint: (root).optimizer's state 'm' for (root).layer_with_weights-0.bias\n",
      "WARNING:tensorflow:Unresolved object in checkpoint: (root).optimizer's state 'm' for (root).layer_with_weights-1.kernel\n",
      "WARNING:tensorflow:Unresolved object in checkpoint: (root).optimizer's state 'm' for (root).layer_with_weights-1.bias\n",
      "WARNING:tensorflow:Unresolved object in checkpoint: (root).optimizer's state 'm' for (root).layer_with_weights-2.kernel\n",
      "WARNING:tensorflow:Unresolved object in checkpoint: (root).optimizer's state 'm' for (root).layer_with_weights-2.bias\n",
      "WARNING:tensorflow:Unresolved object in checkpoint: (root).optimizer's state 'm' for (root).layer_with_weights-3.kernel\n",
      "WARNING:tensorflow:Unresolved object in checkpoint: (root).optimizer's state 'm' for (root).layer_with_weights-3.bias\n",
      "WARNING:tensorflow:Unresolved object in checkpoint: (root).optimizer's state 'v' for (root).layer_with_weights-0.kernel\n",
      "WARNING:tensorflow:Unresolved object in checkpoint: (root).optimizer's state 'v' for (root).layer_with_weights-0.bias\n",
      "WARNING:tensorflow:Unresolved object in checkpoint: (root).optimizer's state 'v' for (root).layer_with_weights-1.kernel\n",
      "WARNING:tensorflow:Unresolved object in checkpoint: (root).optimizer's state 'v' for (root).layer_with_weights-1.bias\n",
      "WARNING:tensorflow:Unresolved object in checkpoint: (root).optimizer's state 'v' for (root).layer_with_weights-2.kernel\n",
      "WARNING:tensorflow:Unresolved object in checkpoint: (root).optimizer's state 'v' for (root).layer_with_weights-2.bias\n",
      "WARNING:tensorflow:Unresolved object in checkpoint: (root).optimizer's state 'v' for (root).layer_with_weights-3.kernel\n",
      "WARNING:tensorflow:Unresolved object in checkpoint: (root).optimizer's state 'v' for (root).layer_with_weights-3.bias\n",
      "WARNING:tensorflow:A checkpoint was restored (e.g. tf.train.Checkpoint.restore or tf.keras.Model.load_weights) but not all checkpointed values were used. See above for specific issues. Use expect_partial() on the load status object, e.g. tf.train.Checkpoint.restore(...).expect_partial(), to silence these warnings, or use assert_consumed() to make the check explicit. See https://www.tensorflow.org/guide/checkpoint#loading_mechanics for details.\n"
     ]
    }
   ],
   "source": [
    "def compress_with_autoencoder(features):\n",
    "    scaler=pickle.load(open(f\"{CFG.models_dir}minmaxscaler_effnet_best.pickle\",\"rb\"))\n",
    "    X=scaler.transform(features)\n",
    "\n",
    "    autoencoder_dir=f\"{CFG.models_dir}autoencoder_best/\"\n",
    "    with open(f\"{autoencoder_dir}model.json\",\"rt\") as f:\n",
    "        model_json=f.read()\n",
    "    autoencoder=models.model_from_json(model_json)\n",
    "    autoencoder.load_weights(f\"{autoencoder_dir}ckpt\")\n",
    "\n",
    "    layer_name=\"dense_1\"\n",
    "    compressing_model=models.Model(inputs=autoencoder.input,outputs=autoencoder.get_layer(layer_name).output)\n",
    "\n",
    "    ae_pred=compressing_model.predict(X)\n",
    "    ae_pred_df=pd.DataFrame(ae_pred)\n",
    "\n",
    "    return ae_pred_df\n",
    "\n",
    "X=compress_with_autoencoder(features)"
   ]
  },
  {
   "cell_type": "code",
   "execution_count": 15,
   "metadata": {},
   "outputs": [
    {
     "output_type": "display_data",
     "data": {
      "text/plain": "             0         1         2         5         7         10        11  \\\n0      2.673167  2.893720  0.450785  1.060405  2.383530  0.602804  0.247274   \n1      2.044053  1.257797  4.117229  1.095967  2.815526  2.502600  2.922100   \n2      0.957066  2.805675  2.284648  0.570206  1.604300  1.607768  1.134656   \n3      0.934222  4.424170  3.021049  0.521623  2.399590  1.063175  0.865115   \n4      1.122390  1.620926  0.552111  0.531280  1.199930  0.820968  1.542056   \n...         ...       ...       ...       ...       ...       ...       ...   \n30078  1.525124  1.713859  2.593170  1.078913  2.174997  2.792061  3.900610   \n30079  0.471860  2.453489  0.344327  0.325728  1.755586  0.819340  0.414095   \n30080  1.988157  2.386232  2.376373  1.295946  2.409492  3.035921  3.528997   \n30081  1.163135  3.123357  0.631640  0.325775  1.266896  1.538262  0.813791   \n30082  1.403518  2.294937  1.305921  0.563377  3.049106  1.599990  3.163711   \n\n             12        15        16  ...        82        83        84  \\\n0      4.546686  2.601023  2.746938  ...  2.845101  1.222309  2.439303   \n1      1.949331  4.941265  0.661706  ...  1.585460  3.151552  4.557871   \n2      3.969714  2.496226  1.417868  ...  1.166087  0.489565  1.096341   \n3      3.438043  2.433294  3.138260  ...  1.842543  1.764457  2.348570   \n4      1.122361  2.030983  1.158927  ...  0.644790  0.362131  0.758877   \n...         ...       ...       ...  ...       ...       ...       ...   \n30078  1.244418  5.658386  0.520775  ...  2.301839  3.729995  2.448350   \n30079  1.660657  2.043858  1.444347  ...  0.008733  1.224563  1.617114   \n30080  6.007380  4.470945  0.981653  ...  2.296206  4.804539  3.810356   \n30081  4.718347  2.864160  2.886163  ...  0.812288  0.145438  0.807039   \n30082  1.748665  7.576800  2.443218  ...  0.528224  3.668765  1.324200   \n\n             88        89        93        94        95        96        97  \n0      0.743159  5.553790  1.139015  2.191016  1.756449  1.531280  5.458642  \n1      2.256856  1.380924  2.510919  1.794880  1.713382  1.276317  0.395079  \n2      0.000000  1.794171  1.730868  2.893358  1.455244  1.804047  2.715654  \n3      0.000000  3.490625  2.038467  2.977322  1.248150  1.353670  2.733515  \n4      0.000000  1.675901  2.432779  0.477025  3.001572  1.154578  2.067586  \n...         ...       ...       ...       ...       ...       ...       ...  \n30078  1.218580  0.727766  3.751309  1.893991  1.452567  0.570655  1.322180  \n30079  0.000000  2.865466  2.107560  0.623374  2.476524  2.001624  1.053715  \n30080  0.576834  1.762171  4.163200  2.853935  1.027527  1.148571  2.443722  \n30081  0.000000  2.420322  0.766864  2.288523  1.675684  2.482395  3.231958  \n30082  0.076855  1.643422  5.607985  3.696464  2.612581  1.023459  0.765122  \n\n[30083 rows x 61 columns]",
      "text/html": "<div>\n<style scoped>\n    .dataframe tbody tr th:only-of-type {\n        vertical-align: middle;\n    }\n\n    .dataframe tbody tr th {\n        vertical-align: top;\n    }\n\n    .dataframe thead th {\n        text-align: right;\n    }\n</style>\n<table border=\"1\" class=\"dataframe\">\n  <thead>\n    <tr style=\"text-align: right;\">\n      <th></th>\n      <th>0</th>\n      <th>1</th>\n      <th>2</th>\n      <th>5</th>\n      <th>7</th>\n      <th>10</th>\n      <th>11</th>\n      <th>12</th>\n      <th>15</th>\n      <th>16</th>\n      <th>...</th>\n      <th>82</th>\n      <th>83</th>\n      <th>84</th>\n      <th>88</th>\n      <th>89</th>\n      <th>93</th>\n      <th>94</th>\n      <th>95</th>\n      <th>96</th>\n      <th>97</th>\n    </tr>\n  </thead>\n  <tbody>\n    <tr>\n      <th>0</th>\n      <td>2.673167</td>\n      <td>2.893720</td>\n      <td>0.450785</td>\n      <td>1.060405</td>\n      <td>2.383530</td>\n      <td>0.602804</td>\n      <td>0.247274</td>\n      <td>4.546686</td>\n      <td>2.601023</td>\n      <td>2.746938</td>\n      <td>...</td>\n      <td>2.845101</td>\n      <td>1.222309</td>\n      <td>2.439303</td>\n      <td>0.743159</td>\n      <td>5.553790</td>\n      <td>1.139015</td>\n      <td>2.191016</td>\n      <td>1.756449</td>\n      <td>1.531280</td>\n      <td>5.458642</td>\n    </tr>\n    <tr>\n      <th>1</th>\n      <td>2.044053</td>\n      <td>1.257797</td>\n      <td>4.117229</td>\n      <td>1.095967</td>\n      <td>2.815526</td>\n      <td>2.502600</td>\n      <td>2.922100</td>\n      <td>1.949331</td>\n      <td>4.941265</td>\n      <td>0.661706</td>\n      <td>...</td>\n      <td>1.585460</td>\n      <td>3.151552</td>\n      <td>4.557871</td>\n      <td>2.256856</td>\n      <td>1.380924</td>\n      <td>2.510919</td>\n      <td>1.794880</td>\n      <td>1.713382</td>\n      <td>1.276317</td>\n      <td>0.395079</td>\n    </tr>\n    <tr>\n      <th>2</th>\n      <td>0.957066</td>\n      <td>2.805675</td>\n      <td>2.284648</td>\n      <td>0.570206</td>\n      <td>1.604300</td>\n      <td>1.607768</td>\n      <td>1.134656</td>\n      <td>3.969714</td>\n      <td>2.496226</td>\n      <td>1.417868</td>\n      <td>...</td>\n      <td>1.166087</td>\n      <td>0.489565</td>\n      <td>1.096341</td>\n      <td>0.000000</td>\n      <td>1.794171</td>\n      <td>1.730868</td>\n      <td>2.893358</td>\n      <td>1.455244</td>\n      <td>1.804047</td>\n      <td>2.715654</td>\n    </tr>\n    <tr>\n      <th>3</th>\n      <td>0.934222</td>\n      <td>4.424170</td>\n      <td>3.021049</td>\n      <td>0.521623</td>\n      <td>2.399590</td>\n      <td>1.063175</td>\n      <td>0.865115</td>\n      <td>3.438043</td>\n      <td>2.433294</td>\n      <td>3.138260</td>\n      <td>...</td>\n      <td>1.842543</td>\n      <td>1.764457</td>\n      <td>2.348570</td>\n      <td>0.000000</td>\n      <td>3.490625</td>\n      <td>2.038467</td>\n      <td>2.977322</td>\n      <td>1.248150</td>\n      <td>1.353670</td>\n      <td>2.733515</td>\n    </tr>\n    <tr>\n      <th>4</th>\n      <td>1.122390</td>\n      <td>1.620926</td>\n      <td>0.552111</td>\n      <td>0.531280</td>\n      <td>1.199930</td>\n      <td>0.820968</td>\n      <td>1.542056</td>\n      <td>1.122361</td>\n      <td>2.030983</td>\n      <td>1.158927</td>\n      <td>...</td>\n      <td>0.644790</td>\n      <td>0.362131</td>\n      <td>0.758877</td>\n      <td>0.000000</td>\n      <td>1.675901</td>\n      <td>2.432779</td>\n      <td>0.477025</td>\n      <td>3.001572</td>\n      <td>1.154578</td>\n      <td>2.067586</td>\n    </tr>\n    <tr>\n      <th>...</th>\n      <td>...</td>\n      <td>...</td>\n      <td>...</td>\n      <td>...</td>\n      <td>...</td>\n      <td>...</td>\n      <td>...</td>\n      <td>...</td>\n      <td>...</td>\n      <td>...</td>\n      <td>...</td>\n      <td>...</td>\n      <td>...</td>\n      <td>...</td>\n      <td>...</td>\n      <td>...</td>\n      <td>...</td>\n      <td>...</td>\n      <td>...</td>\n      <td>...</td>\n      <td>...</td>\n    </tr>\n    <tr>\n      <th>30078</th>\n      <td>1.525124</td>\n      <td>1.713859</td>\n      <td>2.593170</td>\n      <td>1.078913</td>\n      <td>2.174997</td>\n      <td>2.792061</td>\n      <td>3.900610</td>\n      <td>1.244418</td>\n      <td>5.658386</td>\n      <td>0.520775</td>\n      <td>...</td>\n      <td>2.301839</td>\n      <td>3.729995</td>\n      <td>2.448350</td>\n      <td>1.218580</td>\n      <td>0.727766</td>\n      <td>3.751309</td>\n      <td>1.893991</td>\n      <td>1.452567</td>\n      <td>0.570655</td>\n      <td>1.322180</td>\n    </tr>\n    <tr>\n      <th>30079</th>\n      <td>0.471860</td>\n      <td>2.453489</td>\n      <td>0.344327</td>\n      <td>0.325728</td>\n      <td>1.755586</td>\n      <td>0.819340</td>\n      <td>0.414095</td>\n      <td>1.660657</td>\n      <td>2.043858</td>\n      <td>1.444347</td>\n      <td>...</td>\n      <td>0.008733</td>\n      <td>1.224563</td>\n      <td>1.617114</td>\n      <td>0.000000</td>\n      <td>2.865466</td>\n      <td>2.107560</td>\n      <td>0.623374</td>\n      <td>2.476524</td>\n      <td>2.001624</td>\n      <td>1.053715</td>\n    </tr>\n    <tr>\n      <th>30080</th>\n      <td>1.988157</td>\n      <td>2.386232</td>\n      <td>2.376373</td>\n      <td>1.295946</td>\n      <td>2.409492</td>\n      <td>3.035921</td>\n      <td>3.528997</td>\n      <td>6.007380</td>\n      <td>4.470945</td>\n      <td>0.981653</td>\n      <td>...</td>\n      <td>2.296206</td>\n      <td>4.804539</td>\n      <td>3.810356</td>\n      <td>0.576834</td>\n      <td>1.762171</td>\n      <td>4.163200</td>\n      <td>2.853935</td>\n      <td>1.027527</td>\n      <td>1.148571</td>\n      <td>2.443722</td>\n    </tr>\n    <tr>\n      <th>30081</th>\n      <td>1.163135</td>\n      <td>3.123357</td>\n      <td>0.631640</td>\n      <td>0.325775</td>\n      <td>1.266896</td>\n      <td>1.538262</td>\n      <td>0.813791</td>\n      <td>4.718347</td>\n      <td>2.864160</td>\n      <td>2.886163</td>\n      <td>...</td>\n      <td>0.812288</td>\n      <td>0.145438</td>\n      <td>0.807039</td>\n      <td>0.000000</td>\n      <td>2.420322</td>\n      <td>0.766864</td>\n      <td>2.288523</td>\n      <td>1.675684</td>\n      <td>2.482395</td>\n      <td>3.231958</td>\n    </tr>\n    <tr>\n      <th>30082</th>\n      <td>1.403518</td>\n      <td>2.294937</td>\n      <td>1.305921</td>\n      <td>0.563377</td>\n      <td>3.049106</td>\n      <td>1.599990</td>\n      <td>3.163711</td>\n      <td>1.748665</td>\n      <td>7.576800</td>\n      <td>2.443218</td>\n      <td>...</td>\n      <td>0.528224</td>\n      <td>3.668765</td>\n      <td>1.324200</td>\n      <td>0.076855</td>\n      <td>1.643422</td>\n      <td>5.607985</td>\n      <td>3.696464</td>\n      <td>2.612581</td>\n      <td>1.023459</td>\n      <td>0.765122</td>\n    </tr>\n  </tbody>\n</table>\n<p>30083 rows × 61 columns</p>\n</div>"
     },
     "metadata": {}
    }
   ],
   "source": [
    "valuless_columns=[3, 4, 6, 8, 9, 13, 14, 17, 18, 23, 27, 35, 36, 37, 38, 44, 45,\n",
    "            47, 50, 51, 52, 57, 58, 61, 62, 67, 68, 72, 73, 74, 76, 85, 86, 87,\n",
    "            90, 91, 92, 98, 99]\n",
    "X_dropped=X.drop(columns=valuless_columns)\n",
    "display(X_dropped)"
   ]
  },
  {
   "cell_type": "code",
   "execution_count": 17,
   "metadata": {},
   "outputs": [
    {
     "output_type": "stream",
     "name": "stdout",
     "text": [
      "0.417351737067969\n",
      "0.46531619722393325\n",
      "0.7237285719019306\n",
      "0.6194439874563997\n",
      "0.4587642459741439\n",
      "0.49724948872805447\n",
      "0.6239400619019727\n",
      "0.7498967548222989\n",
      "0.41365159122110695\n",
      "0.6771418530114289\n",
      "0.6225676781580223\n"
     ]
    }
   ],
   "source": [
    "for i,col_name in enumerate(CFG.target_cols):\n",
    "    lgbm_model=pickle.load(open(f\"./models/lgbm_effnet_best_dropped/model_{i}.pickle\",\"rb\"))\n",
    "    pred=lgbm_model.predict(X_dropped)\n",
    "    score=roc_auc_score(train[col_name],lgbm[col_name])\n",
    "    print(score)"
   ]
  },
  {
   "cell_type": "code",
   "execution_count": 10,
   "metadata": {},
   "outputs": [],
   "source": [
    "scaler=StandardScaler()\n",
    "\n",
    "cvc_norm=pd.DataFrame(scaler.fit_transform(cvc),columns=CFG.cvc_cols)\n",
    "lgbm_norm=pd.DataFrame(scaler.fit_transform(lgbm),columns=CFG.target_cols)\n",
    "dense_norm=pd.DataFrame(scaler.fit_transform(dense),columns=CFG.target_cols)"
   ]
  },
  {
   "cell_type": "code",
   "execution_count": 39,
   "metadata": {},
   "outputs": [],
   "source": [
    "def get_fold(train):\n",
    "    fold=train.copy()\n",
    "    splitter=GroupKFold(n_splits=CFG.n_folds)\n",
    "    for n,(train_idx,val_idx) in enumerate(splitter.split(train,groups=train[\"PatientID\"])):\n",
    "        fold.loc[val_idx,\"folds\"]=n\n",
    "    fold[\"folds\"]=fold[\"folds\"].astype(int)\n",
    "    return fold\n",
    "\n",
    "fold=get_fold(train)"
   ]
  },
  {
   "cell_type": "code",
   "execution_count": 35,
   "metadata": {
    "tags": []
   },
   "outputs": [
    {
     "output_type": "stream",
     "name": "stdout",
     "text": [
      "CVC - Abnormal 0.0 0.1\n",
      "CVC - Borderline 0.0 0.11\n",
      "CVC - Normal 0.0 0.16\n",
      "Wall time: 2min 47s\n"
     ]
    },
    {
     "output_type": "execute_result",
     "data": {
      "text/plain": [
       "'\\nfor col_name in CFG.non_cvc_cols:\\n    results=get_param_results_2(col_name)\\n    best_p=results.at[results[\"score\"].idxmax(),\"p\"]\\n    print(col_name,best_p)\\n'"
      ]
     },
     "metadata": {},
     "execution_count": 35
    }
   ],
   "source": [
    "%%time\n",
    "\n",
    "def get_param_results_2(train_idx,col_name):\n",
    "    results_list=[]\n",
    "    for p in [i*0.01 for i in range(101)]:\n",
    "        ensemble_pred=p*lgbm_norm[col_name][train_idx]+(1-p)*dense_norm[col_name][train_idx]\n",
    "        score=roc_auc_score(train[col_name][train_idx],ensemble_pred)\n",
    "        results_list.append([p,score])\n",
    "    results=pd.DataFrame(results_list,columns=[\"p\",\"score\"])\n",
    "    return results\n",
    "\n",
    "def get_param_results_3(train_idx,col_name):\n",
    "    results_list=[]\n",
    "    for p in [i*0.01 for i in range(101)]:\n",
    "        rest=(1-p)*100\n",
    "        for q in [i*0.01 for i in range(int(rest)+1)]:\n",
    "            ensemble_pred=p*lgbm_norm[col_name]+q*dense_norm[col_name]+(1-p-q)*cvc_norm[col_name]\n",
    "            score=roc_auc_score(train[col_name],ensemble_pred)\n",
    "            results_list.append([p,q,score])\n",
    "    results=pd.DataFrame(results_list,columns=[\"p\",\"q\",\"score\"])\n",
    "    return results"
   ]
  },
  {
   "cell_type": "code",
   "execution_count": 48,
   "metadata": {},
   "outputs": [
    {
     "output_type": "display_data",
     "data": {
      "text/plain": "  ETT - Abnormal ETT - Borderline ETT - Normal NGT - Abnormal  \\\np            0.0              0.0          0.0            0.0   \nq            NaN              NaN          NaN            NaN   \n\n  NGT - Borderline NGT - Incompletely Imaged NGT - Normal CVC - Abnormal  \\\np             0.01                      0.01          0.0            0.0   \nq              NaN                       NaN          NaN            0.1   \n\n  CVC - Borderline CVC - Normal Swan Ganz Catheter Present  \np              0.0          0.0                        0.0  \nq             0.11         0.16                        NaN  ",
      "text/html": "<div>\n<style scoped>\n    .dataframe tbody tr th:only-of-type {\n        vertical-align: middle;\n    }\n\n    .dataframe tbody tr th {\n        vertical-align: top;\n    }\n\n    .dataframe thead th {\n        text-align: right;\n    }\n</style>\n<table border=\"1\" class=\"dataframe\">\n  <thead>\n    <tr style=\"text-align: right;\">\n      <th></th>\n      <th>ETT - Abnormal</th>\n      <th>ETT - Borderline</th>\n      <th>ETT - Normal</th>\n      <th>NGT - Abnormal</th>\n      <th>NGT - Borderline</th>\n      <th>NGT - Incompletely Imaged</th>\n      <th>NGT - Normal</th>\n      <th>CVC - Abnormal</th>\n      <th>CVC - Borderline</th>\n      <th>CVC - Normal</th>\n      <th>Swan Ganz Catheter Present</th>\n    </tr>\n  </thead>\n  <tbody>\n    <tr>\n      <th>p</th>\n      <td>0.0</td>\n      <td>0.0</td>\n      <td>0.0</td>\n      <td>0.0</td>\n      <td>0.01</td>\n      <td>0.01</td>\n      <td>0.0</td>\n      <td>0.0</td>\n      <td>0.0</td>\n      <td>0.0</td>\n      <td>0.0</td>\n    </tr>\n    <tr>\n      <th>q</th>\n      <td>NaN</td>\n      <td>NaN</td>\n      <td>NaN</td>\n      <td>NaN</td>\n      <td>NaN</td>\n      <td>NaN</td>\n      <td>NaN</td>\n      <td>0.1</td>\n      <td>0.11</td>\n      <td>0.16</td>\n      <td>NaN</td>\n    </tr>\n  </tbody>\n</table>\n</div>"
     },
     "metadata": {}
    },
    {
     "output_type": "display_data",
     "data": {
      "text/plain": "  ETT - Abnormal ETT - Borderline ETT - Normal NGT - Abnormal  \\\np            0.0              0.0          0.0            0.0   \nq            NaN              NaN          NaN            NaN   \n\n  NGT - Borderline NGT - Incompletely Imaged NGT - Normal CVC - Abnormal  \\\np             0.01                      0.01          0.0            0.0   \nq              NaN                       NaN          NaN            0.1   \n\n  CVC - Borderline CVC - Normal Swan Ganz Catheter Present  \np              0.0          0.0                        0.0  \nq             0.11         0.16                        NaN  ",
      "text/html": "<div>\n<style scoped>\n    .dataframe tbody tr th:only-of-type {\n        vertical-align: middle;\n    }\n\n    .dataframe tbody tr th {\n        vertical-align: top;\n    }\n\n    .dataframe thead th {\n        text-align: right;\n    }\n</style>\n<table border=\"1\" class=\"dataframe\">\n  <thead>\n    <tr style=\"text-align: right;\">\n      <th></th>\n      <th>ETT - Abnormal</th>\n      <th>ETT - Borderline</th>\n      <th>ETT - Normal</th>\n      <th>NGT - Abnormal</th>\n      <th>NGT - Borderline</th>\n      <th>NGT - Incompletely Imaged</th>\n      <th>NGT - Normal</th>\n      <th>CVC - Abnormal</th>\n      <th>CVC - Borderline</th>\n      <th>CVC - Normal</th>\n      <th>Swan Ganz Catheter Present</th>\n    </tr>\n  </thead>\n  <tbody>\n    <tr>\n      <th>p</th>\n      <td>0.0</td>\n      <td>0.0</td>\n      <td>0.0</td>\n      <td>0.0</td>\n      <td>0.01</td>\n      <td>0.01</td>\n      <td>0.0</td>\n      <td>0.0</td>\n      <td>0.0</td>\n      <td>0.0</td>\n      <td>0.0</td>\n    </tr>\n    <tr>\n      <th>q</th>\n      <td>NaN</td>\n      <td>NaN</td>\n      <td>NaN</td>\n      <td>NaN</td>\n      <td>NaN</td>\n      <td>NaN</td>\n      <td>NaN</td>\n      <td>0.1</td>\n      <td>0.11</td>\n      <td>0.16</td>\n      <td>NaN</td>\n    </tr>\n  </tbody>\n</table>\n</div>"
     },
     "metadata": {}
    },
    {
     "output_type": "display_data",
     "data": {
      "text/plain": "  ETT - Abnormal ETT - Borderline ETT - Normal NGT - Abnormal  \\\np            0.0              0.0          0.0            0.0   \nq            NaN              NaN          NaN            NaN   \n\n  NGT - Borderline NGT - Incompletely Imaged NGT - Normal CVC - Abnormal  \\\np             0.01                      0.01          0.0            0.0   \nq              NaN                       NaN          NaN            0.1   \n\n  CVC - Borderline CVC - Normal Swan Ganz Catheter Present  \np              0.0          0.0                        0.0  \nq             0.11         0.16                        NaN  ",
      "text/html": "<div>\n<style scoped>\n    .dataframe tbody tr th:only-of-type {\n        vertical-align: middle;\n    }\n\n    .dataframe tbody tr th {\n        vertical-align: top;\n    }\n\n    .dataframe thead th {\n        text-align: right;\n    }\n</style>\n<table border=\"1\" class=\"dataframe\">\n  <thead>\n    <tr style=\"text-align: right;\">\n      <th></th>\n      <th>ETT - Abnormal</th>\n      <th>ETT - Borderline</th>\n      <th>ETT - Normal</th>\n      <th>NGT - Abnormal</th>\n      <th>NGT - Borderline</th>\n      <th>NGT - Incompletely Imaged</th>\n      <th>NGT - Normal</th>\n      <th>CVC - Abnormal</th>\n      <th>CVC - Borderline</th>\n      <th>CVC - Normal</th>\n      <th>Swan Ganz Catheter Present</th>\n    </tr>\n  </thead>\n  <tbody>\n    <tr>\n      <th>p</th>\n      <td>0.0</td>\n      <td>0.0</td>\n      <td>0.0</td>\n      <td>0.0</td>\n      <td>0.01</td>\n      <td>0.01</td>\n      <td>0.0</td>\n      <td>0.0</td>\n      <td>0.0</td>\n      <td>0.0</td>\n      <td>0.0</td>\n    </tr>\n    <tr>\n      <th>q</th>\n      <td>NaN</td>\n      <td>NaN</td>\n      <td>NaN</td>\n      <td>NaN</td>\n      <td>NaN</td>\n      <td>NaN</td>\n      <td>NaN</td>\n      <td>0.1</td>\n      <td>0.11</td>\n      <td>0.16</td>\n      <td>NaN</td>\n    </tr>\n  </tbody>\n</table>\n</div>"
     },
     "metadata": {}
    },
    {
     "output_type": "stream",
     "name": "stdout",
     "text": [
      "Wall time: 11min 43s\n"
     ]
    }
   ],
   "source": [
    "%%time\n",
    "\n",
    "best_params_list=[]\n",
    "\n",
    "for n in range(CFG.n_folds):\n",
    "    train_idx=(fold[\"folds\"]!=n)\n",
    "    best_params=pd.DataFrame(index=[\"p\",\"q\"],columns=CFG.target_cols)\n",
    "    for col_name in CFG.non_cvc_cols:\n",
    "        results=get_param_results_2(col_name)\n",
    "        best_p=results.at[results[\"score\"].idxmax(),\"p\"]\n",
    "        best_params.at[\"p\",col_name]=best_p\n",
    "\n",
    "    for col_name in CFG.cvc_cols:\n",
    "        results=get_param_results_3(col_name)\n",
    "        best_p=results.at[results[\"score\"].idxmax(),\"p\"]\n",
    "        best_q=results.at[results[\"score\"].idxmax(),\"q\"]\n",
    "        best_params.at[\"p\",col_name]=best_p\n",
    "        best_params.at[\"q\",col_name]=best_q\n",
    "    \n",
    "    best_params_list.append(best_params)\n",
    "    \n",
    "for df in best_params_list:\n",
    "    display(df)"
   ]
  },
  {
   "cell_type": "code",
   "execution_count": 1,
   "metadata": {},
   "outputs": [],
   "source": [
    "best_params={\n",
    "    'ETT - Abnormal':0,\n",
    "    'ETT - Borderline':0,\n",
    "    'ETT - Normal':0,\n",
    "    'NGT - Abnormal':0,\n",
    "    'NGT - Borderline':0.01,\n",
    "    'NGT - Incompletely Imaged':0.01,\n",
    "    'NGT - Normal':0,\n",
    "    'CVC - Abnormal':[0,0.1],\n",
    "    'CVC - Borderline':[0,0.11],\n",
    "    'CVC - Normal':[0,0.16],\n",
    "    'Swan Ganz Catheter Present':0\n",
    "}"
   ]
  },
  {
   "cell_type": "code",
   "execution_count": 5,
   "metadata": {},
   "outputs": [
    {
     "output_type": "stream",
     "name": "stdout",
     "text": [
      "Wall time: 0 ns\n"
     ]
    }
   ],
   "source": [
    "%%time\n",
    "\n",
    "def get_param_results_2(col_name):\n",
    "    p=best_params[col_name]\n",
    "    ensemble_pred=p*lgbm_norm[col_name]+(1-p)*dense_norm[col_name]\n",
    "    score=roc_auc_score(train[col_name],ensemble_pred)\n",
    "    return score\n",
    "\n",
    "def get_param_results_3(col_name):\n",
    "    p=best_params[col_name][0]\n",
    "    q=best_params[col_name][1]\n",
    "    ensemble_pred=p*lgbm_norm[col_name]+q*dense_norm[col_name]+(1-p-q)*cvc_norm[col_name]\n",
    "    score=roc_auc_score(train[col_name],ensemble_pred)\n",
    "    return score"
   ]
  },
  {
   "cell_type": "code",
   "execution_count": 17,
   "metadata": {},
   "outputs": [
    {
     "output_type": "display_data",
     "data": {
      "text/plain": "         ETT - Abnormal ETT - Borderline ETT - Normal NGT - Abnormal  \\\ndense          0.986835         0.984116     0.996592       0.978768   \nlgbm           0.417352         0.465316     0.723729       0.619444   \nensemble       0.986835         0.984116     0.996592       0.978768   \n\n         NGT - Borderline NGT - Incompletely Imaged NGT - Normal  \\\ndense            0.970776                  0.991322     0.991293   \nlgbm             0.458764                  0.497249      0.62394   \nensemble         0.971097                  0.991408     0.991293   \n\n         CVC - Abnormal CVC - Borderline CVC - Normal  \\\ndense          0.943553         0.904939     0.952546   \nlgbm           0.749897         0.413652     0.677142   \nensemble        0.97648         0.950332      0.97773   \n\n         Swan Ganz Catheter Present  \ndense                      0.999313  \nlgbm                       0.622568  \nensemble                   0.999313  ",
      "text/html": "<div>\n<style scoped>\n    .dataframe tbody tr th:only-of-type {\n        vertical-align: middle;\n    }\n\n    .dataframe tbody tr th {\n        vertical-align: top;\n    }\n\n    .dataframe thead th {\n        text-align: right;\n    }\n</style>\n<table border=\"1\" class=\"dataframe\">\n  <thead>\n    <tr style=\"text-align: right;\">\n      <th></th>\n      <th>ETT - Abnormal</th>\n      <th>ETT - Borderline</th>\n      <th>ETT - Normal</th>\n      <th>NGT - Abnormal</th>\n      <th>NGT - Borderline</th>\n      <th>NGT - Incompletely Imaged</th>\n      <th>NGT - Normal</th>\n      <th>CVC - Abnormal</th>\n      <th>CVC - Borderline</th>\n      <th>CVC - Normal</th>\n      <th>Swan Ganz Catheter Present</th>\n    </tr>\n  </thead>\n  <tbody>\n    <tr>\n      <th>dense</th>\n      <td>0.986835</td>\n      <td>0.984116</td>\n      <td>0.996592</td>\n      <td>0.978768</td>\n      <td>0.970776</td>\n      <td>0.991322</td>\n      <td>0.991293</td>\n      <td>0.943553</td>\n      <td>0.904939</td>\n      <td>0.952546</td>\n      <td>0.999313</td>\n    </tr>\n    <tr>\n      <th>lgbm</th>\n      <td>0.417352</td>\n      <td>0.465316</td>\n      <td>0.723729</td>\n      <td>0.619444</td>\n      <td>0.458764</td>\n      <td>0.497249</td>\n      <td>0.62394</td>\n      <td>0.749897</td>\n      <td>0.413652</td>\n      <td>0.677142</td>\n      <td>0.622568</td>\n    </tr>\n    <tr>\n      <th>ensemble</th>\n      <td>0.986835</td>\n      <td>0.984116</td>\n      <td>0.996592</td>\n      <td>0.978768</td>\n      <td>0.971097</td>\n      <td>0.991408</td>\n      <td>0.991293</td>\n      <td>0.97648</td>\n      <td>0.950332</td>\n      <td>0.97773</td>\n      <td>0.999313</td>\n    </tr>\n  </tbody>\n</table>\n</div>"
     },
     "metadata": {}
    },
    {
     "output_type": "display_data",
     "data": {
      "text/plain": "dense       0.972732\nlgbm        0.569914\nensemble    0.982179\ndtype: float64"
     },
     "metadata": {}
    }
   ],
   "source": [
    "auc=pd.DataFrame(columns=CFG.target_cols)\n",
    "\n",
    "for col_name in CFG.target_cols:\n",
    "    auc.loc[\"dense\",col_name]=roc_auc_score(train[col_name],dense_norm[col_name])\n",
    "    auc.loc[\"lgbm\",col_name]=roc_auc_score(train[col_name],lgbm_norm[col_name])\n",
    "\n",
    "for col_name in CFG.cvc_cols:\n",
    "    auc.loc[\"ensemble\",col_name]=get_param_results_3(col_name)\n",
    "for col_name in CFG.non_cvc_cols:\n",
    "    auc.loc[\"ensemble\",col_name]=get_param_results_2(col_name)\n",
    "display(auc,auc.mean(axis=1))"
   ]
  },
  {
   "source": [
    "get_param_results_3: **55s** for one column"
   ],
   "cell_type": "markdown",
   "metadata": {}
  }
 ]
}