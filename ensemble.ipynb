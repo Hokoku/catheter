{
 "metadata": {
  "language_info": {
   "codemirror_mode": {
    "name": "ipython",
    "version": 3
   },
   "file_extension": ".py",
   "mimetype": "text/x-python",
   "name": "python",
   "nbconvert_exporter": "python",
   "pygments_lexer": "ipython3",
   "version": "3.8.8-final"
  },
  "orig_nbformat": 2,
  "kernelspec": {
   "name": "python3",
   "display_name": "Python 3.8.8 64-bit ('py38': conda)",
   "metadata": {
    "interpreter": {
     "hash": "3da45907e5cd41bdac7b692b424c19725633d98a853f93b11b400b1d8951ac30"
    }
   }
  }
 },
 "nbformat": 4,
 "nbformat_minor": 2,
 "cells": [
  {
   "cell_type": "code",
   "execution_count": 6,
   "metadata": {},
   "outputs": [],
   "source": [
    "import pandas as pd\n",
    "import numpy as np\n",
    "from IPython.display import display\n",
    "import pickle\n",
    "\n",
    "from sklearn.preprocessing import StandardScaler\n",
    "from sklearn.metrics import roc_auc_score\n",
    "from sklearn.model_selection import GroupKFold"
   ]
  },
  {
   "cell_type": "code",
   "execution_count": 7,
   "metadata": {},
   "outputs": [],
   "source": [
    "class CFG:\n",
    "    dataset_dir=\"../input/ranzcr-clip-catheter-line-classification/\"\n",
    "    n_folds=3\n",
    "    target_cols=['ETT - Abnormal', 'ETT - Borderline', 'ETT - Normal', 'NGT - Abnormal', 'NGT - Borderline',\n",
    "       'NGT - Incompletely Imaged', 'NGT - Normal', 'CVC - Abnormal', 'CVC - Borderline', 'CVC - Normal', 'Swan Ganz Catheter Present']\n",
    "    cvc_cols=['CVC - Abnormal', 'CVC - Borderline', 'CVC - Normal']\n",
    "    non_cvc_cols=['ETT - Abnormal', 'ETT - Borderline', 'ETT - Normal', 'NGT - Abnormal', 'NGT - Borderline',\n",
    "        'NGT - Incompletely Imaged', 'NGT - Normal', 'Swan Ganz Catheter Present']"
   ]
  },
  {
   "cell_type": "code",
   "execution_count": 8,
   "metadata": {},
   "outputs": [],
   "source": [
    "train=pd.read_csv(f\"{CFG.dataset_dir}train.csv\")"
   ]
  },
  {
   "cell_type": "code",
   "execution_count": 9,
   "metadata": {},
   "outputs": [],
   "source": [
    "material_dir=\"../input/ensemble_material/\"\n",
    "cvc=pd.read_csv(material_dir+\"cvc_effnet.csv\")\n",
    "lgbm=pd.read_csv(material_dir+\"effnet_lgbm.csv\")\n",
    "dense=pd.read_csv(material_dir+\"effnet_dense.csv\")\n",
    "\n",
    "cvc=cvc[CFG.cvc_cols]\n",
    "lgbm=lgbm[CFG.target_cols]\n",
    "dense=dense[CFG.target_cols]"
   ]
  },
  {
   "cell_type": "code",
   "execution_count": 10,
   "metadata": {},
   "outputs": [],
   "source": [
    "scaler=StandardScaler()\n",
    "\n",
    "cvc_norm=pd.DataFrame(scaler.fit_transform(cvc),columns=CFG.cvc_cols)\n",
    "lgbm_norm=pd.DataFrame(scaler.fit_transform(lgbm),columns=CFG.target_cols)\n",
    "dense_norm=pd.DataFrame(scaler.fit_transform(dense),columns=CFG.target_cols)"
   ]
  },
  {
   "cell_type": "code",
   "execution_count": 39,
   "metadata": {},
   "outputs": [],
   "source": [
    "def get_fold(train):\n",
    "    fold=train.copy()\n",
    "    splitter=GroupKFold(n_splits=CFG.n_folds)\n",
    "    for n,(train_idx,val_idx) in enumerate(splitter.split(train,groups=train[\"PatientID\"])):\n",
    "        fold.loc[val_idx,\"folds\"]=n\n",
    "    fold[\"folds\"]=fold[\"folds\"].astype(int)\n",
    "    return fold\n",
    "\n",
    "fold=get_fold(train)"
   ]
  },
  {
   "cell_type": "code",
   "execution_count": 35,
   "metadata": {
    "tags": []
   },
   "outputs": [
    {
     "output_type": "stream",
     "name": "stdout",
     "text": [
      "CVC - Abnormal 0.0 0.1\n",
      "CVC - Borderline 0.0 0.11\n",
      "CVC - Normal 0.0 0.16\n",
      "Wall time: 2min 47s\n"
     ]
    },
    {
     "output_type": "execute_result",
     "data": {
      "text/plain": [
       "'\\nfor col_name in CFG.non_cvc_cols:\\n    results=get_param_results_2(col_name)\\n    best_p=results.at[results[\"score\"].idxmax(),\"p\"]\\n    print(col_name,best_p)\\n'"
      ]
     },
     "metadata": {},
     "execution_count": 35
    }
   ],
   "source": [
    "%%time\n",
    "\n",
    "def get_param_results_2(train_idx,col_name):\n",
    "    results_list=[]\n",
    "    for p in [i*0.01 for i in range(101)]:\n",
    "        ensemble_pred=p*lgbm_norm[col_name][train_idx]+(1-p)*dense_norm[col_name][train_idx]\n",
    "        score=roc_auc_score(train[col_name][train_idx],ensemble_pred)\n",
    "        results_list.append([p,score])\n",
    "    results=pd.DataFrame(results_list,columns=[\"p\",\"score\"])\n",
    "    return results\n",
    "\n",
    "def get_param_results_3(train_idx,col_name):\n",
    "    results_list=[]\n",
    "    for p in [i*0.01 for i in range(101)]:\n",
    "        rest=(1-p)*100\n",
    "        for q in [i*0.01 for i in range(int(rest)+1)]:\n",
    "            ensemble_pred=p*lgbm_norm[col_name]+q*dense_norm[col_name]+(1-p-q)*cvc_norm[col_name]\n",
    "            score=roc_auc_score(train[col_name],ensemble_pred)\n",
    "            results_list.append([p,q,score])\n",
    "    results=pd.DataFrame(results_list,columns=[\"p\",\"q\",\"score\"])\n",
    "    return results"
   ]
  },
  {
   "cell_type": "code",
   "execution_count": 48,
   "metadata": {},
   "outputs": [
    {
     "output_type": "display_data",
     "data": {
      "text/plain": "  ETT - Abnormal ETT - Borderline ETT - Normal NGT - Abnormal  \\\np            0.0              0.0          0.0            0.0   \nq            NaN              NaN          NaN            NaN   \n\n  NGT - Borderline NGT - Incompletely Imaged NGT - Normal CVC - Abnormal  \\\np             0.01                      0.01          0.0            0.0   \nq              NaN                       NaN          NaN            0.1   \n\n  CVC - Borderline CVC - Normal Swan Ganz Catheter Present  \np              0.0          0.0                        0.0  \nq             0.11         0.16                        NaN  ",
      "text/html": "<div>\n<style scoped>\n    .dataframe tbody tr th:only-of-type {\n        vertical-align: middle;\n    }\n\n    .dataframe tbody tr th {\n        vertical-align: top;\n    }\n\n    .dataframe thead th {\n        text-align: right;\n    }\n</style>\n<table border=\"1\" class=\"dataframe\">\n  <thead>\n    <tr style=\"text-align: right;\">\n      <th></th>\n      <th>ETT - Abnormal</th>\n      <th>ETT - Borderline</th>\n      <th>ETT - Normal</th>\n      <th>NGT - Abnormal</th>\n      <th>NGT - Borderline</th>\n      <th>NGT - Incompletely Imaged</th>\n      <th>NGT - Normal</th>\n      <th>CVC - Abnormal</th>\n      <th>CVC - Borderline</th>\n      <th>CVC - Normal</th>\n      <th>Swan Ganz Catheter Present</th>\n    </tr>\n  </thead>\n  <tbody>\n    <tr>\n      <th>p</th>\n      <td>0.0</td>\n      <td>0.0</td>\n      <td>0.0</td>\n      <td>0.0</td>\n      <td>0.01</td>\n      <td>0.01</td>\n      <td>0.0</td>\n      <td>0.0</td>\n      <td>0.0</td>\n      <td>0.0</td>\n      <td>0.0</td>\n    </tr>\n    <tr>\n      <th>q</th>\n      <td>NaN</td>\n      <td>NaN</td>\n      <td>NaN</td>\n      <td>NaN</td>\n      <td>NaN</td>\n      <td>NaN</td>\n      <td>NaN</td>\n      <td>0.1</td>\n      <td>0.11</td>\n      <td>0.16</td>\n      <td>NaN</td>\n    </tr>\n  </tbody>\n</table>\n</div>"
     },
     "metadata": {}
    },
    {
     "output_type": "display_data",
     "data": {
      "text/plain": "  ETT - Abnormal ETT - Borderline ETT - Normal NGT - Abnormal  \\\np            0.0              0.0          0.0            0.0   \nq            NaN              NaN          NaN            NaN   \n\n  NGT - Borderline NGT - Incompletely Imaged NGT - Normal CVC - Abnormal  \\\np             0.01                      0.01          0.0            0.0   \nq              NaN                       NaN          NaN            0.1   \n\n  CVC - Borderline CVC - Normal Swan Ganz Catheter Present  \np              0.0          0.0                        0.0  \nq             0.11         0.16                        NaN  ",
      "text/html": "<div>\n<style scoped>\n    .dataframe tbody tr th:only-of-type {\n        vertical-align: middle;\n    }\n\n    .dataframe tbody tr th {\n        vertical-align: top;\n    }\n\n    .dataframe thead th {\n        text-align: right;\n    }\n</style>\n<table border=\"1\" class=\"dataframe\">\n  <thead>\n    <tr style=\"text-align: right;\">\n      <th></th>\n      <th>ETT - Abnormal</th>\n      <th>ETT - Borderline</th>\n      <th>ETT - Normal</th>\n      <th>NGT - Abnormal</th>\n      <th>NGT - Borderline</th>\n      <th>NGT - Incompletely Imaged</th>\n      <th>NGT - Normal</th>\n      <th>CVC - Abnormal</th>\n      <th>CVC - Borderline</th>\n      <th>CVC - Normal</th>\n      <th>Swan Ganz Catheter Present</th>\n    </tr>\n  </thead>\n  <tbody>\n    <tr>\n      <th>p</th>\n      <td>0.0</td>\n      <td>0.0</td>\n      <td>0.0</td>\n      <td>0.0</td>\n      <td>0.01</td>\n      <td>0.01</td>\n      <td>0.0</td>\n      <td>0.0</td>\n      <td>0.0</td>\n      <td>0.0</td>\n      <td>0.0</td>\n    </tr>\n    <tr>\n      <th>q</th>\n      <td>NaN</td>\n      <td>NaN</td>\n      <td>NaN</td>\n      <td>NaN</td>\n      <td>NaN</td>\n      <td>NaN</td>\n      <td>NaN</td>\n      <td>0.1</td>\n      <td>0.11</td>\n      <td>0.16</td>\n      <td>NaN</td>\n    </tr>\n  </tbody>\n</table>\n</div>"
     },
     "metadata": {}
    },
    {
     "output_type": "display_data",
     "data": {
      "text/plain": "  ETT - Abnormal ETT - Borderline ETT - Normal NGT - Abnormal  \\\np            0.0              0.0          0.0            0.0   \nq            NaN              NaN          NaN            NaN   \n\n  NGT - Borderline NGT - Incompletely Imaged NGT - Normal CVC - Abnormal  \\\np             0.01                      0.01          0.0            0.0   \nq              NaN                       NaN          NaN            0.1   \n\n  CVC - Borderline CVC - Normal Swan Ganz Catheter Present  \np              0.0          0.0                        0.0  \nq             0.11         0.16                        NaN  ",
      "text/html": "<div>\n<style scoped>\n    .dataframe tbody tr th:only-of-type {\n        vertical-align: middle;\n    }\n\n    .dataframe tbody tr th {\n        vertical-align: top;\n    }\n\n    .dataframe thead th {\n        text-align: right;\n    }\n</style>\n<table border=\"1\" class=\"dataframe\">\n  <thead>\n    <tr style=\"text-align: right;\">\n      <th></th>\n      <th>ETT - Abnormal</th>\n      <th>ETT - Borderline</th>\n      <th>ETT - Normal</th>\n      <th>NGT - Abnormal</th>\n      <th>NGT - Borderline</th>\n      <th>NGT - Incompletely Imaged</th>\n      <th>NGT - Normal</th>\n      <th>CVC - Abnormal</th>\n      <th>CVC - Borderline</th>\n      <th>CVC - Normal</th>\n      <th>Swan Ganz Catheter Present</th>\n    </tr>\n  </thead>\n  <tbody>\n    <tr>\n      <th>p</th>\n      <td>0.0</td>\n      <td>0.0</td>\n      <td>0.0</td>\n      <td>0.0</td>\n      <td>0.01</td>\n      <td>0.01</td>\n      <td>0.0</td>\n      <td>0.0</td>\n      <td>0.0</td>\n      <td>0.0</td>\n      <td>0.0</td>\n    </tr>\n    <tr>\n      <th>q</th>\n      <td>NaN</td>\n      <td>NaN</td>\n      <td>NaN</td>\n      <td>NaN</td>\n      <td>NaN</td>\n      <td>NaN</td>\n      <td>NaN</td>\n      <td>0.1</td>\n      <td>0.11</td>\n      <td>0.16</td>\n      <td>NaN</td>\n    </tr>\n  </tbody>\n</table>\n</div>"
     },
     "metadata": {}
    },
    {
     "output_type": "stream",
     "name": "stdout",
     "text": [
      "Wall time: 11min 43s\n"
     ]
    }
   ],
   "source": [
    "%%time\n",
    "\n",
    "best_params_list=[]\n",
    "\n",
    "for n in range(CFG.n_folds):\n",
    "    train_idx=(fold[\"folds\"]!=n)\n",
    "    best_params=pd.DataFrame(index=[\"p\",\"q\"],columns=CFG.target_cols)\n",
    "    for col_name in CFG.non_cvc_cols:\n",
    "        results=get_param_results_2(col_name)\n",
    "        best_p=results.at[results[\"score\"].idxmax(),\"p\"]\n",
    "        best_params.at[\"p\",col_name]=best_p\n",
    "\n",
    "    for col_name in CFG.cvc_cols:\n",
    "        results=get_param_results_3(col_name)\n",
    "        best_p=results.at[results[\"score\"].idxmax(),\"p\"]\n",
    "        best_q=results.at[results[\"score\"].idxmax(),\"q\"]\n",
    "        best_params.at[\"p\",col_name]=best_p\n",
    "        best_params.at[\"q\",col_name]=best_q\n",
    "    \n",
    "    best_params_list.append(best_params)\n",
    "    \n",
    "for df in best_params_list:\n",
    "    display(df)"
   ]
  },
  {
   "cell_type": "code",
   "execution_count": 1,
   "metadata": {},
   "outputs": [],
   "source": [
    "best_params={\n",
    "    'ETT - Abnormal':0,\n",
    "    'ETT - Borderline':0,\n",
    "    'ETT - Normal':0,\n",
    "    'NGT - Abnormal':0,\n",
    "    'NGT - Borderline':0.01,\n",
    "    'NGT - Incompletely Imaged':0.01,\n",
    "    'NGT - Normal':0,\n",
    "    'CVC - Abnormal':[0,0.1],\n",
    "    'CVC - Borderline':[0,0.11],\n",
    "    'CVC - Normal':[0,0.16],\n",
    "    'Swan Ganz Catheter Present':0\n",
    "}"
   ]
  },
  {
   "cell_type": "code",
   "execution_count": 5,
   "metadata": {},
   "outputs": [
    {
     "output_type": "stream",
     "name": "stdout",
     "text": [
      "Wall time: 0 ns\n"
     ]
    }
   ],
   "source": [
    "%%time\n",
    "\n",
    "def get_param_results_2(col_name):\n",
    "    p=best_params[col_name]\n",
    "    ensemble_pred=p*lgbm_norm[col_name]+(1-p)*dense_norm[col_name]\n",
    "    score=roc_auc_score(train[col_name],ensemble_pred)\n",
    "    return score\n",
    "\n",
    "def get_param_results_3(col_name):\n",
    "    p=best_params[col_name][0]\n",
    "    q=best_params[col_name][1]\n",
    "    ensemble_pred=p*lgbm_norm[col_name]+q*dense_norm[col_name]+(1-p-q)*cvc_norm[col_name]\n",
    "    score=roc_auc_score(train[col_name],ensemble_pred)\n",
    "    return score"
   ]
  },
  {
   "cell_type": "code",
   "execution_count": 17,
   "metadata": {},
   "outputs": [
    {
     "output_type": "display_data",
     "data": {
      "text/plain": "         ETT - Abnormal ETT - Borderline ETT - Normal NGT - Abnormal  \\\ndense          0.986835         0.984116     0.996592       0.978768   \nlgbm           0.417352         0.465316     0.723729       0.619444   \nensemble       0.986835         0.984116     0.996592       0.978768   \n\n         NGT - Borderline NGT - Incompletely Imaged NGT - Normal  \\\ndense            0.970776                  0.991322     0.991293   \nlgbm             0.458764                  0.497249      0.62394   \nensemble         0.971097                  0.991408     0.991293   \n\n         CVC - Abnormal CVC - Borderline CVC - Normal  \\\ndense          0.943553         0.904939     0.952546   \nlgbm           0.749897         0.413652     0.677142   \nensemble        0.97648         0.950332      0.97773   \n\n         Swan Ganz Catheter Present  \ndense                      0.999313  \nlgbm                       0.622568  \nensemble                   0.999313  ",
      "text/html": "<div>\n<style scoped>\n    .dataframe tbody tr th:only-of-type {\n        vertical-align: middle;\n    }\n\n    .dataframe tbody tr th {\n        vertical-align: top;\n    }\n\n    .dataframe thead th {\n        text-align: right;\n    }\n</style>\n<table border=\"1\" class=\"dataframe\">\n  <thead>\n    <tr style=\"text-align: right;\">\n      <th></th>\n      <th>ETT - Abnormal</th>\n      <th>ETT - Borderline</th>\n      <th>ETT - Normal</th>\n      <th>NGT - Abnormal</th>\n      <th>NGT - Borderline</th>\n      <th>NGT - Incompletely Imaged</th>\n      <th>NGT - Normal</th>\n      <th>CVC - Abnormal</th>\n      <th>CVC - Borderline</th>\n      <th>CVC - Normal</th>\n      <th>Swan Ganz Catheter Present</th>\n    </tr>\n  </thead>\n  <tbody>\n    <tr>\n      <th>dense</th>\n      <td>0.986835</td>\n      <td>0.984116</td>\n      <td>0.996592</td>\n      <td>0.978768</td>\n      <td>0.970776</td>\n      <td>0.991322</td>\n      <td>0.991293</td>\n      <td>0.943553</td>\n      <td>0.904939</td>\n      <td>0.952546</td>\n      <td>0.999313</td>\n    </tr>\n    <tr>\n      <th>lgbm</th>\n      <td>0.417352</td>\n      <td>0.465316</td>\n      <td>0.723729</td>\n      <td>0.619444</td>\n      <td>0.458764</td>\n      <td>0.497249</td>\n      <td>0.62394</td>\n      <td>0.749897</td>\n      <td>0.413652</td>\n      <td>0.677142</td>\n      <td>0.622568</td>\n    </tr>\n    <tr>\n      <th>ensemble</th>\n      <td>0.986835</td>\n      <td>0.984116</td>\n      <td>0.996592</td>\n      <td>0.978768</td>\n      <td>0.971097</td>\n      <td>0.991408</td>\n      <td>0.991293</td>\n      <td>0.97648</td>\n      <td>0.950332</td>\n      <td>0.97773</td>\n      <td>0.999313</td>\n    </tr>\n  </tbody>\n</table>\n</div>"
     },
     "metadata": {}
    },
    {
     "output_type": "display_data",
     "data": {
      "text/plain": "dense       0.972732\nlgbm        0.569914\nensemble    0.982179\ndtype: float64"
     },
     "metadata": {}
    }
   ],
   "source": [
    "auc=pd.DataFrame(columns=CFG.target_cols)\n",
    "\n",
    "for col_name in CFG.target_cols:\n",
    "    auc.loc[\"dense\",col_name]=roc_auc_score(train[col_name],dense_norm[col_name])\n",
    "    auc.loc[\"lgbm\",col_name]=roc_auc_score(train[col_name],lgbm_norm[col_name])\n",
    "\n",
    "for col_name in CFG.cvc_cols:\n",
    "    auc.loc[\"ensemble\",col_name]=get_param_results_3(col_name)\n",
    "for col_name in CFG.non_cvc_cols:\n",
    "    auc.loc[\"ensemble\",col_name]=get_param_results_2(col_name)\n",
    "display(auc,auc.mean(axis=1))"
   ]
  },
  {
   "source": [
    "get_param_results_3: **55s** for one column"
   ],
   "cell_type": "markdown",
   "metadata": {}
  }
 ]
}