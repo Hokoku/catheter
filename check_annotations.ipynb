{
 "metadata": {
  "language_info": {
   "codemirror_mode": {
    "name": "ipython",
    "version": 3
   },
   "file_extension": ".py",
   "mimetype": "text/x-python",
   "name": "python",
   "nbconvert_exporter": "python",
   "pygments_lexer": "ipython3",
   "version": "3.8.8-final"
  },
  "orig_nbformat": 2,
  "kernelspec": {
   "name": "python3",
   "display_name": "Python 3.8.8 64-bit ('py38': conda)",
   "metadata": {
    "interpreter": {
     "hash": "3da45907e5cd41bdac7b692b424c19725633d98a853f93b11b400b1d8951ac30"
    }
   }
  }
 },
 "nbformat": 4,
 "nbformat_minor": 2,
 "cells": [
  {
   "cell_type": "code",
   "execution_count": 1,
   "metadata": {},
   "outputs": [],
   "source": [
    "import pandas as pd\n",
    "import ast\n",
    "from IPython.display import display\n",
    "import cv2\n",
    "import matplotlib.pyplot as plt\n",
    "import os\n",
    "import numpy as np\n",
    "from tqdm import tqdm"
   ]
  },
  {
   "cell_type": "code",
   "execution_count": 2,
   "metadata": {},
   "outputs": [],
   "source": [
    "class CFG:\n",
    "    dataset_dir=\"../input/ranzcr-clip-catheter-line-classification/\""
   ]
  },
  {
   "cell_type": "code",
   "execution_count": 3,
   "metadata": {},
   "outputs": [
    {
     "output_type": "stream",
     "name": "stdout",
     "text": [
      "11629\n"
     ]
    }
   ],
   "source": [
    "annotations=pd.read_csv(f\"{CFG.dataset_dir}train_annotations.csv\")\n",
    "annotatin_cvc=annotations[annotations[\"label\"].str.contains(\"CVC\")]\n",
    "print(len(annotatin_cvc))"
   ]
  },
  {
   "cell_type": "code",
   "execution_count": 4,
   "metadata": {},
   "outputs": [
    {
     "output_type": "execute_result",
     "data": {
      "text/plain": [
       "                                        StudyInstanceUID             label  \\\n",
       "0      1.2.826.0.1.3680043.8.498.12616281126973421762...      CVC - Normal   \n",
       "1      1.2.826.0.1.3680043.8.498.12616281126973421762...      CVC - Normal   \n",
       "2      1.2.826.0.1.3680043.8.498.72921907356394389969...  CVC - Borderline   \n",
       "3      1.2.826.0.1.3680043.8.498.11697104485452001927...      CVC - Normal   \n",
       "5      1.2.826.0.1.3680043.8.498.87704688663091069148...      CVC - Normal   \n",
       "...                                                  ...               ...   \n",
       "17993  1.2.826.0.1.3680043.8.498.88885675487819792225...      CVC - Normal   \n",
       "17995  1.2.826.0.1.3680043.8.498.18590666552942008211...      CVC - Normal   \n",
       "17996  1.2.826.0.1.3680043.8.498.66774579023475418162...      CVC - Normal   \n",
       "17997  1.2.826.0.1.3680043.8.498.18560506324214035535...      CVC - Normal   \n",
       "17998  1.2.826.0.1.3680043.8.498.98119637144473510638...    CVC - Abnormal   \n",
       "\n",
       "                                                    data  \n",
       "0      [[1487, 1279], [1477, 1168], [1472, 1052], [14...  \n",
       "1      [[1328, 7], [1347, 101], [1383, 193], [1400, 2...  \n",
       "2      [[801, 1207], [812, 1112], [823, 1023], [842, ...  \n",
       "3      [[1366, 961], [1411, 861], [1453, 751], [1508,...  \n",
       "5      [[906, 604], [1103, 578], [1242, 607], [1459, ...  \n",
       "...                                                  ...  \n",
       "17993  [[1384, 1098], [1480, 899], [1554, 774], [1630...  \n",
       "17995  [[1250, 1105], [1247, 1031], [1248, 970], [126...  \n",
       "17996  [[1379, 1402], [1389, 1233], [1386, 1137], [13...  \n",
       "17997  [[1302, 1543], [1308, 1488], [1317, 1355], [13...  \n",
       "17998  [[1144, 1022], [1162, 934], [1179, 783], [1188...  \n",
       "\n",
       "[11629 rows x 3 columns]"
      ],
      "text/html": "<div>\n<style scoped>\n    .dataframe tbody tr th:only-of-type {\n        vertical-align: middle;\n    }\n\n    .dataframe tbody tr th {\n        vertical-align: top;\n    }\n\n    .dataframe thead th {\n        text-align: right;\n    }\n</style>\n<table border=\"1\" class=\"dataframe\">\n  <thead>\n    <tr style=\"text-align: right;\">\n      <th></th>\n      <th>StudyInstanceUID</th>\n      <th>label</th>\n      <th>data</th>\n    </tr>\n  </thead>\n  <tbody>\n    <tr>\n      <th>0</th>\n      <td>1.2.826.0.1.3680043.8.498.12616281126973421762...</td>\n      <td>CVC - Normal</td>\n      <td>[[1487, 1279], [1477, 1168], [1472, 1052], [14...</td>\n    </tr>\n    <tr>\n      <th>1</th>\n      <td>1.2.826.0.1.3680043.8.498.12616281126973421762...</td>\n      <td>CVC - Normal</td>\n      <td>[[1328, 7], [1347, 101], [1383, 193], [1400, 2...</td>\n    </tr>\n    <tr>\n      <th>2</th>\n      <td>1.2.826.0.1.3680043.8.498.72921907356394389969...</td>\n      <td>CVC - Borderline</td>\n      <td>[[801, 1207], [812, 1112], [823, 1023], [842, ...</td>\n    </tr>\n    <tr>\n      <th>3</th>\n      <td>1.2.826.0.1.3680043.8.498.11697104485452001927...</td>\n      <td>CVC - Normal</td>\n      <td>[[1366, 961], [1411, 861], [1453, 751], [1508,...</td>\n    </tr>\n    <tr>\n      <th>5</th>\n      <td>1.2.826.0.1.3680043.8.498.87704688663091069148...</td>\n      <td>CVC - Normal</td>\n      <td>[[906, 604], [1103, 578], [1242, 607], [1459, ...</td>\n    </tr>\n    <tr>\n      <th>...</th>\n      <td>...</td>\n      <td>...</td>\n      <td>...</td>\n    </tr>\n    <tr>\n      <th>17993</th>\n      <td>1.2.826.0.1.3680043.8.498.88885675487819792225...</td>\n      <td>CVC - Normal</td>\n      <td>[[1384, 1098], [1480, 899], [1554, 774], [1630...</td>\n    </tr>\n    <tr>\n      <th>17995</th>\n      <td>1.2.826.0.1.3680043.8.498.18590666552942008211...</td>\n      <td>CVC - Normal</td>\n      <td>[[1250, 1105], [1247, 1031], [1248, 970], [126...</td>\n    </tr>\n    <tr>\n      <th>17996</th>\n      <td>1.2.826.0.1.3680043.8.498.66774579023475418162...</td>\n      <td>CVC - Normal</td>\n      <td>[[1379, 1402], [1389, 1233], [1386, 1137], [13...</td>\n    </tr>\n    <tr>\n      <th>17997</th>\n      <td>1.2.826.0.1.3680043.8.498.18560506324214035535...</td>\n      <td>CVC - Normal</td>\n      <td>[[1302, 1543], [1308, 1488], [1317, 1355], [13...</td>\n    </tr>\n    <tr>\n      <th>17998</th>\n      <td>1.2.826.0.1.3680043.8.498.98119637144473510638...</td>\n      <td>CVC - Abnormal</td>\n      <td>[[1144, 1022], [1162, 934], [1179, 783], [1188...</td>\n    </tr>\n  </tbody>\n</table>\n<p>11629 rows × 3 columns</p>\n</div>"
     },
     "metadata": {},
     "execution_count": 4
    }
   ],
   "source": [
    "annotatin_cvc"
   ]
  },
  {
   "cell_type": "code",
   "execution_count": 5,
   "metadata": {
    "tags": []
   },
   "outputs": [],
   "source": [
    "def count_cvc_per_uid():\n",
    "    uid_count_list=[]\n",
    "    for uid in tqdm(annotatin_cvc[\"StudyInstanceUID\"].unique()):\n",
    "        uid_count_list.append((uid,len(annotatin_cvc[annotatin_cvc[\"StudyInstanceUID\"]==uid])))\n",
    "\n",
    "    uid_count=pd.DataFrame(uid_count_list,columns=[\"StudyInstanceUID\",\"count\"])\n",
    "    return uid_count"
   ]
  },
  {
   "cell_type": "code",
   "execution_count": 20,
   "metadata": {},
   "outputs": [
    {
     "output_type": "execute_result",
     "data": {
      "text/plain": [
       "                                        StudyInstanceUID     x     y\n",
       "0      1.2.826.0.1.3680043.8.498.12616281126973421762...  1487  1279\n",
       "1      1.2.826.0.1.3680043.8.498.12616281126973421762...  1457  1006\n",
       "2      1.2.826.0.1.3680043.8.498.72921907356394389969...   801  1207\n",
       "3      1.2.826.0.1.3680043.8.498.11697104485452001927...  1366   961\n",
       "4      1.2.826.0.1.3680043.8.498.87704688663091069148...  1482  1225\n",
       "...                                                  ...   ...   ...\n",
       "11624  1.2.826.0.1.3680043.8.498.88885675487819792225...  1384  1098\n",
       "11625  1.2.826.0.1.3680043.8.498.18590666552942008211...  1250  1105\n",
       "11626  1.2.826.0.1.3680043.8.498.66774579023475418162...  1379  1402\n",
       "11627  1.2.826.0.1.3680043.8.498.18560506324214035535...  1302  1543\n",
       "11628  1.2.826.0.1.3680043.8.498.98119637144473510638...  1144  1022\n",
       "\n",
       "[11629 rows x 3 columns]"
      ],
      "text/html": "<div>\n<style scoped>\n    .dataframe tbody tr th:only-of-type {\n        vertical-align: middle;\n    }\n\n    .dataframe tbody tr th {\n        vertical-align: top;\n    }\n\n    .dataframe thead th {\n        text-align: right;\n    }\n</style>\n<table border=\"1\" class=\"dataframe\">\n  <thead>\n    <tr style=\"text-align: right;\">\n      <th></th>\n      <th>StudyInstanceUID</th>\n      <th>x</th>\n      <th>y</th>\n    </tr>\n  </thead>\n  <tbody>\n    <tr>\n      <th>0</th>\n      <td>1.2.826.0.1.3680043.8.498.12616281126973421762...</td>\n      <td>1487</td>\n      <td>1279</td>\n    </tr>\n    <tr>\n      <th>1</th>\n      <td>1.2.826.0.1.3680043.8.498.12616281126973421762...</td>\n      <td>1457</td>\n      <td>1006</td>\n    </tr>\n    <tr>\n      <th>2</th>\n      <td>1.2.826.0.1.3680043.8.498.72921907356394389969...</td>\n      <td>801</td>\n      <td>1207</td>\n    </tr>\n    <tr>\n      <th>3</th>\n      <td>1.2.826.0.1.3680043.8.498.11697104485452001927...</td>\n      <td>1366</td>\n      <td>961</td>\n    </tr>\n    <tr>\n      <th>4</th>\n      <td>1.2.826.0.1.3680043.8.498.87704688663091069148...</td>\n      <td>1482</td>\n      <td>1225</td>\n    </tr>\n    <tr>\n      <th>...</th>\n      <td>...</td>\n      <td>...</td>\n      <td>...</td>\n    </tr>\n    <tr>\n      <th>11624</th>\n      <td>1.2.826.0.1.3680043.8.498.88885675487819792225...</td>\n      <td>1384</td>\n      <td>1098</td>\n    </tr>\n    <tr>\n      <th>11625</th>\n      <td>1.2.826.0.1.3680043.8.498.18590666552942008211...</td>\n      <td>1250</td>\n      <td>1105</td>\n    </tr>\n    <tr>\n      <th>11626</th>\n      <td>1.2.826.0.1.3680043.8.498.66774579023475418162...</td>\n      <td>1379</td>\n      <td>1402</td>\n    </tr>\n    <tr>\n      <th>11627</th>\n      <td>1.2.826.0.1.3680043.8.498.18560506324214035535...</td>\n      <td>1302</td>\n      <td>1543</td>\n    </tr>\n    <tr>\n      <th>11628</th>\n      <td>1.2.826.0.1.3680043.8.498.98119637144473510638...</td>\n      <td>1144</td>\n      <td>1022</td>\n    </tr>\n  </tbody>\n</table>\n<p>11629 rows × 3 columns</p>\n</div>"
     },
     "metadata": {},
     "execution_count": 20
    }
   ],
   "source": [
    "train=pd.read_csv(f\"{CFG.dataset_dir}train.csv\")\n",
    "end_points=pd.read_csv(\"cvc_end_points.csv\")"
   ]
  },
  {
   "cell_type": "code",
   "execution_count": 29,
   "metadata": {},
   "outputs": [],
   "source": [
    "def visualize_annotations(uid):\n",
    "    rows=end_points[end_points[\"StudyInstanceUID\"]==uid]\n",
    "    annot_data_list=[]\n",
    "    for idx,row in rows.iterrows():\n",
    "        # annot_data=ast.literal_eval(row[\"data\"])\n",
    "        # annot_data=np.array(annot_data)\n",
    "        annot_data=np.array((row[\"x\"],row[\"y\"]))\n",
    "        annot_data_list.append(annot_data)\n",
    "\n",
    "    image = cv2.imread(f\"{CFG.dataset_dir}train/{uid}.jpg\")\n",
    "    image=np.zeros(image.shape,dtype=np.uint8)\n",
    "    image = cv2.cvtColor(image, cv2.COLOR_BGR2RGB)\n",
    "\n",
    "    color_list=[\"b\",\"g\",\"r\",\"c\",\"m\",\"y\",\"k\",\"w\"]\n",
    "    for i,annot_data in enumerate(annot_data_list):\n",
    "        image=cv2.circle(image,tuple(annot_data),radius=30,color=(255,255,255),thickness=-1)\n",
    "\n",
    "    dir_path=\"../input/cvc_annotated_cv2\"\n",
    "    os.makedirs(dir_path,exist_ok=True)\n",
    "    cv2.imwrite(f\"{dir_path}/{uid}.jpg\",image)\n",
    "\n",
    "\n",
    "def get_end_point(uid,annot_data):\n",
    "    image = cv2.imread(f\"{CFG.dataset_dir}train/{uid}.jpg\")\n",
    "    image = cv2.cvtColor(image, cv2.COLOR_BGR2RGB)\n",
    "    center=np.array([image.shape[0]/2,image.shape[1]/2])\n",
    "    first_point=annot_data[0]\n",
    "    last_point=annot_data[-1]\n",
    "    if np.linalg.norm(first_point-center)>np.linalg.norm(last_point-center):\n",
    "        end_point=last_point\n",
    "    else:\n",
    "        end_point=first_point\n",
    "    return end_point\n",
    "\n",
    "\n",
    "def visualize_annotations_line(uid):\n",
    "    rows=annotatin_cvc[annotatin_cvc[\"StudyInstanceUID\"]==uid]\n",
    "    annot_data_list=[]\n",
    "    for idx,row in rows.iterrows():\n",
    "        annot_data=ast.literal_eval(row[\"data\"])\n",
    "        annot_data=np.array(annot_data)\n",
    "        # annot_data=np.array((row[\"x\"],row[\"y\"]))\n",
    "        annot_data_list.append(annot_data)\n",
    "\n",
    "    image = cv2.imread(f\"{CFG.dataset_dir}train/{uid}.jpg\")\n",
    "    image=np.zeros(image.shape,dtype=np.uint8)\n",
    "    image = cv2.cvtColor(image, cv2.COLOR_BGR2RGB)\n",
    "    image=cv2.polylines(image,annot_data_list,color=(255,255,255),isClosed=False,thickness=15)\n",
    "\n",
    "    dir_path=\"../input/cvc_annotated_line_mask\"\n",
    "    os.makedirs(dir_path,exist_ok=True)\n",
    "    cv2.imwrite(f\"{dir_path}/{uid}.jpg\",image)"
   ]
  },
  {
   "cell_type": "code",
   "execution_count": 30,
   "metadata": {
    "tags": []
   },
   "outputs": [
    {
     "output_type": "stream",
     "name": "stderr",
     "text": [
      "100%|██████████| 8853/8853 [20:51<00:00,  7.07it/s]\n"
     ]
    }
   ],
   "source": [
    "for uid in tqdm(annotatin_cvc[\"StudyInstanceUID\"].unique()):\n",
    "    visualize_annotations_line(uid)"
   ]
  }
 ]
}