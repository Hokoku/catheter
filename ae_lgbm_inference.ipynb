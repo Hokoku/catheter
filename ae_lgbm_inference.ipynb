{
 "metadata": {
  "language_info": {
   "codemirror_mode": {
    "name": "ipython",
    "version": 3
   },
   "file_extension": ".py",
   "mimetype": "text/x-python",
   "name": "python",
   "nbconvert_exporter": "python",
   "pygments_lexer": "ipython3",
   "version": "3.8.8-final"
  },
  "orig_nbformat": 2,
  "kernelspec": {
   "name": "python3",
   "display_name": "Python 3.8.8 64-bit ('py38': conda)",
   "metadata": {
    "interpreter": {
     "hash": "3da45907e5cd41bdac7b692b424c19725633d98a853f93b11b400b1d8951ac30"
    }
   }
  }
 },
 "nbformat": 4,
 "nbformat_minor": 2,
 "cells": [
  {
   "cell_type": "code",
   "execution_count": 1,
   "metadata": {},
   "outputs": [],
   "source": [
    "import pandas as pd\n",
    "import numpy as np\n",
    "from IPython.display import display\n",
    "from tqdm.notebook import tqdm\n",
    "import pickle\n",
    "\n",
    "import tensorflow as tf\n",
    "from tensorflow.keras import models\n",
    "\n",
    "from sklearn.model_selection import train_test_split\n",
    "from sklearn.metrics import roc_auc_score\n",
    "import efficientnet.tfkeras"
   ]
  },
  {
   "cell_type": "code",
   "execution_count": 2,
   "metadata": {},
   "outputs": [],
   "source": [
    "class CFG:\n",
    "    debug=True\n",
    "\n",
    "    dataset_dir=\"../input/ranzcr-clip-catheter-line-classification/\"\n",
    "    models_dir=\"./models/\" if debug else \"../input/ranzcr-chibamed/\"\n",
    "    batch_size=4 if debug else 128\n",
    "    input_shape=(600,600)\n",
    "\n",
    "    target_cols=['ETT - Abnormal', 'ETT - Borderline', 'ETT - Normal', 'NGT - Abnormal', 'NGT - Borderline', 'NGT - Incompletely Imaged',           'NGT - Normal', 'CVC - Abnormal', 'CVC - Borderline', 'CVC - Normal', 'Swan Ganz Catheter Present']"
   ]
  },
  {
   "cell_type": "code",
   "execution_count": 3,
   "metadata": {},
   "outputs": [],
   "source": [
    "test=pd.read_csv(f\"{CFG.dataset_dir}train.csv\") if CFG.debug else pd.read_csv(f\"{CFG.dataset_dir}sample_submission.csv\")"
   ]
  },
  {
   "cell_type": "code",
   "execution_count": 4,
   "metadata": {},
   "outputs": [
    {
     "output_type": "stream",
     "name": "stdout",
     "text": [
      "Model: \"functional_1\"\n_________________________________________________________________\nLayer (type)                 Output Shape              Param #   \n=================================================================\nefficientnet-b7_input (Input [(None, 600, 600, 3)]     0         \n_________________________________________________________________\nefficientnet-b7 (Functional) (None, 19, 19, 2560)      64097680  \n_________________________________________________________________\nglobal_average_pooling2d (Gl (None, 2560)              0         \n=================================================================\nTotal params: 64,097,680\nTrainable params: 63,786,960\nNon-trainable params: 310,720\n_________________________________________________________________\n"
     ]
    }
   ],
   "source": [
    "effnet=models.load_model(f\"{CFG.models_dir}xhlulu/model.h5\")\n",
    "layer_name=\"global_average_pooling2d\"\n",
    "hidden_layer_model=models.Model(inputs=effnet.input,outputs=effnet.get_layer(layer_name).output)\n",
    "hidden_layer_model.summary()"
   ]
  },
  {
   "cell_type": "code",
   "execution_count": 5,
   "metadata": {},
   "outputs": [],
   "source": [
    "def preprocess(uid):\n",
    "    if CFG.debug:\n",
    "        file_bytes=tf.io.read_file(f\"{CFG.dataset_dir}train/\"+uid+\".jpg\") # f\"{}\"形式ではTensorの型変換が働かない\n",
    "    else:\n",
    "        file_bytes=tf.io.read_file(f\"{CFG.dataset_dir}test/\"+uid+\".jpg\")\n",
    "    image=tf.io.decode_jpeg(file_bytes,channels=3)\n",
    "    image=tf.cast(image,tf.float32)\n",
    "    image=tf.image.resize(image,CFG.input_shape)\n",
    "    image/=255\n",
    "    return uid,image\n",
    "\n",
    "def decode_string(tensor):\n",
    "    return [str_bytes.decode() for str_bytes in tensor.numpy()]\n",
    "\n",
    "AUTO=tf.data.experimental.AUTOTUNE\n",
    "dset=tf.data.Dataset.from_tensor_slices(test[\"StudyInstanceUID\"])\n",
    "dset=dset.map(preprocess,num_parallel_calls=AUTO)\n",
    "dset=dset.batch(CFG.batch_size).prefetch(AUTO)"
   ]
  },
  {
   "cell_type": "code",
   "execution_count": 6,
   "metadata": {},
   "outputs": [
    {
     "output_type": "display_data",
     "data": {
      "text/plain": "  0%|          | 0/7521 [00:00<?, ?it/s]",
      "application/vnd.jupyter.widget-view+json": {
       "version_major": 2,
       "version_minor": 0,
       "model_id": "099f93cf74f44219990d1a36b0db7760"
      }
     },
     "metadata": {}
    }
   ],
   "source": [
    "ndarray_dict={}\n",
    "for uids,imgs in tqdm(dset):\n",
    "    preds=hidden_layer_model.predict(imgs)\n",
    "    uids_decoded=decode_string(uids)\n",
    "    for uid,pred in zip(uids_decoded,preds):\n",
    "        ndarray_dict[uid]=pred\n",
    "\n",
    "    if CFG.debug:\n",
    "        break"
   ]
  },
  {
   "cell_type": "code",
   "execution_count": 7,
   "metadata": {},
   "outputs": [],
   "source": [
    "if CFG.debug:\n",
    "    features_list=[ndarray_dict[uid] for uid in ndarray_dict.keys()]\n",
    "else:\n",
    "    features_list=[ndarray_dict[uid] for uid in tqdm(test[\"StudyInstanceUID\"])]\n",
    "features=np.array(features_list)"
   ]
  },
  {
   "cell_type": "code",
   "execution_count": 8,
   "metadata": {},
   "outputs": [
    {
     "output_type": "stream",
     "name": "stdout",
     "text": [
      "WARNING:tensorflow:Unresolved object in checkpoint: (root).optimizer\n",
      "WARNING:tensorflow:Unresolved object in checkpoint: (root).optimizer.iter\n",
      "WARNING:tensorflow:Unresolved object in checkpoint: (root).optimizer.beta_1\n",
      "WARNING:tensorflow:Unresolved object in checkpoint: (root).optimizer.beta_2\n",
      "WARNING:tensorflow:Unresolved object in checkpoint: (root).optimizer.decay\n",
      "WARNING:tensorflow:Unresolved object in checkpoint: (root).optimizer.learning_rate\n",
      "WARNING:tensorflow:Unresolved object in checkpoint: (root).optimizer's state 'm' for (root).layer_with_weights-0.kernel\n",
      "WARNING:tensorflow:Unresolved object in checkpoint: (root).optimizer's state 'm' for (root).layer_with_weights-0.bias\n",
      "WARNING:tensorflow:Unresolved object in checkpoint: (root).optimizer's state 'm' for (root).layer_with_weights-1.kernel\n",
      "WARNING:tensorflow:Unresolved object in checkpoint: (root).optimizer's state 'm' for (root).layer_with_weights-1.bias\n",
      "WARNING:tensorflow:Unresolved object in checkpoint: (root).optimizer's state 'm' for (root).layer_with_weights-2.kernel\n",
      "WARNING:tensorflow:Unresolved object in checkpoint: (root).optimizer's state 'm' for (root).layer_with_weights-2.bias\n",
      "WARNING:tensorflow:Unresolved object in checkpoint: (root).optimizer's state 'm' for (root).layer_with_weights-3.kernel\n",
      "WARNING:tensorflow:Unresolved object in checkpoint: (root).optimizer's state 'm' for (root).layer_with_weights-3.bias\n",
      "WARNING:tensorflow:Unresolved object in checkpoint: (root).optimizer's state 'v' for (root).layer_with_weights-0.kernel\n",
      "WARNING:tensorflow:Unresolved object in checkpoint: (root).optimizer's state 'v' for (root).layer_with_weights-0.bias\n",
      "WARNING:tensorflow:Unresolved object in checkpoint: (root).optimizer's state 'v' for (root).layer_with_weights-1.kernel\n",
      "WARNING:tensorflow:Unresolved object in checkpoint: (root).optimizer's state 'v' for (root).layer_with_weights-1.bias\n",
      "WARNING:tensorflow:Unresolved object in checkpoint: (root).optimizer's state 'v' for (root).layer_with_weights-2.kernel\n",
      "WARNING:tensorflow:Unresolved object in checkpoint: (root).optimizer's state 'v' for (root).layer_with_weights-2.bias\n",
      "WARNING:tensorflow:Unresolved object in checkpoint: (root).optimizer's state 'v' for (root).layer_with_weights-3.kernel\n",
      "WARNING:tensorflow:Unresolved object in checkpoint: (root).optimizer's state 'v' for (root).layer_with_weights-3.bias\n",
      "WARNING:tensorflow:A checkpoint was restored (e.g. tf.train.Checkpoint.restore or tf.keras.Model.load_weights) but not all checkpointed values were used. See above for specific issues. Use expect_partial() on the load status object, e.g. tf.train.Checkpoint.restore(...).expect_partial(), to silence these warnings, or use assert_consumed() to make the check explicit. See https://www.tensorflow.org/guide/checkpoint#loading_mechanics for details.\n"
     ]
    }
   ],
   "source": [
    "def compress_with_autoencoder(features):\n",
    "    scaler=pickle.load(open(f\"{CFG.models_dir}minmaxscaler_effnet_best.pickle\",\"rb\"))\n",
    "    X=scaler.transform(features)\n",
    "\n",
    "    autoencoder_dir=f\"{CFG.models_dir}autoencoder_best/\"\n",
    "    with open(f\"{autoencoder_dir}model.json\",\"rt\") as f:\n",
    "        model_json=f.read()\n",
    "    autoencoder=models.model_from_json(model_json)\n",
    "    autoencoder.load_weights(f\"{autoencoder_dir}ckpt\")\n",
    "\n",
    "    layer_name=\"dense_1\"\n",
    "    compressing_model=models.Model(inputs=autoencoder.input,outputs=autoencoder.get_layer(layer_name).output)\n",
    "\n",
    "    ae_pred=compressing_model.predict(X)\n",
    "    ae_pred_df=pd.DataFrame(ae_pred)\n",
    "\n",
    "    return ae_pred_df\n",
    "\n",
    "X=compress_with_autoencoder(features)"
   ]
  },
  {
   "cell_type": "code",
   "execution_count": 9,
   "metadata": {},
   "outputs": [
    {
     "output_type": "display_data",
     "data": {
      "text/plain": "         0         1         2         5         7         10        11  \\\n0  2.673171  2.893724  0.450781  1.060409  2.383523  0.602805  0.247275   \n1  2.044054  1.257803  4.117214  1.095964  2.815533  2.502601  2.922095   \n2  0.957074  2.805676  2.284654  0.570213  1.604304  1.607770  1.134657   \n3  0.934214  4.424170  3.021042  0.521625  2.399586  1.063171  0.865111   \n\n         12        15        16  ...        82        83        84        88  \\\n0  4.546678  2.601019  2.746942  ...  2.845104  1.222311  2.439301  0.743164   \n1  1.949331  4.941281  0.661702  ...  1.585451  3.151549  4.557868  2.256857   \n2  3.969700  2.496218  1.417869  ...  1.166086  0.489576  1.096345  0.000000   \n3  3.438043  2.433294  3.138256  ...  1.842545  1.764452  2.348569  0.000000   \n\n         89        93        94        95        96        97  \n0  5.553793  1.139012  2.191009  1.756444  1.531287  5.458641  \n1  1.380925  2.510921  1.794874  1.713381  1.276319  0.395076  \n2  1.794175  1.730872  2.893353  1.455251  1.804050  2.715652  \n3  3.490618  2.038463  2.977326  1.248140  1.353673  2.733519  \n\n[4 rows x 61 columns]",
      "text/html": "<div>\n<style scoped>\n    .dataframe tbody tr th:only-of-type {\n        vertical-align: middle;\n    }\n\n    .dataframe tbody tr th {\n        vertical-align: top;\n    }\n\n    .dataframe thead th {\n        text-align: right;\n    }\n</style>\n<table border=\"1\" class=\"dataframe\">\n  <thead>\n    <tr style=\"text-align: right;\">\n      <th></th>\n      <th>0</th>\n      <th>1</th>\n      <th>2</th>\n      <th>5</th>\n      <th>7</th>\n      <th>10</th>\n      <th>11</th>\n      <th>12</th>\n      <th>15</th>\n      <th>16</th>\n      <th>...</th>\n      <th>82</th>\n      <th>83</th>\n      <th>84</th>\n      <th>88</th>\n      <th>89</th>\n      <th>93</th>\n      <th>94</th>\n      <th>95</th>\n      <th>96</th>\n      <th>97</th>\n    </tr>\n  </thead>\n  <tbody>\n    <tr>\n      <th>0</th>\n      <td>2.673171</td>\n      <td>2.893724</td>\n      <td>0.450781</td>\n      <td>1.060409</td>\n      <td>2.383523</td>\n      <td>0.602805</td>\n      <td>0.247275</td>\n      <td>4.546678</td>\n      <td>2.601019</td>\n      <td>2.746942</td>\n      <td>...</td>\n      <td>2.845104</td>\n      <td>1.222311</td>\n      <td>2.439301</td>\n      <td>0.743164</td>\n      <td>5.553793</td>\n      <td>1.139012</td>\n      <td>2.191009</td>\n      <td>1.756444</td>\n      <td>1.531287</td>\n      <td>5.458641</td>\n    </tr>\n    <tr>\n      <th>1</th>\n      <td>2.044054</td>\n      <td>1.257803</td>\n      <td>4.117214</td>\n      <td>1.095964</td>\n      <td>2.815533</td>\n      <td>2.502601</td>\n      <td>2.922095</td>\n      <td>1.949331</td>\n      <td>4.941281</td>\n      <td>0.661702</td>\n      <td>...</td>\n      <td>1.585451</td>\n      <td>3.151549</td>\n      <td>4.557868</td>\n      <td>2.256857</td>\n      <td>1.380925</td>\n      <td>2.510921</td>\n      <td>1.794874</td>\n      <td>1.713381</td>\n      <td>1.276319</td>\n      <td>0.395076</td>\n    </tr>\n    <tr>\n      <th>2</th>\n      <td>0.957074</td>\n      <td>2.805676</td>\n      <td>2.284654</td>\n      <td>0.570213</td>\n      <td>1.604304</td>\n      <td>1.607770</td>\n      <td>1.134657</td>\n      <td>3.969700</td>\n      <td>2.496218</td>\n      <td>1.417869</td>\n      <td>...</td>\n      <td>1.166086</td>\n      <td>0.489576</td>\n      <td>1.096345</td>\n      <td>0.000000</td>\n      <td>1.794175</td>\n      <td>1.730872</td>\n      <td>2.893353</td>\n      <td>1.455251</td>\n      <td>1.804050</td>\n      <td>2.715652</td>\n    </tr>\n    <tr>\n      <th>3</th>\n      <td>0.934214</td>\n      <td>4.424170</td>\n      <td>3.021042</td>\n      <td>0.521625</td>\n      <td>2.399586</td>\n      <td>1.063171</td>\n      <td>0.865111</td>\n      <td>3.438043</td>\n      <td>2.433294</td>\n      <td>3.138256</td>\n      <td>...</td>\n      <td>1.842545</td>\n      <td>1.764452</td>\n      <td>2.348569</td>\n      <td>0.000000</td>\n      <td>3.490618</td>\n      <td>2.038463</td>\n      <td>2.977326</td>\n      <td>1.248140</td>\n      <td>1.353673</td>\n      <td>2.733519</td>\n    </tr>\n  </tbody>\n</table>\n<p>4 rows × 61 columns</p>\n</div>"
     },
     "metadata": {}
    }
   ],
   "source": [
    "valuless_columns=[3, 4, 6, 8, 9, 13, 14, 17, 18, 23, 27, 35, 36, 37, 38, 44, 45,\n",
    "            47, 50, 51, 52, 57, 58, 61, 62, 67, 68, 72, 73, 74, 76, 85, 86, 87,\n",
    "            90, 91, 92, 98, 99]\n",
    "X_dropped=X.drop(columns=valuless_columns)\n",
    "display(X_dropped)"
   ]
  },
  {
   "cell_type": "code",
   "execution_count": 11,
   "metadata": {},
   "outputs": [
    {
     "output_type": "display_data",
     "data": {
      "text/plain": "                                        StudyInstanceUID  ETT - Abnormal  \\\n0      1.2.826.0.1.3680043.8.498.26697628953273228189...        0.003388   \n1      1.2.826.0.1.3680043.8.498.46302891597398758759...        0.003813   \n2      1.2.826.0.1.3680043.8.498.23819260719748494858...        0.016453   \n3      1.2.826.0.1.3680043.8.498.68286643202323212801...        0.003306   \n4      1.2.826.0.1.3680043.8.498.10050203009225938259...             NaN   \n...                                                  ...             ...   \n30078  1.2.826.0.1.3680043.8.498.74257566841157531124...             NaN   \n30079  1.2.826.0.1.3680043.8.498.46510939987173529969...             NaN   \n30080  1.2.826.0.1.3680043.8.498.43173270582850645437...             NaN   \n30081  1.2.826.0.1.3680043.8.498.95092491950130838685...             NaN   \n30082  1.2.826.0.1.3680043.8.498.99518162226171269731...             NaN   \n\n       ETT - Borderline  ETT - Normal  NGT - Abnormal  NGT - Borderline  \\\n0              0.020587      0.588440        0.021597          0.017320   \n1              0.024238      0.508809        0.018454          0.016593   \n2              0.024301      0.507936        0.012596          0.018927   \n3              0.029268      0.555438        0.019360          0.017148   \n4                   NaN           NaN             NaN               NaN   \n...                 ...           ...             ...               ...   \n30078               NaN           NaN             NaN               NaN   \n30079               NaN           NaN             NaN               NaN   \n30080               NaN           NaN             NaN               NaN   \n30081               NaN           NaN             NaN               NaN   \n30082               NaN           NaN             NaN               NaN   \n\n       NGT - Incompletely Imaged  NGT - Normal  CVC - Abnormal  \\\n0                       0.680882      0.814131        0.459130   \n1                       0.619067      0.883625        0.292774   \n2                       0.645346      0.922774        0.353919   \n3                       0.609939      0.870666        0.395821   \n4                            NaN           NaN             NaN   \n...                          ...           ...             ...   \n30078                        NaN           NaN             NaN   \n30079                        NaN           NaN             NaN   \n30080                        NaN           NaN             NaN   \n30081                        NaN           NaN             NaN   \n30082                        NaN           NaN             NaN   \n\n       CVC - Borderline  CVC - Normal  Swan Ganz Catheter Present  PatientID  \n0              0.279040      0.256390                    0.000303  ec89415d1  \n1              0.330958      0.375061                    0.001885  bf4c6da3c  \n2              0.387217      0.391197                    0.000268  3fc1c97e5  \n3              0.328002      0.368925                    0.009753  c31019814  \n4                   NaN           NaN                         NaN  207685cd1  \n...                 ...           ...                         ...        ...  \n30078               NaN           NaN                         NaN  5b5b9ac30  \n30079               NaN           NaN                         NaN  7192404d8  \n30080               NaN           NaN                         NaN  d4d1b066d  \n30081               NaN           NaN                         NaN  01a6602b8  \n30082               NaN           NaN                         NaN  e692d316c  \n\n[30083 rows x 13 columns]",
      "text/html": "<div>\n<style scoped>\n    .dataframe tbody tr th:only-of-type {\n        vertical-align: middle;\n    }\n\n    .dataframe tbody tr th {\n        vertical-align: top;\n    }\n\n    .dataframe thead th {\n        text-align: right;\n    }\n</style>\n<table border=\"1\" class=\"dataframe\">\n  <thead>\n    <tr style=\"text-align: right;\">\n      <th></th>\n      <th>StudyInstanceUID</th>\n      <th>ETT - Abnormal</th>\n      <th>ETT - Borderline</th>\n      <th>ETT - Normal</th>\n      <th>NGT - Abnormal</th>\n      <th>NGT - Borderline</th>\n      <th>NGT - Incompletely Imaged</th>\n      <th>NGT - Normal</th>\n      <th>CVC - Abnormal</th>\n      <th>CVC - Borderline</th>\n      <th>CVC - Normal</th>\n      <th>Swan Ganz Catheter Present</th>\n      <th>PatientID</th>\n    </tr>\n  </thead>\n  <tbody>\n    <tr>\n      <th>0</th>\n      <td>1.2.826.0.1.3680043.8.498.26697628953273228189...</td>\n      <td>0.003388</td>\n      <td>0.020587</td>\n      <td>0.588440</td>\n      <td>0.021597</td>\n      <td>0.017320</td>\n      <td>0.680882</td>\n      <td>0.814131</td>\n      <td>0.459130</td>\n      <td>0.279040</td>\n      <td>0.256390</td>\n      <td>0.000303</td>\n      <td>ec89415d1</td>\n    </tr>\n    <tr>\n      <th>1</th>\n      <td>1.2.826.0.1.3680043.8.498.46302891597398758759...</td>\n      <td>0.003813</td>\n      <td>0.024238</td>\n      <td>0.508809</td>\n      <td>0.018454</td>\n      <td>0.016593</td>\n      <td>0.619067</td>\n      <td>0.883625</td>\n      <td>0.292774</td>\n      <td>0.330958</td>\n      <td>0.375061</td>\n      <td>0.001885</td>\n      <td>bf4c6da3c</td>\n    </tr>\n    <tr>\n      <th>2</th>\n      <td>1.2.826.0.1.3680043.8.498.23819260719748494858...</td>\n      <td>0.016453</td>\n      <td>0.024301</td>\n      <td>0.507936</td>\n      <td>0.012596</td>\n      <td>0.018927</td>\n      <td>0.645346</td>\n      <td>0.922774</td>\n      <td>0.353919</td>\n      <td>0.387217</td>\n      <td>0.391197</td>\n      <td>0.000268</td>\n      <td>3fc1c97e5</td>\n    </tr>\n    <tr>\n      <th>3</th>\n      <td>1.2.826.0.1.3680043.8.498.68286643202323212801...</td>\n      <td>0.003306</td>\n      <td>0.029268</td>\n      <td>0.555438</td>\n      <td>0.019360</td>\n      <td>0.017148</td>\n      <td>0.609939</td>\n      <td>0.870666</td>\n      <td>0.395821</td>\n      <td>0.328002</td>\n      <td>0.368925</td>\n      <td>0.009753</td>\n      <td>c31019814</td>\n    </tr>\n    <tr>\n      <th>4</th>\n      <td>1.2.826.0.1.3680043.8.498.10050203009225938259...</td>\n      <td>NaN</td>\n      <td>NaN</td>\n      <td>NaN</td>\n      <td>NaN</td>\n      <td>NaN</td>\n      <td>NaN</td>\n      <td>NaN</td>\n      <td>NaN</td>\n      <td>NaN</td>\n      <td>NaN</td>\n      <td>NaN</td>\n      <td>207685cd1</td>\n    </tr>\n    <tr>\n      <th>...</th>\n      <td>...</td>\n      <td>...</td>\n      <td>...</td>\n      <td>...</td>\n      <td>...</td>\n      <td>...</td>\n      <td>...</td>\n      <td>...</td>\n      <td>...</td>\n      <td>...</td>\n      <td>...</td>\n      <td>...</td>\n      <td>...</td>\n    </tr>\n    <tr>\n      <th>30078</th>\n      <td>1.2.826.0.1.3680043.8.498.74257566841157531124...</td>\n      <td>NaN</td>\n      <td>NaN</td>\n      <td>NaN</td>\n      <td>NaN</td>\n      <td>NaN</td>\n      <td>NaN</td>\n      <td>NaN</td>\n      <td>NaN</td>\n      <td>NaN</td>\n      <td>NaN</td>\n      <td>NaN</td>\n      <td>5b5b9ac30</td>\n    </tr>\n    <tr>\n      <th>30079</th>\n      <td>1.2.826.0.1.3680043.8.498.46510939987173529969...</td>\n      <td>NaN</td>\n      <td>NaN</td>\n      <td>NaN</td>\n      <td>NaN</td>\n      <td>NaN</td>\n      <td>NaN</td>\n      <td>NaN</td>\n      <td>NaN</td>\n      <td>NaN</td>\n      <td>NaN</td>\n      <td>NaN</td>\n      <td>7192404d8</td>\n    </tr>\n    <tr>\n      <th>30080</th>\n      <td>1.2.826.0.1.3680043.8.498.43173270582850645437...</td>\n      <td>NaN</td>\n      <td>NaN</td>\n      <td>NaN</td>\n      <td>NaN</td>\n      <td>NaN</td>\n      <td>NaN</td>\n      <td>NaN</td>\n      <td>NaN</td>\n      <td>NaN</td>\n      <td>NaN</td>\n      <td>NaN</td>\n      <td>d4d1b066d</td>\n    </tr>\n    <tr>\n      <th>30081</th>\n      <td>1.2.826.0.1.3680043.8.498.95092491950130838685...</td>\n      <td>NaN</td>\n      <td>NaN</td>\n      <td>NaN</td>\n      <td>NaN</td>\n      <td>NaN</td>\n      <td>NaN</td>\n      <td>NaN</td>\n      <td>NaN</td>\n      <td>NaN</td>\n      <td>NaN</td>\n      <td>NaN</td>\n      <td>01a6602b8</td>\n    </tr>\n    <tr>\n      <th>30082</th>\n      <td>1.2.826.0.1.3680043.8.498.99518162226171269731...</td>\n      <td>NaN</td>\n      <td>NaN</td>\n      <td>NaN</td>\n      <td>NaN</td>\n      <td>NaN</td>\n      <td>NaN</td>\n      <td>NaN</td>\n      <td>NaN</td>\n      <td>NaN</td>\n      <td>NaN</td>\n      <td>NaN</td>\n      <td>e692d316c</td>\n    </tr>\n  </tbody>\n</table>\n<p>30083 rows × 13 columns</p>\n</div>"
     },
     "metadata": {}
    }
   ],
   "source": [
    "submission=test.copy()\n",
    "\n",
    "for i,col_name in enumerate(CFG.target_cols):\n",
    "    model=pickle.load(open(f\"{CFG.models_dir}lgbm_effnet_best_dropped/model_{i}.pickle\",\"rb\"))\n",
    "    pred=model.predict(X_dropped)\n",
    "    submission[col_name]=pd.Series(pred)\n",
    "\n",
    "if not CFG.debug:\n",
    "    submission.to_csv(\"submission.csv\",index=False)\n",
    "display(submission)"
   ]
  }
 ]
}