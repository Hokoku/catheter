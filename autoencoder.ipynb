{
 "metadata": {
  "language_info": {
   "codemirror_mode": {
    "name": "ipython",
    "version": 3
   },
   "file_extension": ".py",
   "mimetype": "text/x-python",
   "name": "python",
   "nbconvert_exporter": "python",
   "pygments_lexer": "ipython3",
   "version": "3.8.5"
  },
  "orig_nbformat": 2,
  "kernelspec": {
   "name": "python3",
   "display_name": "Python 3.8.5 64-bit ('py38': conda)",
   "metadata": {
    "interpreter": {
     "hash": "3da45907e5cd41bdac7b692b424c19725633d98a853f93b11b400b1d8951ac30"
    }
   }
  }
 },
 "nbformat": 4,
 "nbformat_minor": 2,
 "cells": [
  {
   "cell_type": "code",
   "execution_count": 7,
   "metadata": {},
   "outputs": [],
   "source": [
    "import numpy as np\n",
    "import pandas as pd\n",
    "import os\n",
    "from tqdm import tqdm\n",
    "\n",
    "from tensorflow.keras.layers import Dense\n",
    "from tensorflow.keras import models\n",
    "from tensorflow.keras import callbacks\n",
    "from tensorflow.keras.optimizers import Adam\n",
    "\n",
    "from sklearn.model_selection import train_test_split\n",
    "from IPython.display import display"
   ]
  },
  {
   "cell_type": "code",
   "execution_count": 2,
   "metadata": {
    "tags": []
   },
   "outputs": [
    {
     "output_type": "display_data",
     "data": {
      "text/plain": "                                        StudyInstanceUID         0         1  \\\n0      1.2.826.0.1.3680043.8.498.26697628953273228189... -0.112231  0.245513   \n1      1.2.826.0.1.3680043.8.498.46302891597398758759...  0.067357  0.011641   \n2      1.2.826.0.1.3680043.8.498.23819260719748494858... -0.073804  0.213021   \n3      1.2.826.0.1.3680043.8.498.68286643202323212801...  0.209653  0.341568   \n4      1.2.826.0.1.3680043.8.498.10050203009225938259...  0.084045  0.073493   \n...                                                  ...       ...       ...   \n30078  1.2.826.0.1.3680043.8.498.74257566841157531124... -0.127748  0.166860   \n30079  1.2.826.0.1.3680043.8.498.46510939987173529969...  0.010990  0.207189   \n30080  1.2.826.0.1.3680043.8.498.43173270582850645437...  0.022863  0.288057   \n30081  1.2.826.0.1.3680043.8.498.95092491950130838685... -0.048304  0.354992   \n30082  1.2.826.0.1.3680043.8.498.99518162226171269731... -0.232202  0.484988   \n\n              2         3         4         5         6         7         8  \\\n0     -0.033396 -0.191451 -0.199094 -0.004325 -0.083669  0.191719 -0.123753   \n1      0.100913 -0.112439  0.140193  0.442245 -0.244318  0.214603  0.095342   \n2     -0.020444 -0.081371 -0.053769  0.206744 -0.057491  0.169386  0.163935   \n3      0.198626 -0.082370 -0.162807  0.436283  0.111789 -0.146370  0.390531   \n4      0.073640  0.048036  0.380339  0.306694 -0.001131 -0.050514  0.304453   \n...         ...       ...       ...       ...       ...       ...       ...   \n30078  0.271803 -0.191275 -0.115660 -0.027046 -0.074921 -0.101646  0.231501   \n30079  0.036729 -0.177184  0.057512  0.264610 -0.100801 -0.029718  0.151412   \n30080  0.463321 -0.051057 -0.071321  0.100492 -0.152650  0.104869  0.151835   \n30081  0.283024  0.001114 -0.114220  0.141220  0.100976 -0.058647  0.230701   \n30082 -0.109247 -0.196009 -0.153462  0.000933 -0.193187 -0.102058  0.223912   \n\n       ...      2550      2551      2552      2553      2554      2555  \\\n0      ...  0.190715 -0.178776  0.320377 -0.041465 -0.231193 -0.159202   \n1      ...  0.089758 -0.004185 -0.029220 -0.230071 -0.154650  0.121530   \n2      ...  0.290390  0.100370  0.369674 -0.121252 -0.178570 -0.113657   \n3      ...  0.268752 -0.081703  0.260819 -0.153018 -0.242180  0.036024   \n4      ...  0.190559  0.103791 -0.089837 -0.000235 -0.185620  0.005118   \n...    ...       ...       ...       ...       ...       ...       ...   \n30078  ...  0.358037  0.117128  0.165411 -0.111959 -0.222058  0.152683   \n30079  ...  0.491667 -0.096260  0.097591 -0.132159 -0.219154 -0.097472   \n30080  ...  0.540294  0.009805  0.027360 -0.041865 -0.085383  0.013754   \n30081  ...  0.314984 -0.173124  0.259807 -0.170161 -0.201301  0.382029   \n30082  ...  0.324950 -0.146800  0.159609 -0.227036 -0.223311 -0.172502   \n\n           2556      2557      2558      2559  \n0      0.118353 -0.183021  0.112336  0.497603  \n1     -0.066817 -0.139586 -0.190869 -0.071105  \n2      0.314377  0.027548 -0.106127  0.388178  \n3      0.245464  0.005475  0.015372  0.091531  \n4      0.807094 -0.141003  0.348858 -0.144865  \n...         ...       ...       ...       ...  \n30078  0.445822 -0.135504  0.062997 -0.000440  \n30079  0.493421 -0.214767 -0.058083  0.003562  \n30080  0.266392 -0.097326 -0.098183  0.096486  \n30081  0.301187 -0.002982  0.183414  0.186215  \n30082  0.376145 -0.149048  0.128651  0.925085  \n\n[30083 rows x 2561 columns]",
      "text/html": "<div>\n<style scoped>\n    .dataframe tbody tr th:only-of-type {\n        vertical-align: middle;\n    }\n\n    .dataframe tbody tr th {\n        vertical-align: top;\n    }\n\n    .dataframe thead th {\n        text-align: right;\n    }\n</style>\n<table border=\"1\" class=\"dataframe\">\n  <thead>\n    <tr style=\"text-align: right;\">\n      <th></th>\n      <th>StudyInstanceUID</th>\n      <th>0</th>\n      <th>1</th>\n      <th>2</th>\n      <th>3</th>\n      <th>4</th>\n      <th>5</th>\n      <th>6</th>\n      <th>7</th>\n      <th>8</th>\n      <th>...</th>\n      <th>2550</th>\n      <th>2551</th>\n      <th>2552</th>\n      <th>2553</th>\n      <th>2554</th>\n      <th>2555</th>\n      <th>2556</th>\n      <th>2557</th>\n      <th>2558</th>\n      <th>2559</th>\n    </tr>\n  </thead>\n  <tbody>\n    <tr>\n      <th>0</th>\n      <td>1.2.826.0.1.3680043.8.498.26697628953273228189...</td>\n      <td>-0.112231</td>\n      <td>0.245513</td>\n      <td>-0.033396</td>\n      <td>-0.191451</td>\n      <td>-0.199094</td>\n      <td>-0.004325</td>\n      <td>-0.083669</td>\n      <td>0.191719</td>\n      <td>-0.123753</td>\n      <td>...</td>\n      <td>0.190715</td>\n      <td>-0.178776</td>\n      <td>0.320377</td>\n      <td>-0.041465</td>\n      <td>-0.231193</td>\n      <td>-0.159202</td>\n      <td>0.118353</td>\n      <td>-0.183021</td>\n      <td>0.112336</td>\n      <td>0.497603</td>\n    </tr>\n    <tr>\n      <th>1</th>\n      <td>1.2.826.0.1.3680043.8.498.46302891597398758759...</td>\n      <td>0.067357</td>\n      <td>0.011641</td>\n      <td>0.100913</td>\n      <td>-0.112439</td>\n      <td>0.140193</td>\n      <td>0.442245</td>\n      <td>-0.244318</td>\n      <td>0.214603</td>\n      <td>0.095342</td>\n      <td>...</td>\n      <td>0.089758</td>\n      <td>-0.004185</td>\n      <td>-0.029220</td>\n      <td>-0.230071</td>\n      <td>-0.154650</td>\n      <td>0.121530</td>\n      <td>-0.066817</td>\n      <td>-0.139586</td>\n      <td>-0.190869</td>\n      <td>-0.071105</td>\n    </tr>\n    <tr>\n      <th>2</th>\n      <td>1.2.826.0.1.3680043.8.498.23819260719748494858...</td>\n      <td>-0.073804</td>\n      <td>0.213021</td>\n      <td>-0.020444</td>\n      <td>-0.081371</td>\n      <td>-0.053769</td>\n      <td>0.206744</td>\n      <td>-0.057491</td>\n      <td>0.169386</td>\n      <td>0.163935</td>\n      <td>...</td>\n      <td>0.290390</td>\n      <td>0.100370</td>\n      <td>0.369674</td>\n      <td>-0.121252</td>\n      <td>-0.178570</td>\n      <td>-0.113657</td>\n      <td>0.314377</td>\n      <td>0.027548</td>\n      <td>-0.106127</td>\n      <td>0.388178</td>\n    </tr>\n    <tr>\n      <th>3</th>\n      <td>1.2.826.0.1.3680043.8.498.68286643202323212801...</td>\n      <td>0.209653</td>\n      <td>0.341568</td>\n      <td>0.198626</td>\n      <td>-0.082370</td>\n      <td>-0.162807</td>\n      <td>0.436283</td>\n      <td>0.111789</td>\n      <td>-0.146370</td>\n      <td>0.390531</td>\n      <td>...</td>\n      <td>0.268752</td>\n      <td>-0.081703</td>\n      <td>0.260819</td>\n      <td>-0.153018</td>\n      <td>-0.242180</td>\n      <td>0.036024</td>\n      <td>0.245464</td>\n      <td>0.005475</td>\n      <td>0.015372</td>\n      <td>0.091531</td>\n    </tr>\n    <tr>\n      <th>4</th>\n      <td>1.2.826.0.1.3680043.8.498.10050203009225938259...</td>\n      <td>0.084045</td>\n      <td>0.073493</td>\n      <td>0.073640</td>\n      <td>0.048036</td>\n      <td>0.380339</td>\n      <td>0.306694</td>\n      <td>-0.001131</td>\n      <td>-0.050514</td>\n      <td>0.304453</td>\n      <td>...</td>\n      <td>0.190559</td>\n      <td>0.103791</td>\n      <td>-0.089837</td>\n      <td>-0.000235</td>\n      <td>-0.185620</td>\n      <td>0.005118</td>\n      <td>0.807094</td>\n      <td>-0.141003</td>\n      <td>0.348858</td>\n      <td>-0.144865</td>\n    </tr>\n    <tr>\n      <th>...</th>\n      <td>...</td>\n      <td>...</td>\n      <td>...</td>\n      <td>...</td>\n      <td>...</td>\n      <td>...</td>\n      <td>...</td>\n      <td>...</td>\n      <td>...</td>\n      <td>...</td>\n      <td>...</td>\n      <td>...</td>\n      <td>...</td>\n      <td>...</td>\n      <td>...</td>\n      <td>...</td>\n      <td>...</td>\n      <td>...</td>\n      <td>...</td>\n      <td>...</td>\n      <td>...</td>\n    </tr>\n    <tr>\n      <th>30078</th>\n      <td>1.2.826.0.1.3680043.8.498.74257566841157531124...</td>\n      <td>-0.127748</td>\n      <td>0.166860</td>\n      <td>0.271803</td>\n      <td>-0.191275</td>\n      <td>-0.115660</td>\n      <td>-0.027046</td>\n      <td>-0.074921</td>\n      <td>-0.101646</td>\n      <td>0.231501</td>\n      <td>...</td>\n      <td>0.358037</td>\n      <td>0.117128</td>\n      <td>0.165411</td>\n      <td>-0.111959</td>\n      <td>-0.222058</td>\n      <td>0.152683</td>\n      <td>0.445822</td>\n      <td>-0.135504</td>\n      <td>0.062997</td>\n      <td>-0.000440</td>\n    </tr>\n    <tr>\n      <th>30079</th>\n      <td>1.2.826.0.1.3680043.8.498.46510939987173529969...</td>\n      <td>0.010990</td>\n      <td>0.207189</td>\n      <td>0.036729</td>\n      <td>-0.177184</td>\n      <td>0.057512</td>\n      <td>0.264610</td>\n      <td>-0.100801</td>\n      <td>-0.029718</td>\n      <td>0.151412</td>\n      <td>...</td>\n      <td>0.491667</td>\n      <td>-0.096260</td>\n      <td>0.097591</td>\n      <td>-0.132159</td>\n      <td>-0.219154</td>\n      <td>-0.097472</td>\n      <td>0.493421</td>\n      <td>-0.214767</td>\n      <td>-0.058083</td>\n      <td>0.003562</td>\n    </tr>\n    <tr>\n      <th>30080</th>\n      <td>1.2.826.0.1.3680043.8.498.43173270582850645437...</td>\n      <td>0.022863</td>\n      <td>0.288057</td>\n      <td>0.463321</td>\n      <td>-0.051057</td>\n      <td>-0.071321</td>\n      <td>0.100492</td>\n      <td>-0.152650</td>\n      <td>0.104869</td>\n      <td>0.151835</td>\n      <td>...</td>\n      <td>0.540294</td>\n      <td>0.009805</td>\n      <td>0.027360</td>\n      <td>-0.041865</td>\n      <td>-0.085383</td>\n      <td>0.013754</td>\n      <td>0.266392</td>\n      <td>-0.097326</td>\n      <td>-0.098183</td>\n      <td>0.096486</td>\n    </tr>\n    <tr>\n      <th>30081</th>\n      <td>1.2.826.0.1.3680043.8.498.95092491950130838685...</td>\n      <td>-0.048304</td>\n      <td>0.354992</td>\n      <td>0.283024</td>\n      <td>0.001114</td>\n      <td>-0.114220</td>\n      <td>0.141220</td>\n      <td>0.100976</td>\n      <td>-0.058647</td>\n      <td>0.230701</td>\n      <td>...</td>\n      <td>0.314984</td>\n      <td>-0.173124</td>\n      <td>0.259807</td>\n      <td>-0.170161</td>\n      <td>-0.201301</td>\n      <td>0.382029</td>\n      <td>0.301187</td>\n      <td>-0.002982</td>\n      <td>0.183414</td>\n      <td>0.186215</td>\n    </tr>\n    <tr>\n      <th>30082</th>\n      <td>1.2.826.0.1.3680043.8.498.99518162226171269731...</td>\n      <td>-0.232202</td>\n      <td>0.484988</td>\n      <td>-0.109247</td>\n      <td>-0.196009</td>\n      <td>-0.153462</td>\n      <td>0.000933</td>\n      <td>-0.193187</td>\n      <td>-0.102058</td>\n      <td>0.223912</td>\n      <td>...</td>\n      <td>0.324950</td>\n      <td>-0.146800</td>\n      <td>0.159609</td>\n      <td>-0.227036</td>\n      <td>-0.223311</td>\n      <td>-0.172502</td>\n      <td>0.376145</td>\n      <td>-0.149048</td>\n      <td>0.128651</td>\n      <td>0.925085</td>\n    </tr>\n  </tbody>\n</table>\n<p>30083 rows × 2561 columns</p>\n</div>"
     },
     "metadata": {}
    }
   ],
   "source": [
    "input_dir=\"../input/efficientnet_output_straight/\"\n",
    "dataset_dir=\"../input/ranzcr-clip-catheter-line-classification/\"\n",
    "\n",
    "input_df=pd.read_csv(\"./models/efficientnet_output.csv\")\n",
    "display(input_df)"
   ]
  },
  {
   "cell_type": "code",
   "execution_count": 12,
   "metadata": {},
   "outputs": [
    {
     "output_type": "execute_result",
     "data": {
      "text/plain": [
       "0        1.256895\n",
       "1        1.029967\n",
       "2        1.112047\n",
       "3        1.707101\n",
       "4        1.140373\n",
       "           ...   \n",
       "30078    1.247145\n",
       "30079    1.258481\n",
       "30080    1.445978\n",
       "30081    1.285173\n",
       "30082    1.138580\n",
       "Length: 30083, dtype: float64"
      ]
     },
     "metadata": {},
     "execution_count": 12
    }
   ],
   "source": [
    "input_df.max(axis=1)"
   ]
  },
  {
   "cell_type": "code",
   "execution_count": 10,
   "metadata": {},
   "outputs": [
    {
     "output_type": "stream",
     "name": "stdout",
     "text": [
      "Model: \"sequential_4\"\n_________________________________________________________________\nLayer (type)                 Output Shape              Param #   \n=================================================================\ndense_13 (Dense)             (None, 400)               1024400   \n_________________________________________________________________\ndense_14 (Dense)             (None, 200)               80200     \n_________________________________________________________________\ndense_15 (Dense)             (None, 100)               20100     \n_________________________________________________________________\ndense_16 (Dense)             (None, 200)               20200     \n_________________________________________________________________\ndense_17 (Dense)             (None, 400)               80400     \n_________________________________________________________________\ndense_18 (Dense)             (None, 2560)              1026560   \n=================================================================\nTotal params: 2,251,860\nTrainable params: 2,251,860\nNon-trainable params: 0\n_________________________________________________________________\n"
     ]
    }
   ],
   "source": [
    "input_shape=(2560,)\n",
    "encoding_dim=100\n",
    "\n",
    "model=models.Sequential([\n",
    "    Dense(encoding_dim*4,activation=\"relu\",input_shape=input_shape),\n",
    "    Dense(encoding_dim,activation=\"relu\",),\n",
    "    Dense(encoding_dim*4,activation=\"relu\"),    \n",
    "    Dense(input_shape[0],activation=\"sigmoid\")\n",
    "])\n",
    "\n",
    "model.summary()"
   ]
  },
  {
   "cell_type": "code",
   "execution_count": 11,
   "metadata": {},
   "outputs": [
    {
     "output_type": "stream",
     "name": "stdout",
     "text": [
      "Epoch 1/100\n",
      "115/706 [===>..........................] - ETA: 15s - loss: 0.0934"
     ]
    },
    {
     "output_type": "error",
     "ename": "KeyboardInterrupt",
     "evalue": "",
     "traceback": [
      "\u001b[1;31m---------------------------------------------------------------------------\u001b[0m",
      "\u001b[1;31mKeyboardInterrupt\u001b[0m                         Traceback (most recent call last)",
      "\u001b[1;32m<ipython-input-11-db3795617e3d>\u001b[0m in \u001b[0;36m<module>\u001b[1;34m\u001b[0m\n\u001b[0;32m      6\u001b[0m \u001b[0mfit_callbacks\u001b[0m\u001b[1;33m=\u001b[0m\u001b[1;33m[\u001b[0m\u001b[0mcallbacks\u001b[0m\u001b[1;33m.\u001b[0m\u001b[0mEarlyStopping\u001b[0m\u001b[1;33m(\u001b[0m\u001b[0mmonitor\u001b[0m\u001b[1;33m=\u001b[0m\u001b[1;34m\"val_loss\"\u001b[0m\u001b[1;33m,\u001b[0m\u001b[0mpatience\u001b[0m\u001b[1;33m=\u001b[0m\u001b[1;36m20\u001b[0m\u001b[1;33m,\u001b[0m\u001b[0mmode\u001b[0m\u001b[1;33m=\u001b[0m\u001b[1;34m\"min\"\u001b[0m\u001b[1;33m)\u001b[0m\u001b[1;33m]\u001b[0m\u001b[1;33m\u001b[0m\u001b[1;33m\u001b[0m\u001b[0m\n\u001b[0;32m      7\u001b[0m \u001b[1;33m\u001b[0m\u001b[0m\n\u001b[1;32m----> 8\u001b[1;33m \u001b[0mmodel\u001b[0m\u001b[1;33m.\u001b[0m\u001b[0mfit\u001b[0m\u001b[1;33m(\u001b[0m\u001b[0mX_train\u001b[0m\u001b[1;33m,\u001b[0m\u001b[0mX_train\u001b[0m\u001b[1;33m,\u001b[0m\u001b[0mepochs\u001b[0m\u001b[1;33m=\u001b[0m\u001b[1;36m100\u001b[0m\u001b[1;33m,\u001b[0m\u001b[0mshuffle\u001b[0m\u001b[1;33m=\u001b[0m\u001b[1;32mTrue\u001b[0m\u001b[1;33m,\u001b[0m\u001b[0mvalidation_data\u001b[0m\u001b[1;33m=\u001b[0m\u001b[1;33m(\u001b[0m\u001b[0mX_test\u001b[0m\u001b[1;33m,\u001b[0m\u001b[0mX_test\u001b[0m\u001b[1;33m)\u001b[0m\u001b[1;33m,\u001b[0m\u001b[0mcallbacks\u001b[0m\u001b[1;33m=\u001b[0m\u001b[0mfit_callbacks\u001b[0m\u001b[1;33m)\u001b[0m\u001b[1;33m\u001b[0m\u001b[1;33m\u001b[0m\u001b[0m\n\u001b[0m\u001b[0;32m      9\u001b[0m \u001b[1;33m\u001b[0m\u001b[0m\n\u001b[0;32m     10\u001b[0m \u001b[0mscore\u001b[0m\u001b[1;33m=\u001b[0m\u001b[0mmodel\u001b[0m\u001b[1;33m.\u001b[0m\u001b[0mevaluate\u001b[0m\u001b[1;33m(\u001b[0m\u001b[0mX_test\u001b[0m\u001b[1;33m,\u001b[0m\u001b[0mX_test\u001b[0m\u001b[1;33m,\u001b[0m\u001b[0mverbose\u001b[0m\u001b[1;33m=\u001b[0m\u001b[1;36m0\u001b[0m\u001b[1;33m)\u001b[0m\u001b[1;33m\u001b[0m\u001b[1;33m\u001b[0m\u001b[0m\n",
      "\u001b[1;32m~\\anaconda3\\envs\\py38\\lib\\site-packages\\tensorflow\\python\\keras\\engine\\training.py\u001b[0m in \u001b[0;36m_method_wrapper\u001b[1;34m(self, *args, **kwargs)\u001b[0m\n\u001b[0;32m    106\u001b[0m   \u001b[1;32mdef\u001b[0m \u001b[0m_method_wrapper\u001b[0m\u001b[1;33m(\u001b[0m\u001b[0mself\u001b[0m\u001b[1;33m,\u001b[0m \u001b[1;33m*\u001b[0m\u001b[0margs\u001b[0m\u001b[1;33m,\u001b[0m \u001b[1;33m**\u001b[0m\u001b[0mkwargs\u001b[0m\u001b[1;33m)\u001b[0m\u001b[1;33m:\u001b[0m\u001b[1;33m\u001b[0m\u001b[1;33m\u001b[0m\u001b[0m\n\u001b[0;32m    107\u001b[0m     \u001b[1;32mif\u001b[0m \u001b[1;32mnot\u001b[0m \u001b[0mself\u001b[0m\u001b[1;33m.\u001b[0m\u001b[0m_in_multi_worker_mode\u001b[0m\u001b[1;33m(\u001b[0m\u001b[1;33m)\u001b[0m\u001b[1;33m:\u001b[0m  \u001b[1;31m# pylint: disable=protected-access\u001b[0m\u001b[1;33m\u001b[0m\u001b[1;33m\u001b[0m\u001b[0m\n\u001b[1;32m--> 108\u001b[1;33m       \u001b[1;32mreturn\u001b[0m \u001b[0mmethod\u001b[0m\u001b[1;33m(\u001b[0m\u001b[0mself\u001b[0m\u001b[1;33m,\u001b[0m \u001b[1;33m*\u001b[0m\u001b[0margs\u001b[0m\u001b[1;33m,\u001b[0m \u001b[1;33m**\u001b[0m\u001b[0mkwargs\u001b[0m\u001b[1;33m)\u001b[0m\u001b[1;33m\u001b[0m\u001b[1;33m\u001b[0m\u001b[0m\n\u001b[0m\u001b[0;32m    109\u001b[0m \u001b[1;33m\u001b[0m\u001b[0m\n\u001b[0;32m    110\u001b[0m     \u001b[1;31m# Running inside `run_distribute_coordinator` already.\u001b[0m\u001b[1;33m\u001b[0m\u001b[1;33m\u001b[0m\u001b[1;33m\u001b[0m\u001b[0m\n",
      "\u001b[1;32m~\\anaconda3\\envs\\py38\\lib\\site-packages\\tensorflow\\python\\keras\\engine\\training.py\u001b[0m in \u001b[0;36mfit\u001b[1;34m(self, x, y, batch_size, epochs, verbose, callbacks, validation_split, validation_data, shuffle, class_weight, sample_weight, initial_epoch, steps_per_epoch, validation_steps, validation_batch_size, validation_freq, max_queue_size, workers, use_multiprocessing)\u001b[0m\n\u001b[0;32m   1096\u001b[0m                 batch_size=batch_size):\n\u001b[0;32m   1097\u001b[0m               \u001b[0mcallbacks\u001b[0m\u001b[1;33m.\u001b[0m\u001b[0mon_train_batch_begin\u001b[0m\u001b[1;33m(\u001b[0m\u001b[0mstep\u001b[0m\u001b[1;33m)\u001b[0m\u001b[1;33m\u001b[0m\u001b[1;33m\u001b[0m\u001b[0m\n\u001b[1;32m-> 1098\u001b[1;33m               \u001b[0mtmp_logs\u001b[0m \u001b[1;33m=\u001b[0m \u001b[0mtrain_function\u001b[0m\u001b[1;33m(\u001b[0m\u001b[0miterator\u001b[0m\u001b[1;33m)\u001b[0m\u001b[1;33m\u001b[0m\u001b[1;33m\u001b[0m\u001b[0m\n\u001b[0m\u001b[0;32m   1099\u001b[0m               \u001b[1;32mif\u001b[0m \u001b[0mdata_handler\u001b[0m\u001b[1;33m.\u001b[0m\u001b[0mshould_sync\u001b[0m\u001b[1;33m:\u001b[0m\u001b[1;33m\u001b[0m\u001b[1;33m\u001b[0m\u001b[0m\n\u001b[0;32m   1100\u001b[0m                 \u001b[0mcontext\u001b[0m\u001b[1;33m.\u001b[0m\u001b[0masync_wait\u001b[0m\u001b[1;33m(\u001b[0m\u001b[1;33m)\u001b[0m\u001b[1;33m\u001b[0m\u001b[1;33m\u001b[0m\u001b[0m\n",
      "\u001b[1;32m~\\anaconda3\\envs\\py38\\lib\\site-packages\\tensorflow\\python\\eager\\def_function.py\u001b[0m in \u001b[0;36m__call__\u001b[1;34m(self, *args, **kwds)\u001b[0m\n\u001b[0;32m    778\u001b[0m       \u001b[1;32melse\u001b[0m\u001b[1;33m:\u001b[0m\u001b[1;33m\u001b[0m\u001b[1;33m\u001b[0m\u001b[0m\n\u001b[0;32m    779\u001b[0m         \u001b[0mcompiler\u001b[0m \u001b[1;33m=\u001b[0m \u001b[1;34m\"nonXla\"\u001b[0m\u001b[1;33m\u001b[0m\u001b[1;33m\u001b[0m\u001b[0m\n\u001b[1;32m--> 780\u001b[1;33m         \u001b[0mresult\u001b[0m \u001b[1;33m=\u001b[0m \u001b[0mself\u001b[0m\u001b[1;33m.\u001b[0m\u001b[0m_call\u001b[0m\u001b[1;33m(\u001b[0m\u001b[1;33m*\u001b[0m\u001b[0margs\u001b[0m\u001b[1;33m,\u001b[0m \u001b[1;33m**\u001b[0m\u001b[0mkwds\u001b[0m\u001b[1;33m)\u001b[0m\u001b[1;33m\u001b[0m\u001b[1;33m\u001b[0m\u001b[0m\n\u001b[0m\u001b[0;32m    781\u001b[0m \u001b[1;33m\u001b[0m\u001b[0m\n\u001b[0;32m    782\u001b[0m       \u001b[0mnew_tracing_count\u001b[0m \u001b[1;33m=\u001b[0m \u001b[0mself\u001b[0m\u001b[1;33m.\u001b[0m\u001b[0m_get_tracing_count\u001b[0m\u001b[1;33m(\u001b[0m\u001b[1;33m)\u001b[0m\u001b[1;33m\u001b[0m\u001b[1;33m\u001b[0m\u001b[0m\n",
      "\u001b[1;32m~\\anaconda3\\envs\\py38\\lib\\site-packages\\tensorflow\\python\\eager\\def_function.py\u001b[0m in \u001b[0;36m_call\u001b[1;34m(self, *args, **kwds)\u001b[0m\n\u001b[0;32m    805\u001b[0m       \u001b[1;31m# In this case we have created variables on the first call, so we run the\u001b[0m\u001b[1;33m\u001b[0m\u001b[1;33m\u001b[0m\u001b[1;33m\u001b[0m\u001b[0m\n\u001b[0;32m    806\u001b[0m       \u001b[1;31m# defunned version which is guaranteed to never create variables.\u001b[0m\u001b[1;33m\u001b[0m\u001b[1;33m\u001b[0m\u001b[1;33m\u001b[0m\u001b[0m\n\u001b[1;32m--> 807\u001b[1;33m       \u001b[1;32mreturn\u001b[0m \u001b[0mself\u001b[0m\u001b[1;33m.\u001b[0m\u001b[0m_stateless_fn\u001b[0m\u001b[1;33m(\u001b[0m\u001b[1;33m*\u001b[0m\u001b[0margs\u001b[0m\u001b[1;33m,\u001b[0m \u001b[1;33m**\u001b[0m\u001b[0mkwds\u001b[0m\u001b[1;33m)\u001b[0m  \u001b[1;31m# pylint: disable=not-callable\u001b[0m\u001b[1;33m\u001b[0m\u001b[1;33m\u001b[0m\u001b[0m\n\u001b[0m\u001b[0;32m    808\u001b[0m     \u001b[1;32melif\u001b[0m \u001b[0mself\u001b[0m\u001b[1;33m.\u001b[0m\u001b[0m_stateful_fn\u001b[0m \u001b[1;32mis\u001b[0m \u001b[1;32mnot\u001b[0m \u001b[1;32mNone\u001b[0m\u001b[1;33m:\u001b[0m\u001b[1;33m\u001b[0m\u001b[1;33m\u001b[0m\u001b[0m\n\u001b[0;32m    809\u001b[0m       \u001b[1;31m# Release the lock early so that multiple threads can perform the call\u001b[0m\u001b[1;33m\u001b[0m\u001b[1;33m\u001b[0m\u001b[1;33m\u001b[0m\u001b[0m\n",
      "\u001b[1;32m~\\anaconda3\\envs\\py38\\lib\\site-packages\\tensorflow\\python\\eager\\function.py\u001b[0m in \u001b[0;36m__call__\u001b[1;34m(self, *args, **kwargs)\u001b[0m\n\u001b[0;32m   2827\u001b[0m     \u001b[1;32mwith\u001b[0m \u001b[0mself\u001b[0m\u001b[1;33m.\u001b[0m\u001b[0m_lock\u001b[0m\u001b[1;33m:\u001b[0m\u001b[1;33m\u001b[0m\u001b[1;33m\u001b[0m\u001b[0m\n\u001b[0;32m   2828\u001b[0m       \u001b[0mgraph_function\u001b[0m\u001b[1;33m,\u001b[0m \u001b[0margs\u001b[0m\u001b[1;33m,\u001b[0m \u001b[0mkwargs\u001b[0m \u001b[1;33m=\u001b[0m \u001b[0mself\u001b[0m\u001b[1;33m.\u001b[0m\u001b[0m_maybe_define_function\u001b[0m\u001b[1;33m(\u001b[0m\u001b[0margs\u001b[0m\u001b[1;33m,\u001b[0m \u001b[0mkwargs\u001b[0m\u001b[1;33m)\u001b[0m\u001b[1;33m\u001b[0m\u001b[1;33m\u001b[0m\u001b[0m\n\u001b[1;32m-> 2829\u001b[1;33m     \u001b[1;32mreturn\u001b[0m \u001b[0mgraph_function\u001b[0m\u001b[1;33m.\u001b[0m\u001b[0m_filtered_call\u001b[0m\u001b[1;33m(\u001b[0m\u001b[0margs\u001b[0m\u001b[1;33m,\u001b[0m \u001b[0mkwargs\u001b[0m\u001b[1;33m)\u001b[0m  \u001b[1;31m# pylint: disable=protected-access\u001b[0m\u001b[1;33m\u001b[0m\u001b[1;33m\u001b[0m\u001b[0m\n\u001b[0m\u001b[0;32m   2830\u001b[0m \u001b[1;33m\u001b[0m\u001b[0m\n\u001b[0;32m   2831\u001b[0m   \u001b[1;33m@\u001b[0m\u001b[0mproperty\u001b[0m\u001b[1;33m\u001b[0m\u001b[1;33m\u001b[0m\u001b[0m\n",
      "\u001b[1;32m~\\anaconda3\\envs\\py38\\lib\\site-packages\\tensorflow\\python\\eager\\function.py\u001b[0m in \u001b[0;36m_filtered_call\u001b[1;34m(self, args, kwargs, cancellation_manager)\u001b[0m\n\u001b[0;32m   1841\u001b[0m       \u001b[0;31m`\u001b[0m\u001b[0margs\u001b[0m\u001b[0;31m`\u001b[0m \u001b[1;32mand\u001b[0m\u001b[0;31m \u001b[0m\u001b[0;31m`\u001b[0m\u001b[0mkwargs\u001b[0m\u001b[0;31m`\u001b[0m\u001b[1;33m.\u001b[0m\u001b[1;33m\u001b[0m\u001b[1;33m\u001b[0m\u001b[0m\n\u001b[0;32m   1842\u001b[0m     \"\"\"\n\u001b[1;32m-> 1843\u001b[1;33m     return self._call_flat(\n\u001b[0m\u001b[0;32m   1844\u001b[0m         [t for t in nest.flatten((args, kwargs), expand_composites=True)\n\u001b[0;32m   1845\u001b[0m          if isinstance(t, (ops.Tensor,\n",
      "\u001b[1;32m~\\anaconda3\\envs\\py38\\lib\\site-packages\\tensorflow\\python\\eager\\function.py\u001b[0m in \u001b[0;36m_call_flat\u001b[1;34m(self, args, captured_inputs, cancellation_manager)\u001b[0m\n\u001b[0;32m   1921\u001b[0m         and executing_eagerly):\n\u001b[0;32m   1922\u001b[0m       \u001b[1;31m# No tape is watching; skip to running the function.\u001b[0m\u001b[1;33m\u001b[0m\u001b[1;33m\u001b[0m\u001b[1;33m\u001b[0m\u001b[0m\n\u001b[1;32m-> 1923\u001b[1;33m       return self._build_call_outputs(self._inference_function.call(\n\u001b[0m\u001b[0;32m   1924\u001b[0m           ctx, args, cancellation_manager=cancellation_manager))\n\u001b[0;32m   1925\u001b[0m     forward_backward = self._select_forward_and_backward_functions(\n",
      "\u001b[1;32m~\\anaconda3\\envs\\py38\\lib\\site-packages\\tensorflow\\python\\eager\\function.py\u001b[0m in \u001b[0;36mcall\u001b[1;34m(self, ctx, args, cancellation_manager)\u001b[0m\n\u001b[0;32m    543\u001b[0m       \u001b[1;32mwith\u001b[0m \u001b[0m_InterpolateFunctionError\u001b[0m\u001b[1;33m(\u001b[0m\u001b[0mself\u001b[0m\u001b[1;33m)\u001b[0m\u001b[1;33m:\u001b[0m\u001b[1;33m\u001b[0m\u001b[1;33m\u001b[0m\u001b[0m\n\u001b[0;32m    544\u001b[0m         \u001b[1;32mif\u001b[0m \u001b[0mcancellation_manager\u001b[0m \u001b[1;32mis\u001b[0m \u001b[1;32mNone\u001b[0m\u001b[1;33m:\u001b[0m\u001b[1;33m\u001b[0m\u001b[1;33m\u001b[0m\u001b[0m\n\u001b[1;32m--> 545\u001b[1;33m           outputs = execute.execute(\n\u001b[0m\u001b[0;32m    546\u001b[0m               \u001b[0mstr\u001b[0m\u001b[1;33m(\u001b[0m\u001b[0mself\u001b[0m\u001b[1;33m.\u001b[0m\u001b[0msignature\u001b[0m\u001b[1;33m.\u001b[0m\u001b[0mname\u001b[0m\u001b[1;33m)\u001b[0m\u001b[1;33m,\u001b[0m\u001b[1;33m\u001b[0m\u001b[1;33m\u001b[0m\u001b[0m\n\u001b[0;32m    547\u001b[0m               \u001b[0mnum_outputs\u001b[0m\u001b[1;33m=\u001b[0m\u001b[0mself\u001b[0m\u001b[1;33m.\u001b[0m\u001b[0m_num_outputs\u001b[0m\u001b[1;33m,\u001b[0m\u001b[1;33m\u001b[0m\u001b[1;33m\u001b[0m\u001b[0m\n",
      "\u001b[1;32m~\\anaconda3\\envs\\py38\\lib\\site-packages\\tensorflow\\python\\eager\\execute.py\u001b[0m in \u001b[0;36mquick_execute\u001b[1;34m(op_name, num_outputs, inputs, attrs, ctx, name)\u001b[0m\n\u001b[0;32m     57\u001b[0m   \u001b[1;32mtry\u001b[0m\u001b[1;33m:\u001b[0m\u001b[1;33m\u001b[0m\u001b[1;33m\u001b[0m\u001b[0m\n\u001b[0;32m     58\u001b[0m     \u001b[0mctx\u001b[0m\u001b[1;33m.\u001b[0m\u001b[0mensure_initialized\u001b[0m\u001b[1;33m(\u001b[0m\u001b[1;33m)\u001b[0m\u001b[1;33m\u001b[0m\u001b[1;33m\u001b[0m\u001b[0m\n\u001b[1;32m---> 59\u001b[1;33m     tensors = pywrap_tfe.TFE_Py_Execute(ctx._handle, device_name, op_name,\n\u001b[0m\u001b[0;32m     60\u001b[0m                                         inputs, attrs, num_outputs)\n\u001b[0;32m     61\u001b[0m   \u001b[1;32mexcept\u001b[0m \u001b[0mcore\u001b[0m\u001b[1;33m.\u001b[0m\u001b[0m_NotOkStatusException\u001b[0m \u001b[1;32mas\u001b[0m \u001b[0me\u001b[0m\u001b[1;33m:\u001b[0m\u001b[1;33m\u001b[0m\u001b[1;33m\u001b[0m\u001b[0m\n",
      "\u001b[1;31mKeyboardInterrupt\u001b[0m: "
     ]
    }
   ],
   "source": [
    "X_train, X_test=train_test_split(input_df.iloc[:,1:])\n",
    "\n",
    "adam=Adam(learning_rate=0.0001)\n",
    "model.compile(optimizer=adam,loss=\"mse\")\n",
    "\n",
    "fit_callbacks=[callbacks.EarlyStopping(monitor=\"val_loss\",patience=20,mode=\"min\")]\n",
    "\n",
    "model.fit(X_train,X_train,epochs=200,shuffle=True,validation_data=(X_test,X_test),callbacks=fit_callbacks)\n",
    "\n",
    "score=model.evaluate(X_test,X_test,verbose=0)\n",
    "print(f\"\\nscore: {score}\")"
   ]
  }
 ]
}