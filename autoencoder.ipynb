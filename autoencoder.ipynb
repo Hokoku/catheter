{
 "metadata": {
  "language_info": {
   "codemirror_mode": {
    "name": "ipython",
    "version": 3
   },
   "file_extension": ".py",
   "mimetype": "text/x-python",
   "name": "python",
   "nbconvert_exporter": "python",
   "pygments_lexer": "ipython3",
   "version": "3.8.5"
  },
  "orig_nbformat": 2,
  "kernelspec": {
   "name": "python3",
   "display_name": "Python 3.8.5 64-bit ('py38': conda)",
   "metadata": {
    "interpreter": {
     "hash": "3da45907e5cd41bdac7b692b424c19725633d98a853f93b11b400b1d8951ac30"
    }
   }
  }
 },
 "nbformat": 4,
 "nbformat_minor": 2,
 "cells": [
  {
   "cell_type": "code",
   "execution_count": 14,
   "metadata": {},
   "outputs": [],
   "source": [
    "import numpy as np\n",
    "import pandas as pd\n",
    "import os\n",
    "from tqdm import tqdm\n",
    "\n",
    "from tensorflow.keras.layers import Dense\n",
    "from tensorflow.keras import models\n",
    "from tensorflow.keras import callbacks\n",
    "from tensorflow.keras.optimizers import Adam\n",
    "\n",
    "from sklearn.model_selection import train_test_split\n",
    "from sklearn.preprocessing import MinMaxScaler\n",
    "from IPython.display import display"
   ]
  },
  {
   "cell_type": "code",
   "execution_count": 60,
   "metadata": {
    "tags": []
   },
   "outputs": [
    {
     "output_type": "display_data",
     "data": {
      "text/plain": "                                        StudyInstanceUID         0         1  \\\n0      1.2.826.0.1.3680043.8.498.26697628953273228189...  0.169359  0.324016   \n1      1.2.826.0.1.3680043.8.498.46302891597398758759...  0.365546  0.175262   \n2      1.2.826.0.1.3680043.8.498.23819260719748494858...  0.211337  0.303350   \n3      1.2.826.0.1.3680043.8.498.68286643202323212801...  0.520994  0.385111   \n4      1.2.826.0.1.3680043.8.498.10050203009225938259...  0.383775  0.214603   \n...                                                  ...       ...       ...   \n30078  1.2.826.0.1.3680043.8.498.74257566841157531124...  0.152407  0.273989   \n30079  1.2.826.0.1.3680043.8.498.46510939987173529969...  0.303968  0.299640   \n30080  1.2.826.0.1.3680043.8.498.43173270582850645437...  0.316939  0.351076   \n30081  1.2.826.0.1.3680043.8.498.95092491950130838685...  0.239194  0.393650   \n30082  1.2.826.0.1.3680043.8.498.99518162226171269731...  0.038298  0.476334   \n\n              2         3         4         5         6         7         8  \\\n0      0.173553  0.095382  0.063119  0.165738  0.181906  0.437814  0.098587   \n1      0.286057  0.205560  0.388747  0.452293  0.021495  0.460131  0.311742   \n2      0.184402  0.248883  0.202594  0.301177  0.208046  0.416033  0.378476   \n3      0.367907  0.247489  0.097945  0.448468  0.377076  0.108094  0.598928   \n4      0.263212  0.429333  0.619226  0.365313  0.264323  0.201577  0.515184   \n...         ...       ...       ...       ...       ...       ...       ...   \n30078  0.429204  0.095627  0.143194  0.151159  0.190642  0.151711  0.444210   \n30079  0.232293  0.115276  0.309395  0.338309  0.164800  0.221858  0.366292   \n30080  0.589629  0.291154  0.185748  0.232997  0.113028  0.353113  0.366704   \n30081  0.438603  0.363903  0.144577  0.259132  0.366278  0.193645  0.443432   \n30082  0.110016  0.089027  0.106914  0.169113  0.072551  0.151309  0.436827   \n\n       ...      2550      2551      2552      2553      2554      2555  \\\n0      ...  0.302277  0.070963  0.354162  0.284205  0.057408  0.101549   \n1      ...  0.232927  0.223938  0.135535  0.042117  0.169312  0.383767   \n2      ...  0.370746  0.315548  0.384991  0.181793  0.134341  0.147335   \n3      ...  0.355882  0.156018  0.316916  0.141020  0.041345  0.297808   \n4      ...  0.302169  0.318546  0.097627  0.337127  0.124034  0.266738   \n...    ...       ...       ...       ...       ...       ...       ...   \n30078  ...  0.417215  0.330231  0.257251  0.193722  0.070763  0.415085   \n30079  ...  0.509008  0.143263  0.214838  0.167794  0.075009  0.163606   \n30080  ...  0.542412  0.236196  0.170918  0.283692  0.270579  0.275420   \n30081  ...  0.387640  0.075916  0.316283  0.119015  0.101108  0.645644   \n30082  ...  0.394486  0.098980  0.253622  0.046012  0.068931  0.088179   \n\n           2556      2557      2558      2559  \n0      0.200983  0.098618  0.276763  0.473490  \n1      0.095033  0.151809  0.048868  0.117311  \n2      0.313144  0.356484  0.112562  0.404958  \n3      0.273713  0.329452  0.203884  0.219169  \n4      0.595066  0.150074  0.454537  0.071115  \n...         ...       ...       ...       ...  \n30078  0.388353  0.156808  0.239679  0.161568  \n30079  0.415589  0.059742  0.148673  0.164074  \n30080  0.285688  0.203561  0.118533  0.222272  \n30081  0.305596  0.319096  0.330187  0.278469  \n30082  0.348486  0.140222  0.289026  0.741221  \n\n[30083 rows x 2561 columns]",
      "text/html": "<div>\n<style scoped>\n    .dataframe tbody tr th:only-of-type {\n        vertical-align: middle;\n    }\n\n    .dataframe tbody tr th {\n        vertical-align: top;\n    }\n\n    .dataframe thead th {\n        text-align: right;\n    }\n</style>\n<table border=\"1\" class=\"dataframe\">\n  <thead>\n    <tr style=\"text-align: right;\">\n      <th></th>\n      <th>StudyInstanceUID</th>\n      <th>0</th>\n      <th>1</th>\n      <th>2</th>\n      <th>3</th>\n      <th>4</th>\n      <th>5</th>\n      <th>6</th>\n      <th>7</th>\n      <th>8</th>\n      <th>...</th>\n      <th>2550</th>\n      <th>2551</th>\n      <th>2552</th>\n      <th>2553</th>\n      <th>2554</th>\n      <th>2555</th>\n      <th>2556</th>\n      <th>2557</th>\n      <th>2558</th>\n      <th>2559</th>\n    </tr>\n  </thead>\n  <tbody>\n    <tr>\n      <th>0</th>\n      <td>1.2.826.0.1.3680043.8.498.26697628953273228189...</td>\n      <td>0.169359</td>\n      <td>0.324016</td>\n      <td>0.173553</td>\n      <td>0.095382</td>\n      <td>0.063119</td>\n      <td>0.165738</td>\n      <td>0.181906</td>\n      <td>0.437814</td>\n      <td>0.098587</td>\n      <td>...</td>\n      <td>0.302277</td>\n      <td>0.070963</td>\n      <td>0.354162</td>\n      <td>0.284205</td>\n      <td>0.057408</td>\n      <td>0.101549</td>\n      <td>0.200983</td>\n      <td>0.098618</td>\n      <td>0.276763</td>\n      <td>0.473490</td>\n    </tr>\n    <tr>\n      <th>1</th>\n      <td>1.2.826.0.1.3680043.8.498.46302891597398758759...</td>\n      <td>0.365546</td>\n      <td>0.175262</td>\n      <td>0.286057</td>\n      <td>0.205560</td>\n      <td>0.388747</td>\n      <td>0.452293</td>\n      <td>0.021495</td>\n      <td>0.460131</td>\n      <td>0.311742</td>\n      <td>...</td>\n      <td>0.232927</td>\n      <td>0.223938</td>\n      <td>0.135535</td>\n      <td>0.042117</td>\n      <td>0.169312</td>\n      <td>0.383767</td>\n      <td>0.095033</td>\n      <td>0.151809</td>\n      <td>0.048868</td>\n      <td>0.117311</td>\n    </tr>\n    <tr>\n      <th>2</th>\n      <td>1.2.826.0.1.3680043.8.498.23819260719748494858...</td>\n      <td>0.211337</td>\n      <td>0.303350</td>\n      <td>0.184402</td>\n      <td>0.248883</td>\n      <td>0.202594</td>\n      <td>0.301177</td>\n      <td>0.208046</td>\n      <td>0.416033</td>\n      <td>0.378476</td>\n      <td>...</td>\n      <td>0.370746</td>\n      <td>0.315548</td>\n      <td>0.384991</td>\n      <td>0.181793</td>\n      <td>0.134341</td>\n      <td>0.147335</td>\n      <td>0.313144</td>\n      <td>0.356484</td>\n      <td>0.112562</td>\n      <td>0.404958</td>\n    </tr>\n    <tr>\n      <th>3</th>\n      <td>1.2.826.0.1.3680043.8.498.68286643202323212801...</td>\n      <td>0.520994</td>\n      <td>0.385111</td>\n      <td>0.367907</td>\n      <td>0.247489</td>\n      <td>0.097945</td>\n      <td>0.448468</td>\n      <td>0.377076</td>\n      <td>0.108094</td>\n      <td>0.598928</td>\n      <td>...</td>\n      <td>0.355882</td>\n      <td>0.156018</td>\n      <td>0.316916</td>\n      <td>0.141020</td>\n      <td>0.041345</td>\n      <td>0.297808</td>\n      <td>0.273713</td>\n      <td>0.329452</td>\n      <td>0.203884</td>\n      <td>0.219169</td>\n    </tr>\n    <tr>\n      <th>4</th>\n      <td>1.2.826.0.1.3680043.8.498.10050203009225938259...</td>\n      <td>0.383775</td>\n      <td>0.214603</td>\n      <td>0.263212</td>\n      <td>0.429333</td>\n      <td>0.619226</td>\n      <td>0.365313</td>\n      <td>0.264323</td>\n      <td>0.201577</td>\n      <td>0.515184</td>\n      <td>...</td>\n      <td>0.302169</td>\n      <td>0.318546</td>\n      <td>0.097627</td>\n      <td>0.337127</td>\n      <td>0.124034</td>\n      <td>0.266738</td>\n      <td>0.595066</td>\n      <td>0.150074</td>\n      <td>0.454537</td>\n      <td>0.071115</td>\n    </tr>\n    <tr>\n      <th>...</th>\n      <td>...</td>\n      <td>...</td>\n      <td>...</td>\n      <td>...</td>\n      <td>...</td>\n      <td>...</td>\n      <td>...</td>\n      <td>...</td>\n      <td>...</td>\n      <td>...</td>\n      <td>...</td>\n      <td>...</td>\n      <td>...</td>\n      <td>...</td>\n      <td>...</td>\n      <td>...</td>\n      <td>...</td>\n      <td>...</td>\n      <td>...</td>\n      <td>...</td>\n      <td>...</td>\n    </tr>\n    <tr>\n      <th>30078</th>\n      <td>1.2.826.0.1.3680043.8.498.74257566841157531124...</td>\n      <td>0.152407</td>\n      <td>0.273989</td>\n      <td>0.429204</td>\n      <td>0.095627</td>\n      <td>0.143194</td>\n      <td>0.151159</td>\n      <td>0.190642</td>\n      <td>0.151711</td>\n      <td>0.444210</td>\n      <td>...</td>\n      <td>0.417215</td>\n      <td>0.330231</td>\n      <td>0.257251</td>\n      <td>0.193722</td>\n      <td>0.070763</td>\n      <td>0.415085</td>\n      <td>0.388353</td>\n      <td>0.156808</td>\n      <td>0.239679</td>\n      <td>0.161568</td>\n    </tr>\n    <tr>\n      <th>30079</th>\n      <td>1.2.826.0.1.3680043.8.498.46510939987173529969...</td>\n      <td>0.303968</td>\n      <td>0.299640</td>\n      <td>0.232293</td>\n      <td>0.115276</td>\n      <td>0.309395</td>\n      <td>0.338309</td>\n      <td>0.164800</td>\n      <td>0.221858</td>\n      <td>0.366292</td>\n      <td>...</td>\n      <td>0.509008</td>\n      <td>0.143263</td>\n      <td>0.214838</td>\n      <td>0.167794</td>\n      <td>0.075009</td>\n      <td>0.163606</td>\n      <td>0.415589</td>\n      <td>0.059742</td>\n      <td>0.148673</td>\n      <td>0.164074</td>\n    </tr>\n    <tr>\n      <th>30080</th>\n      <td>1.2.826.0.1.3680043.8.498.43173270582850645437...</td>\n      <td>0.316939</td>\n      <td>0.351076</td>\n      <td>0.589629</td>\n      <td>0.291154</td>\n      <td>0.185748</td>\n      <td>0.232997</td>\n      <td>0.113028</td>\n      <td>0.353113</td>\n      <td>0.366704</td>\n      <td>...</td>\n      <td>0.542412</td>\n      <td>0.236196</td>\n      <td>0.170918</td>\n      <td>0.283692</td>\n      <td>0.270579</td>\n      <td>0.275420</td>\n      <td>0.285688</td>\n      <td>0.203561</td>\n      <td>0.118533</td>\n      <td>0.222272</td>\n    </tr>\n    <tr>\n      <th>30081</th>\n      <td>1.2.826.0.1.3680043.8.498.95092491950130838685...</td>\n      <td>0.239194</td>\n      <td>0.393650</td>\n      <td>0.438603</td>\n      <td>0.363903</td>\n      <td>0.144577</td>\n      <td>0.259132</td>\n      <td>0.366278</td>\n      <td>0.193645</td>\n      <td>0.443432</td>\n      <td>...</td>\n      <td>0.387640</td>\n      <td>0.075916</td>\n      <td>0.316283</td>\n      <td>0.119015</td>\n      <td>0.101108</td>\n      <td>0.645644</td>\n      <td>0.305596</td>\n      <td>0.319096</td>\n      <td>0.330187</td>\n      <td>0.278469</td>\n    </tr>\n    <tr>\n      <th>30082</th>\n      <td>1.2.826.0.1.3680043.8.498.99518162226171269731...</td>\n      <td>0.038298</td>\n      <td>0.476334</td>\n      <td>0.110016</td>\n      <td>0.089027</td>\n      <td>0.106914</td>\n      <td>0.169113</td>\n      <td>0.072551</td>\n      <td>0.151309</td>\n      <td>0.436827</td>\n      <td>...</td>\n      <td>0.394486</td>\n      <td>0.098980</td>\n      <td>0.253622</td>\n      <td>0.046012</td>\n      <td>0.068931</td>\n      <td>0.088179</td>\n      <td>0.348486</td>\n      <td>0.140222</td>\n      <td>0.289026</td>\n      <td>0.741221</td>\n    </tr>\n  </tbody>\n</table>\n<p>30083 rows × 2561 columns</p>\n</div>"
     },
     "metadata": {}
    }
   ],
   "source": [
    "input_dir=\"../input/efficientnet_output_straight/\"\n",
    "dataset_dir=\"../input/ranzcr-clip-catheter-line-classification/\"\n",
    "\n",
    "input_df=pd.read_csv(\"./models/efficientnet_output_normalized.csv\")\n",
    "display(input_df)"
   ]
  },
  {
   "cell_type": "code",
   "execution_count": 58,
   "metadata": {},
   "outputs": [],
   "source": [
    "def normalize(input_df):\n",
    "    scaler=MinMaxScaler()\n",
    "    X=scaler.fit_transform(input_df.iloc[:,1:])\n",
    "    X_df=pd.DataFrame(X.astype(np.float32))\n",
    "    input_df=pd.concat([input_df[\"StudyInstanceUID\"],X_df],axis=1)\n",
    "    input_df.to_csv(\"./models/efficientnet_output_normalized.csv\",index=False)"
   ]
  },
  {
   "cell_type": "code",
   "execution_count": 61,
   "metadata": {},
   "outputs": [
    {
     "output_type": "stream",
     "name": "stdout",
     "text": [
      "Model: \"sequential_5\"\n_________________________________________________________________\nLayer (type)                 Output Shape              Param #   \n=================================================================\ndense_19 (Dense)             (None, 400)               1024400   \n_________________________________________________________________\ndense_20 (Dense)             (None, 100)               40100     \n_________________________________________________________________\ndense_21 (Dense)             (None, 400)               40400     \n_________________________________________________________________\ndense_22 (Dense)             (None, 2560)              1026560   \n=================================================================\nTotal params: 2,131,460\nTrainable params: 2,131,460\nNon-trainable params: 0\n_________________________________________________________________\n"
     ]
    }
   ],
   "source": [
    "input_shape=(2560,)\n",
    "encoding_dim=100\n",
    "\n",
    "model=models.Sequential([\n",
    "    Dense(encoding_dim*4,activation=\"relu\",input_shape=input_shape),\n",
    "    Dense(encoding_dim,activation=\"relu\",),\n",
    "    Dense(encoding_dim*4,activation=\"relu\"),    \n",
    "    Dense(input_shape[0],activation=\"sigmoid\")\n",
    "])\n",
    "\n",
    "model.summary()"
   ]
  },
  {
   "cell_type": "code",
   "execution_count": 62,
   "metadata": {},
   "outputs": [
    {
     "output_type": "stream",
     "name": "stdout",
     "text": [
      "Epoch 1/200\n",
      " 53/706 [=>............................] - ETA: 22s - loss: 0.0498"
     ]
    },
    {
     "output_type": "error",
     "ename": "KeyboardInterrupt",
     "evalue": "",
     "traceback": [
      "\u001b[1;31m---------------------------------------------------------------------------\u001b[0m",
      "\u001b[1;31mKeyboardInterrupt\u001b[0m                         Traceback (most recent call last)",
      "\u001b[1;32m<ipython-input-62-ef9d48a5ac40>\u001b[0m in \u001b[0;36m<module>\u001b[1;34m\u001b[0m\n\u001b[0;32m      6\u001b[0m \u001b[0mfit_callbacks\u001b[0m\u001b[1;33m=\u001b[0m\u001b[1;33m[\u001b[0m\u001b[0mcallbacks\u001b[0m\u001b[1;33m.\u001b[0m\u001b[0mEarlyStopping\u001b[0m\u001b[1;33m(\u001b[0m\u001b[0mmonitor\u001b[0m\u001b[1;33m=\u001b[0m\u001b[1;34m\"val_loss\"\u001b[0m\u001b[1;33m,\u001b[0m\u001b[0mpatience\u001b[0m\u001b[1;33m=\u001b[0m\u001b[1;36m20\u001b[0m\u001b[1;33m,\u001b[0m\u001b[0mmode\u001b[0m\u001b[1;33m=\u001b[0m\u001b[1;34m\"min\"\u001b[0m\u001b[1;33m)\u001b[0m\u001b[1;33m]\u001b[0m\u001b[1;33m\u001b[0m\u001b[1;33m\u001b[0m\u001b[0m\n\u001b[0;32m      7\u001b[0m \u001b[1;33m\u001b[0m\u001b[0m\n\u001b[1;32m----> 8\u001b[1;33m \u001b[0mmodel\u001b[0m\u001b[1;33m.\u001b[0m\u001b[0mfit\u001b[0m\u001b[1;33m(\u001b[0m\u001b[0mX_train\u001b[0m\u001b[1;33m,\u001b[0m\u001b[0mX_train\u001b[0m\u001b[1;33m,\u001b[0m\u001b[0mepochs\u001b[0m\u001b[1;33m=\u001b[0m\u001b[1;36m200\u001b[0m\u001b[1;33m,\u001b[0m\u001b[0mshuffle\u001b[0m\u001b[1;33m=\u001b[0m\u001b[1;32mTrue\u001b[0m\u001b[1;33m,\u001b[0m\u001b[0mvalidation_data\u001b[0m\u001b[1;33m=\u001b[0m\u001b[1;33m(\u001b[0m\u001b[0mX_test\u001b[0m\u001b[1;33m,\u001b[0m\u001b[0mX_test\u001b[0m\u001b[1;33m)\u001b[0m\u001b[1;33m,\u001b[0m\u001b[0mcallbacks\u001b[0m\u001b[1;33m=\u001b[0m\u001b[0mfit_callbacks\u001b[0m\u001b[1;33m)\u001b[0m\u001b[1;33m\u001b[0m\u001b[1;33m\u001b[0m\u001b[0m\n\u001b[0m\u001b[0;32m      9\u001b[0m \u001b[1;33m\u001b[0m\u001b[0m\n\u001b[0;32m     10\u001b[0m \u001b[0mscore\u001b[0m\u001b[1;33m=\u001b[0m\u001b[0mmodel\u001b[0m\u001b[1;33m.\u001b[0m\u001b[0mevaluate\u001b[0m\u001b[1;33m(\u001b[0m\u001b[0mX_test\u001b[0m\u001b[1;33m,\u001b[0m\u001b[0mX_test\u001b[0m\u001b[1;33m,\u001b[0m\u001b[0mverbose\u001b[0m\u001b[1;33m=\u001b[0m\u001b[1;36m0\u001b[0m\u001b[1;33m)\u001b[0m\u001b[1;33m\u001b[0m\u001b[1;33m\u001b[0m\u001b[0m\n",
      "\u001b[1;32m~\\anaconda3\\envs\\py38\\lib\\site-packages\\tensorflow\\python\\keras\\engine\\training.py\u001b[0m in \u001b[0;36m_method_wrapper\u001b[1;34m(self, *args, **kwargs)\u001b[0m\n\u001b[0;32m    106\u001b[0m   \u001b[1;32mdef\u001b[0m \u001b[0m_method_wrapper\u001b[0m\u001b[1;33m(\u001b[0m\u001b[0mself\u001b[0m\u001b[1;33m,\u001b[0m \u001b[1;33m*\u001b[0m\u001b[0margs\u001b[0m\u001b[1;33m,\u001b[0m \u001b[1;33m**\u001b[0m\u001b[0mkwargs\u001b[0m\u001b[1;33m)\u001b[0m\u001b[1;33m:\u001b[0m\u001b[1;33m\u001b[0m\u001b[1;33m\u001b[0m\u001b[0m\n\u001b[0;32m    107\u001b[0m     \u001b[1;32mif\u001b[0m \u001b[1;32mnot\u001b[0m \u001b[0mself\u001b[0m\u001b[1;33m.\u001b[0m\u001b[0m_in_multi_worker_mode\u001b[0m\u001b[1;33m(\u001b[0m\u001b[1;33m)\u001b[0m\u001b[1;33m:\u001b[0m  \u001b[1;31m# pylint: disable=protected-access\u001b[0m\u001b[1;33m\u001b[0m\u001b[1;33m\u001b[0m\u001b[0m\n\u001b[1;32m--> 108\u001b[1;33m       \u001b[1;32mreturn\u001b[0m \u001b[0mmethod\u001b[0m\u001b[1;33m(\u001b[0m\u001b[0mself\u001b[0m\u001b[1;33m,\u001b[0m \u001b[1;33m*\u001b[0m\u001b[0margs\u001b[0m\u001b[1;33m,\u001b[0m \u001b[1;33m**\u001b[0m\u001b[0mkwargs\u001b[0m\u001b[1;33m)\u001b[0m\u001b[1;33m\u001b[0m\u001b[1;33m\u001b[0m\u001b[0m\n\u001b[0m\u001b[0;32m    109\u001b[0m \u001b[1;33m\u001b[0m\u001b[0m\n\u001b[0;32m    110\u001b[0m     \u001b[1;31m# Running inside `run_distribute_coordinator` already.\u001b[0m\u001b[1;33m\u001b[0m\u001b[1;33m\u001b[0m\u001b[1;33m\u001b[0m\u001b[0m\n",
      "\u001b[1;32m~\\anaconda3\\envs\\py38\\lib\\site-packages\\tensorflow\\python\\keras\\engine\\training.py\u001b[0m in \u001b[0;36mfit\u001b[1;34m(self, x, y, batch_size, epochs, verbose, callbacks, validation_split, validation_data, shuffle, class_weight, sample_weight, initial_epoch, steps_per_epoch, validation_steps, validation_batch_size, validation_freq, max_queue_size, workers, use_multiprocessing)\u001b[0m\n\u001b[0;32m   1096\u001b[0m                 batch_size=batch_size):\n\u001b[0;32m   1097\u001b[0m               \u001b[0mcallbacks\u001b[0m\u001b[1;33m.\u001b[0m\u001b[0mon_train_batch_begin\u001b[0m\u001b[1;33m(\u001b[0m\u001b[0mstep\u001b[0m\u001b[1;33m)\u001b[0m\u001b[1;33m\u001b[0m\u001b[1;33m\u001b[0m\u001b[0m\n\u001b[1;32m-> 1098\u001b[1;33m               \u001b[0mtmp_logs\u001b[0m \u001b[1;33m=\u001b[0m \u001b[0mtrain_function\u001b[0m\u001b[1;33m(\u001b[0m\u001b[0miterator\u001b[0m\u001b[1;33m)\u001b[0m\u001b[1;33m\u001b[0m\u001b[1;33m\u001b[0m\u001b[0m\n\u001b[0m\u001b[0;32m   1099\u001b[0m               \u001b[1;32mif\u001b[0m \u001b[0mdata_handler\u001b[0m\u001b[1;33m.\u001b[0m\u001b[0mshould_sync\u001b[0m\u001b[1;33m:\u001b[0m\u001b[1;33m\u001b[0m\u001b[1;33m\u001b[0m\u001b[0m\n\u001b[0;32m   1100\u001b[0m                 \u001b[0mcontext\u001b[0m\u001b[1;33m.\u001b[0m\u001b[0masync_wait\u001b[0m\u001b[1;33m(\u001b[0m\u001b[1;33m)\u001b[0m\u001b[1;33m\u001b[0m\u001b[1;33m\u001b[0m\u001b[0m\n",
      "\u001b[1;32m~\\anaconda3\\envs\\py38\\lib\\site-packages\\tensorflow\\python\\eager\\def_function.py\u001b[0m in \u001b[0;36m__call__\u001b[1;34m(self, *args, **kwds)\u001b[0m\n\u001b[0;32m    778\u001b[0m       \u001b[1;32melse\u001b[0m\u001b[1;33m:\u001b[0m\u001b[1;33m\u001b[0m\u001b[1;33m\u001b[0m\u001b[0m\n\u001b[0;32m    779\u001b[0m         \u001b[0mcompiler\u001b[0m \u001b[1;33m=\u001b[0m \u001b[1;34m\"nonXla\"\u001b[0m\u001b[1;33m\u001b[0m\u001b[1;33m\u001b[0m\u001b[0m\n\u001b[1;32m--> 780\u001b[1;33m         \u001b[0mresult\u001b[0m \u001b[1;33m=\u001b[0m \u001b[0mself\u001b[0m\u001b[1;33m.\u001b[0m\u001b[0m_call\u001b[0m\u001b[1;33m(\u001b[0m\u001b[1;33m*\u001b[0m\u001b[0margs\u001b[0m\u001b[1;33m,\u001b[0m \u001b[1;33m**\u001b[0m\u001b[0mkwds\u001b[0m\u001b[1;33m)\u001b[0m\u001b[1;33m\u001b[0m\u001b[1;33m\u001b[0m\u001b[0m\n\u001b[0m\u001b[0;32m    781\u001b[0m \u001b[1;33m\u001b[0m\u001b[0m\n\u001b[0;32m    782\u001b[0m       \u001b[0mnew_tracing_count\u001b[0m \u001b[1;33m=\u001b[0m \u001b[0mself\u001b[0m\u001b[1;33m.\u001b[0m\u001b[0m_get_tracing_count\u001b[0m\u001b[1;33m(\u001b[0m\u001b[1;33m)\u001b[0m\u001b[1;33m\u001b[0m\u001b[1;33m\u001b[0m\u001b[0m\n",
      "\u001b[1;32m~\\anaconda3\\envs\\py38\\lib\\site-packages\\tensorflow\\python\\eager\\def_function.py\u001b[0m in \u001b[0;36m_call\u001b[1;34m(self, *args, **kwds)\u001b[0m\n\u001b[0;32m    805\u001b[0m       \u001b[1;31m# In this case we have created variables on the first call, so we run the\u001b[0m\u001b[1;33m\u001b[0m\u001b[1;33m\u001b[0m\u001b[1;33m\u001b[0m\u001b[0m\n\u001b[0;32m    806\u001b[0m       \u001b[1;31m# defunned version which is guaranteed to never create variables.\u001b[0m\u001b[1;33m\u001b[0m\u001b[1;33m\u001b[0m\u001b[1;33m\u001b[0m\u001b[0m\n\u001b[1;32m--> 807\u001b[1;33m       \u001b[1;32mreturn\u001b[0m \u001b[0mself\u001b[0m\u001b[1;33m.\u001b[0m\u001b[0m_stateless_fn\u001b[0m\u001b[1;33m(\u001b[0m\u001b[1;33m*\u001b[0m\u001b[0margs\u001b[0m\u001b[1;33m,\u001b[0m \u001b[1;33m**\u001b[0m\u001b[0mkwds\u001b[0m\u001b[1;33m)\u001b[0m  \u001b[1;31m# pylint: disable=not-callable\u001b[0m\u001b[1;33m\u001b[0m\u001b[1;33m\u001b[0m\u001b[0m\n\u001b[0m\u001b[0;32m    808\u001b[0m     \u001b[1;32melif\u001b[0m \u001b[0mself\u001b[0m\u001b[1;33m.\u001b[0m\u001b[0m_stateful_fn\u001b[0m \u001b[1;32mis\u001b[0m \u001b[1;32mnot\u001b[0m \u001b[1;32mNone\u001b[0m\u001b[1;33m:\u001b[0m\u001b[1;33m\u001b[0m\u001b[1;33m\u001b[0m\u001b[0m\n\u001b[0;32m    809\u001b[0m       \u001b[1;31m# Release the lock early so that multiple threads can perform the call\u001b[0m\u001b[1;33m\u001b[0m\u001b[1;33m\u001b[0m\u001b[1;33m\u001b[0m\u001b[0m\n",
      "\u001b[1;32m~\\anaconda3\\envs\\py38\\lib\\site-packages\\tensorflow\\python\\eager\\function.py\u001b[0m in \u001b[0;36m__call__\u001b[1;34m(self, *args, **kwargs)\u001b[0m\n\u001b[0;32m   2827\u001b[0m     \u001b[1;32mwith\u001b[0m \u001b[0mself\u001b[0m\u001b[1;33m.\u001b[0m\u001b[0m_lock\u001b[0m\u001b[1;33m:\u001b[0m\u001b[1;33m\u001b[0m\u001b[1;33m\u001b[0m\u001b[0m\n\u001b[0;32m   2828\u001b[0m       \u001b[0mgraph_function\u001b[0m\u001b[1;33m,\u001b[0m \u001b[0margs\u001b[0m\u001b[1;33m,\u001b[0m \u001b[0mkwargs\u001b[0m \u001b[1;33m=\u001b[0m \u001b[0mself\u001b[0m\u001b[1;33m.\u001b[0m\u001b[0m_maybe_define_function\u001b[0m\u001b[1;33m(\u001b[0m\u001b[0margs\u001b[0m\u001b[1;33m,\u001b[0m \u001b[0mkwargs\u001b[0m\u001b[1;33m)\u001b[0m\u001b[1;33m\u001b[0m\u001b[1;33m\u001b[0m\u001b[0m\n\u001b[1;32m-> 2829\u001b[1;33m     \u001b[1;32mreturn\u001b[0m \u001b[0mgraph_function\u001b[0m\u001b[1;33m.\u001b[0m\u001b[0m_filtered_call\u001b[0m\u001b[1;33m(\u001b[0m\u001b[0margs\u001b[0m\u001b[1;33m,\u001b[0m \u001b[0mkwargs\u001b[0m\u001b[1;33m)\u001b[0m  \u001b[1;31m# pylint: disable=protected-access\u001b[0m\u001b[1;33m\u001b[0m\u001b[1;33m\u001b[0m\u001b[0m\n\u001b[0m\u001b[0;32m   2830\u001b[0m \u001b[1;33m\u001b[0m\u001b[0m\n\u001b[0;32m   2831\u001b[0m   \u001b[1;33m@\u001b[0m\u001b[0mproperty\u001b[0m\u001b[1;33m\u001b[0m\u001b[1;33m\u001b[0m\u001b[0m\n",
      "\u001b[1;32m~\\anaconda3\\envs\\py38\\lib\\site-packages\\tensorflow\\python\\eager\\function.py\u001b[0m in \u001b[0;36m_filtered_call\u001b[1;34m(self, args, kwargs, cancellation_manager)\u001b[0m\n\u001b[0;32m   1841\u001b[0m       \u001b[0;31m`\u001b[0m\u001b[0margs\u001b[0m\u001b[0;31m`\u001b[0m \u001b[1;32mand\u001b[0m\u001b[0;31m \u001b[0m\u001b[0;31m`\u001b[0m\u001b[0mkwargs\u001b[0m\u001b[0;31m`\u001b[0m\u001b[1;33m.\u001b[0m\u001b[1;33m\u001b[0m\u001b[1;33m\u001b[0m\u001b[0m\n\u001b[0;32m   1842\u001b[0m     \"\"\"\n\u001b[1;32m-> 1843\u001b[1;33m     return self._call_flat(\n\u001b[0m\u001b[0;32m   1844\u001b[0m         [t for t in nest.flatten((args, kwargs), expand_composites=True)\n\u001b[0;32m   1845\u001b[0m          if isinstance(t, (ops.Tensor,\n",
      "\u001b[1;32m~\\anaconda3\\envs\\py38\\lib\\site-packages\\tensorflow\\python\\eager\\function.py\u001b[0m in \u001b[0;36m_call_flat\u001b[1;34m(self, args, captured_inputs, cancellation_manager)\u001b[0m\n\u001b[0;32m   1921\u001b[0m         and executing_eagerly):\n\u001b[0;32m   1922\u001b[0m       \u001b[1;31m# No tape is watching; skip to running the function.\u001b[0m\u001b[1;33m\u001b[0m\u001b[1;33m\u001b[0m\u001b[1;33m\u001b[0m\u001b[0m\n\u001b[1;32m-> 1923\u001b[1;33m       return self._build_call_outputs(self._inference_function.call(\n\u001b[0m\u001b[0;32m   1924\u001b[0m           ctx, args, cancellation_manager=cancellation_manager))\n\u001b[0;32m   1925\u001b[0m     forward_backward = self._select_forward_and_backward_functions(\n",
      "\u001b[1;32m~\\anaconda3\\envs\\py38\\lib\\site-packages\\tensorflow\\python\\eager\\function.py\u001b[0m in \u001b[0;36mcall\u001b[1;34m(self, ctx, args, cancellation_manager)\u001b[0m\n\u001b[0;32m    543\u001b[0m       \u001b[1;32mwith\u001b[0m \u001b[0m_InterpolateFunctionError\u001b[0m\u001b[1;33m(\u001b[0m\u001b[0mself\u001b[0m\u001b[1;33m)\u001b[0m\u001b[1;33m:\u001b[0m\u001b[1;33m\u001b[0m\u001b[1;33m\u001b[0m\u001b[0m\n\u001b[0;32m    544\u001b[0m         \u001b[1;32mif\u001b[0m \u001b[0mcancellation_manager\u001b[0m \u001b[1;32mis\u001b[0m \u001b[1;32mNone\u001b[0m\u001b[1;33m:\u001b[0m\u001b[1;33m\u001b[0m\u001b[1;33m\u001b[0m\u001b[0m\n\u001b[1;32m--> 545\u001b[1;33m           outputs = execute.execute(\n\u001b[0m\u001b[0;32m    546\u001b[0m               \u001b[0mstr\u001b[0m\u001b[1;33m(\u001b[0m\u001b[0mself\u001b[0m\u001b[1;33m.\u001b[0m\u001b[0msignature\u001b[0m\u001b[1;33m.\u001b[0m\u001b[0mname\u001b[0m\u001b[1;33m)\u001b[0m\u001b[1;33m,\u001b[0m\u001b[1;33m\u001b[0m\u001b[1;33m\u001b[0m\u001b[0m\n\u001b[0;32m    547\u001b[0m               \u001b[0mnum_outputs\u001b[0m\u001b[1;33m=\u001b[0m\u001b[0mself\u001b[0m\u001b[1;33m.\u001b[0m\u001b[0m_num_outputs\u001b[0m\u001b[1;33m,\u001b[0m\u001b[1;33m\u001b[0m\u001b[1;33m\u001b[0m\u001b[0m\n",
      "\u001b[1;32m~\\anaconda3\\envs\\py38\\lib\\site-packages\\tensorflow\\python\\eager\\execute.py\u001b[0m in \u001b[0;36mquick_execute\u001b[1;34m(op_name, num_outputs, inputs, attrs, ctx, name)\u001b[0m\n\u001b[0;32m     57\u001b[0m   \u001b[1;32mtry\u001b[0m\u001b[1;33m:\u001b[0m\u001b[1;33m\u001b[0m\u001b[1;33m\u001b[0m\u001b[0m\n\u001b[0;32m     58\u001b[0m     \u001b[0mctx\u001b[0m\u001b[1;33m.\u001b[0m\u001b[0mensure_initialized\u001b[0m\u001b[1;33m(\u001b[0m\u001b[1;33m)\u001b[0m\u001b[1;33m\u001b[0m\u001b[1;33m\u001b[0m\u001b[0m\n\u001b[1;32m---> 59\u001b[1;33m     tensors = pywrap_tfe.TFE_Py_Execute(ctx._handle, device_name, op_name,\n\u001b[0m\u001b[0;32m     60\u001b[0m                                         inputs, attrs, num_outputs)\n\u001b[0;32m     61\u001b[0m   \u001b[1;32mexcept\u001b[0m \u001b[0mcore\u001b[0m\u001b[1;33m.\u001b[0m\u001b[0m_NotOkStatusException\u001b[0m \u001b[1;32mas\u001b[0m \u001b[0me\u001b[0m\u001b[1;33m:\u001b[0m\u001b[1;33m\u001b[0m\u001b[1;33m\u001b[0m\u001b[0m\n",
      "\u001b[1;31mKeyboardInterrupt\u001b[0m: "
     ]
    }
   ],
   "source": [
    "X_train, X_test=train_test_split(input_df.iloc[:,1:])\n",
    "\n",
    "adam=Adam(learning_rate=0.0001)\n",
    "model.compile(optimizer=adam,loss=\"mse\")\n",
    "\n",
    "fit_callbacks=[callbacks.EarlyStopping(monitor=\"val_loss\",patience=20,mode=\"min\")]\n",
    "\n",
    "model.fit(X_train,X_train,epochs=200,shuffle=True,validation_data=(X_test,X_test),callbacks=fit_callbacks)\n",
    "\n",
    "score=model.evaluate(X_test,X_test,verbose=0)\n",
    "print(f\"\\nscore: {score}\")"
   ]
  }
 ]
}