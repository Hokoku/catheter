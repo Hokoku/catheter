{
 "metadata": {
  "language_info": {
   "codemirror_mode": {
    "name": "ipython",
    "version": 3
   },
   "file_extension": ".py",
   "mimetype": "text/x-python",
   "name": "python",
   "nbconvert_exporter": "python",
   "pygments_lexer": "ipython3",
   "version": "3.8.5"
  },
  "orig_nbformat": 2,
  "kernelspec": {
   "name": "python3",
   "display_name": "Python 3.8.5 64-bit ('py38': conda)",
   "metadata": {
    "interpreter": {
     "hash": "3da45907e5cd41bdac7b692b424c19725633d98a853f93b11b400b1d8951ac30"
    }
   }
  }
 },
 "nbformat": 4,
 "nbformat_minor": 2,
 "cells": [
  {
   "cell_type": "code",
   "execution_count": 21,
   "metadata": {},
   "outputs": [],
   "source": [
    "import numpy as np\n",
    "import os\n",
    "from tqdm import tqdm\n",
    "\n",
    "from tensorflow.keras.layers import Dense\n",
    "from tensorflow.keras import models\n",
    "from tensorflow.keras import callbacks\n",
    "\n",
    "from sklearn.model_selection import train_test_split"
   ]
  },
  {
   "cell_type": "code",
   "execution_count": 10,
   "metadata": {
    "tags": []
   },
   "outputs": [
    {
     "output_type": "stream",
     "name": "stderr",
     "text": [
      "100%|██████████| 30083/30083 [00:28<00:00, 1063.91it/s]\n",
      "(30083, 2560)\n"
     ]
    }
   ],
   "source": [
    "input_dir=\"../input/efficientnet_output_straight/\"\n",
    "\n",
    "array_list=[]\n",
    "for file_name in tqdm(os.listdir(input_dir)):\n",
    "    file_path=os.path.join(input_dir,file_name)\n",
    "    array_list.append(np.load(file_path)[0])\n",
    "\n",
    "input_array=np.array(array_list)\n",
    "print(input_array.shape)"
   ]
  },
  {
   "cell_type": "code",
   "execution_count": 19,
   "metadata": {},
   "outputs": [
    {
     "output_type": "stream",
     "name": "stdout",
     "text": [
      "Model: \"sequential_2\"\n_________________________________________________________________\nLayer (type)                 Output Shape              Param #   \n=================================================================\ndense_6 (Dense)              (None, 128)               327808    \n_________________________________________________________________\ndense_7 (Dense)              (None, 2560)              330240    \n=================================================================\nTotal params: 658,048\nTrainable params: 658,048\nNon-trainable params: 0\n_________________________________________________________________\n"
     ]
    }
   ],
   "source": [
    "input_shape=(2560,)\n",
    "encoding_dim=128\n",
    "\n",
    "model=models.Sequential([\n",
    "    Dense(encoding_dim,activation=\"relu\",input_shape=input_shape),\n",
    "    Dense(input_shape[0],activation=\"sigmoid\")\n",
    "])\n",
    "\n",
    "model.summary()"
   ]
  },
  {
   "cell_type": "code",
   "execution_count": 22,
   "metadata": {},
   "outputs": [
    {
     "output_type": "stream",
     "name": "stdout",
     "text": [
      "(22562, 2560) (7521, 2560)\n"
     ]
    }
   ],
   "source": [
    "X_train, X_test=train_test_split(input_array)\n",
    "\n",
    "model.compile(optimizer=\"adam\",loss=\"mse\")\n",
    "\n",
    "fit_callbacks=[callbacks.EarlyStopping(monitor=\"val_loss\",patience=5,mode=\"min\")]\n",
    "\n",
    "model.fit(X_train,X_train,epochs=100,shuffle=True,validation_data=(X_test,X_test),callbacks=fit_callbacks)\n",
    "\n",
    "score=model.evaluate(X_test,X_test,verbose=0)\n",
    "print(f\"\\nscore: {score}\")"
   ]
  }
 ]
}