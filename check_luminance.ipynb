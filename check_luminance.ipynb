{
 "metadata": {
  "language_info": {
   "codemirror_mode": {
    "name": "ipython",
    "version": 3
   },
   "file_extension": ".py",
   "mimetype": "text/x-python",
   "name": "python",
   "nbconvert_exporter": "python",
   "pygments_lexer": "ipython3",
   "version": "3.8.8-final"
  },
  "orig_nbformat": 2,
  "kernelspec": {
   "name": "python3",
   "display_name": "Python 3.8.8 64-bit ('py38': conda)",
   "metadata": {
    "interpreter": {
     "hash": "3da45907e5cd41bdac7b692b424c19725633d98a853f93b11b400b1d8951ac30"
    }
   }
  }
 },
 "nbformat": 4,
 "nbformat_minor": 2,
 "cells": [
  {
   "cell_type": "code",
   "execution_count": 7,
   "metadata": {},
   "outputs": [],
   "source": [
    "import numpy as np\n",
    "import pandas as pd\n",
    "import cv2\n",
    "from IPython.display import display\n",
    "from glob import glob\n",
    "import matplotlib.pyplot as plt\n",
    "from tqdm import tqdm\n",
    "\n",
    "import tensorflow as tf"
   ]
  },
  {
   "cell_type": "code",
   "execution_count": 8,
   "metadata": {},
   "outputs": [],
   "source": [
    "class CFG:\n",
    "    target_cols=['ETT - Abnormal', 'ETT - Borderline', 'ETT - Normal', 'NGT - Abnormal', 'NGT - Borderline', 'NGT - Incompletely Imaged',       'NGT - Normal', 'CVC - Abnormal', 'CVC - Borderline', 'CVC - Normal', 'Swan Ganz Catheter Present']"
   ]
  },
  {
   "cell_type": "code",
   "execution_count": 3,
   "metadata": {},
   "outputs": [],
   "source": [
    "train=pd.read_csv(\"../input/ranzcr-clip-catheter-line-classification/train.csv\")\n",
    "pred=pd.read_csv(\"dense_pred.csv\")"
   ]
  },
  {
   "cell_type": "code",
   "execution_count": 4,
   "metadata": {},
   "outputs": [],
   "source": [
    "def get_mse(y_true,y_pred):\n",
    "    mse=0\n",
    "    for true_value,pred_value in zip(y_true,y_pred):\n",
    "        mse+=(true_value-pred_value)**2\n",
    "    return mse"
   ]
  },
  {
   "cell_type": "code",
   "execution_count": 5,
   "metadata": {},
   "outputs": [],
   "source": [
    "train_values=train[CFG.target_cols].values\n",
    "pred_values=pred[CFG.target_cols].values"
   ]
  },
  {
   "cell_type": "code",
   "execution_count": 6,
   "metadata": {},
   "outputs": [],
   "source": [
    "results_list=[]\n",
    "for train_row,pred_row in zip(train_values,pred_values):\n",
    "    results_list.append(get_mse(train_row,pred_row))\n",
    "\n",
    "results_df=pd.DataFrame(results_list)\n",
    "results_df=pd.concat([train[\"StudyInstanceUID\"],results_df],axis=1)\n",
    "results_df.columns=[\"StudyInstanceUID\",\"mse\"]"
   ]
  },
  {
   "cell_type": "code",
   "execution_count": 7,
   "metadata": {},
   "outputs": [
    {
     "output_type": "stream",
     "name": "stderr",
     "text": [
      "30083it [44:50, 11.18it/s]\n"
     ]
    }
   ],
   "source": [
    "for idx,row in tqdm(results_df.iterrows()):\n",
    "    uid=row[\"StudyInstanceUID\"]\n",
    "    file_bytes=tf.io.read_file(f\"../input/ranzcr-clip-catheter-line-classification/train/{uid}.jpg\")\n",
    "    img_tf=tf.io.decode_jpeg(file_bytes)\n",
    "    img_array=img_tf.numpy()\n",
    "    mean=np.mean(img_array)\n",
    "    std=np.std(img_array)\n",
    "    results_df.loc[idx,\"mean\"]=mean\n",
    "    results_df.loc[idx,\"std\"]=std\n",
    "\n",
    "results_df.to_csv(\"img_luminance.csv\",index=False)"
   ]
  },
  {
   "cell_type": "code",
   "execution_count": 9,
   "metadata": {},
   "outputs": [
    {
     "output_type": "execute_result",
     "data": {
      "text/plain": [
       "                                        StudyInstanceUID       mse  \\\n",
       "0      1.2.826.0.1.3680043.8.498.26697628953273228189...  0.386830   \n",
       "1      1.2.826.0.1.3680043.8.498.46302891597398758759...  0.033229   \n",
       "2      1.2.826.0.1.3680043.8.498.23819260719748494858...  0.410857   \n",
       "3      1.2.826.0.1.3680043.8.498.68286643202323212801...  0.308117   \n",
       "4      1.2.826.0.1.3680043.8.498.10050203009225938259...  0.002469   \n",
       "...                                                  ...       ...   \n",
       "30078  1.2.826.0.1.3680043.8.498.74257566841157531124...  0.765004   \n",
       "30079  1.2.826.0.1.3680043.8.498.46510939987173529969...  0.166953   \n",
       "30080  1.2.826.0.1.3680043.8.498.43173270582850645437...  2.055025   \n",
       "30081  1.2.826.0.1.3680043.8.498.95092491950130838685...  0.231505   \n",
       "30082  1.2.826.0.1.3680043.8.498.99518162226171269731...  0.000692   \n",
       "\n",
       "             mean        std  \n",
       "0      139.877758  38.440663  \n",
       "1      121.018952  41.151246  \n",
       "2      128.251808  67.799834  \n",
       "3      116.752400  65.498643  \n",
       "4      118.346435  47.740703  \n",
       "...           ...        ...  \n",
       "30078  156.107686  49.375537  \n",
       "30079  112.521075  53.021101  \n",
       "30080  115.881849  67.356332  \n",
       "30081  131.837406  52.248537  \n",
       "30082  120.108066  72.077695  \n",
       "\n",
       "[30083 rows x 4 columns]"
      ],
      "text/html": "<div>\n<style scoped>\n    .dataframe tbody tr th:only-of-type {\n        vertical-align: middle;\n    }\n\n    .dataframe tbody tr th {\n        vertical-align: top;\n    }\n\n    .dataframe thead th {\n        text-align: right;\n    }\n</style>\n<table border=\"1\" class=\"dataframe\">\n  <thead>\n    <tr style=\"text-align: right;\">\n      <th></th>\n      <th>StudyInstanceUID</th>\n      <th>mse</th>\n      <th>mean</th>\n      <th>std</th>\n    </tr>\n  </thead>\n  <tbody>\n    <tr>\n      <th>0</th>\n      <td>1.2.826.0.1.3680043.8.498.26697628953273228189...</td>\n      <td>0.386830</td>\n      <td>139.877758</td>\n      <td>38.440663</td>\n    </tr>\n    <tr>\n      <th>1</th>\n      <td>1.2.826.0.1.3680043.8.498.46302891597398758759...</td>\n      <td>0.033229</td>\n      <td>121.018952</td>\n      <td>41.151246</td>\n    </tr>\n    <tr>\n      <th>2</th>\n      <td>1.2.826.0.1.3680043.8.498.23819260719748494858...</td>\n      <td>0.410857</td>\n      <td>128.251808</td>\n      <td>67.799834</td>\n    </tr>\n    <tr>\n      <th>3</th>\n      <td>1.2.826.0.1.3680043.8.498.68286643202323212801...</td>\n      <td>0.308117</td>\n      <td>116.752400</td>\n      <td>65.498643</td>\n    </tr>\n    <tr>\n      <th>4</th>\n      <td>1.2.826.0.1.3680043.8.498.10050203009225938259...</td>\n      <td>0.002469</td>\n      <td>118.346435</td>\n      <td>47.740703</td>\n    </tr>\n    <tr>\n      <th>...</th>\n      <td>...</td>\n      <td>...</td>\n      <td>...</td>\n      <td>...</td>\n    </tr>\n    <tr>\n      <th>30078</th>\n      <td>1.2.826.0.1.3680043.8.498.74257566841157531124...</td>\n      <td>0.765004</td>\n      <td>156.107686</td>\n      <td>49.375537</td>\n    </tr>\n    <tr>\n      <th>30079</th>\n      <td>1.2.826.0.1.3680043.8.498.46510939987173529969...</td>\n      <td>0.166953</td>\n      <td>112.521075</td>\n      <td>53.021101</td>\n    </tr>\n    <tr>\n      <th>30080</th>\n      <td>1.2.826.0.1.3680043.8.498.43173270582850645437...</td>\n      <td>2.055025</td>\n      <td>115.881849</td>\n      <td>67.356332</td>\n    </tr>\n    <tr>\n      <th>30081</th>\n      <td>1.2.826.0.1.3680043.8.498.95092491950130838685...</td>\n      <td>0.231505</td>\n      <td>131.837406</td>\n      <td>52.248537</td>\n    </tr>\n    <tr>\n      <th>30082</th>\n      <td>1.2.826.0.1.3680043.8.498.99518162226171269731...</td>\n      <td>0.000692</td>\n      <td>120.108066</td>\n      <td>72.077695</td>\n    </tr>\n  </tbody>\n</table>\n<p>30083 rows × 4 columns</p>\n</div>"
     },
     "metadata": {},
     "execution_count": 9
    }
   ],
   "source": [
    "luminance=pd.read_csv(\"img_luminance.csv\")\n",
    "luminance"
   ]
  }
 ]
}