{
 "metadata": {
  "language_info": {
   "codemirror_mode": {
    "name": "ipython",
    "version": 3
   },
   "file_extension": ".py",
   "mimetype": "text/x-python",
   "name": "python",
   "nbconvert_exporter": "python",
   "pygments_lexer": "ipython3",
   "version": "3.8.8-final"
  },
  "orig_nbformat": 2,
  "kernelspec": {
   "name": "python3",
   "display_name": "Python 3.8.8 64-bit ('py38': conda)",
   "metadata": {
    "interpreter": {
     "hash": "3da45907e5cd41bdac7b692b424c19725633d98a853f93b11b400b1d8951ac30"
    }
   }
  }
 },
 "nbformat": 4,
 "nbformat_minor": 2,
 "cells": [
  {
   "cell_type": "code",
   "execution_count": 1,
   "metadata": {},
   "outputs": [],
   "source": [
    "import pandas as pd\n",
    "import numpy as np\n",
    "import os\n",
    "from IPython.display import display\n",
    "from tqdm.notebook import tqdm\n",
    "import tensorflow as tf\n",
    "from tensorflow.keras import models\n",
    "from sklearn.metrics import roc_auc_score\n",
    "from glob import glob"
   ]
  },
  {
   "cell_type": "code",
   "execution_count": 2,
   "metadata": {},
   "outputs": [],
   "source": [
    "class CFG:\n",
    "    dataset_dir=\"../input/ranzcr-clip-catheter-line-classification/\"\n",
    "    input_shape=(260,260)\n",
    "    batch_size=8\n",
    "    target_cols=['ETT - Abnormal', 'ETT - Borderline', 'ETT - Normal', 'NGT - Abnormal', 'NGT - Borderline',\n",
    "       'NGT - Incompletely Imaged', 'NGT - Normal', 'CVC - Abnormal', 'CVC - Borderline', 'CVC - Normal', 'Swan Ganz Catheter Present']"
   ]
  },
  {
   "source": [
    "## ndarrayを保存する"
   ],
   "cell_type": "markdown",
   "metadata": {}
  },
  {
   "cell_type": "code",
   "execution_count": 3,
   "metadata": {},
   "outputs": [
    {
     "output_type": "display_data",
     "data": {
      "text/plain": "                                        StudyInstanceUID  ETT - Abnormal  \\\n0      1.2.826.0.1.3680043.8.498.26697628953273228189...               0   \n1      1.2.826.0.1.3680043.8.498.46302891597398758759...               0   \n2      1.2.826.0.1.3680043.8.498.23819260719748494858...               0   \n3      1.2.826.0.1.3680043.8.498.68286643202323212801...               0   \n4      1.2.826.0.1.3680043.8.498.10050203009225938259...               0   \n...                                                  ...             ...   \n30078  1.2.826.0.1.3680043.8.498.74257566841157531124...               0   \n30079  1.2.826.0.1.3680043.8.498.46510939987173529969...               0   \n30080  1.2.826.0.1.3680043.8.498.43173270582850645437...               0   \n30081  1.2.826.0.1.3680043.8.498.95092491950130838685...               0   \n30082  1.2.826.0.1.3680043.8.498.99518162226171269731...               0   \n\n       ETT - Borderline  ETT - Normal  NGT - Abnormal  NGT - Borderline  \\\n0                     0             0               0                 0   \n1                     0             1               0                 0   \n2                     0             0               0                 0   \n3                     0             0               0                 0   \n4                     0             0               0                 0   \n...                 ...           ...             ...               ...   \n30078                 0             1               0                 0   \n30079                 0             0               0                 0   \n30080                 0             1               0                 0   \n30081                 0             0               0                 0   \n30082                 0             1               0                 0   \n\n       NGT - Incompletely Imaged  NGT - Normal  CVC - Abnormal  \\\n0                              0             1               0   \n1                              1             0               0   \n2                              0             0               0   \n3                              0             0               1   \n4                              0             0               0   \n...                          ...           ...             ...   \n30078                          0             0               0   \n30079                          0             0               0   \n30080                          1             0               1   \n30081                          0             0               0   \n30082                          0             0               0   \n\n       CVC - Borderline  CVC - Normal  Swan Ganz Catheter Present  PatientID  \n0                     0             0                           0  ec89415d1  \n1                     0             1                           0  bf4c6da3c  \n2                     1             0                           0  3fc1c97e5  \n3                     0             0                           0  c31019814  \n4                     0             1                           0  207685cd1  \n...                 ...           ...                         ...        ...  \n30078                 1             1                           0  5b5b9ac30  \n30079                 0             1                           0  7192404d8  \n30080                 0             1                           0  d4d1b066d  \n30081                 1             0                           0  01a6602b8  \n30082                 0             1                           0  e692d316c  \n\n[30083 rows x 13 columns]",
      "text/html": "<div>\n<style scoped>\n    .dataframe tbody tr th:only-of-type {\n        vertical-align: middle;\n    }\n\n    .dataframe tbody tr th {\n        vertical-align: top;\n    }\n\n    .dataframe thead th {\n        text-align: right;\n    }\n</style>\n<table border=\"1\" class=\"dataframe\">\n  <thead>\n    <tr style=\"text-align: right;\">\n      <th></th>\n      <th>StudyInstanceUID</th>\n      <th>ETT - Abnormal</th>\n      <th>ETT - Borderline</th>\n      <th>ETT - Normal</th>\n      <th>NGT - Abnormal</th>\n      <th>NGT - Borderline</th>\n      <th>NGT - Incompletely Imaged</th>\n      <th>NGT - Normal</th>\n      <th>CVC - Abnormal</th>\n      <th>CVC - Borderline</th>\n      <th>CVC - Normal</th>\n      <th>Swan Ganz Catheter Present</th>\n      <th>PatientID</th>\n    </tr>\n  </thead>\n  <tbody>\n    <tr>\n      <th>0</th>\n      <td>1.2.826.0.1.3680043.8.498.26697628953273228189...</td>\n      <td>0</td>\n      <td>0</td>\n      <td>0</td>\n      <td>0</td>\n      <td>0</td>\n      <td>0</td>\n      <td>1</td>\n      <td>0</td>\n      <td>0</td>\n      <td>0</td>\n      <td>0</td>\n      <td>ec89415d1</td>\n    </tr>\n    <tr>\n      <th>1</th>\n      <td>1.2.826.0.1.3680043.8.498.46302891597398758759...</td>\n      <td>0</td>\n      <td>0</td>\n      <td>1</td>\n      <td>0</td>\n      <td>0</td>\n      <td>1</td>\n      <td>0</td>\n      <td>0</td>\n      <td>0</td>\n      <td>1</td>\n      <td>0</td>\n      <td>bf4c6da3c</td>\n    </tr>\n    <tr>\n      <th>2</th>\n      <td>1.2.826.0.1.3680043.8.498.23819260719748494858...</td>\n      <td>0</td>\n      <td>0</td>\n      <td>0</td>\n      <td>0</td>\n      <td>0</td>\n      <td>0</td>\n      <td>0</td>\n      <td>0</td>\n      <td>1</td>\n      <td>0</td>\n      <td>0</td>\n      <td>3fc1c97e5</td>\n    </tr>\n    <tr>\n      <th>3</th>\n      <td>1.2.826.0.1.3680043.8.498.68286643202323212801...</td>\n      <td>0</td>\n      <td>0</td>\n      <td>0</td>\n      <td>0</td>\n      <td>0</td>\n      <td>0</td>\n      <td>0</td>\n      <td>1</td>\n      <td>0</td>\n      <td>0</td>\n      <td>0</td>\n      <td>c31019814</td>\n    </tr>\n    <tr>\n      <th>4</th>\n      <td>1.2.826.0.1.3680043.8.498.10050203009225938259...</td>\n      <td>0</td>\n      <td>0</td>\n      <td>0</td>\n      <td>0</td>\n      <td>0</td>\n      <td>0</td>\n      <td>0</td>\n      <td>0</td>\n      <td>0</td>\n      <td>1</td>\n      <td>0</td>\n      <td>207685cd1</td>\n    </tr>\n    <tr>\n      <th>...</th>\n      <td>...</td>\n      <td>...</td>\n      <td>...</td>\n      <td>...</td>\n      <td>...</td>\n      <td>...</td>\n      <td>...</td>\n      <td>...</td>\n      <td>...</td>\n      <td>...</td>\n      <td>...</td>\n      <td>...</td>\n      <td>...</td>\n    </tr>\n    <tr>\n      <th>30078</th>\n      <td>1.2.826.0.1.3680043.8.498.74257566841157531124...</td>\n      <td>0</td>\n      <td>0</td>\n      <td>1</td>\n      <td>0</td>\n      <td>0</td>\n      <td>0</td>\n      <td>0</td>\n      <td>0</td>\n      <td>1</td>\n      <td>1</td>\n      <td>0</td>\n      <td>5b5b9ac30</td>\n    </tr>\n    <tr>\n      <th>30079</th>\n      <td>1.2.826.0.1.3680043.8.498.46510939987173529969...</td>\n      <td>0</td>\n      <td>0</td>\n      <td>0</td>\n      <td>0</td>\n      <td>0</td>\n      <td>0</td>\n      <td>0</td>\n      <td>0</td>\n      <td>0</td>\n      <td>1</td>\n      <td>0</td>\n      <td>7192404d8</td>\n    </tr>\n    <tr>\n      <th>30080</th>\n      <td>1.2.826.0.1.3680043.8.498.43173270582850645437...</td>\n      <td>0</td>\n      <td>0</td>\n      <td>1</td>\n      <td>0</td>\n      <td>0</td>\n      <td>1</td>\n      <td>0</td>\n      <td>1</td>\n      <td>0</td>\n      <td>1</td>\n      <td>0</td>\n      <td>d4d1b066d</td>\n    </tr>\n    <tr>\n      <th>30081</th>\n      <td>1.2.826.0.1.3680043.8.498.95092491950130838685...</td>\n      <td>0</td>\n      <td>0</td>\n      <td>0</td>\n      <td>0</td>\n      <td>0</td>\n      <td>0</td>\n      <td>0</td>\n      <td>0</td>\n      <td>1</td>\n      <td>0</td>\n      <td>0</td>\n      <td>01a6602b8</td>\n    </tr>\n    <tr>\n      <th>30082</th>\n      <td>1.2.826.0.1.3680043.8.498.99518162226171269731...</td>\n      <td>0</td>\n      <td>0</td>\n      <td>1</td>\n      <td>0</td>\n      <td>0</td>\n      <td>0</td>\n      <td>0</td>\n      <td>0</td>\n      <td>0</td>\n      <td>1</td>\n      <td>0</td>\n      <td>e692d316c</td>\n    </tr>\n  </tbody>\n</table>\n<p>30083 rows × 13 columns</p>\n</div>"
     },
     "metadata": {}
    }
   ],
   "source": [
    "train=pd.read_csv(f\"{CFG.dataset_dir}train.csv\")\n",
    "display(train)"
   ]
  },
  {
   "cell_type": "code",
   "execution_count": 4,
   "metadata": {},
   "outputs": [
    {
     "output_type": "stream",
     "name": "stdout",
     "text": [
      "Model: \"sequential\"\n_________________________________________________________________\nLayer (type)                 Output Shape              Param #   \n=================================================================\nefficientnetb7 (Functional)  (None, 9, 9, 2560)        64097687  \n_________________________________________________________________\nglobal_average_pooling2d (Gl (None, 2560)              0         \n_________________________________________________________________\ndense (Dense)                (None, 11)                28171     \n=================================================================\nTotal params: 64,125,858\nTrainable params: 63,815,131\nNon-trainable params: 310,727\n_________________________________________________________________\n"
     ]
    }
   ],
   "source": [
    "with open(\"./models/effnet_tuned/model.json\",\"rt\") as f:\n",
    "    effnet=models.model_from_json(f.read())\n",
    "effnet.load_weights(\"./models/effnet_tuned/weight_best\")\n",
    "effnet.summary()"
   ]
  },
  {
   "cell_type": "code",
   "execution_count": 5,
   "metadata": {},
   "outputs": [
    {
     "output_type": "stream",
     "name": "stdout",
     "text": [
      "Model: \"functional_1\"\n",
      "_________________________________________________________________\n",
      "Layer (type)                 Output Shape              Param #   \n",
      "=================================================================\n",
      "efficientnetb7_input (InputL [(None, 260, 260, 3)]     0         \n",
      "_________________________________________________________________\n",
      "efficientnetb7 (Functional)  (None, 9, 9, 2560)        64097687  \n",
      "_________________________________________________________________\n",
      "global_average_pooling2d (Gl (None, 2560)              0         \n",
      "=================================================================\n",
      "Total params: 64,097,687\n",
      "Trainable params: 63,786,960\n",
      "Non-trainable params: 310,727\n",
      "_________________________________________________________________\n"
     ]
    }
   ],
   "source": [
    "layer_name=\"global_average_pooling2d\"\n",
    "hidden_layer_model=models.Model(inputs=effnet.input,outputs=effnet.get_layer(layer_name).output)\n",
    "hidden_layer_model.summary()"
   ]
  },
  {
   "cell_type": "code",
   "execution_count": 7,
   "metadata": {},
   "outputs": [],
   "source": [
    "def preprocess(record):\n",
    "    file_bytes=tf.io.read_file(f\"{CFG.dataset_dir}train/\"+record+\".jpg\") # 埋め込み形式ではTensorの型変換が働かない\n",
    "    image=tf.io.decode_jpeg(file_bytes,channels=3)\n",
    "    image=tf.cast(image,tf.float32)\n",
    "    image=tf.image.resize(image,CFG.input_shape)\n",
    "    image/=255\n",
    "    return image\n",
    "\n",
    "def decode_string(tensor):\n",
    "    return [str_bytes.decode() for str_bytes in tensor.numpy()]\n",
    "\n",
    "AUTO=tf.data.experimental.AUTOTUNE\n",
    "dset=tf.data.Dataset.from_tensor_slices(train[\"StudyInstanceUID\"])\n",
    "dset=dset.map(preprocess,num_parallel_calls=AUTO).batch(CFG.batch_size).prefetch(AUTO)\n",
    "\n",
    "uid_dset=tf.data.Dataset.from_tensor_slices(train[\"StudyInstanceUID\"]).batch(CFG.batch_size).prefetch(AUTO)"
   ]
  },
  {
   "cell_type": "code",
   "execution_count": 8,
   "metadata": {},
   "outputs": [
    {
     "output_type": "display_data",
     "data": {
      "text/plain": "0it [00:00, ?it/s]",
      "application/vnd.jupyter.widget-view+json": {
       "version_major": 2,
       "version_minor": 0,
       "model_id": "18b8625a21f4480c97fb8185ae619409"
      }
     },
     "metadata": {}
    }
   ],
   "source": [
    "for imgs,uids in tqdm(zip(dset,uid_dset)):\n",
    "    preds=hidden_layer_model.predict(imgs)\n",
    "    uids_decoded=decode_string(uids)\n",
    "    \n",
    "    for uid,pred in zip(uids_decoded,preds):\n",
    "        np.save(f\"../input/effnet_tuned_output/{uid}\",pred)"
   ]
  },
  {
   "cell_type": "code",
   "execution_count": 99,
   "metadata": {},
   "outputs": [
    {
     "output_type": "display_data",
     "data": {
      "text/plain": "    ETT - Abnormal ETT - Borderline ETT - Normal NGT - Abnormal  \\\nAUC            NaN         0.983871     0.998748       0.666667   \n\n    NGT - Borderline NGT - Incompletely Imaged NGT - Normal CVC - Abnormal  \\\nAUC         0.984127                  0.935268     0.982372       0.921875   \n\n    CVC - Borderline CVC - Normal Swan Ganz Catheter Present  \nAUC         0.871089     0.893688                        NaN  ",
      "text/html": "<div>\n<style scoped>\n    .dataframe tbody tr th:only-of-type {\n        vertical-align: middle;\n    }\n\n    .dataframe tbody tr th {\n        vertical-align: top;\n    }\n\n    .dataframe thead th {\n        text-align: right;\n    }\n</style>\n<table border=\"1\" class=\"dataframe\">\n  <thead>\n    <tr style=\"text-align: right;\">\n      <th></th>\n      <th>ETT - Abnormal</th>\n      <th>ETT - Borderline</th>\n      <th>ETT - Normal</th>\n      <th>NGT - Abnormal</th>\n      <th>NGT - Borderline</th>\n      <th>NGT - Incompletely Imaged</th>\n      <th>NGT - Normal</th>\n      <th>CVC - Abnormal</th>\n      <th>CVC - Borderline</th>\n      <th>CVC - Normal</th>\n      <th>Swan Ganz Catheter Present</th>\n    </tr>\n  </thead>\n  <tbody>\n    <tr>\n      <th>AUC</th>\n      <td>NaN</td>\n      <td>0.983871</td>\n      <td>0.998748</td>\n      <td>0.666667</td>\n      <td>0.984127</td>\n      <td>0.935268</td>\n      <td>0.982372</td>\n      <td>0.921875</td>\n      <td>0.871089</td>\n      <td>0.893688</td>\n      <td>NaN</td>\n    </tr>\n  </tbody>\n</table>\n</div>"
     },
     "metadata": {}
    },
    {
     "output_type": "display_data",
     "data": {
      "text/plain": "AUC    0.9153\ndtype: float64"
     },
     "metadata": {}
    }
   ],
   "source": [
    "train_part=train[train[\"StudyInstanceUID\"].isin(output[\"StudyInstanceUID\"])]\n",
    "\n",
    "result=pd.DataFrame(columns=CFG.target_cols)\n",
    "for col_name in CFG.target_cols:\n",
    "    try:\n",
    "        result.loc[\"AUC\",col_name]=roc_auc_score(train_part[col_name],output[col_name])\n",
    "    except:\n",
    "        pass\n",
    "display(result,result.mean(axis=1))"
   ]
  },
  {
   "source": [
    "## NPZにまとめる"
   ],
   "cell_type": "markdown",
   "metadata": {}
  },
  {
   "cell_type": "code",
   "execution_count": 9,
   "metadata": {
    "tags": []
   },
   "outputs": [
    {
     "output_type": "display_data",
     "data": {
      "text/plain": "  0%|          | 0/30083 [00:00<?, ?it/s]",
      "application/vnd.jupyter.widget-view+json": {
       "version_major": 2,
       "version_minor": 0,
       "model_id": "4b308bf4e990401fbdf7962a3f4a0344"
      }
     },
     "metadata": {}
    }
   ],
   "source": [
    "ndarray_dict={}\n",
    "for path in tqdm(glob(\"../input/effnet_tuned_output/*\")):\n",
    "    filename=os.path.basename(path)\n",
    "    uid=os.path.splitext(filename)[0]\n",
    "    ndarray_dict[uid]=np.load(path)\n",
    "\n",
    "np.savez_compressed(\"../input/effnet_tuned_output\",**ndarray_dict)"
   ]
  },
  {
   "cell_type": "code",
   "execution_count": 46,
   "metadata": {},
   "outputs": [],
   "source": [
    "npz=np.load(\"../input/effnet_tuned_output.npz\")"
   ]
  },
  {
   "cell_type": "code",
   "execution_count": 49,
   "metadata": {
    "tags": []
   },
   "outputs": [
    {
     "output_type": "display_data",
     "data": {
      "text/plain": "  0%|          | 0/30083 [00:00<?, ?it/s]",
      "application/vnd.jupyter.widget-view+json": {
       "version_major": 2,
       "version_minor": 0,
       "model_id": "3df8c6cf64344909bcc5265cbdf8cd85"
      }
     },
     "metadata": {}
    },
    {
     "output_type": "display_data",
     "data": {
      "text/plain": "  0%|          | 0/30083 [00:00<?, ?it/s]",
      "application/vnd.jupyter.widget-view+json": {
       "version_major": 2,
       "version_minor": 0,
       "model_id": "ffe4e40790264037abef75fbc49e1100"
      }
     },
     "metadata": {}
    },
    {
     "output_type": "display_data",
     "data": {
      "text/plain": "  0%|          | 0/30083 [00:00<?, ?it/s]",
      "application/vnd.jupyter.widget-view+json": {
       "version_major": 2,
       "version_minor": 0,
       "model_id": "e800a3bf816b43ef91f07556377b3e6a"
      }
     },
     "metadata": {}
    },
    {
     "output_type": "display_data",
     "data": {
      "text/plain": "  0%|          | 0/30083 [00:00<?, ?it/s]",
      "application/vnd.jupyter.widget-view+json": {
       "version_major": 2,
       "version_minor": 0,
       "model_id": "10faa7e61c1e416a81bc8216408e1677"
      }
     },
     "metadata": {}
    },
    {
     "output_type": "display_data",
     "data": {
      "text/plain": "  0%|          | 0/30083 [00:00<?, ?it/s]",
      "application/vnd.jupyter.widget-view+json": {
       "version_major": 2,
       "version_minor": 0,
       "model_id": "8e56906de1924a6f85a37e39662a8daa"
      }
     },
     "metadata": {}
    },
    {
     "output_type": "display_data",
     "data": {
      "text/plain": "  0%|          | 0/30083 [00:00<?, ?it/s]",
      "application/vnd.jupyter.widget-view+json": {
       "version_major": 2,
       "version_minor": 0,
       "model_id": "2bdfbb99af314c5b86348609307044f4"
      }
     },
     "metadata": {}
    },
    {
     "output_type": "display_data",
     "data": {
      "text/plain": "  0%|          | 0/30083 [00:00<?, ?it/s]",
      "application/vnd.jupyter.widget-view+json": {
       "version_major": 2,
       "version_minor": 0,
       "model_id": "f37d87acf5ef4007ba7ef1670ca3718f"
      }
     },
     "metadata": {}
    },
    {
     "output_type": "display_data",
     "data": {
      "text/plain": "  0%|          | 0/30083 [00:00<?, ?it/s]",
      "application/vnd.jupyter.widget-view+json": {
       "version_major": 2,
       "version_minor": 0,
       "model_id": "362d5e8460bd4d7499a5a216b0652aaf"
      }
     },
     "metadata": {}
    },
    {
     "output_type": "stream",
     "name": "stdout",
     "text": [
      "49.7 s ± 2.13 s per loop (mean ± std. dev. of 7 runs, 1 loop each)\n"
     ]
    }
   ],
   "source": [
    "%%timeit\n",
    "features_list=[]\n",
    "append=features_list.append\n",
    "for uid in tqdm(train[\"StudyInstanceUID\"]):\n",
    "    append(npz[uid])\n",
    "features=np.array(features_list)"
   ]
  },
  {
   "cell_type": "code",
   "execution_count": 48,
   "metadata": {},
   "outputs": [
    {
     "output_type": "stream",
     "name": "stdout",
     "text": [
      "0\n",
      "0\n",
      "0\n",
      "0\n",
      "0\n",
      "0\n",
      "0\n",
      "0\n",
      "47 s ± 2.83 s per loop (mean ± std. dev. of 7 runs, 1 loop each)\n"
     ]
    }
   ],
   "source": [
    "%%timeit\n",
    "comprehension_list=[npz[uid] for uid in train[\"StudyInstanceUID\"]]\n",
    "comprehension=np.array(comprehension_list)"
   ]
  }
 ]
}