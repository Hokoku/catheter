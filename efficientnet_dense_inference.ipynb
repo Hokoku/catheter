{
 "metadata": {
  "language_info": {
   "codemirror_mode": {
    "name": "ipython",
    "version": 3
   },
   "file_extension": ".py",
   "mimetype": "text/x-python",
   "name": "python",
   "nbconvert_exporter": "python",
   "pygments_lexer": "ipython3",
   "version": "3.8.5-final"
  },
  "orig_nbformat": 2,
  "kernelspec": {
   "name": "python3",
   "display_name": "Python 3.8.5 64-bit ('py38': conda)",
   "metadata": {
    "interpreter": {
     "hash": "3da45907e5cd41bdac7b692b424c19725633d98a853f93b11b400b1d8951ac30"
    }
   }
  }
 },
 "nbformat": 4,
 "nbformat_minor": 2,
 "cells": [
  {
   "cell_type": "code",
   "execution_count": 1,
   "metadata": {},
   "outputs": [],
   "source": [
    "from tensorflow import keras\n",
    "from tensorflow.keras import models\n",
    "from tensorflow.keras.preprocessing import image\n",
    "from tensorflow.keras.applications.efficientnet import preprocess_input\n",
    "\n",
    "from sklearn.model_selection import train_test_split\n",
    "\n",
    "import pandas as pd\n",
    "import numpy as np\n",
    "from tqdm import tqdm_notebook\n",
    "from IPython.display import display"
   ]
  },
  {
   "source": [
    "## CFG"
   ],
   "cell_type": "markdown",
   "metadata": {}
  },
  {
   "cell_type": "code",
   "execution_count": 12,
   "metadata": {},
   "outputs": [],
   "source": [
    "class CFG:\n",
    "    debug=True\n",
    "\n",
    "    dataset_dir=\"../input/ranzcr-clip-catheter-line-classification/\"\n",
    "    models_dir=\"./models/\" if debug else \"../input/efficientnet-lightgbm-models/\"\n",
    "\n",
    "    num_features=100\n",
    "    target_cols=['ETT - Abnormal', 'ETT - Borderline', 'ETT - Normal', 'NGT - Abnormal', 'NGT - Borderline', 'NGT - Incompletely Imaged',           'NGT - Normal', 'CVC - Abnormal', 'CVC - Borderline', 'CVC - Normal', 'Swan Ganz Catheter Present']"
   ]
  },
  {
   "cell_type": "code",
   "execution_count": 3,
   "metadata": {},
   "outputs": [
    {
     "output_type": "display_data",
     "data": {
      "text/plain": "                                       StudyInstanceUID  ETT - Abnormal  \\\n1784  1.2.826.0.1.3680043.8.498.44840699418247685242...               0   \n2896  1.2.826.0.1.3680043.8.498.18001429910476560724...               0   \n3257  1.2.826.0.1.3680043.8.498.69576628924126473682...               0   \n369   1.2.826.0.1.3680043.8.498.92431639625019636008...               0   \n3471  1.2.826.0.1.3680043.8.498.38317279627863831147...               0   \n2188  1.2.826.0.1.3680043.8.498.25557651291138934660...               0   \n3081  1.2.826.0.1.3680043.8.498.70177330790614858744...               0   \n295   1.2.826.0.1.3680043.8.498.58158240367325542195...               0   \n2659  1.2.826.0.1.3680043.8.498.10981929683941499728...               0   \n2705  1.2.826.0.1.3680043.8.498.65527966462470053855...               0   \n\n      ETT - Borderline  ETT - Normal  NGT - Abnormal  NGT - Borderline  \\\n1784                 0             0               0                 0   \n2896                 0             0               0                 0   \n3257                 0             0               0                 0   \n369                  0             0               0                 0   \n3471                 0             0               0                 0   \n2188                 0             0               0                 0   \n3081                 0             0               0                 0   \n295                  0             0               0                 0   \n2659                 0             0               0                 0   \n2705                 0             0               0                 0   \n\n      NGT - Incompletely Imaged  NGT - Normal  CVC - Abnormal  \\\n1784                          0             0               0   \n2896                          0             0               0   \n3257                          0             0               0   \n369                           0             0               0   \n3471                          0             0               0   \n2188                          0             0               0   \n3081                          0             0               0   \n295                           0             0               0   \n2659                          0             0               0   \n2705                          0             0               0   \n\n      CVC - Borderline  CVC - Normal  Swan Ganz Catheter Present  \n1784                 0             0                           0  \n2896                 0             0                           0  \n3257                 0             0                           0  \n369                  0             0                           0  \n3471                 0             0                           0  \n2188                 0             0                           0  \n3081                 0             0                           0  \n295                  0             0                           0  \n2659                 0             0                           0  \n2705                 0             0                           0  ",
      "text/html": "<div>\n<style scoped>\n    .dataframe tbody tr th:only-of-type {\n        vertical-align: middle;\n    }\n\n    .dataframe tbody tr th {\n        vertical-align: top;\n    }\n\n    .dataframe thead th {\n        text-align: right;\n    }\n</style>\n<table border=\"1\" class=\"dataframe\">\n  <thead>\n    <tr style=\"text-align: right;\">\n      <th></th>\n      <th>StudyInstanceUID</th>\n      <th>ETT - Abnormal</th>\n      <th>ETT - Borderline</th>\n      <th>ETT - Normal</th>\n      <th>NGT - Abnormal</th>\n      <th>NGT - Borderline</th>\n      <th>NGT - Incompletely Imaged</th>\n      <th>NGT - Normal</th>\n      <th>CVC - Abnormal</th>\n      <th>CVC - Borderline</th>\n      <th>CVC - Normal</th>\n      <th>Swan Ganz Catheter Present</th>\n    </tr>\n  </thead>\n  <tbody>\n    <tr>\n      <th>1784</th>\n      <td>1.2.826.0.1.3680043.8.498.44840699418247685242...</td>\n      <td>0</td>\n      <td>0</td>\n      <td>0</td>\n      <td>0</td>\n      <td>0</td>\n      <td>0</td>\n      <td>0</td>\n      <td>0</td>\n      <td>0</td>\n      <td>0</td>\n      <td>0</td>\n    </tr>\n    <tr>\n      <th>2896</th>\n      <td>1.2.826.0.1.3680043.8.498.18001429910476560724...</td>\n      <td>0</td>\n      <td>0</td>\n      <td>0</td>\n      <td>0</td>\n      <td>0</td>\n      <td>0</td>\n      <td>0</td>\n      <td>0</td>\n      <td>0</td>\n      <td>0</td>\n      <td>0</td>\n    </tr>\n    <tr>\n      <th>3257</th>\n      <td>1.2.826.0.1.3680043.8.498.69576628924126473682...</td>\n      <td>0</td>\n      <td>0</td>\n      <td>0</td>\n      <td>0</td>\n      <td>0</td>\n      <td>0</td>\n      <td>0</td>\n      <td>0</td>\n      <td>0</td>\n      <td>0</td>\n      <td>0</td>\n    </tr>\n    <tr>\n      <th>369</th>\n      <td>1.2.826.0.1.3680043.8.498.92431639625019636008...</td>\n      <td>0</td>\n      <td>0</td>\n      <td>0</td>\n      <td>0</td>\n      <td>0</td>\n      <td>0</td>\n      <td>0</td>\n      <td>0</td>\n      <td>0</td>\n      <td>0</td>\n      <td>0</td>\n    </tr>\n    <tr>\n      <th>3471</th>\n      <td>1.2.826.0.1.3680043.8.498.38317279627863831147...</td>\n      <td>0</td>\n      <td>0</td>\n      <td>0</td>\n      <td>0</td>\n      <td>0</td>\n      <td>0</td>\n      <td>0</td>\n      <td>0</td>\n      <td>0</td>\n      <td>0</td>\n      <td>0</td>\n    </tr>\n    <tr>\n      <th>2188</th>\n      <td>1.2.826.0.1.3680043.8.498.25557651291138934660...</td>\n      <td>0</td>\n      <td>0</td>\n      <td>0</td>\n      <td>0</td>\n      <td>0</td>\n      <td>0</td>\n      <td>0</td>\n      <td>0</td>\n      <td>0</td>\n      <td>0</td>\n      <td>0</td>\n    </tr>\n    <tr>\n      <th>3081</th>\n      <td>1.2.826.0.1.3680043.8.498.70177330790614858744...</td>\n      <td>0</td>\n      <td>0</td>\n      <td>0</td>\n      <td>0</td>\n      <td>0</td>\n      <td>0</td>\n      <td>0</td>\n      <td>0</td>\n      <td>0</td>\n      <td>0</td>\n      <td>0</td>\n    </tr>\n    <tr>\n      <th>295</th>\n      <td>1.2.826.0.1.3680043.8.498.58158240367325542195...</td>\n      <td>0</td>\n      <td>0</td>\n      <td>0</td>\n      <td>0</td>\n      <td>0</td>\n      <td>0</td>\n      <td>0</td>\n      <td>0</td>\n      <td>0</td>\n      <td>0</td>\n      <td>0</td>\n    </tr>\n    <tr>\n      <th>2659</th>\n      <td>1.2.826.0.1.3680043.8.498.10981929683941499728...</td>\n      <td>0</td>\n      <td>0</td>\n      <td>0</td>\n      <td>0</td>\n      <td>0</td>\n      <td>0</td>\n      <td>0</td>\n      <td>0</td>\n      <td>0</td>\n      <td>0</td>\n      <td>0</td>\n    </tr>\n    <tr>\n      <th>2705</th>\n      <td>1.2.826.0.1.3680043.8.498.65527966462470053855...</td>\n      <td>0</td>\n      <td>0</td>\n      <td>0</td>\n      <td>0</td>\n      <td>0</td>\n      <td>0</td>\n      <td>0</td>\n      <td>0</td>\n      <td>0</td>\n      <td>0</td>\n      <td>0</td>\n    </tr>\n  </tbody>\n</table>\n</div>"
     },
     "metadata": {}
    }
   ],
   "source": [
    "test=pd.read_csv(f\"{CFG.dataset_dir}sample_submission.csv\")\n",
    "\n",
    "if CFG.debug:\n",
    "    n_samples=10\n",
    "    train,test=train_test_split(test,test_size=n_samples)\n",
    "\n",
    "display(test)"
   ]
  },
  {
   "source": [
    "## EfficientNetB7による特徴量の取得"
   ],
   "cell_type": "markdown",
   "metadata": {}
  },
  {
   "cell_type": "code",
   "execution_count": 4,
   "metadata": {},
   "outputs": [
    {
     "output_type": "stream",
     "name": "stdout",
     "text": [
      "WARNING:tensorflow:No training configuration found in the save file, so the model was *not* compiled. Compile it manually.\n"
     ]
    }
   ],
   "source": [
    "nn_model=models.load_model(f\"{CFG.models_dir}efficientnetB7.h5\")"
   ]
  },
  {
   "cell_type": "code",
   "execution_count": 7,
   "metadata": {},
   "outputs": [
    {
     "output_type": "display_data",
     "data": {
      "text/plain": "  0%|          | 0/10 [00:00<?, ?it/s]",
      "application/vnd.jupyter.widget-view+json": {
       "version_major": 2,
       "version_minor": 0,
       "model_id": "8ae6afa6b4324583a0ba5b30d8458cef"
      }
     },
     "metadata": {}
    }
   ],
   "source": [
    "pred_list=[]\n",
    "for uid in tqdm_notebook(test[\"StudyInstanceUID\"]):\n",
    "    img_pil=image.load_img(f\"{CFG.dataset_dir}test/{uid}.jpg\", target_size=(256,256)) # PIL形式で画像を読み込み、リサイズ\n",
    "    img=image.img_to_array(img_pil)\n",
    "    img=np.expand_dims(img,axis=0)\n",
    "    nn_pred=nn_model.predict(preprocess_input(img))\n",
    "    pred_list.append(nn_pred[0])\n",
    "\n",
    "nn_pred=np.array(pred_list)"
   ]
  },
  {
   "source": [
    "## Dense層による推論"
   ],
   "cell_type": "markdown",
   "metadata": {}
  },
  {
   "cell_type": "code",
   "execution_count": 8,
   "metadata": {},
   "outputs": [
    {
     "output_type": "stream",
     "name": "stdout",
     "text": [
      "Model: \"sequential\"\n_________________________________________________________________\nLayer (type)                 Output Shape              Param #   \n=================================================================\ndropout (Dropout)            (None, 2560)              0         \n_________________________________________________________________\ndense (Dense)                (None, 11)                28171     \n=================================================================\nTotal params: 28,171\nTrainable params: 28,171\nNon-trainable params: 0\n_________________________________________________________________\n"
     ]
    }
   ],
   "source": [
    "with open(f\"{CFG.models_dir}eff_dense/model_structure\",\"rt\") as f:\n",
    "    model_json_str=f.read()\n",
    "\n",
    "dense_model=models.model_from_json(model_json_str)\n",
    "dense_model.load_weights(f\"{CFG.models_dir}eff_dense/checkpoint\")\n",
    "dense_model.compile(optimizer=\"adam\",loss=\"binary_crossentropy\",metrics=[keras.metrics.AUC(multi_label=True)])\n",
    "dense_model.summary()"
   ]
  },
  {
   "cell_type": "code",
   "execution_count": 9,
   "metadata": {},
   "outputs": [
    {
     "output_type": "display_data",
     "data": {
      "text/plain": "                                    StudyInstanceUID  ETT - Abnormal  \\\n0  1.2.826.0.1.3680043.8.498.44840699418247685242...        0.000158   \n1  1.2.826.0.1.3680043.8.498.18001429910476560724...        0.000304   \n2  1.2.826.0.1.3680043.8.498.69576628924126473682...        0.020270   \n3  1.2.826.0.1.3680043.8.498.92431639625019636008...        0.000359   \n4  1.2.826.0.1.3680043.8.498.38317279627863831147...        0.000626   \n5  1.2.826.0.1.3680043.8.498.25557651291138934660...        0.000043   \n6  1.2.826.0.1.3680043.8.498.70177330790614858744...        0.001676   \n7  1.2.826.0.1.3680043.8.498.58158240367325542195...        0.000025   \n8  1.2.826.0.1.3680043.8.498.10981929683941499728...        0.000629   \n9  1.2.826.0.1.3680043.8.498.65527966462470053855...        0.000323   \n\n   ETT - Borderline  ETT - Normal  NGT - Abnormal  NGT - Borderline  \\\n0          0.000534      0.013527        0.000180          0.001717   \n1          0.001394      0.001446        0.000387          0.000104   \n2          0.232128      0.766469        0.003808          0.032536   \n3          0.001464      0.019920        0.000719          0.001915   \n4          0.003693      0.013934        0.003230          0.005809   \n5          0.001150      0.002267        0.000117          0.001322   \n6          0.006071      0.131546        0.002174          0.008494   \n7          0.000660      0.010396        0.000269          0.001001   \n8          0.003709      0.025297        0.000365          0.001448   \n9          0.006679      0.010553        0.000055          0.000878   \n\n   NGT - Incompletely Imaged  NGT - Normal  CVC - Abnormal  CVC - Borderline  \\\n0                   0.009325      0.003662        0.058051          0.265117   \n1                   0.001173      0.002135        0.061959          0.302805   \n2                   0.155630      0.835688        0.108055          0.326746   \n3                   0.014275      0.009068        0.085100          0.247977   \n4                   0.001621      0.038497        0.087462          0.423562   \n5                   0.002956      0.004927        0.081146          0.214727   \n6                   0.046295      0.024610        0.103482          0.166792   \n7                   0.004335      0.002785        0.019300          0.261929   \n8                   0.005777      0.021417        0.105889          0.264922   \n9                   0.027839      0.004885        0.107380          0.265243   \n\n   CVC - Normal  Swan Ganz Catheter Present  \n0      0.645058                    0.000460  \n1      0.675501                    0.000028  \n2      0.729117                    0.127217  \n3      0.615497                    0.001619  \n4      0.422017                    0.001078  \n5      0.737497                    0.002859  \n6      0.721191                    0.011287  \n7      0.626538                    0.000549  \n8      0.547494                    0.001498  \n9      0.615343                    0.021705  ",
      "text/html": "<div>\n<style scoped>\n    .dataframe tbody tr th:only-of-type {\n        vertical-align: middle;\n    }\n\n    .dataframe tbody tr th {\n        vertical-align: top;\n    }\n\n    .dataframe thead th {\n        text-align: right;\n    }\n</style>\n<table border=\"1\" class=\"dataframe\">\n  <thead>\n    <tr style=\"text-align: right;\">\n      <th></th>\n      <th>StudyInstanceUID</th>\n      <th>ETT - Abnormal</th>\n      <th>ETT - Borderline</th>\n      <th>ETT - Normal</th>\n      <th>NGT - Abnormal</th>\n      <th>NGT - Borderline</th>\n      <th>NGT - Incompletely Imaged</th>\n      <th>NGT - Normal</th>\n      <th>CVC - Abnormal</th>\n      <th>CVC - Borderline</th>\n      <th>CVC - Normal</th>\n      <th>Swan Ganz Catheter Present</th>\n    </tr>\n  </thead>\n  <tbody>\n    <tr>\n      <th>0</th>\n      <td>1.2.826.0.1.3680043.8.498.44840699418247685242...</td>\n      <td>0.000158</td>\n      <td>0.000534</td>\n      <td>0.013527</td>\n      <td>0.000180</td>\n      <td>0.001717</td>\n      <td>0.009325</td>\n      <td>0.003662</td>\n      <td>0.058051</td>\n      <td>0.265117</td>\n      <td>0.645058</td>\n      <td>0.000460</td>\n    </tr>\n    <tr>\n      <th>1</th>\n      <td>1.2.826.0.1.3680043.8.498.18001429910476560724...</td>\n      <td>0.000304</td>\n      <td>0.001394</td>\n      <td>0.001446</td>\n      <td>0.000387</td>\n      <td>0.000104</td>\n      <td>0.001173</td>\n      <td>0.002135</td>\n      <td>0.061959</td>\n      <td>0.302805</td>\n      <td>0.675501</td>\n      <td>0.000028</td>\n    </tr>\n    <tr>\n      <th>2</th>\n      <td>1.2.826.0.1.3680043.8.498.69576628924126473682...</td>\n      <td>0.020270</td>\n      <td>0.232128</td>\n      <td>0.766469</td>\n      <td>0.003808</td>\n      <td>0.032536</td>\n      <td>0.155630</td>\n      <td>0.835688</td>\n      <td>0.108055</td>\n      <td>0.326746</td>\n      <td>0.729117</td>\n      <td>0.127217</td>\n    </tr>\n    <tr>\n      <th>3</th>\n      <td>1.2.826.0.1.3680043.8.498.92431639625019636008...</td>\n      <td>0.000359</td>\n      <td>0.001464</td>\n      <td>0.019920</td>\n      <td>0.000719</td>\n      <td>0.001915</td>\n      <td>0.014275</td>\n      <td>0.009068</td>\n      <td>0.085100</td>\n      <td>0.247977</td>\n      <td>0.615497</td>\n      <td>0.001619</td>\n    </tr>\n    <tr>\n      <th>4</th>\n      <td>1.2.826.0.1.3680043.8.498.38317279627863831147...</td>\n      <td>0.000626</td>\n      <td>0.003693</td>\n      <td>0.013934</td>\n      <td>0.003230</td>\n      <td>0.005809</td>\n      <td>0.001621</td>\n      <td>0.038497</td>\n      <td>0.087462</td>\n      <td>0.423562</td>\n      <td>0.422017</td>\n      <td>0.001078</td>\n    </tr>\n    <tr>\n      <th>5</th>\n      <td>1.2.826.0.1.3680043.8.498.25557651291138934660...</td>\n      <td>0.000043</td>\n      <td>0.001150</td>\n      <td>0.002267</td>\n      <td>0.000117</td>\n      <td>0.001322</td>\n      <td>0.002956</td>\n      <td>0.004927</td>\n      <td>0.081146</td>\n      <td>0.214727</td>\n      <td>0.737497</td>\n      <td>0.002859</td>\n    </tr>\n    <tr>\n      <th>6</th>\n      <td>1.2.826.0.1.3680043.8.498.70177330790614858744...</td>\n      <td>0.001676</td>\n      <td>0.006071</td>\n      <td>0.131546</td>\n      <td>0.002174</td>\n      <td>0.008494</td>\n      <td>0.046295</td>\n      <td>0.024610</td>\n      <td>0.103482</td>\n      <td>0.166792</td>\n      <td>0.721191</td>\n      <td>0.011287</td>\n    </tr>\n    <tr>\n      <th>7</th>\n      <td>1.2.826.0.1.3680043.8.498.58158240367325542195...</td>\n      <td>0.000025</td>\n      <td>0.000660</td>\n      <td>0.010396</td>\n      <td>0.000269</td>\n      <td>0.001001</td>\n      <td>0.004335</td>\n      <td>0.002785</td>\n      <td>0.019300</td>\n      <td>0.261929</td>\n      <td>0.626538</td>\n      <td>0.000549</td>\n    </tr>\n    <tr>\n      <th>8</th>\n      <td>1.2.826.0.1.3680043.8.498.10981929683941499728...</td>\n      <td>0.000629</td>\n      <td>0.003709</td>\n      <td>0.025297</td>\n      <td>0.000365</td>\n      <td>0.001448</td>\n      <td>0.005777</td>\n      <td>0.021417</td>\n      <td>0.105889</td>\n      <td>0.264922</td>\n      <td>0.547494</td>\n      <td>0.001498</td>\n    </tr>\n    <tr>\n      <th>9</th>\n      <td>1.2.826.0.1.3680043.8.498.65527966462470053855...</td>\n      <td>0.000323</td>\n      <td>0.006679</td>\n      <td>0.010553</td>\n      <td>0.000055</td>\n      <td>0.000878</td>\n      <td>0.027839</td>\n      <td>0.004885</td>\n      <td>0.107380</td>\n      <td>0.265243</td>\n      <td>0.615343</td>\n      <td>0.021705</td>\n    </tr>\n  </tbody>\n</table>\n</div>"
     },
     "metadata": {}
    }
   ],
   "source": [
    "dense_pred=pd.DataFrame(dense_model.predict(nn_pred),columns=CFG.target_cols)\n",
    "submission=pd.concat([test[\"StudyInstanceUID\"].reset_index(drop=True),dense_pred],axis=1)\n",
    "display(submission)\n",
    "\n",
    "submission.to_csv(\"submission.csv\",index=False)"
   ]
  }
 ]
}