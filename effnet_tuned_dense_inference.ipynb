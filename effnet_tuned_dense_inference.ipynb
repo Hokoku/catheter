{
 "metadata": {
  "language_info": {
   "codemirror_mode": {
    "name": "ipython",
    "version": 3
   },
   "file_extension": ".py",
   "mimetype": "text/x-python",
   "name": "python",
   "nbconvert_exporter": "python",
   "pygments_lexer": "ipython3",
   "version": "3.8.8-final"
  },
  "orig_nbformat": 2,
  "kernelspec": {
   "name": "python3",
   "display_name": "Python 3.8.8 64-bit ('py38': conda)",
   "metadata": {
    "interpreter": {
     "hash": "3da45907e5cd41bdac7b692b424c19725633d98a853f93b11b400b1d8951ac30"
    }
   }
  }
 },
 "nbformat": 4,
 "nbformat_minor": 2,
 "cells": [
  {
   "cell_type": "code",
   "execution_count": 17,
   "metadata": {},
   "outputs": [],
   "source": [
    "import pandas as pd\n",
    "import numpy as np\n",
    "from IPython.display import display\n",
    "from tqdm.notebook import tqdm\n",
    "import pickle\n",
    "\n",
    "import tensorflow as tf\n",
    "from tensorflow import keras\n",
    "from tensorflow.keras import models\n",
    "\n",
    "from sklearn.model_selection import GroupKFold"
   ]
  },
  {
   "cell_type": "code",
   "execution_count": 14,
   "metadata": {},
   "outputs": [],
   "source": [
    "class CFG:\n",
    "   debug=True\n",
    "   dataset_dir=\"../input/ranzcr-clip-catheter-line-classification/\"\n",
    "   models_dir=\"./models/\" if debug else \"../input/efficientnet-lightgbm-models/\"\n",
    "   batch_size=8\n",
    "   input_shape=(260,260)\n",
    "\n",
    "   target_cols=['ETT - Abnormal', 'ETT - Borderline', 'ETT - Normal', 'NGT - Abnormal', 'NGT - Borderline',\n",
    "      'NGT - Incompletely Imaged', 'NGT - Normal', 'CVC - Abnormal', 'CVC - Borderline', 'CVC - Normal', 'Swan Ganz Catheter Present']\n",
    "   n_folds=4"
   ]
  },
  {
   "cell_type": "code",
   "execution_count": 8,
   "metadata": {},
   "outputs": [],
   "source": [
    "test=pd.read_csv(f\"{CFG.dataset_dir}train.csv\")"
   ]
  },
  {
   "cell_type": "code",
   "execution_count": 7,
   "metadata": {},
   "outputs": [
    {
     "output_type": "stream",
     "name": "stdout",
     "text": [
      "Model: \"functional_3\"\n_________________________________________________________________\nLayer (type)                 Output Shape              Param #   \n=================================================================\nefficientnetb7_input (InputL [(None, 260, 260, 3)]     0         \n_________________________________________________________________\nefficientnetb7 (Functional)  (None, 9, 9, 2560)        64097687  \n_________________________________________________________________\nglobal_average_pooling2d (Gl (None, 2560)              0         \n=================================================================\nTotal params: 64,097,687\nTrainable params: 63,786,960\nNon-trainable params: 310,727\n_________________________________________________________________\n"
     ]
    }
   ],
   "source": [
    "with open(f\"{CFG.models_dir}effnet_tuned/model.json\",\"rt\") as f:\n",
    "    effnet_json=f.read()\n",
    "effnet=models.model_from_json(effnet_json)\n",
    "effnet.load_weights(f\"{CFG.models_dir}effnet_tuned/weight.hdf5\")\n",
    "\n",
    "layer_name=\"global_average_pooling2d\"\n",
    "hidden_layer_model=models.Model(inputs=effnet.input,outputs=effnet.get_layer(layer_name).output)\n",
    "hidden_layer_model.summary()"
   ]
  },
  {
   "cell_type": "code",
   "execution_count": 15,
   "metadata": {},
   "outputs": [],
   "source": [
    "def preprocess(record):\n",
    "    file_bytes=tf.io.read_file(f\"{CFG.dataset_dir}train/\"+record+\".jpg\") # f\"{}\"形式ではTensorの型変換が働かない\n",
    "    image=tf.io.decode_jpeg(file_bytes,channels=3)\n",
    "    image=tf.cast(image,tf.float32)\n",
    "    image=tf.image.resize(image,CFG.input_shape)\n",
    "    image/=255\n",
    "    return image\n",
    "\n",
    "def decode_string(tensor):\n",
    "    return [str_bytes.decode() for str_bytes in tensor.numpy()]\n",
    "\n",
    "\n",
    "dset=tf.data.Dataset.from_tensor_slices(test[\"StudyInstanceUID\"])\n",
    "dset=dset.map(preprocess,num_parallel_calls=tf.data.experimental.AUTOTUNE).batch(CFG.batch_size)\n",
    "\n",
    "uid_dset=tf.data.Dataset.from_tensor_slices(test[\"StudyInstanceUID\"]).batch(CFG.batch_size)"
   ]
  },
  {
   "cell_type": "code",
   "execution_count": 28,
   "metadata": {},
   "outputs": [
    {
     "output_type": "display_data",
     "data": {
      "text/plain": "0it [00:00, ?it/s]",
      "application/vnd.jupyter.widget-view+json": {
       "version_major": 2,
       "version_minor": 0,
       "model_id": "d1558e9b2c994df086f95332887b7511"
      }
     },
     "metadata": {}
    },
    {
     "output_type": "display_data",
     "data": {
      "text/plain": "{'1.2.826.0.1.3680043.8.498.26697628953273228189375557799582420561': array([-0.08567494,  0.00229176,  0.01544561, ..., -0.06187971,\n         0.00742798,  0.01092294], dtype=float32),\n '1.2.826.0.1.3680043.8.498.46302891597398758759818628675365157729': array([-0.07505051, -0.00155438, -0.01137567, ...,  0.05553032,\n        -0.02079361, -0.01061307], dtype=float32),\n '1.2.826.0.1.3680043.8.498.23819260719748494858948050424870692577': array([-0.06143351, -0.01030844, -0.00388086, ..., -0.00936987,\n        -0.00535191, -0.00462459], dtype=float32),\n '1.2.826.0.1.3680043.8.498.68286643202323212801283518367144358744': array([-0.08273388, -0.01611442,  0.00568651, ...,  0.02443826,\n        -0.00774911,  0.00436746], dtype=float32),\n '1.2.826.0.1.3680043.8.498.10050203009225938259119000528814762175': array([-0.02100174,  0.00621759,  0.00972148, ..., -0.01103061,\n         0.00239548,  0.00745044], dtype=float32),\n '1.2.826.0.1.3680043.8.498.11707076266253086830850990314496191758': array([-0.01160459,  0.00208966,  0.00443529, ..., -0.03249225,\n         0.01591399,  0.00561546], dtype=float32),\n '1.2.826.0.1.3680043.8.498.23133310896792275593685843424784127411': array([-0.06880701, -0.00943295, -0.00815589, ..., -0.01189351,\n         0.00306391, -0.00567074], dtype=float32),\n '1.2.826.0.1.3680043.8.498.17332833449968516367349904809269946843': array([-0.00648575,  0.01168147,  0.00889153, ..., -0.02880566,\n         0.03291453,  0.01376184], dtype=float32)}"
     },
     "metadata": {}
    }
   ],
   "source": [
    "ndarray_dict={}\n",
    "for imgs,uids in tqdm(zip(dset,uid_dset)):\n",
    "    preds=hidden_layer_model.predict(imgs)\n",
    "    uids_decoded=decode_string(uids)\n",
    "    \n",
    "    for uid,pred in zip(uids_decoded,preds):\n",
    "        ndarray_dict[uid]=pred"
   ]
  },
  {
   "cell_type": "code",
   "execution_count": 27,
   "metadata": {},
   "outputs": [
    {
     "output_type": "display_data",
     "data": {
      "text/plain": "  0%|          | 0/30083 [00:00<?, ?it/s]",
      "application/vnd.jupyter.widget-view+json": {
       "version_major": 2,
       "version_minor": 0,
       "model_id": "68c32b8156f64be7a99eff6d2d013b8b"
      }
     },
     "metadata": {}
    },
    {
     "output_type": "error",
     "ename": "KeyError",
     "evalue": "'1.2.826.0.1.3680043.8.498.91266853519846682206191056121106632892'",
     "traceback": [
      "\u001b[1;31m---------------------------------------------------------------------------\u001b[0m",
      "\u001b[1;31mKeyError\u001b[0m                                  Traceback (most recent call last)",
      "\u001b[1;32m<ipython-input-27-a50d783d81c4>\u001b[0m in \u001b[0;36m<module>\u001b[1;34m\u001b[0m\n\u001b[1;32m----> 1\u001b[1;33m \u001b[0mfeatures_list\u001b[0m\u001b[1;33m=\u001b[0m\u001b[1;33m[\u001b[0m\u001b[0mndarray_dict\u001b[0m\u001b[1;33m[\u001b[0m\u001b[0muid\u001b[0m\u001b[1;33m]\u001b[0m \u001b[1;32mfor\u001b[0m \u001b[0muid\u001b[0m \u001b[1;32min\u001b[0m \u001b[0mtqdm\u001b[0m\u001b[1;33m(\u001b[0m\u001b[0mtest\u001b[0m\u001b[1;33m[\u001b[0m\u001b[1;34m\"StudyInstanceUID\"\u001b[0m\u001b[1;33m]\u001b[0m\u001b[1;33m)\u001b[0m\u001b[1;33m]\u001b[0m\u001b[1;33m\u001b[0m\u001b[1;33m\u001b[0m\u001b[0m\n\u001b[0m\u001b[0;32m      2\u001b[0m \u001b[0mfeatures\u001b[0m\u001b[1;33m=\u001b[0m\u001b[0mnp\u001b[0m\u001b[1;33m.\u001b[0m\u001b[0marray\u001b[0m\u001b[1;33m(\u001b[0m\u001b[0mfeatures_list\u001b[0m\u001b[1;33m)\u001b[0m\u001b[1;33m\u001b[0m\u001b[1;33m\u001b[0m\u001b[0m\n",
      "\u001b[1;32m<ipython-input-27-a50d783d81c4>\u001b[0m in \u001b[0;36m<listcomp>\u001b[1;34m(.0)\u001b[0m\n\u001b[1;32m----> 1\u001b[1;33m \u001b[0mfeatures_list\u001b[0m\u001b[1;33m=\u001b[0m\u001b[1;33m[\u001b[0m\u001b[0mndarray_dict\u001b[0m\u001b[1;33m[\u001b[0m\u001b[0muid\u001b[0m\u001b[1;33m]\u001b[0m \u001b[1;32mfor\u001b[0m \u001b[0muid\u001b[0m \u001b[1;32min\u001b[0m \u001b[0mtqdm\u001b[0m\u001b[1;33m(\u001b[0m\u001b[0mtest\u001b[0m\u001b[1;33m[\u001b[0m\u001b[1;34m\"StudyInstanceUID\"\u001b[0m\u001b[1;33m]\u001b[0m\u001b[1;33m)\u001b[0m\u001b[1;33m]\u001b[0m\u001b[1;33m\u001b[0m\u001b[1;33m\u001b[0m\u001b[0m\n\u001b[0m\u001b[0;32m      2\u001b[0m \u001b[0mfeatures\u001b[0m\u001b[1;33m=\u001b[0m\u001b[0mnp\u001b[0m\u001b[1;33m.\u001b[0m\u001b[0marray\u001b[0m\u001b[1;33m(\u001b[0m\u001b[0mfeatures_list\u001b[0m\u001b[1;33m)\u001b[0m\u001b[1;33m\u001b[0m\u001b[1;33m\u001b[0m\u001b[0m\n",
      "\u001b[1;31mKeyError\u001b[0m: '1.2.826.0.1.3680043.8.498.91266853519846682206191056121106632892'"
     ]
    }
   ],
   "source": [
    "features_list=[ndarray_dict[uid] for uid in tqdm(test[\"StudyInstanceUID\"])]\n",
    "features=np.array(features_list)"
   ]
  },
  {
   "cell_type": "code",
   "execution_count": 36,
   "metadata": {},
   "outputs": [],
   "source": [
    "scaler=pickle.load(open(f\"{CFG.models_dir}minmaxscaler_effnet_tuned.pickle\",\"rb\"))\n",
    "X=scaler.transform(features)"
   ]
  },
  {
   "cell_type": "code",
   "execution_count": 37,
   "metadata": {},
   "outputs": [
    {
     "output_type": "stream",
     "name": "stdout",
     "text": [
      "Model: \"sequential\"\n_________________________________________________________________\nLayer (type)                 Output Shape              Param #   \n=================================================================\ndense (Dense)                (None, 1800)              4609800   \n_________________________________________________________________\ndense_1 (Dense)              (None, 100)               180100    \n_________________________________________________________________\ndense_2 (Dense)              (None, 1800)              181800    \n_________________________________________________________________\ndropout (Dropout)            (None, 1800)              0         \n_________________________________________________________________\ndense_3 (Dense)              (None, 2560)              4610560   \n=================================================================\nTotal params: 9,582,260\nTrainable params: 9,582,260\nNon-trainable params: 0\n_________________________________________________________________\n"
     ]
    }
   ],
   "source": [
    "autoencoder_dir=f\"{CFG.models_dir}autoencoder_tuned/\"\n",
    "with open(f\"{autoencoder_dir}model.json\",\"rt\") as f:\n",
    "    model_json=f.read()\n",
    "autoencoder=models.model_from_json(model_json)\n",
    "autoencoder.load_weights(f\"{autoencoder_dir}ckpt\")\n",
    "autoencoder.summary()"
   ]
  },
  {
   "cell_type": "code",
   "execution_count": 38,
   "metadata": {},
   "outputs": [
    {
     "output_type": "display_data",
     "data": {
      "text/plain": "(8, 100)"
     },
     "metadata": {}
    }
   ],
   "source": [
    "layer_name=\"dense_1\"\n",
    "compressing_model=models.Model(inputs=autoencoder.input,outputs=autoencoder.get_layer(layer_name).output)\n",
    "\n",
    "ae_pred=compressing_model.predict(X)\n",
    "display(ae_pred.shape)"
   ]
  },
  {
   "cell_type": "code",
   "execution_count": 39,
   "metadata": {},
   "outputs": [
    {
     "output_type": "stream",
     "name": "stdout",
     "text": [
      "Model: \"sequential_1\"\n_________________________________________________________________\nLayer (type)                 Output Shape              Param #   \n=================================================================\ndense_1 (Dense)              (None, 11)                1111      \n=================================================================\nTotal params: 1,111\nTrainable params: 1,111\nNon-trainable params: 0\n_________________________________________________________________\n"
     ]
    }
   ],
   "source": [
    "dense_dir=f\"{CFG.models_dir}effnet_tuned_dense/\"\n",
    "with open(f\"{dense_dir}model.json\",\"rt\") as f:\n",
    "    model_json=f.read()\n",
    "dense_model=models.model_from_json(model_json)\n",
    "dense_model.load_weights(f\"{dense_dir}ckpt\")\n",
    "dense_model.summary()"
   ]
  },
  {
   "cell_type": "code",
   "execution_count": 42,
   "metadata": {},
   "outputs": [
    {
     "output_type": "display_data",
     "data": {
      "text/plain": "                                        StudyInstanceUID  ETT - Abnormal  \\\n0      1.2.826.0.1.3680043.8.498.26697628953273228189...        0.002183   \n1      1.2.826.0.1.3680043.8.498.46302891597398758759...        0.002403   \n2      1.2.826.0.1.3680043.8.498.23819260719748494858...        0.000396   \n3      1.2.826.0.1.3680043.8.498.68286643202323212801...        0.001456   \n4      1.2.826.0.1.3680043.8.498.10050203009225938259...        0.002330   \n...                                                  ...             ...   \n30078  1.2.826.0.1.3680043.8.498.74257566841157531124...             NaN   \n30079  1.2.826.0.1.3680043.8.498.46510939987173529969...             NaN   \n30080  1.2.826.0.1.3680043.8.498.43173270582850645437...             NaN   \n30081  1.2.826.0.1.3680043.8.498.95092491950130838685...             NaN   \n30082  1.2.826.0.1.3680043.8.498.99518162226171269731...             NaN   \n\n       ETT - Borderline  ETT - Normal  NGT - Abnormal  NGT - Borderline  \\\n0              0.005840      0.009135        0.063458          0.191302   \n1              0.034220      0.935055        0.063382          0.010251   \n2              0.000668      0.000454        0.001235          0.001506   \n3              0.008681      0.004323        0.003235          0.001273   \n4              0.003120      0.008720        0.013459          0.018858   \n...                 ...           ...             ...               ...   \n30078               NaN           NaN             NaN               NaN   \n30079               NaN           NaN             NaN               NaN   \n30080               NaN           NaN             NaN               NaN   \n30081               NaN           NaN             NaN               NaN   \n30082               NaN           NaN             NaN               NaN   \n\n       NGT - Incompletely Imaged  NGT - Normal  CVC - Abnormal  \\\n0                       0.090042      0.839361        0.170036   \n1                       0.852127      0.013372        0.021895   \n2                       0.000504      0.000924        0.057376   \n3                       0.008788      0.005655        0.506668   \n4                       0.025655      0.011007        0.005441   \n...                          ...           ...             ...   \n30078                        NaN           NaN             NaN   \n30079                        NaN           NaN             NaN   \n30080                        NaN           NaN             NaN   \n30081                        NaN           NaN             NaN   \n30082                        NaN           NaN             NaN   \n\n       CVC - Borderline  CVC - Normal  Swan Ganz Catheter Present  \n0              0.473462      0.182635                    0.000447  \n1              0.179859      0.942377                    0.001326  \n2              0.345900      0.624623                    0.000219  \n3              0.320332      0.247447                    0.000321  \n4              0.104196      0.945665                    0.000539  \n...                 ...           ...                         ...  \n30078               NaN           NaN                         NaN  \n30079               NaN           NaN                         NaN  \n30080               NaN           NaN                         NaN  \n30081               NaN           NaN                         NaN  \n30082               NaN           NaN                         NaN  \n\n[30083 rows x 12 columns]",
      "text/html": "<div>\n<style scoped>\n    .dataframe tbody tr th:only-of-type {\n        vertical-align: middle;\n    }\n\n    .dataframe tbody tr th {\n        vertical-align: top;\n    }\n\n    .dataframe thead th {\n        text-align: right;\n    }\n</style>\n<table border=\"1\" class=\"dataframe\">\n  <thead>\n    <tr style=\"text-align: right;\">\n      <th></th>\n      <th>StudyInstanceUID</th>\n      <th>ETT - Abnormal</th>\n      <th>ETT - Borderline</th>\n      <th>ETT - Normal</th>\n      <th>NGT - Abnormal</th>\n      <th>NGT - Borderline</th>\n      <th>NGT - Incompletely Imaged</th>\n      <th>NGT - Normal</th>\n      <th>CVC - Abnormal</th>\n      <th>CVC - Borderline</th>\n      <th>CVC - Normal</th>\n      <th>Swan Ganz Catheter Present</th>\n    </tr>\n  </thead>\n  <tbody>\n    <tr>\n      <th>0</th>\n      <td>1.2.826.0.1.3680043.8.498.26697628953273228189...</td>\n      <td>0.002183</td>\n      <td>0.005840</td>\n      <td>0.009135</td>\n      <td>0.063458</td>\n      <td>0.191302</td>\n      <td>0.090042</td>\n      <td>0.839361</td>\n      <td>0.170036</td>\n      <td>0.473462</td>\n      <td>0.182635</td>\n      <td>0.000447</td>\n    </tr>\n    <tr>\n      <th>1</th>\n      <td>1.2.826.0.1.3680043.8.498.46302891597398758759...</td>\n      <td>0.002403</td>\n      <td>0.034220</td>\n      <td>0.935055</td>\n      <td>0.063382</td>\n      <td>0.010251</td>\n      <td>0.852127</td>\n      <td>0.013372</td>\n      <td>0.021895</td>\n      <td>0.179859</td>\n      <td>0.942377</td>\n      <td>0.001326</td>\n    </tr>\n    <tr>\n      <th>2</th>\n      <td>1.2.826.0.1.3680043.8.498.23819260719748494858...</td>\n      <td>0.000396</td>\n      <td>0.000668</td>\n      <td>0.000454</td>\n      <td>0.001235</td>\n      <td>0.001506</td>\n      <td>0.000504</td>\n      <td>0.000924</td>\n      <td>0.057376</td>\n      <td>0.345900</td>\n      <td>0.624623</td>\n      <td>0.000219</td>\n    </tr>\n    <tr>\n      <th>3</th>\n      <td>1.2.826.0.1.3680043.8.498.68286643202323212801...</td>\n      <td>0.001456</td>\n      <td>0.008681</td>\n      <td>0.004323</td>\n      <td>0.003235</td>\n      <td>0.001273</td>\n      <td>0.008788</td>\n      <td>0.005655</td>\n      <td>0.506668</td>\n      <td>0.320332</td>\n      <td>0.247447</td>\n      <td>0.000321</td>\n    </tr>\n    <tr>\n      <th>4</th>\n      <td>1.2.826.0.1.3680043.8.498.10050203009225938259...</td>\n      <td>0.002330</td>\n      <td>0.003120</td>\n      <td>0.008720</td>\n      <td>0.013459</td>\n      <td>0.018858</td>\n      <td>0.025655</td>\n      <td>0.011007</td>\n      <td>0.005441</td>\n      <td>0.104196</td>\n      <td>0.945665</td>\n      <td>0.000539</td>\n    </tr>\n    <tr>\n      <th>...</th>\n      <td>...</td>\n      <td>...</td>\n      <td>...</td>\n      <td>...</td>\n      <td>...</td>\n      <td>...</td>\n      <td>...</td>\n      <td>...</td>\n      <td>...</td>\n      <td>...</td>\n      <td>...</td>\n      <td>...</td>\n    </tr>\n    <tr>\n      <th>30078</th>\n      <td>1.2.826.0.1.3680043.8.498.74257566841157531124...</td>\n      <td>NaN</td>\n      <td>NaN</td>\n      <td>NaN</td>\n      <td>NaN</td>\n      <td>NaN</td>\n      <td>NaN</td>\n      <td>NaN</td>\n      <td>NaN</td>\n      <td>NaN</td>\n      <td>NaN</td>\n      <td>NaN</td>\n    </tr>\n    <tr>\n      <th>30079</th>\n      <td>1.2.826.0.1.3680043.8.498.46510939987173529969...</td>\n      <td>NaN</td>\n      <td>NaN</td>\n      <td>NaN</td>\n      <td>NaN</td>\n      <td>NaN</td>\n      <td>NaN</td>\n      <td>NaN</td>\n      <td>NaN</td>\n      <td>NaN</td>\n      <td>NaN</td>\n      <td>NaN</td>\n    </tr>\n    <tr>\n      <th>30080</th>\n      <td>1.2.826.0.1.3680043.8.498.43173270582850645437...</td>\n      <td>NaN</td>\n      <td>NaN</td>\n      <td>NaN</td>\n      <td>NaN</td>\n      <td>NaN</td>\n      <td>NaN</td>\n      <td>NaN</td>\n      <td>NaN</td>\n      <td>NaN</td>\n      <td>NaN</td>\n      <td>NaN</td>\n    </tr>\n    <tr>\n      <th>30081</th>\n      <td>1.2.826.0.1.3680043.8.498.95092491950130838685...</td>\n      <td>NaN</td>\n      <td>NaN</td>\n      <td>NaN</td>\n      <td>NaN</td>\n      <td>NaN</td>\n      <td>NaN</td>\n      <td>NaN</td>\n      <td>NaN</td>\n      <td>NaN</td>\n      <td>NaN</td>\n      <td>NaN</td>\n    </tr>\n    <tr>\n      <th>30082</th>\n      <td>1.2.826.0.1.3680043.8.498.99518162226171269731...</td>\n      <td>NaN</td>\n      <td>NaN</td>\n      <td>NaN</td>\n      <td>NaN</td>\n      <td>NaN</td>\n      <td>NaN</td>\n      <td>NaN</td>\n      <td>NaN</td>\n      <td>NaN</td>\n      <td>NaN</td>\n      <td>NaN</td>\n    </tr>\n  </tbody>\n</table>\n<p>30083 rows × 12 columns</p>\n</div>"
     },
     "metadata": {}
    }
   ],
   "source": [
    "dense_pred=pd.DataFrame(dense_model.predict(ae_pred),columns=CFG.target_cols)\n",
    "submission=pd.concat([test[\"StudyInstanceUID\"].reset_index(drop=True),dense_pred],axis=1)\n",
    "display(submission)\n",
    "\n",
    "submission.to_csv(\"submission.csv\",index=False)"
   ]
  }
 ]
}