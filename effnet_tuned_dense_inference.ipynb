{
 "metadata": {
  "language_info": {
   "codemirror_mode": {
    "name": "ipython",
    "version": 3
   },
   "file_extension": ".py",
   "mimetype": "text/x-python",
   "name": "python",
   "nbconvert_exporter": "python",
   "pygments_lexer": "ipython3",
   "version": "3.8.8-final"
  },
  "orig_nbformat": 2,
  "kernelspec": {
   "name": "python3",
   "display_name": "Python 3.8.8 64-bit ('py38': conda)",
   "metadata": {
    "interpreter": {
     "hash": "3da45907e5cd41bdac7b692b424c19725633d98a853f93b11b400b1d8951ac30"
    }
   }
  }
 },
 "nbformat": 4,
 "nbformat_minor": 2,
 "cells": [
  {
   "cell_type": "code",
   "execution_count": 1,
   "metadata": {},
   "outputs": [],
   "source": [
    "import pandas as pd\n",
    "import numpy as np\n",
    "from IPython.display import display\n",
    "from tqdm.notebook import tqdm\n",
    "import pickle\n",
    "\n",
    "import tensorflow as tf\n",
    "from tensorflow import keras\n",
    "from tensorflow.keras import models\n",
    "\n",
    "from sklearn.model_selection import GroupKFold"
   ]
  },
  {
   "cell_type": "code",
   "execution_count": 2,
   "metadata": {},
   "outputs": [],
   "source": [
    "class CFG:\n",
    "   debug=True\n",
    "   dataset_dir=\"../input/ranzcr-clip-catheter-line-classification/\"\n",
    "   models_dir=\"./models/\" if debug else \"../input/efficientnet-lightgbm-models/\"\n",
    "   batch_size=4 if debug else 128\n",
    "   input_shape=(260,260)\n",
    "\n",
    "   target_cols=['ETT - Abnormal', 'ETT - Borderline', 'ETT - Normal', 'NGT - Abnormal', 'NGT - Borderline',\n",
    "      'NGT - Incompletely Imaged', 'NGT - Normal', 'CVC - Abnormal', 'CVC - Borderline', 'CVC - Normal', 'Swan Ganz Catheter Present']\n",
    "   n_folds=4"
   ]
  },
  {
   "cell_type": "code",
   "execution_count": 3,
   "metadata": {},
   "outputs": [],
   "source": [
    "test=pd.read_csv(f\"{CFG.dataset_dir}train.csv\") if CFG.debug else pd.read_csv(f\"{CFG.dataset_dir}sample_submission.csv\")"
   ]
  },
  {
   "cell_type": "code",
   "execution_count": 4,
   "metadata": {},
   "outputs": [
    {
     "output_type": "stream",
     "name": "stdout",
     "text": [
      "Model: \"functional_1\"\n_________________________________________________________________\nLayer (type)                 Output Shape              Param #   \n=================================================================\nefficientnetb7_input (InputL [(None, 260, 260, 3)]     0         \n_________________________________________________________________\nefficientnetb7 (Functional)  (None, 9, 9, 2560)        64097687  \n_________________________________________________________________\nglobal_average_pooling2d (Gl (None, 2560)              0         \n=================================================================\nTotal params: 64,097,687\nTrainable params: 63,786,960\nNon-trainable params: 310,727\n_________________________________________________________________\n"
     ]
    }
   ],
   "source": [
    "with open(f\"{CFG.models_dir}effnet_tuned/model.json\",\"rt\") as f:\n",
    "    effnet_json=f.read()\n",
    "effnet=models.model_from_json(effnet_json)\n",
    "effnet.load_weights(f\"{CFG.models_dir}effnet_tuned/weight.hdf5\")\n",
    "\n",
    "layer_name=\"global_average_pooling2d\"\n",
    "hidden_layer_model=models.Model(inputs=effnet.input,outputs=effnet.get_layer(layer_name).output)\n",
    "hidden_layer_model.summary()"
   ]
  },
  {
   "cell_type": "code",
   "execution_count": 5,
   "metadata": {},
   "outputs": [],
   "source": [
    "def preprocess(record):\n",
    "    if CFG.debug:\n",
    "        file_bytes=tf.io.read_file(f\"{CFG.dataset_dir}train/\"+record+\".jpg\") # f\"{}\"形式ではTensorの型変換が働かない\n",
    "    else:\n",
    "        file_bytes=tf.io.read_file(f\"{CFG.dataset_dir}test/\"+record+\".jpg\")\n",
    "    image=tf.io.decode_jpeg(file_bytes,channels=3)\n",
    "    image=tf.cast(image,tf.float32)\n",
    "    image=tf.image.resize(image,CFG.input_shape)\n",
    "    image/=255\n",
    "    return image\n",
    "\n",
    "def decode_string(tensor):\n",
    "    return [str_bytes.decode() for str_bytes in tensor.numpy()]\n",
    "\n",
    "\n",
    "dset=tf.data.Dataset.from_tensor_slices(test[\"StudyInstanceUID\"])\n",
    "dset=dset.map(preprocess,num_parallel_calls=tf.data.experimental.AUTOTUNE).batch(CFG.batch_size)\n",
    "\n",
    "uid_dset=tf.data.Dataset.from_tensor_slices(test[\"StudyInstanceUID\"]).batch(CFG.batch_size)"
   ]
  },
  {
   "cell_type": "code",
   "execution_count": 6,
   "metadata": {},
   "outputs": [
    {
     "output_type": "display_data",
     "data": {
      "text/plain": "0it [00:00, ?it/s]",
      "application/vnd.jupyter.widget-view+json": {
       "version_major": 2,
       "version_minor": 0,
       "model_id": "4847d71e17b54e21ade9664e4af43559"
      }
     },
     "metadata": {}
    }
   ],
   "source": [
    "ndarray_dict={}\n",
    "for imgs,uids in tqdm(zip(dset,uid_dset)):\n",
    "    preds=hidden_layer_model.predict(imgs)\n",
    "    uids_decoded=decode_string(uids)\n",
    "    \n",
    "    for uid,pred in zip(uids_decoded,preds):\n",
    "        ndarray_dict[uid]=pred\n",
    "    if CFG.debug:\n",
    "        break"
   ]
  },
  {
   "cell_type": "code",
   "execution_count": 7,
   "metadata": {},
   "outputs": [],
   "source": [
    "if CFG.debug:\n",
    "    features_list=[ndarray_dict[uid] for uid in ndarray_dict.keys()]\n",
    "else:\n",
    "    features_list=[ndarray_dict[uid] for uid in tqdm(test[\"StudyInstanceUID\"])]\n",
    "features=np.array(features_list)"
   ]
  },
  {
   "cell_type": "code",
   "execution_count": 8,
   "metadata": {},
   "outputs": [
    {
     "output_type": "stream",
     "name": "stdout",
     "text": [
      "WARNING:tensorflow:Unresolved object in checkpoint: (root).optimizer\n",
      "WARNING:tensorflow:Unresolved object in checkpoint: (root).optimizer.iter\n",
      "WARNING:tensorflow:Unresolved object in checkpoint: (root).optimizer.beta_1\n",
      "WARNING:tensorflow:Unresolved object in checkpoint: (root).optimizer.beta_2\n",
      "WARNING:tensorflow:Unresolved object in checkpoint: (root).optimizer.decay\n",
      "WARNING:tensorflow:Unresolved object in checkpoint: (root).optimizer.learning_rate\n",
      "WARNING:tensorflow:Unresolved object in checkpoint: (root).optimizer's state 'm' for (root).layer_with_weights-0.kernel\n",
      "WARNING:tensorflow:Unresolved object in checkpoint: (root).optimizer's state 'm' for (root).layer_with_weights-0.bias\n",
      "WARNING:tensorflow:Unresolved object in checkpoint: (root).optimizer's state 'm' for (root).layer_with_weights-1.kernel\n",
      "WARNING:tensorflow:Unresolved object in checkpoint: (root).optimizer's state 'm' for (root).layer_with_weights-1.bias\n",
      "WARNING:tensorflow:Unresolved object in checkpoint: (root).optimizer's state 'm' for (root).layer_with_weights-2.kernel\n",
      "WARNING:tensorflow:Unresolved object in checkpoint: (root).optimizer's state 'm' for (root).layer_with_weights-2.bias\n",
      "WARNING:tensorflow:Unresolved object in checkpoint: (root).optimizer's state 'm' for (root).layer_with_weights-3.kernel\n",
      "WARNING:tensorflow:Unresolved object in checkpoint: (root).optimizer's state 'm' for (root).layer_with_weights-3.bias\n",
      "WARNING:tensorflow:Unresolved object in checkpoint: (root).optimizer's state 'v' for (root).layer_with_weights-0.kernel\n",
      "WARNING:tensorflow:Unresolved object in checkpoint: (root).optimizer's state 'v' for (root).layer_with_weights-0.bias\n",
      "WARNING:tensorflow:Unresolved object in checkpoint: (root).optimizer's state 'v' for (root).layer_with_weights-1.kernel\n",
      "WARNING:tensorflow:Unresolved object in checkpoint: (root).optimizer's state 'v' for (root).layer_with_weights-1.bias\n",
      "WARNING:tensorflow:Unresolved object in checkpoint: (root).optimizer's state 'v' for (root).layer_with_weights-2.kernel\n",
      "WARNING:tensorflow:Unresolved object in checkpoint: (root).optimizer's state 'v' for (root).layer_with_weights-2.bias\n",
      "WARNING:tensorflow:Unresolved object in checkpoint: (root).optimizer's state 'v' for (root).layer_with_weights-3.kernel\n",
      "WARNING:tensorflow:Unresolved object in checkpoint: (root).optimizer's state 'v' for (root).layer_with_weights-3.bias\n",
      "WARNING:tensorflow:A checkpoint was restored (e.g. tf.train.Checkpoint.restore or tf.keras.Model.load_weights) but not all checkpointed values were used. See above for specific issues. Use expect_partial() on the load status object, e.g. tf.train.Checkpoint.restore(...).expect_partial(), to silence these warnings, or use assert_consumed() to make the check explicit. See https://www.tensorflow.org/guide/checkpoint#loading_mechanics for details.\n"
     ]
    }
   ],
   "source": [
    "def compress_with_autoencoder(features):\n",
    "    scaler=pickle.load(open(\"./models/minmaxscaler_effnet_tuned.pickle\",\"rb\"))\n",
    "    X=scaler.transform(features)\n",
    "\n",
    "    autoencoder_dir=f\"{CFG.models_dir}autoencoder_tuned/\"\n",
    "    with open(f\"{autoencoder_dir}model.json\",\"rt\") as f:\n",
    "        model_json=f.read()\n",
    "    autoencoder=models.model_from_json(model_json)\n",
    "    autoencoder.load_weights(f\"{autoencoder_dir}ckpt\")\n",
    "\n",
    "    layer_name=\"dense_1\"\n",
    "    compressing_model=models.Model(inputs=autoencoder.input,outputs=autoencoder.get_layer(layer_name).output)\n",
    "\n",
    "    ae_pred=compressing_model.predict(X)\n",
    "    ae_pred_df=pd.DataFrame(ae_pred)\n",
    "\n",
    "    return ae_pred_df\n",
    "\n",
    "# X=compress_with_autoencoder(features)"
   ]
  },
  {
   "cell_type": "code",
   "execution_count": 9,
   "metadata": {},
   "outputs": [],
   "source": [
    "def create_model(fold:int):\n",
    "    dense_dir=f\"{CFG.models_dir}effnet_tuned_dense_withoutAE/\"\n",
    "    with open(f\"{dense_dir}model.json\",\"rt\") as f:\n",
    "        model_json=f.read()\n",
    "    dense_model=models.model_from_json(model_json)\n",
    "    dense_model.load_weights(f\"{dense_dir}ckpt_{fold}\")\n",
    "    return dense_model\n",
    "\n",
    "dense_model_list=[create_model(n) for n in range(CFG.n_folds)]"
   ]
  },
  {
   "cell_type": "code",
   "execution_count": 12,
   "metadata": {},
   "outputs": [
    {
     "output_type": "display_data",
     "data": {
      "text/plain": "     fold_0    fold_1    fold_2    fold_3\n0  0.002316  0.003725  0.001753  0.001840\n1  0.001032  0.001803  0.000864  0.000553\n2  0.000140  0.000625  0.000054  0.000034\n3  0.000773  0.002006  0.000594  0.000511\n4  0.001517  0.002681  0.000889  0.001077\n5  0.009185  0.012368  0.006619  0.006484\n6  0.000116  0.000722  0.000034  0.000018\n7  0.017139  0.018919  0.010720  0.009762",
      "text/html": "<div>\n<style scoped>\n    .dataframe tbody tr th:only-of-type {\n        vertical-align: middle;\n    }\n\n    .dataframe tbody tr th {\n        vertical-align: top;\n    }\n\n    .dataframe thead th {\n        text-align: right;\n    }\n</style>\n<table border=\"1\" class=\"dataframe\">\n  <thead>\n    <tr style=\"text-align: right;\">\n      <th></th>\n      <th>fold_0</th>\n      <th>fold_1</th>\n      <th>fold_2</th>\n      <th>fold_3</th>\n    </tr>\n  </thead>\n  <tbody>\n    <tr>\n      <th>0</th>\n      <td>0.002316</td>\n      <td>0.003725</td>\n      <td>0.001753</td>\n      <td>0.001840</td>\n    </tr>\n    <tr>\n      <th>1</th>\n      <td>0.001032</td>\n      <td>0.001803</td>\n      <td>0.000864</td>\n      <td>0.000553</td>\n    </tr>\n    <tr>\n      <th>2</th>\n      <td>0.000140</td>\n      <td>0.000625</td>\n      <td>0.000054</td>\n      <td>0.000034</td>\n    </tr>\n    <tr>\n      <th>3</th>\n      <td>0.000773</td>\n      <td>0.002006</td>\n      <td>0.000594</td>\n      <td>0.000511</td>\n    </tr>\n    <tr>\n      <th>4</th>\n      <td>0.001517</td>\n      <td>0.002681</td>\n      <td>0.000889</td>\n      <td>0.001077</td>\n    </tr>\n    <tr>\n      <th>5</th>\n      <td>0.009185</td>\n      <td>0.012368</td>\n      <td>0.006619</td>\n      <td>0.006484</td>\n    </tr>\n    <tr>\n      <th>6</th>\n      <td>0.000116</td>\n      <td>0.000722</td>\n      <td>0.000034</td>\n      <td>0.000018</td>\n    </tr>\n    <tr>\n      <th>7</th>\n      <td>0.017139</td>\n      <td>0.018919</td>\n      <td>0.010720</td>\n      <td>0.009762</td>\n    </tr>\n  </tbody>\n</table>\n</div>"
     },
     "metadata": {}
    },
    {
     "output_type": "display_data",
     "data": {
      "text/plain": "     fold_0    fold_1    fold_2    fold_3\n0  0.003147  0.009438  0.001831  0.001539\n1  0.037771  0.043849  0.032190  0.036346\n2  0.000105  0.000581  0.000033  0.000016\n3  0.002058  0.004864  0.001604  0.001116\n4  0.001294  0.004938  0.000569  0.000417\n5  0.128570  0.147799  0.147766  0.146079\n6  0.000132  0.000608  0.000047  0.000028\n7  0.097101  0.149593  0.086947  0.094671",
      "text/html": "<div>\n<style scoped>\n    .dataframe tbody tr th:only-of-type {\n        vertical-align: middle;\n    }\n\n    .dataframe tbody tr th {\n        vertical-align: top;\n    }\n\n    .dataframe thead th {\n        text-align: right;\n    }\n</style>\n<table border=\"1\" class=\"dataframe\">\n  <thead>\n    <tr style=\"text-align: right;\">\n      <th></th>\n      <th>fold_0</th>\n      <th>fold_1</th>\n      <th>fold_2</th>\n      <th>fold_3</th>\n    </tr>\n  </thead>\n  <tbody>\n    <tr>\n      <th>0</th>\n      <td>0.003147</td>\n      <td>0.009438</td>\n      <td>0.001831</td>\n      <td>0.001539</td>\n    </tr>\n    <tr>\n      <th>1</th>\n      <td>0.037771</td>\n      <td>0.043849</td>\n      <td>0.032190</td>\n      <td>0.036346</td>\n    </tr>\n    <tr>\n      <th>2</th>\n      <td>0.000105</td>\n      <td>0.000581</td>\n      <td>0.000033</td>\n      <td>0.000016</td>\n    </tr>\n    <tr>\n      <th>3</th>\n      <td>0.002058</td>\n      <td>0.004864</td>\n      <td>0.001604</td>\n      <td>0.001116</td>\n    </tr>\n    <tr>\n      <th>4</th>\n      <td>0.001294</td>\n      <td>0.004938</td>\n      <td>0.000569</td>\n      <td>0.000417</td>\n    </tr>\n    <tr>\n      <th>5</th>\n      <td>0.128570</td>\n      <td>0.147799</td>\n      <td>0.147766</td>\n      <td>0.146079</td>\n    </tr>\n    <tr>\n      <th>6</th>\n      <td>0.000132</td>\n      <td>0.000608</td>\n      <td>0.000047</td>\n      <td>0.000028</td>\n    </tr>\n    <tr>\n      <th>7</th>\n      <td>0.097101</td>\n      <td>0.149593</td>\n      <td>0.086947</td>\n      <td>0.094671</td>\n    </tr>\n  </tbody>\n</table>\n</div>"
     },
     "metadata": {}
    },
    {
     "output_type": "display_data",
     "data": {
      "text/plain": "     fold_0    fold_1    fold_2    fold_3\n0  0.005220  0.012730  0.003448  0.004813\n1  0.946967  0.926086  0.950689  0.950159\n2  0.000109  0.000489  0.000073  0.000059\n3  0.001950  0.005359  0.001302  0.000963\n4  0.004767  0.011248  0.003821  0.003444\n5  0.761013  0.690791  0.764391  0.758490\n6  0.003411  0.009649  0.002551  0.002129\n7  0.695039  0.598742  0.742728  0.718223",
      "text/html": "<div>\n<style scoped>\n    .dataframe tbody tr th:only-of-type {\n        vertical-align: middle;\n    }\n\n    .dataframe tbody tr th {\n        vertical-align: top;\n    }\n\n    .dataframe thead th {\n        text-align: right;\n    }\n</style>\n<table border=\"1\" class=\"dataframe\">\n  <thead>\n    <tr style=\"text-align: right;\">\n      <th></th>\n      <th>fold_0</th>\n      <th>fold_1</th>\n      <th>fold_2</th>\n      <th>fold_3</th>\n    </tr>\n  </thead>\n  <tbody>\n    <tr>\n      <th>0</th>\n      <td>0.005220</td>\n      <td>0.012730</td>\n      <td>0.003448</td>\n      <td>0.004813</td>\n    </tr>\n    <tr>\n      <th>1</th>\n      <td>0.946967</td>\n      <td>0.926086</td>\n      <td>0.950689</td>\n      <td>0.950159</td>\n    </tr>\n    <tr>\n      <th>2</th>\n      <td>0.000109</td>\n      <td>0.000489</td>\n      <td>0.000073</td>\n      <td>0.000059</td>\n    </tr>\n    <tr>\n      <th>3</th>\n      <td>0.001950</td>\n      <td>0.005359</td>\n      <td>0.001302</td>\n      <td>0.000963</td>\n    </tr>\n    <tr>\n      <th>4</th>\n      <td>0.004767</td>\n      <td>0.011248</td>\n      <td>0.003821</td>\n      <td>0.003444</td>\n    </tr>\n    <tr>\n      <th>5</th>\n      <td>0.761013</td>\n      <td>0.690791</td>\n      <td>0.764391</td>\n      <td>0.758490</td>\n    </tr>\n    <tr>\n      <th>6</th>\n      <td>0.003411</td>\n      <td>0.009649</td>\n      <td>0.002551</td>\n      <td>0.002129</td>\n    </tr>\n    <tr>\n      <th>7</th>\n      <td>0.695039</td>\n      <td>0.598742</td>\n      <td>0.742728</td>\n      <td>0.718223</td>\n    </tr>\n  </tbody>\n</table>\n</div>"
     },
     "metadata": {}
    },
    {
     "output_type": "display_data",
     "data": {
      "text/plain": "     fold_0    fold_1    fold_2    fold_3\n0  0.031259  0.020622  0.027672  0.039753\n1  0.042656  0.035592  0.039609  0.056895\n2  0.000278  0.000886  0.000116  0.000064\n3  0.001523  0.003381  0.000733  0.000408\n4  0.016456  0.017316  0.010815  0.012338\n5  0.023426  0.030027  0.027773  0.025252\n6  0.000653  0.001682  0.000252  0.000222\n7  0.055419  0.056134  0.046266  0.067530",
      "text/html": "<div>\n<style scoped>\n    .dataframe tbody tr th:only-of-type {\n        vertical-align: middle;\n    }\n\n    .dataframe tbody tr th {\n        vertical-align: top;\n    }\n\n    .dataframe thead th {\n        text-align: right;\n    }\n</style>\n<table border=\"1\" class=\"dataframe\">\n  <thead>\n    <tr style=\"text-align: right;\">\n      <th></th>\n      <th>fold_0</th>\n      <th>fold_1</th>\n      <th>fold_2</th>\n      <th>fold_3</th>\n    </tr>\n  </thead>\n  <tbody>\n    <tr>\n      <th>0</th>\n      <td>0.031259</td>\n      <td>0.020622</td>\n      <td>0.027672</td>\n      <td>0.039753</td>\n    </tr>\n    <tr>\n      <th>1</th>\n      <td>0.042656</td>\n      <td>0.035592</td>\n      <td>0.039609</td>\n      <td>0.056895</td>\n    </tr>\n    <tr>\n      <th>2</th>\n      <td>0.000278</td>\n      <td>0.000886</td>\n      <td>0.000116</td>\n      <td>0.000064</td>\n    </tr>\n    <tr>\n      <th>3</th>\n      <td>0.001523</td>\n      <td>0.003381</td>\n      <td>0.000733</td>\n      <td>0.000408</td>\n    </tr>\n    <tr>\n      <th>4</th>\n      <td>0.016456</td>\n      <td>0.017316</td>\n      <td>0.010815</td>\n      <td>0.012338</td>\n    </tr>\n    <tr>\n      <th>5</th>\n      <td>0.023426</td>\n      <td>0.030027</td>\n      <td>0.027773</td>\n      <td>0.025252</td>\n    </tr>\n    <tr>\n      <th>6</th>\n      <td>0.000653</td>\n      <td>0.001682</td>\n      <td>0.000252</td>\n      <td>0.000222</td>\n    </tr>\n    <tr>\n      <th>7</th>\n      <td>0.055419</td>\n      <td>0.056134</td>\n      <td>0.046266</td>\n      <td>0.067530</td>\n    </tr>\n  </tbody>\n</table>\n</div>"
     },
     "metadata": {}
    },
    {
     "output_type": "display_data",
     "data": {
      "text/plain": "     fold_0    fold_1    fold_2    fold_3\n0  0.118515  0.073360  0.149856  0.140150\n1  0.006178  0.009147  0.006636  0.006028\n2  0.000328  0.001084  0.000119  0.000083\n3  0.000677  0.002399  0.000341  0.000202\n4  0.022588  0.022643  0.019214  0.017536\n5  0.089784  0.093915  0.098772  0.111354\n6  0.000621  0.001809  0.000282  0.000194\n7  0.127443  0.150659  0.145304  0.152240",
      "text/html": "<div>\n<style scoped>\n    .dataframe tbody tr th:only-of-type {\n        vertical-align: middle;\n    }\n\n    .dataframe tbody tr th {\n        vertical-align: top;\n    }\n\n    .dataframe thead th {\n        text-align: right;\n    }\n</style>\n<table border=\"1\" class=\"dataframe\">\n  <thead>\n    <tr style=\"text-align: right;\">\n      <th></th>\n      <th>fold_0</th>\n      <th>fold_1</th>\n      <th>fold_2</th>\n      <th>fold_3</th>\n    </tr>\n  </thead>\n  <tbody>\n    <tr>\n      <th>0</th>\n      <td>0.118515</td>\n      <td>0.073360</td>\n      <td>0.149856</td>\n      <td>0.140150</td>\n    </tr>\n    <tr>\n      <th>1</th>\n      <td>0.006178</td>\n      <td>0.009147</td>\n      <td>0.006636</td>\n      <td>0.006028</td>\n    </tr>\n    <tr>\n      <th>2</th>\n      <td>0.000328</td>\n      <td>0.001084</td>\n      <td>0.000119</td>\n      <td>0.000083</td>\n    </tr>\n    <tr>\n      <th>3</th>\n      <td>0.000677</td>\n      <td>0.002399</td>\n      <td>0.000341</td>\n      <td>0.000202</td>\n    </tr>\n    <tr>\n      <th>4</th>\n      <td>0.022588</td>\n      <td>0.022643</td>\n      <td>0.019214</td>\n      <td>0.017536</td>\n    </tr>\n    <tr>\n      <th>5</th>\n      <td>0.089784</td>\n      <td>0.093915</td>\n      <td>0.098772</td>\n      <td>0.111354</td>\n    </tr>\n    <tr>\n      <th>6</th>\n      <td>0.000621</td>\n      <td>0.001809</td>\n      <td>0.000282</td>\n      <td>0.000194</td>\n    </tr>\n    <tr>\n      <th>7</th>\n      <td>0.127443</td>\n      <td>0.150659</td>\n      <td>0.145304</td>\n      <td>0.152240</td>\n    </tr>\n  </tbody>\n</table>\n</div>"
     },
     "metadata": {}
    },
    {
     "output_type": "display_data",
     "data": {
      "text/plain": "     fold_0    fold_1    fold_2    fold_3\n0  0.049534  0.029932  0.057853  0.062825\n1  0.852309  0.896922  0.862209  0.856086\n2  0.000068  0.000390  0.000018  0.000008\n3  0.002605  0.005803  0.001464  0.001055\n4  0.013768  0.026264  0.011195  0.008274\n5  0.030596  0.040367  0.030976  0.026905\n6  0.000359  0.001873  0.000113  0.000051\n7  0.011255  0.018380  0.010593  0.010022",
      "text/html": "<div>\n<style scoped>\n    .dataframe tbody tr th:only-of-type {\n        vertical-align: middle;\n    }\n\n    .dataframe tbody tr th {\n        vertical-align: top;\n    }\n\n    .dataframe thead th {\n        text-align: right;\n    }\n</style>\n<table border=\"1\" class=\"dataframe\">\n  <thead>\n    <tr style=\"text-align: right;\">\n      <th></th>\n      <th>fold_0</th>\n      <th>fold_1</th>\n      <th>fold_2</th>\n      <th>fold_3</th>\n    </tr>\n  </thead>\n  <tbody>\n    <tr>\n      <th>0</th>\n      <td>0.049534</td>\n      <td>0.029932</td>\n      <td>0.057853</td>\n      <td>0.062825</td>\n    </tr>\n    <tr>\n      <th>1</th>\n      <td>0.852309</td>\n      <td>0.896922</td>\n      <td>0.862209</td>\n      <td>0.856086</td>\n    </tr>\n    <tr>\n      <th>2</th>\n      <td>0.000068</td>\n      <td>0.000390</td>\n      <td>0.000018</td>\n      <td>0.000008</td>\n    </tr>\n    <tr>\n      <th>3</th>\n      <td>0.002605</td>\n      <td>0.005803</td>\n      <td>0.001464</td>\n      <td>0.001055</td>\n    </tr>\n    <tr>\n      <th>4</th>\n      <td>0.013768</td>\n      <td>0.026264</td>\n      <td>0.011195</td>\n      <td>0.008274</td>\n    </tr>\n    <tr>\n      <th>5</th>\n      <td>0.030596</td>\n      <td>0.040367</td>\n      <td>0.030976</td>\n      <td>0.026905</td>\n    </tr>\n    <tr>\n      <th>6</th>\n      <td>0.000359</td>\n      <td>0.001873</td>\n      <td>0.000113</td>\n      <td>0.000051</td>\n    </tr>\n    <tr>\n      <th>7</th>\n      <td>0.011255</td>\n      <td>0.018380</td>\n      <td>0.010593</td>\n      <td>0.010022</td>\n    </tr>\n  </tbody>\n</table>\n</div>"
     },
     "metadata": {}
    },
    {
     "output_type": "display_data",
     "data": {
      "text/plain": "     fold_0    fold_1    fold_2    fold_3\n0  0.796005  0.674515  0.829795  0.815560\n1  0.011235  0.015091  0.008080  0.010465\n2  0.000110  0.000640  0.000051  0.000028\n3  0.001431  0.002768  0.001120  0.000736\n4  0.007506  0.018338  0.005427  0.003704\n5  0.733451  0.720308  0.742893  0.728916\n6  0.000159  0.000979  0.000088  0.000050\n7  0.569242  0.629733  0.594245  0.555478",
      "text/html": "<div>\n<style scoped>\n    .dataframe tbody tr th:only-of-type {\n        vertical-align: middle;\n    }\n\n    .dataframe tbody tr th {\n        vertical-align: top;\n    }\n\n    .dataframe thead th {\n        text-align: right;\n    }\n</style>\n<table border=\"1\" class=\"dataframe\">\n  <thead>\n    <tr style=\"text-align: right;\">\n      <th></th>\n      <th>fold_0</th>\n      <th>fold_1</th>\n      <th>fold_2</th>\n      <th>fold_3</th>\n    </tr>\n  </thead>\n  <tbody>\n    <tr>\n      <th>0</th>\n      <td>0.796005</td>\n      <td>0.674515</td>\n      <td>0.829795</td>\n      <td>0.815560</td>\n    </tr>\n    <tr>\n      <th>1</th>\n      <td>0.011235</td>\n      <td>0.015091</td>\n      <td>0.008080</td>\n      <td>0.010465</td>\n    </tr>\n    <tr>\n      <th>2</th>\n      <td>0.000110</td>\n      <td>0.000640</td>\n      <td>0.000051</td>\n      <td>0.000028</td>\n    </tr>\n    <tr>\n      <th>3</th>\n      <td>0.001431</td>\n      <td>0.002768</td>\n      <td>0.001120</td>\n      <td>0.000736</td>\n    </tr>\n    <tr>\n      <th>4</th>\n      <td>0.007506</td>\n      <td>0.018338</td>\n      <td>0.005427</td>\n      <td>0.003704</td>\n    </tr>\n    <tr>\n      <th>5</th>\n      <td>0.733451</td>\n      <td>0.720308</td>\n      <td>0.742893</td>\n      <td>0.728916</td>\n    </tr>\n    <tr>\n      <th>6</th>\n      <td>0.000159</td>\n      <td>0.000979</td>\n      <td>0.000088</td>\n      <td>0.000050</td>\n    </tr>\n    <tr>\n      <th>7</th>\n      <td>0.569242</td>\n      <td>0.629733</td>\n      <td>0.594245</td>\n      <td>0.555478</td>\n    </tr>\n  </tbody>\n</table>\n</div>"
     },
     "metadata": {}
    },
    {
     "output_type": "display_data",
     "data": {
      "text/plain": "     fold_0    fold_1    fold_2    fold_3\n0  0.177924  0.164500  0.182627  0.143790\n1  0.035409  0.036019  0.039825  0.026254\n2  0.053775  0.051515  0.048939  0.044629\n3  0.559082  0.490090  0.558135  0.525578\n4  0.007814  0.007831  0.009030  0.006999\n5  0.095001  0.099660  0.091929  0.089758\n6  0.100373  0.094517  0.085848  0.075507\n7  0.085194  0.086557  0.076762  0.079307",
      "text/html": "<div>\n<style scoped>\n    .dataframe tbody tr th:only-of-type {\n        vertical-align: middle;\n    }\n\n    .dataframe tbody tr th {\n        vertical-align: top;\n    }\n\n    .dataframe thead th {\n        text-align: right;\n    }\n</style>\n<table border=\"1\" class=\"dataframe\">\n  <thead>\n    <tr style=\"text-align: right;\">\n      <th></th>\n      <th>fold_0</th>\n      <th>fold_1</th>\n      <th>fold_2</th>\n      <th>fold_3</th>\n    </tr>\n  </thead>\n  <tbody>\n    <tr>\n      <th>0</th>\n      <td>0.177924</td>\n      <td>0.164500</td>\n      <td>0.182627</td>\n      <td>0.143790</td>\n    </tr>\n    <tr>\n      <th>1</th>\n      <td>0.035409</td>\n      <td>0.036019</td>\n      <td>0.039825</td>\n      <td>0.026254</td>\n    </tr>\n    <tr>\n      <th>2</th>\n      <td>0.053775</td>\n      <td>0.051515</td>\n      <td>0.048939</td>\n      <td>0.044629</td>\n    </tr>\n    <tr>\n      <th>3</th>\n      <td>0.559082</td>\n      <td>0.490090</td>\n      <td>0.558135</td>\n      <td>0.525578</td>\n    </tr>\n    <tr>\n      <th>4</th>\n      <td>0.007814</td>\n      <td>0.007831</td>\n      <td>0.009030</td>\n      <td>0.006999</td>\n    </tr>\n    <tr>\n      <th>5</th>\n      <td>0.095001</td>\n      <td>0.099660</td>\n      <td>0.091929</td>\n      <td>0.089758</td>\n    </tr>\n    <tr>\n      <th>6</th>\n      <td>0.100373</td>\n      <td>0.094517</td>\n      <td>0.085848</td>\n      <td>0.075507</td>\n    </tr>\n    <tr>\n      <th>7</th>\n      <td>0.085194</td>\n      <td>0.086557</td>\n      <td>0.076762</td>\n      <td>0.079307</td>\n    </tr>\n  </tbody>\n</table>\n</div>"
     },
     "metadata": {}
    },
    {
     "output_type": "display_data",
     "data": {
      "text/plain": "     fold_0    fold_1    fold_2    fold_3\n0  0.418132  0.409906  0.382422  0.420282\n1  0.221942  0.211673  0.218631  0.200685\n2  0.385649  0.352125  0.362784  0.402930\n3  0.273789  0.268152  0.261636  0.281042\n4  0.099306  0.083905  0.093074  0.097934\n5  0.151611  0.142537  0.142393  0.148184\n6  0.624018  0.607475  0.609965  0.643704\n7  0.349033  0.337081  0.335458  0.351507",
      "text/html": "<div>\n<style scoped>\n    .dataframe tbody tr th:only-of-type {\n        vertical-align: middle;\n    }\n\n    .dataframe tbody tr th {\n        vertical-align: top;\n    }\n\n    .dataframe thead th {\n        text-align: right;\n    }\n</style>\n<table border=\"1\" class=\"dataframe\">\n  <thead>\n    <tr style=\"text-align: right;\">\n      <th></th>\n      <th>fold_0</th>\n      <th>fold_1</th>\n      <th>fold_2</th>\n      <th>fold_3</th>\n    </tr>\n  </thead>\n  <tbody>\n    <tr>\n      <th>0</th>\n      <td>0.418132</td>\n      <td>0.409906</td>\n      <td>0.382422</td>\n      <td>0.420282</td>\n    </tr>\n    <tr>\n      <th>1</th>\n      <td>0.221942</td>\n      <td>0.211673</td>\n      <td>0.218631</td>\n      <td>0.200685</td>\n    </tr>\n    <tr>\n      <th>2</th>\n      <td>0.385649</td>\n      <td>0.352125</td>\n      <td>0.362784</td>\n      <td>0.402930</td>\n    </tr>\n    <tr>\n      <th>3</th>\n      <td>0.273789</td>\n      <td>0.268152</td>\n      <td>0.261636</td>\n      <td>0.281042</td>\n    </tr>\n    <tr>\n      <th>4</th>\n      <td>0.099306</td>\n      <td>0.083905</td>\n      <td>0.093074</td>\n      <td>0.097934</td>\n    </tr>\n    <tr>\n      <th>5</th>\n      <td>0.151611</td>\n      <td>0.142537</td>\n      <td>0.142393</td>\n      <td>0.148184</td>\n    </tr>\n    <tr>\n      <th>6</th>\n      <td>0.624018</td>\n      <td>0.607475</td>\n      <td>0.609965</td>\n      <td>0.643704</td>\n    </tr>\n    <tr>\n      <th>7</th>\n      <td>0.349033</td>\n      <td>0.337081</td>\n      <td>0.335458</td>\n      <td>0.351507</td>\n    </tr>\n  </tbody>\n</table>\n</div>"
     },
     "metadata": {}
    },
    {
     "output_type": "display_data",
     "data": {
      "text/plain": "     fold_0    fold_1    fold_2    fold_3\n0  0.214351  0.232492  0.210563  0.221307\n1  0.926387  0.911924  0.930675  0.926447\n2  0.591220  0.624725  0.601051  0.606948\n3  0.261613  0.296324  0.271140  0.260820\n4  0.947302  0.950571  0.952314  0.944797\n5  0.750842  0.775496  0.777027  0.779792\n6  0.624171  0.628503  0.642750  0.656178\n7  0.504137  0.565989  0.536898  0.561092",
      "text/html": "<div>\n<style scoped>\n    .dataframe tbody tr th:only-of-type {\n        vertical-align: middle;\n    }\n\n    .dataframe tbody tr th {\n        vertical-align: top;\n    }\n\n    .dataframe thead th {\n        text-align: right;\n    }\n</style>\n<table border=\"1\" class=\"dataframe\">\n  <thead>\n    <tr style=\"text-align: right;\">\n      <th></th>\n      <th>fold_0</th>\n      <th>fold_1</th>\n      <th>fold_2</th>\n      <th>fold_3</th>\n    </tr>\n  </thead>\n  <tbody>\n    <tr>\n      <th>0</th>\n      <td>0.214351</td>\n      <td>0.232492</td>\n      <td>0.210563</td>\n      <td>0.221307</td>\n    </tr>\n    <tr>\n      <th>1</th>\n      <td>0.926387</td>\n      <td>0.911924</td>\n      <td>0.930675</td>\n      <td>0.926447</td>\n    </tr>\n    <tr>\n      <th>2</th>\n      <td>0.591220</td>\n      <td>0.624725</td>\n      <td>0.601051</td>\n      <td>0.606948</td>\n    </tr>\n    <tr>\n      <th>3</th>\n      <td>0.261613</td>\n      <td>0.296324</td>\n      <td>0.271140</td>\n      <td>0.260820</td>\n    </tr>\n    <tr>\n      <th>4</th>\n      <td>0.947302</td>\n      <td>0.950571</td>\n      <td>0.952314</td>\n      <td>0.944797</td>\n    </tr>\n    <tr>\n      <th>5</th>\n      <td>0.750842</td>\n      <td>0.775496</td>\n      <td>0.777027</td>\n      <td>0.779792</td>\n    </tr>\n    <tr>\n      <th>6</th>\n      <td>0.624171</td>\n      <td>0.628503</td>\n      <td>0.642750</td>\n      <td>0.656178</td>\n    </tr>\n    <tr>\n      <th>7</th>\n      <td>0.504137</td>\n      <td>0.565989</td>\n      <td>0.536898</td>\n      <td>0.561092</td>\n    </tr>\n  </tbody>\n</table>\n</div>"
     },
     "metadata": {}
    },
    {
     "output_type": "display_data",
     "data": {
      "text/plain": "     fold_0    fold_1    fold_2    fold_3\n0  0.000310  0.001558  0.000251  0.000174\n1  0.000935  0.004200  0.000536  0.000315\n2  0.000063  0.000365  0.000034  0.000010\n3  0.000199  0.000957  0.000145  0.000060\n4  0.000747  0.002849  0.000318  0.000188\n5  0.004351  0.016290  0.002422  0.001342\n6  0.000273  0.001048  0.000154  0.000058\n7  0.001722  0.007286  0.000738  0.000277",
      "text/html": "<div>\n<style scoped>\n    .dataframe tbody tr th:only-of-type {\n        vertical-align: middle;\n    }\n\n    .dataframe tbody tr th {\n        vertical-align: top;\n    }\n\n    .dataframe thead th {\n        text-align: right;\n    }\n</style>\n<table border=\"1\" class=\"dataframe\">\n  <thead>\n    <tr style=\"text-align: right;\">\n      <th></th>\n      <th>fold_0</th>\n      <th>fold_1</th>\n      <th>fold_2</th>\n      <th>fold_3</th>\n    </tr>\n  </thead>\n  <tbody>\n    <tr>\n      <th>0</th>\n      <td>0.000310</td>\n      <td>0.001558</td>\n      <td>0.000251</td>\n      <td>0.000174</td>\n    </tr>\n    <tr>\n      <th>1</th>\n      <td>0.000935</td>\n      <td>0.004200</td>\n      <td>0.000536</td>\n      <td>0.000315</td>\n    </tr>\n    <tr>\n      <th>2</th>\n      <td>0.000063</td>\n      <td>0.000365</td>\n      <td>0.000034</td>\n      <td>0.000010</td>\n    </tr>\n    <tr>\n      <th>3</th>\n      <td>0.000199</td>\n      <td>0.000957</td>\n      <td>0.000145</td>\n      <td>0.000060</td>\n    </tr>\n    <tr>\n      <th>4</th>\n      <td>0.000747</td>\n      <td>0.002849</td>\n      <td>0.000318</td>\n      <td>0.000188</td>\n    </tr>\n    <tr>\n      <th>5</th>\n      <td>0.004351</td>\n      <td>0.016290</td>\n      <td>0.002422</td>\n      <td>0.001342</td>\n    </tr>\n    <tr>\n      <th>6</th>\n      <td>0.000273</td>\n      <td>0.001048</td>\n      <td>0.000154</td>\n      <td>0.000058</td>\n    </tr>\n    <tr>\n      <th>7</th>\n      <td>0.001722</td>\n      <td>0.007286</td>\n      <td>0.000738</td>\n      <td>0.000277</td>\n    </tr>\n  </tbody>\n</table>\n</div>"
     },
     "metadata": {}
    },
    {
     "output_type": "display_data",
     "data": {
      "text/plain": "                                        StudyInstanceUID  ETT - Abnormal  \\\n0      1.2.826.0.1.3680043.8.498.26697628953273228189...        0.002409   \n1      1.2.826.0.1.3680043.8.498.46302891597398758759...        0.001063   \n2      1.2.826.0.1.3680043.8.498.23819260719748494858...        0.000213   \n3      1.2.826.0.1.3680043.8.498.68286643202323212801...        0.000971   \n4      1.2.826.0.1.3680043.8.498.10050203009225938259...        0.001541   \n...                                                  ...             ...   \n30078  1.2.826.0.1.3680043.8.498.74257566841157531124...             NaN   \n30079  1.2.826.0.1.3680043.8.498.46510939987173529969...             NaN   \n30080  1.2.826.0.1.3680043.8.498.43173270582850645437...             NaN   \n30081  1.2.826.0.1.3680043.8.498.95092491950130838685...             NaN   \n30082  1.2.826.0.1.3680043.8.498.99518162226171269731...             NaN   \n\n       ETT - Borderline  ETT - Normal  NGT - Abnormal  NGT - Borderline  \\\n0              0.003989      0.006553        0.029827          0.120470   \n1              0.037539      0.943475        0.043688          0.006997   \n2              0.000184      0.000183        0.000336          0.000404   \n3              0.002411      0.002394        0.001511          0.000905   \n4              0.001804      0.005820        0.014232          0.020495   \n...                 ...           ...             ...               ...   \n30078               NaN           NaN             NaN               NaN   \n30079               NaN           NaN             NaN               NaN   \n30080               NaN           NaN             NaN               NaN   \n30081               NaN           NaN             NaN               NaN   \n30082               NaN           NaN             NaN               NaN   \n\n       NGT - Incompletely Imaged  NGT - Normal  CVC - Abnormal  \\\n0                       0.050036      0.778969        0.167210   \n1                       0.866881      0.011218        0.034377   \n2                       0.000121      0.000207        0.049714   \n3                       0.002732      0.001514        0.533221   \n4                       0.014875      0.008744        0.007918   \n...                          ...           ...             ...   \n30078                        NaN           NaN             NaN   \n30079                        NaN           NaN             NaN   \n30080                        NaN           NaN             NaN   \n30081                        NaN           NaN             NaN   \n30082                        NaN           NaN             NaN   \n\n       CVC - Borderline  CVC - Normal  Swan Ganz Catheter Present  PatientID  \n0              0.407685      0.219678                    0.000573  ec89415d1  \n1              0.213233      0.923858                    0.001496  bf4c6da3c  \n2              0.375872      0.605986                    0.000118  3fc1c97e5  \n3              0.271155      0.272474                    0.000340  c31019814  \n4              0.093555      0.948746                    0.001026  207685cd1  \n...                 ...           ...                         ...        ...  \n30078               NaN           NaN                         NaN  5b5b9ac30  \n30079               NaN           NaN                         NaN  7192404d8  \n30080               NaN           NaN                         NaN  d4d1b066d  \n30081               NaN           NaN                         NaN  01a6602b8  \n30082               NaN           NaN                         NaN  e692d316c  \n\n[30083 rows x 13 columns]",
      "text/html": "<div>\n<style scoped>\n    .dataframe tbody tr th:only-of-type {\n        vertical-align: middle;\n    }\n\n    .dataframe tbody tr th {\n        vertical-align: top;\n    }\n\n    .dataframe thead th {\n        text-align: right;\n    }\n</style>\n<table border=\"1\" class=\"dataframe\">\n  <thead>\n    <tr style=\"text-align: right;\">\n      <th></th>\n      <th>StudyInstanceUID</th>\n      <th>ETT - Abnormal</th>\n      <th>ETT - Borderline</th>\n      <th>ETT - Normal</th>\n      <th>NGT - Abnormal</th>\n      <th>NGT - Borderline</th>\n      <th>NGT - Incompletely Imaged</th>\n      <th>NGT - Normal</th>\n      <th>CVC - Abnormal</th>\n      <th>CVC - Borderline</th>\n      <th>CVC - Normal</th>\n      <th>Swan Ganz Catheter Present</th>\n      <th>PatientID</th>\n    </tr>\n  </thead>\n  <tbody>\n    <tr>\n      <th>0</th>\n      <td>1.2.826.0.1.3680043.8.498.26697628953273228189...</td>\n      <td>0.002409</td>\n      <td>0.003989</td>\n      <td>0.006553</td>\n      <td>0.029827</td>\n      <td>0.120470</td>\n      <td>0.050036</td>\n      <td>0.778969</td>\n      <td>0.167210</td>\n      <td>0.407685</td>\n      <td>0.219678</td>\n      <td>0.000573</td>\n      <td>ec89415d1</td>\n    </tr>\n    <tr>\n      <th>1</th>\n      <td>1.2.826.0.1.3680043.8.498.46302891597398758759...</td>\n      <td>0.001063</td>\n      <td>0.037539</td>\n      <td>0.943475</td>\n      <td>0.043688</td>\n      <td>0.006997</td>\n      <td>0.866881</td>\n      <td>0.011218</td>\n      <td>0.034377</td>\n      <td>0.213233</td>\n      <td>0.923858</td>\n      <td>0.001496</td>\n      <td>bf4c6da3c</td>\n    </tr>\n    <tr>\n      <th>2</th>\n      <td>1.2.826.0.1.3680043.8.498.23819260719748494858...</td>\n      <td>0.000213</td>\n      <td>0.000184</td>\n      <td>0.000183</td>\n      <td>0.000336</td>\n      <td>0.000404</td>\n      <td>0.000121</td>\n      <td>0.000207</td>\n      <td>0.049714</td>\n      <td>0.375872</td>\n      <td>0.605986</td>\n      <td>0.000118</td>\n      <td>3fc1c97e5</td>\n    </tr>\n    <tr>\n      <th>3</th>\n      <td>1.2.826.0.1.3680043.8.498.68286643202323212801...</td>\n      <td>0.000971</td>\n      <td>0.002411</td>\n      <td>0.002394</td>\n      <td>0.001511</td>\n      <td>0.000905</td>\n      <td>0.002732</td>\n      <td>0.001514</td>\n      <td>0.533221</td>\n      <td>0.271155</td>\n      <td>0.272474</td>\n      <td>0.000340</td>\n      <td>c31019814</td>\n    </tr>\n    <tr>\n      <th>4</th>\n      <td>1.2.826.0.1.3680043.8.498.10050203009225938259...</td>\n      <td>0.001541</td>\n      <td>0.001804</td>\n      <td>0.005820</td>\n      <td>0.014232</td>\n      <td>0.020495</td>\n      <td>0.014875</td>\n      <td>0.008744</td>\n      <td>0.007918</td>\n      <td>0.093555</td>\n      <td>0.948746</td>\n      <td>0.001026</td>\n      <td>207685cd1</td>\n    </tr>\n    <tr>\n      <th>...</th>\n      <td>...</td>\n      <td>...</td>\n      <td>...</td>\n      <td>...</td>\n      <td>...</td>\n      <td>...</td>\n      <td>...</td>\n      <td>...</td>\n      <td>...</td>\n      <td>...</td>\n      <td>...</td>\n      <td>...</td>\n      <td>...</td>\n    </tr>\n    <tr>\n      <th>30078</th>\n      <td>1.2.826.0.1.3680043.8.498.74257566841157531124...</td>\n      <td>NaN</td>\n      <td>NaN</td>\n      <td>NaN</td>\n      <td>NaN</td>\n      <td>NaN</td>\n      <td>NaN</td>\n      <td>NaN</td>\n      <td>NaN</td>\n      <td>NaN</td>\n      <td>NaN</td>\n      <td>NaN</td>\n      <td>5b5b9ac30</td>\n    </tr>\n    <tr>\n      <th>30079</th>\n      <td>1.2.826.0.1.3680043.8.498.46510939987173529969...</td>\n      <td>NaN</td>\n      <td>NaN</td>\n      <td>NaN</td>\n      <td>NaN</td>\n      <td>NaN</td>\n      <td>NaN</td>\n      <td>NaN</td>\n      <td>NaN</td>\n      <td>NaN</td>\n      <td>NaN</td>\n      <td>NaN</td>\n      <td>7192404d8</td>\n    </tr>\n    <tr>\n      <th>30080</th>\n      <td>1.2.826.0.1.3680043.8.498.43173270582850645437...</td>\n      <td>NaN</td>\n      <td>NaN</td>\n      <td>NaN</td>\n      <td>NaN</td>\n      <td>NaN</td>\n      <td>NaN</td>\n      <td>NaN</td>\n      <td>NaN</td>\n      <td>NaN</td>\n      <td>NaN</td>\n      <td>NaN</td>\n      <td>d4d1b066d</td>\n    </tr>\n    <tr>\n      <th>30081</th>\n      <td>1.2.826.0.1.3680043.8.498.95092491950130838685...</td>\n      <td>NaN</td>\n      <td>NaN</td>\n      <td>NaN</td>\n      <td>NaN</td>\n      <td>NaN</td>\n      <td>NaN</td>\n      <td>NaN</td>\n      <td>NaN</td>\n      <td>NaN</td>\n      <td>NaN</td>\n      <td>NaN</td>\n      <td>01a6602b8</td>\n    </tr>\n    <tr>\n      <th>30082</th>\n      <td>1.2.826.0.1.3680043.8.498.99518162226171269731...</td>\n      <td>NaN</td>\n      <td>NaN</td>\n      <td>NaN</td>\n      <td>NaN</td>\n      <td>NaN</td>\n      <td>NaN</td>\n      <td>NaN</td>\n      <td>NaN</td>\n      <td>NaN</td>\n      <td>NaN</td>\n      <td>NaN</td>\n      <td>e692d316c</td>\n    </tr>\n  </tbody>\n</table>\n<p>30083 rows × 13 columns</p>\n</div>"
     },
     "metadata": {}
    }
   ],
   "source": [
    "dense_pred_list=[pd.DataFrame(dense_model_list[n].predict(features),columns=CFG.target_cols) for n in range(CFG.n_folds)]\n",
    "\n",
    "submission=test.copy()\n",
    "\n",
    "for col_name in CFG.target_cols:\n",
    "    pred_col=pd.DataFrame()\n",
    "    for n,pred in enumerate(dense_pred_list):\n",
    "        pred_col[f\"fold_{n}\"]=pred[col_name]\n",
    "    submission[col_name]=pred_col.mean(axis=1)\n",
    "display(submission)\n",
    "\n",
    "if not CFG.debug:\n",
    "    submission.to_csv(\"submission.csv\",index=False)"
   ]
  }
 ]
}