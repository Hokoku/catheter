{
 "metadata": {
  "language_info": {
   "codemirror_mode": {
    "name": "ipython",
    "version": 3
   },
   "file_extension": ".py",
   "mimetype": "text/x-python",
   "name": "python",
   "nbconvert_exporter": "python",
   "pygments_lexer": "ipython3",
   "version": "3.8.8-final"
  },
  "orig_nbformat": 2,
  "kernelspec": {
   "name": "python3",
   "display_name": "Python 3.8.8 64-bit ('py38': conda)",
   "metadata": {
    "interpreter": {
     "hash": "3da45907e5cd41bdac7b692b424c19725633d98a853f93b11b400b1d8951ac30"
    }
   }
  }
 },
 "nbformat": 4,
 "nbformat_minor": 2,
 "cells": [
  {
   "cell_type": "code",
   "execution_count": 1,
   "metadata": {},
   "outputs": [],
   "source": [
    "import pandas as pd\n",
    "import numpy as np\n",
    "from IPython.display import display\n",
    "from tqdm.notebook import tqdm\n",
    "import pickle\n",
    "\n",
    "import tensorflow as tf\n",
    "from tensorflow import keras\n",
    "from tensorflow.keras import models\n",
    "\n",
    "from sklearn.model_selection import GroupKFold\n",
    "import efficientnet.tfkeras"
   ]
  },
  {
   "cell_type": "code",
   "execution_count": 2,
   "metadata": {},
   "outputs": [],
   "source": [
    "class CFG:\n",
    "   debug=True\n",
    "   dataset_dir=\"../input/ranzcr-clip-catheter-line-classification/\"\n",
    "   models_dir=\"./models/\" if debug else \"../input/ranzcr-chibamed/\"\n",
    "   batch_size=4 if debug else 128\n",
    "   input_shape=(600,600)\n",
    "\n",
    "   target_cols=['ETT - Abnormal', 'ETT - Borderline', 'ETT - Normal', 'NGT - Abnormal', 'NGT - Borderline',\n",
    "      'NGT - Incompletely Imaged', 'NGT - Normal', 'CVC - Abnormal', 'CVC - Borderline', 'CVC - Normal', 'Swan Ganz Catheter Present']\n",
    "   n_folds=5"
   ]
  },
  {
   "cell_type": "code",
   "execution_count": 3,
   "metadata": {},
   "outputs": [],
   "source": [
    "test=pd.read_csv(f\"{CFG.dataset_dir}train.csv\") if CFG.debug else pd.read_csv(f\"{CFG.dataset_dir}sample_submission.csv\")"
   ]
  },
  {
   "cell_type": "code",
   "execution_count": 11,
   "metadata": {},
   "outputs": [
    {
     "output_type": "stream",
     "name": "stdout",
     "text": [
      "Model: \"functional_3\"\n_________________________________________________________________\nLayer (type)                 Output Shape              Param #   \n=================================================================\nefficientnet-b7_input (Input [(None, 600, 600, 3)]     0         \n_________________________________________________________________\nefficientnet-b7 (Functional) (None, 19, 19, 2560)      64097680  \n_________________________________________________________________\nglobal_average_pooling2d (Gl (None, 2560)              0         \n=================================================================\nTotal params: 64,097,680\nTrainable params: 63,786,960\nNon-trainable params: 310,720\n_________________________________________________________________\n"
     ]
    }
   ],
   "source": [
    "effnet=models.load_model(f\"{CFG.models_dir}xhlulu/model.h5\")\n",
    "layer_name=\"global_average_pooling2d\"\n",
    "hidden_layer_model=models.Model(inputs=effnet.input,outputs=effnet.get_layer(layer_name).output)\n",
    "hidden_layer_model.summary()"
   ]
  },
  {
   "cell_type": "code",
   "execution_count": 12,
   "metadata": {},
   "outputs": [],
   "source": [
    "def preprocess(uid):\n",
    "    if CFG.debug:\n",
    "        file_bytes=tf.io.read_file(f\"{CFG.dataset_dir}train/\"+uid+\".jpg\") # f\"{}\"形式ではTensorの型変換が働かない\n",
    "    else:\n",
    "        file_bytes=tf.io.read_file(f\"{CFG.dataset_dir}test/\"+uid+\".jpg\")\n",
    "    image=tf.io.decode_jpeg(file_bytes,channels=3)\n",
    "    image=tf.cast(image,tf.float32)\n",
    "    image=tf.image.resize(image,CFG.input_shape)\n",
    "    image/=255\n",
    "    return uid,image\n",
    "\n",
    "def decode_string(tensor):\n",
    "    return [str_bytes.decode() for str_bytes in tensor.numpy()]\n",
    "\n",
    "AUTO=tf.data.experimental.AUTOTUNE\n",
    "dset=tf.data.Dataset.from_tensor_slices(test[\"StudyInstanceUID\"])\n",
    "dset=dset.map(preprocess,num_parallel_calls=AUTO)\n",
    "dset=dset.batch(CFG.batch_size).prefetch(AUTO)"
   ]
  },
  {
   "cell_type": "code",
   "execution_count": 13,
   "metadata": {},
   "outputs": [
    {
     "output_type": "display_data",
     "data": {
      "text/plain": "  0%|          | 0/7521 [00:00<?, ?it/s]",
      "application/vnd.jupyter.widget-view+json": {
       "version_major": 2,
       "version_minor": 0,
       "model_id": "8e86cd9bac1f4ecc8605ace17e122639"
      }
     },
     "metadata": {}
    }
   ],
   "source": [
    "ndarray_dict={}\n",
    "for uids,imgs in tqdm(dset):\n",
    "    preds=hidden_layer_model.predict(imgs)\n",
    "    uids_decoded=decode_string(uids)\n",
    "    for uid,pred in zip(uids_decoded,preds):\n",
    "        ndarray_dict[uid]=pred\n",
    "\n",
    "    if CFG.debug:\n",
    "        break"
   ]
  },
  {
   "cell_type": "code",
   "execution_count": 15,
   "metadata": {},
   "outputs": [],
   "source": [
    "if CFG.debug:\n",
    "    features_list=[ndarray_dict[uid] for uid in ndarray_dict.keys()]\n",
    "else:\n",
    "    features_list=[ndarray_dict[uid] for uid in tqdm(test[\"StudyInstanceUID\"])]\n",
    "features=np.array(features_list)"
   ]
  },
  {
   "cell_type": "code",
   "execution_count": 18,
   "metadata": {},
   "outputs": [],
   "source": [
    "def create_model(fold:int):\n",
    "    dense_dir=f\"{CFG.models_dir}effnet_best_dense/\"\n",
    "    with open(f\"{dense_dir}model.json\",\"rt\") as f:\n",
    "        model_json=f.read()\n",
    "    dense_model=models.model_from_json(model_json)\n",
    "    dense_model.load_weights(f\"{dense_dir}ckpt_{fold}\")\n",
    "    return dense_model\n",
    "\n",
    "dense_model_list=[create_model(n) for n in range(CFG.n_folds)]"
   ]
  },
  {
   "cell_type": "code",
   "execution_count": 19,
   "metadata": {},
   "outputs": [
    {
     "output_type": "stream",
     "name": "stdout",
     "text": [
      "WARNING:tensorflow:5 out of the last 5 calls to <function Model.make_predict_function.<locals>.predict_function at 0x000001F9051EE670> triggered tf.function retracing. Tracing is expensive and the excessive number of tracings could be due to (1) creating @tf.function repeatedly in a loop, (2) passing tensors with different shapes, (3) passing Python objects instead of tensors. For (1), please define your @tf.function outside of the loop. For (2), @tf.function has experimental_relax_shapes=True option that relaxes argument shapes that can avoid unnecessary retracing. For (3), please refer to https://www.tensorflow.org/tutorials/customization/performance#python_or_tensor_args and https://www.tensorflow.org/api_docs/python/tf/function for  more details.\n",
      "WARNING:tensorflow:6 out of the last 6 calls to <function Model.make_predict_function.<locals>.predict_function at 0x000001F9053830D0> triggered tf.function retracing. Tracing is expensive and the excessive number of tracings could be due to (1) creating @tf.function repeatedly in a loop, (2) passing tensors with different shapes, (3) passing Python objects instead of tensors. For (1), please define your @tf.function outside of the loop. For (2), @tf.function has experimental_relax_shapes=True option that relaxes argument shapes that can avoid unnecessary retracing. For (3), please refer to https://www.tensorflow.org/tutorials/customization/performance#python_or_tensor_args and https://www.tensorflow.org/api_docs/python/tf/function for  more details.\n"
     ]
    },
    {
     "output_type": "display_data",
     "data": {
      "text/plain": "                                        StudyInstanceUID  ETT - Abnormal  \\\n0      1.2.826.0.1.3680043.8.498.26697628953273228189...        0.001258   \n1      1.2.826.0.1.3680043.8.498.46302891597398758759...        0.005584   \n2      1.2.826.0.1.3680043.8.498.23819260719748494858...        0.000309   \n3      1.2.826.0.1.3680043.8.498.68286643202323212801...        0.000848   \n4      1.2.826.0.1.3680043.8.498.10050203009225938259...             NaN   \n...                                                  ...             ...   \n30078  1.2.826.0.1.3680043.8.498.74257566841157531124...             NaN   \n30079  1.2.826.0.1.3680043.8.498.46510939987173529969...             NaN   \n30080  1.2.826.0.1.3680043.8.498.43173270582850645437...             NaN   \n30081  1.2.826.0.1.3680043.8.498.95092491950130838685...             NaN   \n30082  1.2.826.0.1.3680043.8.498.99518162226171269731...             NaN   \n\n       ETT - Borderline  ETT - Normal  NGT - Abnormal  NGT - Borderline  \\\n0              0.000487      0.000332        0.011385          0.137660   \n1              0.063125      0.963192        0.226726          0.044443   \n2              0.000526      0.000213        0.000352          0.000222   \n3              0.002815      0.002329        0.002313          0.001520   \n4                   NaN           NaN             NaN               NaN   \n...                 ...           ...             ...               ...   \n30078               NaN           NaN             NaN               NaN   \n30079               NaN           NaN             NaN               NaN   \n30080               NaN           NaN             NaN               NaN   \n30081               NaN           NaN             NaN               NaN   \n30082               NaN           NaN             NaN               NaN   \n\n       NGT - Incompletely Imaged  NGT - Normal  CVC - Abnormal  \\\n0                       0.008421      0.674000        0.222881   \n1                       0.899896      0.020829        0.068652   \n2                       0.000046      0.000722        0.004723   \n3                       0.001542      0.005733        0.449443   \n4                            NaN           NaN             NaN   \n...                          ...           ...             ...   \n30078                        NaN           NaN             NaN   \n30079                        NaN           NaN             NaN   \n30080                        NaN           NaN             NaN   \n30081                        NaN           NaN             NaN   \n30082                        NaN           NaN             NaN   \n\n       CVC - Borderline  CVC - Normal  Swan Ganz Catheter Present  PatientID  \n0              0.128203      0.036015                    0.000304  ec89415d1  \n1              0.041213      0.980235                    0.011262  bf4c6da3c  \n2              0.822312      0.263706                    0.000123  3fc1c97e5  \n3              0.548132      0.042099                    0.000744  c31019814  \n4                   NaN           NaN                         NaN  207685cd1  \n...                 ...           ...                         ...        ...  \n30078               NaN           NaN                         NaN  5b5b9ac30  \n30079               NaN           NaN                         NaN  7192404d8  \n30080               NaN           NaN                         NaN  d4d1b066d  \n30081               NaN           NaN                         NaN  01a6602b8  \n30082               NaN           NaN                         NaN  e692d316c  \n\n[30083 rows x 13 columns]",
      "text/html": "<div>\n<style scoped>\n    .dataframe tbody tr th:only-of-type {\n        vertical-align: middle;\n    }\n\n    .dataframe tbody tr th {\n        vertical-align: top;\n    }\n\n    .dataframe thead th {\n        text-align: right;\n    }\n</style>\n<table border=\"1\" class=\"dataframe\">\n  <thead>\n    <tr style=\"text-align: right;\">\n      <th></th>\n      <th>StudyInstanceUID</th>\n      <th>ETT - Abnormal</th>\n      <th>ETT - Borderline</th>\n      <th>ETT - Normal</th>\n      <th>NGT - Abnormal</th>\n      <th>NGT - Borderline</th>\n      <th>NGT - Incompletely Imaged</th>\n      <th>NGT - Normal</th>\n      <th>CVC - Abnormal</th>\n      <th>CVC - Borderline</th>\n      <th>CVC - Normal</th>\n      <th>Swan Ganz Catheter Present</th>\n      <th>PatientID</th>\n    </tr>\n  </thead>\n  <tbody>\n    <tr>\n      <th>0</th>\n      <td>1.2.826.0.1.3680043.8.498.26697628953273228189...</td>\n      <td>0.001258</td>\n      <td>0.000487</td>\n      <td>0.000332</td>\n      <td>0.011385</td>\n      <td>0.137660</td>\n      <td>0.008421</td>\n      <td>0.674000</td>\n      <td>0.222881</td>\n      <td>0.128203</td>\n      <td>0.036015</td>\n      <td>0.000304</td>\n      <td>ec89415d1</td>\n    </tr>\n    <tr>\n      <th>1</th>\n      <td>1.2.826.0.1.3680043.8.498.46302891597398758759...</td>\n      <td>0.005584</td>\n      <td>0.063125</td>\n      <td>0.963192</td>\n      <td>0.226726</td>\n      <td>0.044443</td>\n      <td>0.899896</td>\n      <td>0.020829</td>\n      <td>0.068652</td>\n      <td>0.041213</td>\n      <td>0.980235</td>\n      <td>0.011262</td>\n      <td>bf4c6da3c</td>\n    </tr>\n    <tr>\n      <th>2</th>\n      <td>1.2.826.0.1.3680043.8.498.23819260719748494858...</td>\n      <td>0.000309</td>\n      <td>0.000526</td>\n      <td>0.000213</td>\n      <td>0.000352</td>\n      <td>0.000222</td>\n      <td>0.000046</td>\n      <td>0.000722</td>\n      <td>0.004723</td>\n      <td>0.822312</td>\n      <td>0.263706</td>\n      <td>0.000123</td>\n      <td>3fc1c97e5</td>\n    </tr>\n    <tr>\n      <th>3</th>\n      <td>1.2.826.0.1.3680043.8.498.68286643202323212801...</td>\n      <td>0.000848</td>\n      <td>0.002815</td>\n      <td>0.002329</td>\n      <td>0.002313</td>\n      <td>0.001520</td>\n      <td>0.001542</td>\n      <td>0.005733</td>\n      <td>0.449443</td>\n      <td>0.548132</td>\n      <td>0.042099</td>\n      <td>0.000744</td>\n      <td>c31019814</td>\n    </tr>\n    <tr>\n      <th>4</th>\n      <td>1.2.826.0.1.3680043.8.498.10050203009225938259...</td>\n      <td>NaN</td>\n      <td>NaN</td>\n      <td>NaN</td>\n      <td>NaN</td>\n      <td>NaN</td>\n      <td>NaN</td>\n      <td>NaN</td>\n      <td>NaN</td>\n      <td>NaN</td>\n      <td>NaN</td>\n      <td>NaN</td>\n      <td>207685cd1</td>\n    </tr>\n    <tr>\n      <th>...</th>\n      <td>...</td>\n      <td>...</td>\n      <td>...</td>\n      <td>...</td>\n      <td>...</td>\n      <td>...</td>\n      <td>...</td>\n      <td>...</td>\n      <td>...</td>\n      <td>...</td>\n      <td>...</td>\n      <td>...</td>\n      <td>...</td>\n    </tr>\n    <tr>\n      <th>30078</th>\n      <td>1.2.826.0.1.3680043.8.498.74257566841157531124...</td>\n      <td>NaN</td>\n      <td>NaN</td>\n      <td>NaN</td>\n      <td>NaN</td>\n      <td>NaN</td>\n      <td>NaN</td>\n      <td>NaN</td>\n      <td>NaN</td>\n      <td>NaN</td>\n      <td>NaN</td>\n      <td>NaN</td>\n      <td>5b5b9ac30</td>\n    </tr>\n    <tr>\n      <th>30079</th>\n      <td>1.2.826.0.1.3680043.8.498.46510939987173529969...</td>\n      <td>NaN</td>\n      <td>NaN</td>\n      <td>NaN</td>\n      <td>NaN</td>\n      <td>NaN</td>\n      <td>NaN</td>\n      <td>NaN</td>\n      <td>NaN</td>\n      <td>NaN</td>\n      <td>NaN</td>\n      <td>NaN</td>\n      <td>7192404d8</td>\n    </tr>\n    <tr>\n      <th>30080</th>\n      <td>1.2.826.0.1.3680043.8.498.43173270582850645437...</td>\n      <td>NaN</td>\n      <td>NaN</td>\n      <td>NaN</td>\n      <td>NaN</td>\n      <td>NaN</td>\n      <td>NaN</td>\n      <td>NaN</td>\n      <td>NaN</td>\n      <td>NaN</td>\n      <td>NaN</td>\n      <td>NaN</td>\n      <td>d4d1b066d</td>\n    </tr>\n    <tr>\n      <th>30081</th>\n      <td>1.2.826.0.1.3680043.8.498.95092491950130838685...</td>\n      <td>NaN</td>\n      <td>NaN</td>\n      <td>NaN</td>\n      <td>NaN</td>\n      <td>NaN</td>\n      <td>NaN</td>\n      <td>NaN</td>\n      <td>NaN</td>\n      <td>NaN</td>\n      <td>NaN</td>\n      <td>NaN</td>\n      <td>01a6602b8</td>\n    </tr>\n    <tr>\n      <th>30082</th>\n      <td>1.2.826.0.1.3680043.8.498.99518162226171269731...</td>\n      <td>NaN</td>\n      <td>NaN</td>\n      <td>NaN</td>\n      <td>NaN</td>\n      <td>NaN</td>\n      <td>NaN</td>\n      <td>NaN</td>\n      <td>NaN</td>\n      <td>NaN</td>\n      <td>NaN</td>\n      <td>NaN</td>\n      <td>e692d316c</td>\n    </tr>\n  </tbody>\n</table>\n<p>30083 rows × 13 columns</p>\n</div>"
     },
     "metadata": {}
    }
   ],
   "source": [
    "dense_pred_list=[pd.DataFrame(dense_model_list[n].predict(features),columns=CFG.target_cols) for n in range(CFG.n_folds)]\n",
    "\n",
    "submission=test.copy()\n",
    "\n",
    "for col_name in CFG.target_cols:\n",
    "    pred_col=pd.DataFrame()\n",
    "    for n,pred in enumerate(dense_pred_list):\n",
    "        pred_col[f\"fold_{n}\"]=pred[col_name]\n",
    "    submission[col_name]=pred_col.mean(axis=1)\n",
    "display(submission)\n",
    "\n",
    "if not CFG.debug:\n",
    "    submission.to_csv(\"submission.csv\",index=False)"
   ]
  }
 ]
}